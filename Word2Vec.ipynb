{
  "cells": [
    {
      "cell_type": "code",
      "execution_count": null,
      "metadata": {
        "colab": {
          "base_uri": "https://localhost:8080/"
        },
        "id": "FU7xWiY6TyWS",
        "outputId": "e9176e2d-8029-4846-bd17-70029b349abd"
      },
      "outputs": [
        {
          "name": "stderr",
          "output_type": "stream",
          "text": [
            "Cloning into 'hw2'...\n"
          ]
        }
      ],
      "source": [
        "%%bash\n",
        "!(stat -t /usr/local/lib/*/dist-packages/google/colab > /dev/null 2>&1) && exit\n",
        "rm -rf hw2\n",
        "git clone https://github.com/mit-6864/hw2.git"
      ]
    },
    {
      "cell_type": "code",
      "execution_count": null,
      "metadata": {
        "id": "A0MHaHrdUACZ"
      },
      "outputs": [],
      "source": [
        "import sys\n",
        "sys.path.append(\"/content/hw2\")\n",
        "\n",
        "import csv\n",
        "import itertools as it\n",
        "import numpy as np\n",
        "import sklearn.decomposition\n",
        "from tqdm import tqdm\n",
        "\n",
        "import lab_util"
      ]
    },
    {
      "cell_type": "markdown",
      "metadata": {
        "id": "cZ3MUj4iUf76"
      },
      "source": []
    },
    {
      "cell_type": "markdown",
      "metadata": {},
      "source": [
        "# Introduction\n",
        "\n",
        "In this notebook, you will find code scaffolding for the implementation portion of Homework 1. Make sure to read the text between cells for certain implementation details. Please submit the notebook with all code cells running.\n"
      ]
    },
    {
      "cell_type": "markdown",
      "metadata": {
        "id": "gG654Y9J3yHw"
      },
      "source": [
        "## Dataset\n",
        "\n",
        "We're going to be working with a dataset of product reviews. The following cell loads the dataset and splits it into training, validation, and test sets."
      ]
    },
    {
      "cell_type": "code",
      "execution_count": null,
      "metadata": {
        "colab": {
          "base_uri": "https://localhost:8080/"
        },
        "collapsed": true,
        "id": "JwiX-Tc9V1xI",
        "outputId": "c7f97b42-8c16-4587-9661-d9e7224a1b91"
      },
      "outputs": [
        {
          "name": "stdout",
          "output_type": "stream",
          "text": [
            "review: I have bought several of the Vitality canned dog food products and have found them all to be of good quality. The product looks more like a stew than a processed meat and it smells better. My Labrador is finicky and she appreciates this product better than  most.\n",
            "rating: 1 (good)\n",
            "\n",
            "review: Product arrived labeled as Jumbo Salted Peanuts...the peanuts were actually small sized unsalted. Not sure if this was an error or if the vendor intended to represent the product as \"Jumbo\".\n",
            "rating: 0 (bad)\n",
            "\n",
            "review: This is a confection that has been around a few centuries.  It is a light, pillowy citrus gelatin with nuts - in this case Filberts. And it is cut into tiny squares and then liberally coated with powdered sugar.  And it is a tiny mouthful of heaven.  Not too chewy, and very flavorful.  I highly recommend this yummy treat.  If you are familiar with the story of C.S. Lewis' \"The Lion, The Witch, and The Wardrobe\" - this is the treat that seduces Edmund into selling out his Brother and Sisters to the Witch.\n",
            "rating: 1 (good)\n",
            "\n",
            "review: If you are looking for the secret ingredient in Robitussin I believe I have found it.  I got this in addition to the Root Beer Extract I ordered (which was good) and made some cherry soda.  The flavor is very medicinal.\n",
            "rating: 0 (bad)\n",
            "\n",
            "review: Great taffy at a great price.  There was a wide assortment of yummy taffy.  Delivery was very quick.  If your a taffy lover, this is a deal.\n",
            "rating: 1 (good)\n",
            "\n",
            "review: I got a wild hair for taffy and ordered this five pound bag. The taffy was all very enjoyable with many flavors: watermelon, root beer, melon, peppermint, grape, etc. My only complaint is there was a bit too much red/black licorice-flavored pieces (just not my particular favorites). Between me, my kids, and my husband, this lasted only two weeks! I would recommend this brand of taffy -- it was a delightful treat.\n",
            "rating: 1 (good)\n",
            "\n",
            "Read 4000 total reviews.\n"
          ]
        }
      ],
      "source": [
        "data = []\n",
        "n_positive = 0\n",
        "n_disp = 0\n",
        "with open(\"/content/hw2/reviews.csv\") as reader:\n",
        "  csvreader = csv.reader(reader)\n",
        "  next(csvreader)\n",
        "  for id, review, label in csvreader:\n",
        "    label = int(label)\n",
        "\n",
        "    # hacky class balancing\n",
        "    if label == 1:\n",
        "      if n_positive == 2000:\n",
        "        continue\n",
        "      n_positive += 1\n",
        "    if len(data) == 4000:\n",
        "      break\n",
        "\n",
        "    data.append((review, label))\n",
        "\n",
        "    if n_disp > 5:\n",
        "      continue\n",
        "    n_disp += 1\n",
        "    print(\"review:\", review)\n",
        "    print(\"rating:\", label, \"(good)\" if label == 1 else \"(bad)\")\n",
        "    print()\n",
        "\n",
        "print(f\"Read {len(data)} total reviews.\")\n",
        "np.random.seed(0)\n",
        "np.random.shuffle(data)\n",
        "reviews, labels = zip(*data)\n",
        "train_reviews, train_labels = reviews[:3000], labels[:3000]\n",
        "val_reviews, val_labels = reviews[3000:3500], labels[3000:3500]\n",
        "test_reviews, test_labels = reviews[3500:], labels[3500:]"
      ]
    },
    {
      "cell_type": "markdown",
      "metadata": {
        "id": "kx9mHkiHil1N"
      },
      "source": [
        "# Preliminaries: Word-document representations\n",
        "\n",
        "We start by constructing the bag-of-words matrix (look at `/content/hw2/lab_util.py` in the file browser on the left if you want to see how this works)."
      ]
    },
    {
      "cell_type": "code",
      "execution_count": null,
      "metadata": {
        "colab": {
          "base_uri": "https://localhost:8080/"
        },
        "id": "3WPt6Y7-Z_7P",
        "outputId": "1e39817c-585e-4bfd-e3e1-af2ba8aa0344"
      },
      "outputs": [
        {
          "name": "stdout",
          "output_type": "stream",
          "text": [
            "BoW matrix is 3000 x 2006\n"
          ]
        }
      ],
      "source": [
        "vectorizer = lab_util.CountVectorizer()\n",
        "vectorizer.fit(train_reviews)\n",
        "bow_matrix = vectorizer.transform(train_reviews)\n",
        "print(f\"BoW matrix is {bow_matrix.shape[0]} x {bow_matrix.shape[1]}\")"
      ]
    },
    {
      "cell_type": "markdown",
      "metadata": {
        "id": "6QWx2_CJ2AT-"
      },
      "source": [
        "In class, we've seen that we can get more informative representations by using representations other than raw counts. Implement the TF-IDF transform below.\n",
        "\n",
        "Note: In lecture, we multiplied the raw term frequencies by idfs to get the TF-IDF matrix (tfidf=tf*idf). Feel free to experiment with other transformations, such as log(1+tf) for the measure of term frequency."
      ]
    },
    {
      "cell_type": "code",
      "execution_count": null,
      "metadata": {
        "colab": {
          "base_uri": "https://localhost:8080/"
        },
        "id": "1y3PmW-IgpqA",
        "outputId": "271146ba-6f9d-4c3c-c522-232fcbb1f3f7"
      },
      "outputs": [
        {
          "name": "stdout",
          "output_type": "stream",
          "text": [
            "TF-IDF matrix is 2006 x 3000\n"
          ]
        }
      ],
      "source": [
        "class TfidfFeaturizer:\n",
        "    def fit(self, matrix):\n",
        "        # `matrix` is a `|V| x |D|` matrix of raw counts, where `|V|` is the\n",
        "        # vocabulary size and `|D|` is the number of documents in the corpus.\n",
        "        # This function should create the inverse document frequency (idf) matrix\n",
        "        # for the given term-document matrix.\n",
        "\n",
        "        self.idf = np.log(matrix.shape[1] / np.count_nonzero(matrix, axis = 1)).reshape(-1,1) \n",
        "        #matrix.shape[1] gives # of documents\n",
        "        #np.count_nonzero(matrix, axis = 1) gives number of non-zero elements in each row of the matrix -> if non-zero, then the document must contain word w_i\n",
        "        #reshape into a |V| x 1 array\n",
        "\n",
        "        return self.idf\n",
        "\n",
        "    def transform_tfidf(self, matrix):\n",
        "        # `matrix` is a `|V| x |D|` matrix of raw counts, where `|V|` is the\n",
        "        # vocabulary size and `|D|` is the number of documents in the corpus. This\n",
        "        # function should (nondestructively) return a version of `matrix` with the\n",
        "        # TF-IDF transform applied.\n",
        "\n",
        "        return np.multiply(matrix, self.idf)\n",
        "        #multiply each value in a row of matrix by the value in the corresponding row in idf -> element-wise multiplication\n",
        "\n",
        "td_matrix = bow_matrix.T\n",
        "featurizer = TfidfFeaturizer()\n",
        "featurizer.fit(td_matrix)\n",
        "tfidf_matrix = featurizer.transform_tfidf(td_matrix)\n",
        "print(f\"TF-IDF matrix is {tfidf_matrix.shape[0]} x {tfidf_matrix.shape[1]}\")"
      ]
    },
    {
      "cell_type": "markdown",
      "metadata": {
        "id": "CnfIOUYjEZjw"
      },
      "source": [
        "#### Sanity check 1\n",
        "The following cell should print `True` if your `transform_tfidf` function is implemented properly. (*Hint: in our implementation, we use the natural logarithm (base $e$) when computing inverse document frequency.*)"
      ]
    },
    {
      "cell_type": "code",
      "execution_count": null,
      "metadata": {
        "colab": {
          "base_uri": "https://localhost:8080/"
        },
        "id": "KVtphNeDEj2W",
        "outputId": "5dd29032-422e-48fd-cbbe-5f45031e7a4e"
      },
      "outputs": [
        {
          "name": "stdout",
          "output_type": "stream",
          "text": [
            "True\n"
          ]
        }
      ],
      "source": [
        "DEBUG_sc1_matrix = np.array([[3,1,0,3,0],\n",
        "                             [0,2,0,0,1],\n",
        "                             [7,8,2,0,1],\n",
        "                             [1,9,8,1,0]])\n",
        "DEBUG_gt = np.array([[1.53247687, 0.51082562, 0.        , 1.53247687, 0.        ],\n",
        "                     [0.        , 1.83258146, 0.        , 0.        , 0.91629073],\n",
        "                     [1.56200486, 1.78514841, 0.4462871 , 0.        , 0.22314355],\n",
        "                     [0.22314355, 2.00829196, 1.78514841, 0.22314355, 0.        ]])\n",
        "debug = TfidfFeaturizer()\n",
        "debug.fit(DEBUG_sc1_matrix)\n",
        "print(np.allclose(debug.transform_tfidf(DEBUG_sc1_matrix), DEBUG_gt))"
      ]
    },
    {
      "cell_type": "markdown",
      "metadata": {
        "id": "Q1RKNTu-voxT"
      },
      "source": [
        "#### Linear models on BoW and TFIDF features\n",
        "\n",
        "Now we have two feature representations, BoW and TF-IDF. Let's first see how effective these features are for the sentiment classification task.\n",
        "\n",
        "Below, implement two logistic regression models to classify the reviews, using BoW and TF-IDF respectively. You should feel free to use the `scikit-learn` library, which has the `sklearn.linear_model.LogisticRegression` available for you. Report the training and test accuracy of these two models.\n",
        "\n",
        "Note: For the TF-IDF classifier, we only fit the IDF matrix to the training data. (Think about why you might not want a separate IDF for the test set!)\n"
      ]
    },
    {
      "cell_type": "code",
      "execution_count": 68,
      "metadata": {
        "colab": {
          "base_uri": "https://localhost:8080/"
        },
        "id": "VWcucgqlzGwu",
        "outputId": "2abd63db-0c0f-4fd5-eea7-930c79300992"
      },
      "outputs": [
        {
          "name": "stdout",
          "output_type": "stream",
          "text": [
            "Logistic regression with bag of word features\n",
            "Training accuracy:  0.9853333333333333\n",
            "Testing accuracy:  0.818\n",
            "Logistic regression with tf-idf features\n",
            "Training accuracy:  1.0\n",
            "Testing accuracy:  0.818\n"
          ]
        }
      ],
      "source": [
        "from sklearn.linear_model import LogisticRegression\n",
        "\n",
        "def train_and_eval(train_X, train_y, test_X, test_y):\n",
        "    # Create and train a model that takes as input a feature\n",
        "    # representation of the training data and outputs a sentiment label.\n",
        "    # Make sure to report the training and test accuracy of your model.\n",
        "    # Hint: changing max_iter might be helpful\n",
        "\n",
        "    classifier = LogisticRegression(max_iter = 1000)\n",
        "    classifier.fit(train_X, train_y)\n",
        "    print('Training accuracy: ', classifier.score(train_X, train_y))\n",
        "    print('Testing accuracy: ', classifier.score(test_X, test_y))\n",
        "    return classifier\n",
        "\n",
        "bow_matrix_test = vectorizer.transform(test_reviews)\n",
        "print('Logistic regression with bag of word features')\n",
        "bow_model = train_and_eval(bow_matrix, train_labels, bow_matrix_test, test_labels)\n",
        "\n",
        "td_bow_matrix_test = bow_matrix_test.T\n",
        "tfidf_matrix_test = featurizer.transform_tfidf(td_bow_matrix_test)\n",
        "\n",
        "print('Logistic regression with tf-idf features')\n",
        "tfidf_model = train_and_eval(tfidf_matrix.T, train_labels, tfidf_matrix_test.T, test_labels)\n",
        "#transpose matrix to obtain shape 3000 x 2006, \"undo\" initial transpose where each row represented a word instead of a document"
      ]
    },
    {
      "cell_type": "markdown",
      "metadata": {
        "id": "bXbP130wDNwd"
      },
      "source": [
        "Let's look at what the model learns about sentiment. For both models, display the top 5 most positive and negative weights, as well as their corresponding words.\n",
        "\n",
        "Hint: look at `/content/hw2/lab_util.py` for how to convert between token indices and words."
      ]
    },
    {
      "cell_type": "code",
      "execution_count": null,
      "metadata": {
        "colab": {
          "base_uri": "https://localhost:8080/"
        },
        "id": "Jn89QR_3DMM_",
        "outputId": "75371985-37bc-4dce-fe20-206f41f4808e"
      },
      "outputs": [
        {
          "name": "stdout",
          "output_type": "stream",
          "text": [
            "BoW Top 5 Positive Coefficients:  [1.72739723 1.67083365 1.4088365  1.38438414 1.3212818 ]\n",
            "BoW Top 5 Positive Words:  ['delicious', 'great', 'best', 'thanks', 'long']\n",
            "BoW Top 5 Negative Coefficients:  [-1.61921888 -1.57610189 -1.49583019 -1.49166462 -1.43355986]\n",
            "BoW Top 5 Negative Words:  ['stick', 'disappointed', 'unfortunately', 'gf', 'yuck']\n",
            "TF-IDF Top 5 Positive Coefficients:  [1.55104441 1.03294607 0.99075237 0.83433262 0.76264566]\n",
            "TF-IDF Top 5 Positive Words:  ['great', 'best', 'tassimo', 'delicious', 'long']\n",
            "TF-IDF Top 5 Negative Coefficients:  [-1.41169962 -0.8874562  -0.887032   -0.84948908 -0.83957873]\n",
            "TF-IDF Top 5 Negative Words:  ['not', 'unfortunately', 'disappointed', 'disappointing', 'gf']\n"
          ]
        }
      ],
      "source": [
        "bow_coef = np.squeeze(bow_model.coef_)\n",
        "tfidf_coef = np.squeeze(tfidf_model.coef_)\n",
        "#returns 1 x 2006 matrix of coefficients, each value corresponds to the coef of a word\n",
        "\n",
        "#indices of top 5 most positive coef\n",
        "bow_pos = np.argsort(bow_coef)[::-1][:5]\n",
        "#indices of top 5 most negative coef\n",
        "bow_neg = np.argsort(bow_coef)[:5]\n",
        "\n",
        "#indices of top 5 most positive coef\n",
        "tfidf_pos = np.argsort(tfidf_coef)[::-1][:5]\n",
        "#indices of top 5 most negative coef\n",
        "tfidf_neg = np.argsort(tfidf_coef)[:5]\n",
        "\n",
        "#return words corresponding to coefficients\n",
        "tokenizer = lab_util.Tokenizer()\n",
        "tokenizer.fit(train_reviews)\n",
        "bow_pos_words = [tokenizer.token_to_word[token] for token in bow_pos]\n",
        "bow_neg_words = [tokenizer.token_to_word[token] for token in bow_neg]\n",
        "tfidf_pos_words = [tokenizer.token_to_word[token] for token in tfidf_pos]\n",
        "tfidf_neg_words = [tokenizer.token_to_word[token] for token in tfidf_neg]\n",
        "\n",
        "\n",
        "print('BoW Top 5 Positive Coefficients: ', bow_coef[bow_pos])\n",
        "print('BoW Top 5 Positive Words: ', bow_pos_words)\n",
        "print('BoW Top 5 Negative Coefficients: ', bow_coef[bow_neg])\n",
        "print('BoW Top 5 Negative Words: ', bow_neg_words)\n",
        "print('TF-IDF Top 5 Positive Coefficients: ', tfidf_coef[tfidf_pos])\n",
        "print('TF-IDF Top 5 Positive Words: ', tfidf_pos_words)\n",
        "print('TF-IDF Top 5 Negative Coefficients: ', tfidf_coef[tfidf_neg])\n",
        "print('TF-IDF Top 5 Negative Words: ', tfidf_neg_words)"
      ]
    },
    {
      "cell_type": "markdown",
      "metadata": {
        "id": "twLHWqM6Z5xD"
      },
      "source": [
        "# LSA: Word representations via matrix factorization\n",
        "\n",
        "In class, we've seen that the above approaches can lead to high dimensional representations. To alleviate this, we can use latent semantic analysis (LSA)."
      ]
    },
    {
      "cell_type": "markdown",
      "metadata": {
        "id": "hd3-pw4XbD4B"
      },
      "source": [
        "First, implement the function `learn_reps_lsa` that computes word representations via latent semantic analysis. The `sklearn.decomposition` or `np.linalg` packages may be useful."
      ]
    },
    {
      "cell_type": "code",
      "execution_count": null,
      "metadata": {
        "id": "KASVs8KubeBE"
      },
      "outputs": [],
      "source": [
        "def learn_reps_lsa(matrix, rep_size):\n",
        "    # `matrix` is a `|V| x |D|` matrix, where `|V|` is the number of words in the\n",
        "    # vocabulary and |D| is the number of training reviews. This function should\n",
        "    # return a `|V| x rep_size` matrix with each row corresponding to a word\n",
        "    # representation. The `sklearn.decomposition` package may be useful.\n",
        "\n",
        "    #n_components = rep_size to set dimensionality of output data to rep_size\n",
        "    svd = sklearn.decomposition.TruncatedSVD(n_components = rep_size)\n",
        "    #perform dimensionality reduction, matrix_tranform is U*Sigma\n",
        "    matrix_transform = svd.fit_transform(matrix)\n",
        "    #divide by sigma to get U\n",
        "    return matrix_transform/svd.singular_values_"
      ]
    },
    {
      "cell_type": "markdown",
      "metadata": {
        "id": "0fxv02wO9LbS"
      },
      "source": [
        "#### Sanity check 2\n",
        "The following cell contains a simple sanity check for your `learn_reps_lsa` implementation: it should print `True` if your `learn_reps_lsa` function is implemented equivalently to one of our solutions."
      ]
    },
    {
      "cell_type": "code",
      "execution_count": null,
      "metadata": {
        "colab": {
          "base_uri": "https://localhost:8080/"
        },
        "id": "KsRlKB9q9Js-",
        "outputId": "40d95602-770c-4c58-df17-65b9deb8a7ff"
      },
      "outputs": [
        {
          "name": "stdout",
          "output_type": "stream",
          "text": [
            "[[ 0.35188159 -0.44213061  0.29358929]\n",
            " [ 0.15374788 -0.18583789  0.83495136]\n",
            " [ 0.90303377  0.01686662 -0.32715426]\n",
            " [ 0.19253817  0.87732566  0.3311067 ]]\n",
            "True\n"
          ]
        }
      ],
      "source": [
        "DEBUG_sc2_matrix = np.array([[1,0,0,2,1,3,5],\n",
        "                             [2,0,0,0,0,4,0],\n",
        "                             [0,3,4,1,8,6,6],\n",
        "                             [1,4,5,0,0,0,0]])\n",
        "\n",
        "DEBUG_reps = learn_reps_lsa(DEBUG_sc2_matrix, 3)\n",
        "DEBUG_gt1 = np.array([[ -4.92017554,  -2.85465774,   1.18575453],\n",
        "                      [ -2.14977584,  -1.19987977,   3.37221899],\n",
        "                      [-12.62664695,   0.10890093,  -1.32131745],\n",
        "                      [ -2.69216011,   5.66453534,   1.33728063]])\n",
        "DEBUG_gt2 = np.array([[-0.35188159, -0.44213061,  0.29358929],\n",
        "                      [-0.15374788, -0.18583789,  0.83495136],\n",
        "                      [-0.90303377,  0.01686662, -0.32715426],\n",
        "                      [-0.19253817,  0.87732566,  0.3311067 ]])\n",
        "\n",
        "print(np.allclose(np.abs(DEBUG_reps), np.abs(DEBUG_gt1)) or np.allclose(np.abs(DEBUG_reps), np.abs(DEBUG_gt2)))"
      ]
    },
    {
      "cell_type": "markdown",
      "metadata": {
        "id": "SKWzRC0dclVK"
      },
      "source": [
        "Let's look at some representations:"
      ]
    },
    {
      "cell_type": "code",
      "execution_count": null,
      "metadata": {
        "colab": {
          "base_uri": "https://localhost:8080/"
        },
        "id": "-Ad7RZkwceWw",
        "outputId": "a79a96ee-a6db-4f6b-dfbb-414bfafa1248"
      },
      "outputs": [
        {
          "name": "stdout",
          "output_type": "stream",
          "text": [
            "[[ 6.89031937e-01  6.72372892e-01 -1.78411037e-01 ...  1.28130508e-04\n",
            "   1.60684095e-03  7.02211718e-04]\n",
            " [ 2.31553598e-02 -5.20963554e-02  1.21153239e-02 ...  3.05514831e-03\n",
            "  -9.62010244e-03  4.90180454e-04]\n",
            " [ 3.83301968e-02 -4.29225155e-02  1.93856196e-02 ... -1.81005338e-03\n",
            "  -3.80044991e-03  5.13465873e-04]\n",
            " ...\n",
            " [ 3.17231578e-04 -6.50245704e-04  1.52675912e-03 ...  1.48220545e-03\n",
            "  -1.62735306e-02 -9.36258303e-03]\n",
            " [ 4.42263586e-04 -2.14287700e-04 -4.98282343e-04 ... -1.32911630e-03\n",
            "  -1.80351283e-02  1.83700880e-03]\n",
            " [ 2.76302849e-03  1.39797955e-02 -5.86256685e-03 ... -1.45004611e-02\n",
            "  -1.69507825e-02  3.71098967e-03]]\n",
            "good 47\n",
            "  gerber 1.882\n",
            "  crazy 1.888\n",
            "  luck 1.895\n",
            "  suspect 1.901\n",
            "  flaxseed 1.914\n",
            "bad 201\n",
            "  disgusting 1.617\n",
            "  horrible 1.772\n",
            "  dont 1.786\n",
            "  positive 1.788\n",
            "  within 1.795\n",
            "cookie 504\n",
            "  nana's 0.990\n",
            "  bars 1.399\n",
            "  odd 1.401\n",
            "  cookies 1.435\n",
            "  impossible 1.477\n",
            "jelly 351\n",
            "  twist 1.207\n",
            "  cardboard 1.213\n",
            "  advertised 1.352\n",
            "  peanuts 1.392\n",
            "  plastic 1.405\n",
            "dog 925\n",
            "  happier 1.659\n",
            "  earlier 1.678\n",
            "  eats 1.705\n",
            "  stays 1.705\n",
            "  standard 1.727\n",
            "the 36\n",
            "  suspect 1.950\n",
            "  flowers 1.961\n",
            "  burn 1.965\n",
            "  leaked 1.967\n",
            "  m 1.968\n",
            "3 289\n",
            "  omega 1.727\n",
            "  vendor 1.744\n",
            "  nutty 1.773\n",
            "  supermarket 1.773\n",
            "  kinda 1.788\n"
          ]
        }
      ],
      "source": [
        "# LSA reps for term-document matrix\n",
        "# Feel free to change the rep size!\n",
        "reps = learn_reps_lsa(td_matrix, 500)\n",
        "words = [\"good\", \"bad\", \"cookie\", \"jelly\", \"dog\", \"the\", \"3\"]\n",
        "show_tokens = [vectorizer.tokenizer.word_to_token[word] for word in words]\n",
        "lab_util.show_similar_words(vectorizer.tokenizer, reps, show_tokens)"
      ]
    },
    {
      "cell_type": "markdown",
      "metadata": {
        "id": "obvh2vusBGpJ"
      },
      "source": [
        "How do the given similar words change if we apply LSA to the TF-IDF matrix instead?"
      ]
    },
    {
      "cell_type": "code",
      "execution_count": null,
      "metadata": {
        "colab": {
          "base_uri": "https://localhost:8080/"
        },
        "id": "SV5xKLYTi7LA",
        "outputId": "a294bbbc-5179-458b-eabe-7e8c1f85bfbc"
      },
      "outputs": [
        {
          "name": "stdout",
          "output_type": "stream",
          "text": [
            "[[ 0.10305843 -0.02823013  0.0005387  ... -0.00931948  0.01296273\n",
            "   0.00058102]\n",
            " [ 0.06121867 -0.00787906  0.13199975 ...  0.01831991  0.00359527\n",
            "   0.00944958]\n",
            " [ 0.07905045 -0.00272372  0.09267989 ...  0.00077055 -0.01610395\n",
            "  -0.01223471]\n",
            " ...\n",
            " [ 0.00502214  0.00256818 -0.00766008 ... -0.01461276 -0.00923553\n",
            "  -0.00845382]\n",
            " [ 0.00553081 -0.00273609  0.00441299 ...  0.02542507 -0.00052825\n",
            "   0.00373317]\n",
            " [ 0.02840451 -0.09642188 -0.00128551 ... -0.01221491  0.01642628\n",
            "  -0.00626993]]\n",
            "good 47\n",
            "  crazy 1.718\n",
            "  gerber 1.727\n",
            "  homemade 1.779\n",
            "  beat 1.797\n",
            "  average 1.807\n",
            "bad 201\n",
            "  disgusting 1.662\n",
            "  awful 1.703\n",
            "  dont 1.714\n",
            "  bland 1.718\n",
            "  gone 1.722\n",
            "cookie 504\n",
            "  nana's 1.110\n",
            "  moist 1.405\n",
            "  impossible 1.439\n",
            "  odd 1.440\n",
            "  needs 1.489\n",
            "jelly 351\n",
            "  twist 1.143\n",
            "  cardboard 1.229\n",
            "  advertised 1.376\n",
            "  sold 1.496\n",
            "  ask 1.523\n",
            "dog 925\n",
            "  happier 1.637\n",
            "  earlier 1.668\n",
            "  foods 1.678\n",
            "  standard 1.688\n",
            "  stays 1.699\n",
            "the 36\n",
            "  <unk> 1.484\n",
            "  and 1.584\n",
            "  . 1.596\n",
            "  of 1.605\n",
            "  is 1.625\n",
            "3 289\n",
            "  supermarket 1.693\n",
            "  closer 1.712\n",
            "  kinda 1.715\n",
            "  beat 1.717\n",
            "  omega 1.730\n"
          ]
        }
      ],
      "source": [
        "# Feel free to change the rep size!\n",
        "reps_tfidf = learn_reps_lsa(tfidf_matrix, 500)\n",
        "lab_util.show_similar_words(vectorizer.tokenizer, reps_tfidf, show_tokens)"
      ]
    },
    {
      "cell_type": "markdown",
      "metadata": {
        "id": "HO-NG4u1kG9z"
      },
      "source": [
        "Now that we have some representations, let's see if we can do something useful with them.\n",
        "\n",
        "Below, implement a feature function that represents a document as the sum of its\n",
        "learned word embeddings.\n",
        "\n",
        "The remaining code trains a logistic regression model on a set of *labeled* reviews; we're interested in seeing how much representations learned from *unlabeled* reviews, or reviews without any additional human annotation, can improve classification."
      ]
    },
    {
      "cell_type": "code",
      "execution_count": 65,
      "metadata": {
        "id": "6B08xvIFlee3"
      },
      "outputs": [],
      "source": [
        "import sklearn.linear_model\n",
        "from sklearn.pipeline import make_pipeline\n",
        "from sklearn.preprocessing import StandardScaler\n",
        "\n",
        "def word_featurizer(xs):\n",
        "    # normalize\n",
        "    return xs / np.sqrt((xs ** 2).sum(axis=1, keepdims=True))\n",
        "\n",
        "def lsa_featurizer(xs):\n",
        "    # This function takes in a matrix in which each row contains the word counts\n",
        "    # for the given review. It should return a matrix in which each row contains\n",
        "    # the learned feature representation of each review (e.g. the sum of LSA\n",
        "    # word representations).\n",
        "\n",
        "    feats = np.dot(xs, reps_tfidf)\n",
        "\n",
        "    # normalize\n",
        "    return feats / np.sqrt((feats ** 2).sum(axis=1, keepdims=True))\n",
        "\n",
        "def combo_featurizer(xs):\n",
        "    return np.concatenate((word_featurizer(xs), lsa_featurizer(xs)), axis=1)\n",
        "\n",
        "def train_model(featurizer, xs, ys):\n",
        "    xs_featurized = featurizer(xs)\n",
        "    model = sklearn.linear_model.LogisticRegression(penalty='none', max_iter=1000)\n",
        "    model.fit(xs_featurized, ys)\n",
        "    return model\n",
        "\n",
        "def eval_model(model, featurizer, xs, ys):\n",
        "    xs_featurized = featurizer(xs)\n",
        "    pred_ys = model.predict(xs_featurized)\n",
        "    return np.mean(pred_ys == ys)\n",
        "\n",
        "def training_experiment(name, featurizer, n_train):\n",
        "    print(f\"{name} features, {n_train} examples\")\n",
        "    train_xs = vectorizer.transform(train_reviews[:n_train])\n",
        "    train_ys = train_labels[:n_train]\n",
        "    test_xs = vectorizer.transform(test_reviews)\n",
        "    test_ys = test_labels\n",
        "    model = train_model(featurizer, train_xs, train_ys)\n",
        "    acc = eval_model(model, featurizer, test_xs, test_ys)\n",
        "    print(acc, '\\n')\n",
        "    return acc"
      ]
    },
    {
      "cell_type": "code",
      "execution_count": null,
      "metadata": {
        "colab": {
          "base_uri": "https://localhost:8080/"
        },
        "id": "Wxx5_aSR67h9",
        "outputId": "e9e74d6b-0aa6-4e12-f97f-fc3c0ddb447f"
      },
      "outputs": [
        {
          "name": "stdout",
          "output_type": "stream",
          "text": [
            "word features, 3000 examples\n"
          ]
        },
        {
          "name": "stderr",
          "output_type": "stream",
          "text": [
            "/usr/local/lib/python3.10/dist-packages/sklearn/linear_model/_logistic.py:1173: FutureWarning: `penalty='none'`has been deprecated in 1.2 and will be removed in 1.4. To keep the past behaviour, set `penalty=None`.\n",
            "  warnings.warn(\n"
          ]
        },
        {
          "name": "stdout",
          "output_type": "stream",
          "text": [
            "0.812 \n",
            "\n",
            "lsa features, 3000 examples\n"
          ]
        },
        {
          "name": "stderr",
          "output_type": "stream",
          "text": [
            "/usr/local/lib/python3.10/dist-packages/sklearn/linear_model/_logistic.py:1173: FutureWarning: `penalty='none'`has been deprecated in 1.2 and will be removed in 1.4. To keep the past behaviour, set `penalty=None`.\n",
            "  warnings.warn(\n"
          ]
        },
        {
          "name": "stdout",
          "output_type": "stream",
          "text": [
            "0.818 \n",
            "\n",
            "combo features, 3000 examples\n"
          ]
        },
        {
          "name": "stderr",
          "output_type": "stream",
          "text": [
            "/usr/local/lib/python3.10/dist-packages/sklearn/linear_model/_logistic.py:1173: FutureWarning: `penalty='none'`has been deprecated in 1.2 and will be removed in 1.4. To keep the past behaviour, set `penalty=None`.\n",
            "  warnings.warn(\n"
          ]
        },
        {
          "name": "stdout",
          "output_type": "stream",
          "text": [
            "0.822 \n",
            "\n",
            "\n"
          ]
        }
      ],
      "source": [
        "# this will run a training experiment with all 3k examples in training set\n",
        "n_train = 3000\n",
        "training_experiment(\"word\", word_featurizer, n_train)\n",
        "training_experiment(\"lsa\", lsa_featurizer, n_train)\n",
        "training_experiment(\"combo\", combo_featurizer, n_train)\n",
        "print()"
      ]
    },
    {
      "cell_type": "markdown",
      "metadata": {
        "id": "AxfunCYh5nmZ"
      },
      "source": [
        "# Word2vec: word representations via neural model\n",
        "\n",
        "In this section, we'll train a word embedding model with a word2vec-style objective rather than a matrix factorization objective. This requires a little more work; we've provided scaffolding for a PyTorch model implementation below.\n",
        "If you don't have much PyTorch experience, there are some tutorials [here](https://pytorch.org/tutorials/) which may be useful. You may also find the classes `nn.Embedding` and `nn.EmbeddingBag` useful.\n",
        "\n",
        "Note: We will be implementing a CBOW model; that is, given a word's context, we will predict the central word."
      ]
    },
    {
      "cell_type": "code",
      "execution_count": null,
      "metadata": {
        "id": "M1napibQ6aub"
      },
      "outputs": [],
      "source": [
        "import torch\n",
        "import torch.nn as nn\n",
        "import torch.nn.functional as F\n",
        "import torch.optim as optim\n",
        "import torch.utils.data as torch_data\n",
        "\n",
        "class Word2VecModel(nn.Module):\n",
        "    # A torch module implementing a word2vec predictor. The `forward` function\n",
        "    # should take a batch of context word ids as input and predict the word\n",
        "    # in the middle of the context as output, as in the CBOW model from lecture.\n",
        "    # Hint: look at how padding is handled in lab_util.get_ngrams when\n",
        "    # initializing `ctx`: vocab_size is used as the padding token for contexts\n",
        "    # near the beginning and end of sequences. If you use an embedding module\n",
        "    # in your Word2Vec implementation, make sure to account for this extra\n",
        "    # padding token in the input dimension and include the `padding_idx` kwarg.\n",
        "\n",
        "    def __init__(self, vocab_size, embedding_size, padding_idx=2006):\n",
        "        super().__init__()\n",
        "\n",
        "        self.embeddings = nn.Embedding(num_embeddings=vocab_size+1,\n",
        "                                       embedding_dim = embedding_size,\n",
        "                                       padding_idx = padding_idx)\n",
        "        self.linear = nn.Linear(in_features = embedding_size,\n",
        "                                out_features = vocab_size)\n",
        "\n",
        "    def forward(self, context):\n",
        "        # Context is an `n_batch x n_context` matrix of integer word ids.\n",
        "        # In this case, n_context = 2 * window_size where window_size is defined\n",
        "        # in lab_util.py. This is because each word has both left and right context.\n",
        "        # This function should return an `n_batch x vocab_size` matrix with\n",
        "        # element i, j being the (possibly log) probability of the middle word\n",
        "        # in context i being word j.\n",
        "\n",
        "        x = self.embeddings(context)\n",
        "        x = x.mean(axis = 1)\n",
        "        out = self.linear(x)\n",
        "        probs = nn.functional.log_softmax(out, dim=1)\n",
        "        return probs\n"
      ]
    },
    {
      "cell_type": "markdown",
      "metadata": {
        "id": "FOE4RyP9LX26"
      },
      "source": [
        "Train the model using the function below. Note that we use an [Adam optimizer](https://arxiv.org/abs/1412.6980). This is a fancy version of SGD which uses momentum and adaptive updates.\n",
        "\n"
      ]
    },
    {
      "cell_type": "code",
      "execution_count": null,
      "metadata": {
        "id": "ePgZlityuWr3"
      },
      "outputs": [],
      "source": [
        "def learn_reps_word2vec(corpus, window_size, rep_size, n_epochs, n_batch):\n",
        "    # This method takes in a corpus of training sentences. It returns a matrix of\n",
        "    # word embeddings with the same structure as used in the previous section of\n",
        "    # the assignment. (You can extract this matrix from the parameters of the\n",
        "    # Word2VecModel.)\n",
        "\n",
        "    tokenizer = lab_util.Tokenizer()\n",
        "    tokenizer.fit(corpus)\n",
        "    tokenized_corpus = tokenizer.tokenize(corpus)\n",
        "\n",
        "    ngrams = lab_util.get_ngrams(tokenized_corpus, window_size, pad_idx=2006)\n",
        "\n",
        "    device = torch.device('cuda')  # run on colab gpu\n",
        "    model = Word2VecModel(tokenizer.vocab_size, rep_size).to(device)\n",
        "    opt = optim.Adam(model.parameters(), lr=0.001)\n",
        "\n",
        "    loader = torch_data.DataLoader(ngrams, batch_size=n_batch, shuffle=True)\n",
        "\n",
        "    # What loss function should we use for Word2Vec?\n",
        "    loss_fn = nn.CrossEntropyLoss() \n",
        "\n",
        "    losses = []  # Potentially useful for debugging (loss should go down!)\n",
        "    for epoch in tqdm(range(n_epochs)):\n",
        "        epoch_loss = 0\n",
        "        for context, label in loader:\n",
        "            # As described above, `context` is a batch of context word ids, and\n",
        "            # `label` is a batch of predicted word labels.\n",
        "\n",
        "            # Here, perform a forward pass to compute predictions for the model.\n",
        "            preds = model(context.to(device))\n",
        "\n",
        "\n",
        "            # Now finish the backward pass and gradient update.\n",
        "            # Remember, you need to compute the loss, zero the gradie nts\n",
        "            # of the model parameters, perform the backward pass, and\n",
        "            # update the model parameters.\n",
        "            loss = loss_fn(preds, label.to(device))\n",
        "            model.zero_grad()\n",
        "            loss.backward()\n",
        "            opt.step()\n",
        "\n",
        "\n",
        "            epoch_loss += loss.item()\n",
        "        print(epoch_loss)\n",
        "        losses.append(epoch_loss)\n",
        "\n",
        "    # Hint: you want to return a `vocab_size x embedding_size` numpy array\n",
        "    embedding_matrix = list(model.parameters())[0][:-1].cpu().detach().numpy()\n",
        "    #print(embedding_matrix.shape())\n",
        "\n",
        "    return embedding_matrix"
      ]
    },
    {
      "cell_type": "code",
      "execution_count": null,
      "metadata": {
        "colab": {
          "base_uri": "https://localhost:8080/"
        },
        "id": "aaUy1cNuB3W1",
        "outputId": "0bd4f19c-b2c5-40da-a4c9-98be2b594b50"
      },
      "outputs": [
        {
          "name": "stderr",
          "output_type": "stream",
          "text": [
            " 10%|█         | 1/10 [00:04<00:38,  4.31s/it]"
          ]
        },
        {
          "name": "stdout",
          "output_type": "stream",
          "text": [
            "1483.871123790741\n"
          ]
        },
        {
          "name": "stderr",
          "output_type": "stream",
          "text": [
            "\r 20%|██        | 2/10 [00:06<00:25,  3.14s/it]"
          ]
        },
        {
          "name": "stdout",
          "output_type": "stream",
          "text": [
            "1242.9794669151306\n"
          ]
        },
        {
          "name": "stderr",
          "output_type": "stream",
          "text": [
            "\r 30%|███       | 3/10 [00:08<00:19,  2.78s/it]"
          ]
        },
        {
          "name": "stdout",
          "output_type": "stream",
          "text": [
            "1158.1354331970215\n"
          ]
        },
        {
          "name": "stderr",
          "output_type": "stream",
          "text": [
            "\r 40%|████      | 4/10 [00:11<00:15,  2.56s/it]"
          ]
        },
        {
          "name": "stdout",
          "output_type": "stream",
          "text": [
            "1105.2233283519745\n"
          ]
        },
        {
          "name": "stderr",
          "output_type": "stream",
          "text": [
            "\r 50%|█████     | 5/10 [00:13<00:12,  2.53s/it]"
          ]
        },
        {
          "name": "stdout",
          "output_type": "stream",
          "text": [
            "1067.370474100113\n"
          ]
        },
        {
          "name": "stderr",
          "output_type": "stream",
          "text": [
            "\r 60%|██████    | 6/10 [00:16<00:10,  2.69s/it]"
          ]
        },
        {
          "name": "stdout",
          "output_type": "stream",
          "text": [
            "1037.9748060703278\n"
          ]
        },
        {
          "name": "stderr",
          "output_type": "stream",
          "text": [
            "\r 70%|███████   | 7/10 [00:19<00:07,  2.60s/it]"
          ]
        },
        {
          "name": "stdout",
          "output_type": "stream",
          "text": [
            "1013.7631118297577\n"
          ]
        },
        {
          "name": "stderr",
          "output_type": "stream",
          "text": [
            "\r 80%|████████  | 8/10 [00:21<00:04,  2.48s/it]"
          ]
        },
        {
          "name": "stdout",
          "output_type": "stream",
          "text": [
            "993.4714138507843\n"
          ]
        },
        {
          "name": "stderr",
          "output_type": "stream",
          "text": [
            "\r 90%|█████████ | 9/10 [00:23<00:02,  2.45s/it]"
          ]
        },
        {
          "name": "stdout",
          "output_type": "stream",
          "text": [
            "975.9514760971069\n"
          ]
        },
        {
          "name": "stderr",
          "output_type": "stream",
          "text": [
            "100%|██████████| 10/10 [00:25<00:00,  2.59s/it]"
          ]
        },
        {
          "name": "stdout",
          "output_type": "stream",
          "text": [
            "960.5836205482483\n"
          ]
        },
        {
          "name": "stderr",
          "output_type": "stream",
          "text": [
            "\n"
          ]
        }
      ],
      "source": [
        "# Feel free to change the hyperparameters!\n",
        "# Use the function you just wrote to learn Word2Vec embeddings:\n",
        "reps_word2vec = learn_reps_word2vec(train_reviews, 2, 500, 10, 1024)"
      ]
    },
    {
      "cell_type": "markdown",
      "metadata": {
        "id": "O3oE-tpR7I39"
      },
      "source": [
        "After training the embeddings, we can try to visualize the embedding space to see if it makes sense. First, we can take any word in the space and check its closest neighbors."
      ]
    },
    {
      "cell_type": "code",
      "execution_count": null,
      "metadata": {
        "colab": {
          "base_uri": "https://localhost:8080/"
        },
        "id": "yMW4QND56bHF",
        "outputId": "6fca5ed1-8351-4469-911f-76c3657d235c"
      },
      "outputs": [
        {
          "name": "stdout",
          "output_type": "stream",
          "text": [
            "[[ 0.23373789 -0.71191776 -1.430743   ... -1.3566089   0.36794472\n",
            "   0.38434947]\n",
            " [-0.88528967 -1.7038208   0.1935017  ...  0.5757472  -0.02826254\n",
            "  -1.3323519 ]\n",
            " [-0.42964223 -0.7044016   0.09537134 ... -0.52066135 -0.4314595\n",
            "   1.848199  ]\n",
            " ...\n",
            " [-1.8198806  -1.2538049   0.18105528 ...  0.43045336  0.23538989\n",
            "   1.6258546 ]\n",
            " [-2.0464559  -0.22643386  0.34045368 ... -0.29119074  0.21299501\n",
            "   2.1917999 ]\n",
            " [ 0.12121853 -1.198144   -0.8747358  ... -0.44890764  0.24319774\n",
            "   0.7563961 ]]\n",
            "good 47\n",
            "  great 1.529\n",
            "  bad 1.624\n",
            "  nice 1.643\n",
            "  excellent 1.676\n",
            "  strong 1.691\n",
            "bad 201\n",
            "  good 1.624\n",
            "  big 1.676\n",
            "  asked 1.679\n",
            "  heavy 1.685\n",
            "  read 1.687\n",
            "cookie 504\n",
            "  worse 1.707\n",
            "  favorites 1.707\n",
            "  supermarket 1.707\n",
            "  couple 1.709\n",
            "  flowers 1.710\n",
            "jelly 351\n",
            "  shortbread 1.649\n",
            "  numerous 1.692\n",
            "  creme 1.706\n",
            "  free 1.708\n",
            "  20 1.710\n",
            "dog 925\n",
            "  baby 1.605\n",
            "  mom 1.619\n",
            "  parents 1.689\n",
            "  keurig 1.693\n",
            "  wife 1.698\n",
            "the 36\n",
            "  clam 1.705\n",
            "  overpriced 1.724\n",
            "  melted 1.727\n",
            "  grown 1.728\n",
            "  earth's 1.731\n",
            "3 289\n",
            "  5 1.578\n",
            "  4 1.687\n",
            "  three 1.694\n",
            "  batter 1.704\n",
            "  m 1.711\n"
          ]
        }
      ],
      "source": [
        "print(reps_word2vec)\n",
        "lab_util.show_similar_words(vectorizer.tokenizer, reps_word2vec, show_tokens)"
      ]
    },
    {
      "cell_type": "markdown",
      "metadata": {
        "id": "ue-9CPSc7fi9"
      },
      "source": [
        "We can also cluster the embedding space. Clustering in 4 or more dimensions is hard to visualize, and even clustering in 2 or 3 can be difficult because there are so many words in the vocabulary. One thing we can try to do is assign cluster labels and qualitiatively look for an underlying pattern in the clusters."
      ]
    },
    {
      "cell_type": "code",
      "execution_count": null,
      "metadata": {
        "colab": {
          "base_uri": "https://localhost:8080/"
        },
        "id": "v-Yf6NMCXVx4",
        "outputId": "d939462a-b1b5-4225-d683-ef1b7333d1d8"
      },
      "outputs": [
        {
          "name": "stderr",
          "output_type": "stream",
          "text": [
            "/usr/local/lib/python3.10/dist-packages/sklearn/cluster/_kmeans.py:870: FutureWarning: The default value of `n_init` will change from 10 to 'auto' in 1.4. Set the value of `n_init` explicitly to suppress the warning\n",
            "  warnings.warn(\n"
          ]
        },
        {
          "name": "stdout",
          "output_type": "stream",
          "text": [
            "particularly: 9\n",
            "batches: 9\n",
            "stated: 9\n",
            "someone: 9\n",
            "wondering: 9\n",
            "list: 9\n",
            "mahogany: 9\n",
            "picky: 9\n",
            "surprised: 9\n",
            "bargain: 9\n",
            "business: 9\n",
            "disappointed: 9\n",
            "standard: 9\n",
            "tart: 9\n",
            "impressed: 9\n",
            "plastic: 9\n",
            "ice: 9\n",
            "end: 9\n",
            "meant: 9\n",
            "normal: 9\n",
            "hit: 9\n",
            "friend: 9\n",
            "death: 8\n",
            "www: 8\n",
            "25: 8\n",
            "n: 8\n",
            "even: 8\n",
            "belgian: 8\n",
            "months: 8\n",
            "gotten: 8\n",
            "filters: 8\n",
            "per: 8\n",
            "can: 8\n",
            "takes: 7\n",
            "allowed: 7\n",
            "break: 7\n",
            "merchant: 7\n",
            "received: 7\n",
            "wasn't: 7\n",
            "info: 6\n",
            "beverage: 6\n",
            "earl: 6\n",
            "entirely: 6\n",
            "company: 6\n",
            "site: 6\n",
            "above: 6\n",
            "kibble: 6\n",
            "treat: 6\n",
            "oatmeal: 6\n",
            "middle: 6\n",
            "post: 6\n",
            "mic: 5\n",
            "major: 5\n",
            "dough: 5\n",
            "maybe: 5\n",
            "bears: 5\n",
            "partially: 5\n",
            "contain: 5\n",
            "mountain: 5\n",
            "contents: 5\n",
            "meal: 5\n",
            "savory: 5\n",
            "mini: 4\n",
            "crumbs: 4\n",
            "hydrogenated: 4\n",
            "soda: 4\n",
            "ahead: 4\n",
            "older: 4\n",
            "hand: 4\n",
            "odd: 4\n",
            "roll: 4\n",
            "pressure: 4\n",
            "melt: 4\n",
            "thrown: 3\n",
            "tomatoes: 3\n",
            "drinker: 3\n",
            "traditional: 3\n",
            "juice: 3\n",
            "mueslix: 3\n",
            "beverages: 3\n",
            "covered: 3\n",
            "okay: 3\n",
            "tasted: 3\n",
            "i'm: 2\n",
            "life: 2\n",
            "nasty: 2\n",
            "early: 2\n",
            "creamer: 2\n",
            "carrot: 1\n",
            "shop: 1\n",
            "disease: 1\n",
            "select: 1\n",
            "substitute: 1\n",
            "sodium: 1\n",
            "waffle: 1\n",
            "they: 1\n",
            "puck: 1\n",
            "basically: 1\n",
            "gas: 0\n",
            "size: 0\n"
          ]
        }
      ],
      "source": [
        "from sklearn.cluster import KMeans\n",
        "\n",
        "indices = KMeans(n_clusters=10).fit_predict(reps_word2vec)\n",
        "zipped = list(zip(range(vectorizer.tokenizer.vocab_size), indices))\n",
        "np.random.shuffle(zipped)\n",
        "zipped = zipped[:100]\n",
        "zipped = sorted(zipped, key=lambda x: x[1], reverse=True)\n",
        "for token, cluster_idx in zipped:\n",
        "  word = vectorizer.tokenizer.token_to_word[token]\n",
        "  print(f\"{word}: {cluster_idx}\")"
      ]
    },
    {
      "cell_type": "markdown",
      "metadata": {
        "id": "ci1TkENU78Wn"
      },
      "source": [
        "Finally, we can use the trained word embeddings to construct vector representations of full reviews. One common approach is to simply average all the word embeddings in the review to create an overall embedding. Implement the transform function in Word2VecFeaturizer to do this."
      ]
    },
    {
      "cell_type": "code",
      "execution_count": 57,
      "metadata": {
        "colab": {
          "base_uri": "https://localhost:8080/"
        },
        "id": "A5vjmRV6Dgbu",
        "outputId": "2e583e05-de70-4fcb-8ea1-d03e6432db4c"
      },
      "outputs": [
        {
          "name": "stdout",
          "output_type": "stream",
          "text": [
            "word2vec features, 3000 examples\n"
          ]
        },
        {
          "name": "stderr",
          "output_type": "stream",
          "text": [
            "/usr/local/lib/python3.10/dist-packages/sklearn/linear_model/_logistic.py:1173: FutureWarning: `penalty='none'`has been deprecated in 1.2 and will be removed in 1.4. To keep the past behaviour, set `penalty=None`.\n",
            "  warnings.warn(\n"
          ]
        },
        {
          "name": "stdout",
          "output_type": "stream",
          "text": [
            "0.772 \n",
            "\n",
            "\n"
          ]
        }
      ],
      "source": [
        "def w2v_featurizer(xs):\n",
        "    # This function takes in a matrix in which each row contains the word counts\n",
        "    # for the given review. It should return a matrix in which each row contains\n",
        "    # the average Word2Vec embedding of each review (hint: this will be very\n",
        "    # similar to `lsa_featurizer` from above, just using Word2Vec embeddings\n",
        "    # instead of LSA).\n",
        "\n",
        "    feats = np.dot(xs, reps_word2vec)/np.sum(xs, axis=1, keepdims = True)\n",
        "\n",
        "    # normalize\n",
        "    return feats / np.sqrt((feats ** 2).sum(axis=1, keepdims=True))\n",
        "\n",
        "training_experiment(\"word2vec\", w2v_featurizer, 3000)\n",
        "print()"
      ]
    },
    {
      "cell_type": "markdown",
      "metadata": {
        "id": "XB1nze9Jnmgw"
      },
      "source": [
        "# Experiments for HW1\n",
        "\n",
        "Below, you can implement experiments to answer the experimental questions in the HW1 handout. Please label each code cell with its relevant question part."
      ]
    },
    {
      "cell_type": "code",
      "execution_count": 58,
      "metadata": {
        "colab": {
          "base_uri": "https://localhost:8080/"
        },
        "id": "y_49m1sR19_i",
        "outputId": "8f91f0c4-4c15-4498-f3cd-92aa84d97ecc"
      },
      "outputs": [
        {
          "name": "stdout",
          "output_type": "stream",
          "text": [
            "[[-0.54135809 -0.54789295  0.45322461  0.44870055]\n",
            " [-0.14755382  0.00627189  0.60552877 -0.78199964]\n",
            " [-0.79237771  0.56069353 -0.23838072 -0.03057727]\n",
            " [-0.23936763 -0.6208033  -0.60917731 -0.43151988]]\n",
            "[[-0.54135809 -0.54789295 -0.45322461 -0.44870055]\n",
            " [-0.14755382  0.00627189 -0.60552877  0.78199964]\n",
            " [-0.79237771  0.56069353  0.23838072  0.03057727]\n",
            " [-0.23936763 -0.6208033   0.60917731  0.43151988]]\n"
          ]
        }
      ],
      "source": [
        "#2.a\n",
        "matrix = np.array([[5,3,4,2,1,3,5],\n",
        "                  [2,0,0,0,0,4,0],\n",
        "                  [0,3,4,1,8,6,6],\n",
        "                  [1,4,5,0,0,0,0]])\n",
        "U, S, VT = np.linalg.svd(matrix, full_matrices = False)\n",
        "U_T, S_T, VT_T = np.linalg.svd(matrix@matrix.T, full_matrices = False)\n",
        "print(U)\n",
        "print(U_T)"
      ]
    },
    {
      "cell_type": "code",
      "execution_count": 59,
      "metadata": {
        "colab": {
          "base_uri": "https://localhost:8080/"
        },
        "id": "zG3s98-bnpDd",
        "outputId": "09b85c3c-c9ce-49b9-abf8-6df340a424ce"
      },
      "outputs": [
        {
          "name": "stdout",
          "output_type": "stream",
          "text": [
            "\n",
            "\n",
            "Rep size:  250\n",
            "[[ 0.10305843 -0.02823013  0.0005387  ...  0.01082161  0.02228954\n",
            "   0.00541224]\n",
            " [ 0.06121867 -0.00787906  0.13199975 ...  0.02228537  0.08099172\n",
            "  -0.05122231]\n",
            " [ 0.07905045 -0.00272372  0.09267989 ...  0.03065858  0.01773222\n",
            "   0.00606177]\n",
            " ...\n",
            " [ 0.00502214  0.00256818 -0.00766008 ...  0.01284848  0.00205583\n",
            "   0.01339895]\n",
            " [ 0.00553081 -0.00273609  0.00441299 ... -0.00170671  0.00311575\n",
            "   0.00536555]\n",
            " [ 0.02840451 -0.09642188 -0.00128551 ... -0.01019488  0.01622145\n",
            "   0.02044049]]\n",
            "good 47\n",
            "  pretty 1.516\n",
            "  mornings 1.529\n",
            "  muffin 1.593\n",
            "  served 1.601\n",
            "  dollar 1.602\n",
            "bad 201\n",
            "  smells 1.471\n",
            "  awful 1.495\n",
            "  doubt 1.526\n",
            "  disgusting 1.545\n",
            "  went 1.571\n",
            "cookie 504\n",
            "  nana's 0.764\n",
            "  cookies 0.971\n",
            "  bites 1.339\n",
            "  oreos 1.411\n",
            "  bars 1.423\n",
            "jelly 351\n",
            "  peanuts 1.096\n",
            "  twist 1.122\n",
            "  advertised 1.178\n",
            "  cardboard 1.184\n",
            "  plastic 1.346\n",
            "dog 925\n",
            "  foods 1.330\n",
            "  stays 1.360\n",
            "  balance 1.484\n",
            "  earlier 1.515\n",
            "  eats 1.518\n",
            "the 36\n",
            "  of 1.273\n",
            "  <unk> 1.298\n",
            "  . 1.368\n",
            "  and 1.419\n",
            "  design 1.444\n",
            "3 289\n",
            "  popped 1.487\n",
            "  4 1.491\n",
            "  points 1.528\n",
            "  8 1.580\n",
            "  stars 1.581\n",
            "\n",
            "\n",
            "Rep size:  500\n",
            "[[ 0.10305843 -0.02823013  0.0005387  ... -0.01344346 -0.0108751\n",
            "   0.01211581]\n",
            " [ 0.06121867 -0.00787906  0.13199975 ...  0.00061232  0.00789633\n",
            "  -0.00895038]\n",
            " [ 0.07905045 -0.00272372  0.09267989 ...  0.02921225 -0.05736142\n",
            "  -0.01924669]\n",
            " ...\n",
            " [ 0.00502214  0.00256818 -0.00766008 ...  0.03129658 -0.03340427\n",
            "  -0.00214395]\n",
            " [ 0.00553081 -0.00273609  0.00441299 ...  0.01090909 -0.0087263\n",
            "   0.00652761]\n",
            " [ 0.02840451 -0.09642188 -0.00128551 ... -0.00524456  0.0126488\n",
            "  -0.00031596]]\n",
            "good 47\n",
            "  crazy 1.728\n",
            "  beat 1.739\n",
            "  gerber 1.775\n",
            "  suspect 1.783\n",
            "  otherwise 1.793\n",
            "bad 201\n",
            "  disgusting 1.630\n",
            "  craving 1.698\n",
            "  bland 1.703\n",
            "  gone 1.710\n",
            "  awful 1.714\n",
            "cookie 504\n",
            "  nana's 1.118\n",
            "  moist 1.377\n",
            "  odd 1.461\n",
            "  impossible 1.476\n",
            "  needs 1.548\n",
            "jelly 351\n",
            "  twist 1.117\n",
            "  cardboard 1.248\n",
            "  advertised 1.336\n",
            "  sold 1.454\n",
            "  supermarket 1.465\n",
            "dog 925\n",
            "  happier 1.634\n",
            "  earlier 1.669\n",
            "  foods 1.672\n",
            "  eats 1.691\n",
            "  standard 1.707\n",
            "the 36\n",
            "  <unk> 1.470\n",
            "  . 1.585\n",
            "  is 1.589\n",
            "  and 1.594\n",
            "  in 1.621\n",
            "3 289\n",
            "  nutty 1.696\n",
            "  omega 1.704\n",
            "  kinda 1.711\n",
            "  supermarket 1.714\n",
            "  popped 1.731\n",
            "\n",
            "\n",
            "Rep size:  750\n",
            "[[ 0.10305843 -0.02823013  0.0005387  ...  0.00191302  0.00178012\n",
            "   0.0076455 ]\n",
            " [ 0.06121867 -0.00787906  0.13199975 ...  0.03111584 -0.0070868\n",
            "   0.00577873]\n",
            " [ 0.07905045 -0.00272372  0.09267989 ...  0.00846582 -0.060356\n",
            "   0.00198565]\n",
            " ...\n",
            " [ 0.00502214  0.00256818 -0.00766008 ...  0.02524402 -0.01472877\n",
            "  -0.00074589]\n",
            " [ 0.00553081 -0.00273609  0.00441299 ... -0.00463455 -0.00435542\n",
            "   0.00662884]\n",
            " [ 0.02840451 -0.09642188 -0.00128551 ... -0.00387574 -0.01313988\n",
            "  -0.00453667]]\n",
            "good 47\n",
            "  crazy 1.817\n",
            "  gerber 1.826\n",
            "  luck 1.850\n",
            "  beat 1.861\n",
            "  frozen 1.867\n",
            "bad 201\n",
            "  disgusting 1.659\n",
            "  tender 1.809\n",
            "  craving 1.811\n",
            "  positive 1.824\n",
            "  wild 1.835\n",
            "cookie 504\n",
            "  nana's 1.320\n",
            "  moist 1.535\n",
            "  odd 1.593\n",
            "  impossible 1.610\n",
            "  needs 1.629\n",
            "jelly 351\n",
            "  twist 1.401\n",
            "  softer 1.430\n",
            "  cardboard 1.535\n",
            "  supermarket 1.538\n",
            "  plum 1.603\n",
            "dog 925\n",
            "  happier 1.765\n",
            "  earlier 1.772\n",
            "  eats 1.784\n",
            "  owner 1.808\n",
            "  standard 1.820\n",
            "the 36\n",
            "  <unk> 1.543\n",
            "  is 1.595\n",
            "  of 1.671\n",
            "  fence 1.716\n",
            "  future 1.719\n",
            "3 289\n",
            "  supermarket 1.787\n",
            "  omega 1.795\n",
            "  nutty 1.804\n",
            "  8 1.815\n",
            "  pricing 1.815\n",
            "\n",
            "\n",
            "Rep size:  1000\n",
            "[[ 0.10305843 -0.02823013  0.0005387  ... -0.03655791  0.01624009\n",
            "   0.0052208 ]\n",
            " [ 0.06121867 -0.00787906  0.13199975 ...  0.01248447 -0.01436277\n",
            "   0.01185442]\n",
            " [ 0.07905045 -0.00272372  0.09267989 ... -0.0211069   0.04838178\n",
            "   0.00601077]\n",
            " ...\n",
            " [ 0.00502214  0.00256818 -0.00766008 ... -0.03410552 -0.0171036\n",
            "  -0.02776492]\n",
            " [ 0.00553081 -0.00273609  0.00441299 ... -0.00704647 -0.0251513\n",
            "   0.01507769]\n",
            " [ 0.02840451 -0.09642188 -0.00128551 ... -0.0077963  -0.0098305\n",
            "  -0.00530427]]\n",
            "good 47\n",
            "  luck 1.877\n",
            "  a 1.880\n",
            "  suspect 1.898\n",
            "  shape 1.904\n",
            "  frozen 1.908\n",
            "bad 201\n",
            "  disgusting 1.767\n",
            "  touch 1.855\n",
            "  entirely 1.877\n",
            "  spot 1.878\n",
            "  wild 1.879\n",
            "cookie 504\n",
            "  nana's 1.522\n",
            "  moist 1.640\n",
            "  needs 1.725\n",
            "  chewy 1.773\n",
            "  impossible 1.781\n",
            "jelly 351\n",
            "  twist 1.499\n",
            "  softer 1.600\n",
            "  shocked 1.702\n",
            "  gummy 1.731\n",
            "  plum 1.736\n",
            "dog 925\n",
            "  happier 1.828\n",
            "  earlier 1.832\n",
            "  eats 1.856\n",
            "  owner 1.857\n",
            "  nutrients 1.871\n",
            "the 36\n",
            "  <unk> 1.583\n",
            "  is 1.669\n",
            "  . 1.741\n",
            "  suspect 1.752\n",
            "  fence 1.762\n",
            "3 289\n",
            "  omega 1.836\n",
            "  supermarket 1.849\n",
            "  earlier 1.863\n",
            "  nutty 1.864\n",
            "  pricing 1.868\n",
            "\n",
            "\n",
            "Rep size:  1250\n",
            "[[ 0.10305843 -0.02823013  0.0005387  ... -0.01248552 -0.00517371\n",
            "   0.01032482]\n",
            " [ 0.06121867 -0.00787906  0.13199975 ...  0.00143983 -0.00332277\n",
            "  -0.00209095]\n",
            " [ 0.07905045 -0.00272372  0.09267989 ...  0.01240863  0.00748164\n",
            "   0.00762152]\n",
            " ...\n",
            " [ 0.00502214  0.00256818 -0.00766008 ... -0.05689119  0.01118832\n",
            "  -0.03154259]\n",
            " [ 0.00553081 -0.00273609  0.00441299 ... -0.00520123  0.02254451\n",
            "   0.02554293]\n",
            " [ 0.02840451 -0.09642188 -0.00128551 ... -0.01112856  0.00662794\n",
            "  -0.0162577 ]]\n",
            "good 47\n",
            "  suspect 1.914\n",
            "  a 1.914\n",
            "  below 1.922\n",
            "  . 1.928\n",
            "  required 1.934\n",
            "bad 201\n",
            "  disgusting 1.851\n",
            "  spot 1.888\n",
            "  34 1.918\n",
            "  entirely 1.923\n",
            "  vending 1.927\n",
            "cookie 504\n",
            "  nana's 1.682\n",
            "  moist 1.746\n",
            "  needs 1.826\n",
            "  business 1.846\n",
            "  flakes 1.858\n",
            "jelly 351\n",
            "  twist 1.658\n",
            "  softer 1.694\n",
            "  shocked 1.740\n",
            "  gummy 1.777\n",
            "  throughout 1.825\n",
            "dog 925\n",
            "  earlier 1.880\n",
            "  happier 1.881\n",
            "  eats 1.915\n",
            "  owner 1.916\n",
            "  improve 1.923\n",
            "the 36\n",
            "  <unk> 1.652\n",
            "  is 1.692\n",
            "  of 1.786\n",
            "  suspect 1.800\n",
            "  . 1.814\n",
            "3 289\n",
            "  omega 1.891\n",
            "  earlier 1.899\n",
            "  range 1.901\n",
            "  pricing 1.905\n",
            "  obviously 1.913\n",
            "\n",
            "\n",
            "Rep size:  1500\n",
            "[[ 0.10305843 -0.02823013  0.0005387  ... -0.06188159  0.00952322\n",
            "  -0.03871247]\n",
            " [ 0.06121867 -0.00787906  0.13199975 ... -0.0207783   0.01810501\n",
            "   0.00775962]\n",
            " [ 0.07905045 -0.00272372  0.09267989 ... -0.0109788   0.00546892\n",
            "   0.01651238]\n",
            " ...\n",
            " [ 0.00502214  0.00256818 -0.00766008 ... -0.03219289 -0.01901274\n",
            "  -0.00910317]\n",
            " [ 0.00553081 -0.00273609  0.00441299 ...  0.05374643 -0.0037492\n",
            "  -0.00270344]\n",
            " [ 0.02840451 -0.09642188 -0.00128551 ...  0.02175739  0.00058238\n",
            "  -0.00324434]]\n",
            "good 47\n",
            "  suspect 1.932\n",
            "  a 1.948\n",
            "  required 1.956\n",
            "  watching 1.957\n",
            "  condition 1.959\n",
            "bad 201\n",
            "  disgusting 1.929\n",
            "  34 1.930\n",
            "  cooks 1.944\n",
            "  comparable 1.947\n",
            "  wondering 1.949\n",
            "cookie 504\n",
            "  nana's 1.849\n",
            "  moist 1.877\n",
            "  business 1.892\n",
            "  flakes 1.894\n",
            "  pre 1.922\n",
            "jelly 351\n",
            "  twist 1.748\n",
            "  shocked 1.810\n",
            "  gummy 1.864\n",
            "  throughout 1.867\n",
            "  softer 1.877\n",
            "dog 925\n",
            "  happier 1.929\n",
            "  earlier 1.937\n",
            "  . 1.951\n",
            "  eats 1.952\n",
            "  improve 1.957\n",
            "the 36\n",
            "  <unk> 1.722\n",
            "  is 1.741\n",
            "  keeping 1.844\n",
            "  fence 1.851\n",
            "  term 1.851\n",
            "3 289\n",
            "  range 1.905\n",
            "  obviously 1.925\n",
            "  risk 1.940\n",
            "  carries 1.942\n",
            "  nutritious 1.943\n",
            "\n",
            "\n",
            "Rep size:  1750\n",
            "[[ 0.10305843 -0.02823013  0.0005387  ...  0.06130759  0.01920495\n",
            "  -0.02201073]\n",
            " [ 0.06121867 -0.00787906  0.13199975 ...  0.01223157  0.00572781\n",
            "   0.01538408]\n",
            " [ 0.07905045 -0.00272372  0.09267989 ... -0.000626    0.00456177\n",
            "   0.00499333]\n",
            " ...\n",
            " [ 0.00502214  0.00256818 -0.00766008 ...  0.00522286  0.01858798\n",
            "   0.04045524]\n",
            " [ 0.00553081 -0.00273609  0.00441299 ...  0.03449313 -0.00496411\n",
            "   0.0360639 ]\n",
            " [ 0.02840451 -0.09642188 -0.00128551 ... -0.05697643  0.00269082\n",
            "   0.0155668 ]]\n",
            "good 47\n",
            "  . 1.950\n",
            "  term 1.959\n",
            "  suspect 1.969\n",
            "  wrap 1.971\n",
            "  guy 1.973\n",
            "bad 201\n",
            "  34 1.947\n",
            "  wrap 1.957\n",
            "  following 1.962\n",
            "  checked 1.963\n",
            "  . 1.969\n",
            "cookie 504\n",
            "  nana's 1.942\n",
            "  pre 1.953\n",
            "  spread 1.954\n",
            "  select 1.955\n",
            "  business 1.959\n",
            "jelly 351\n",
            "  shocked 1.876\n",
            "  twist 1.917\n",
            "  spread 1.934\n",
            "  throughout 1.936\n",
            "  gummy 1.937\n",
            "dog 925\n",
            "  happier 1.960\n",
            "  example 1.966\n",
            "  current 1.970\n",
            "  improve 1.972\n",
            "  earlier 1.973\n",
            "the 36\n",
            "  <unk> 1.782\n",
            "  fence 1.847\n",
            "  ruin 1.859\n",
            "  term 1.862\n",
            "  is 1.869\n",
            "3 289\n",
            "  range 1.942\n",
            "  wrote 1.948\n",
            "  earlier 1.955\n",
            "  sick 1.962\n",
            "  beyond 1.963\n",
            "\n",
            "\n",
            "Rep size:  2000\n",
            "[[ 1.03058433e-01 -2.82301265e-02  5.38701584e-04 ...  1.19218832e-02\n",
            "  -3.42936113e-02  1.11954092e-02]\n",
            " [ 6.12186657e-02 -7.87905806e-03  1.31999748e-01 ... -6.34282233e-03\n",
            "   4.61985447e-03 -5.67445953e-03]\n",
            " [ 7.90504452e-02 -2.72371757e-03  9.26798888e-02 ... -9.77536177e-03\n",
            "  -1.02329132e-02  1.00216226e-02]\n",
            " ...\n",
            " [ 5.02213959e-03  2.56817645e-03 -7.66007630e-03 ... -5.23367151e-04\n",
            "  -6.37282735e-03  9.01343977e-05]\n",
            " [ 5.53081127e-03 -2.73608919e-03  4.41298662e-03 ...  6.18600590e-02\n",
            "  -5.59161924e-02 -8.42200960e-04]\n",
            " [ 2.84045062e-02 -9.64218827e-02 -1.28551221e-03 ... -1.19376541e-02\n",
            "  -5.07498652e-02  1.36271854e-02]]\n",
            "good 47\n",
            "  . 1.971\n",
            "  pros 1.988\n",
            "  http 1.997\n",
            "  www 1.997\n",
            "  betty 1.999\n",
            "bad 201\n",
            "  . 1.964\n",
            "  gp 1.994\n",
            "  href 1.996\n",
            "  cons 1.998\n",
            "  grey 1.999\n",
            "cookie 504\n",
            "  pros 1.993\n",
            "  . 1.993\n",
            "  gp 1.994\n",
            "  betty 2.000\n",
            "  wrote 2.000\n",
            "jelly 351\n",
            "  . 1.981\n",
            "  cons 1.988\n",
            "  href 1.990\n",
            "  grey 1.999\n",
            "  sparkling 1.999\n",
            "dog 925\n",
            "  . 1.967\n",
            "  cons 1.999\n",
            "  www 1.999\n",
            "  http 1.999\n",
            "  grey 2.000\n",
            "the 36\n",
            "  www 1.970\n",
            "  http 1.970\n",
            "  pros 1.979\n",
            "  . 1.992\n",
            "  earl 1.997\n",
            "3 289\n",
            "  www 1.989\n",
            "  http 1.989\n",
            "  cons 1.995\n",
            "  noted 1.999\n",
            "  70 1.999\n",
            "\n",
            "\n",
            "Rep size:  2250\n",
            "[[ 1.03058433e-01 -2.82301265e-02  5.38701584e-04 ...  3.65074941e-03\n",
            "  -1.55146655e+03  1.17354693e+04]\n",
            " [ 6.12186657e-02 -7.87905806e-03  1.31999748e-01 ...  2.47376409e-05\n",
            "  -1.77310463e+03 -1.61118214e+05]\n",
            " [ 7.90504452e-02 -2.72371757e-03  9.26798888e-02 ...  1.79148266e-03\n",
            "   1.20792753e+03  2.97298556e+05]\n",
            " ...\n",
            " [ 5.02213959e-03  2.56817645e-03 -7.66007630e-03 ...  1.57773375e-03\n",
            "   3.54620927e+03  2.77739441e+05]\n",
            " [ 5.53081127e-03 -2.73608919e-03  4.41298662e-03 ... -7.89118237e-03\n",
            "   2.39369126e+03  1.23833650e+05]\n",
            " [ 2.84045062e-02 -9.64218827e-02 -1.28551221e-03 ...  4.54323891e-03\n",
            "   1.41398954e+03 -2.19779148e+05]]\n",
            "good 47\n",
            "  ; 0.000\n",
            "  green 0.000\n",
            "  okay 0.000\n",
            "  pay 0.000\n",
            "  cold 0.000\n",
            "bad 201\n",
            "  80 0.000\n",
            "  really 0.000\n",
            "  bits 0.000\n",
            "  out 0.000\n",
            "  single 0.000\n",
            "cookie 504\n",
            "  common 0.000\n",
            "  support 0.000\n",
            "  17 0.000\n",
            "  bean 0.000\n",
            "  cons 0.000\n",
            "jelly 351\n",
            "  talking 0.000\n",
            "  kinda 0.000\n",
            "  tooth 0.000\n",
            "  front 0.000\n",
            "  i'd 0.000\n",
            "dog 925\n",
            "  show 0.000\n",
            "  shared 0.000\n",
            "  noticed 0.000\n",
            "  odd 0.000\n",
            "  compare 0.000\n",
            "the 36\n",
            "  inches 0.000\n",
            "  packet 0.000\n",
            "  selling 0.000\n",
            "  based 0.000\n",
            "  noted 0.000\n",
            "3 289\n",
            "  carton 0.000\n",
            "  helps 0.000\n",
            "  hate 0.000\n",
            "  my 0.000\n",
            "  m 0.000\n",
            "\n",
            "\n",
            "Rep size:  2500\n",
            "[[ 1.03058433e-01 -2.82301265e-02  5.38701584e-04 ...  3.65074941e-03\n",
            "   4.42526147e+02  1.30975321e+04]\n",
            " [ 6.12186657e-02 -7.87905806e-03  1.31999748e-01 ...  2.47376409e-05\n",
            "   4.42526147e+03  1.24426555e+05]\n",
            " [ 7.90504452e-02 -2.72371757e-03  9.26798888e-02 ...  1.79148266e-03\n",
            "  -2.65515688e+03 -3.99474730e+05]\n",
            " ...\n",
            " [ 5.02213959e-03  2.56817645e-03 -7.66007630e-03 ...  1.57773375e-03\n",
            "  -3.09768303e+03 -4.19121028e+05]\n",
            " [ 5.53081127e-03 -2.73608919e-03  4.41298662e-03 ... -7.89118237e-03\n",
            "   1.60415728e+04 -1.63309854e+05]\n",
            " [ 2.84045062e-02 -9.64218827e-02 -1.28551221e-03 ...  4.54323891e-03\n",
            "   3.17352889e+03  3.01422157e+05]]\n",
            "good 47\n",
            "  trick 0.000\n",
            "  may 0.000\n",
            "  unfortunately 0.000\n",
            "  fruits 0.000\n",
            "  bitter 0.000\n",
            "bad 201\n",
            "  always 0.008\n",
            "  my 0.009\n",
            "  sweetener 0.023\n",
            "  kids 0.032\n",
            "  reading 0.050\n",
            "cookie 504\n",
            "  unhealthy 0.000\n",
            "  speak 0.000\n",
            "  breed 0.000\n",
            "  came 0.000\n",
            "  right 0.000\n",
            "jelly 351\n",
            "  reaction 0.000\n",
            "  see 0.000\n",
            "  soups 0.000\n",
            "  weeks 0.000\n",
            "  suggest 0.000\n",
            "dog 925\n",
            "  under 0.000\n",
            "  huge 0.000\n",
            "  terrific 0.000\n",
            "  harmony 0.000\n",
            "  busy 0.000\n",
            "the 36\n",
            "  contact 0.000\n",
            "  cheap 0.000\n",
            "  fed 0.000\n",
            "  nutty 0.000\n",
            "  positive 0.000\n",
            "3 289\n",
            "  control 0.000\n",
            "  soft 0.000\n",
            "  meat 0.000\n",
            "  r 0.000\n",
            "  crazy 0.000\n",
            "\n",
            "\n",
            "Rep size:  2750\n",
            "[[ 1.03058433e-01 -2.82301265e-02  5.38701584e-04 ...  3.65074941e-03\n",
            "   2.06193408e+01 -2.07045812e+05]\n",
            " [ 6.12186657e-02 -7.87905806e-03  1.31999748e-01 ...  2.47376409e-05\n",
            "  -3.09290112e+02  7.97509796e+05]\n",
            " [ 7.90504452e-02 -2.72371757e-03  9.26798888e-02 ...  1.79148266e-03\n",
            "   5.46412532e+02 -4.32495697e+06]\n",
            " ...\n",
            " [ 5.02213959e-03  2.56817645e-03 -7.66007630e-03 ...  1.57773375e-03\n",
            "   4.33006157e+02 -2.63791702e+06]\n",
            " [ 5.53081127e-03 -2.73608919e-03  4.41298662e-03 ... -7.89118237e-03\n",
            "   8.81476820e+02 -1.44165232e+06]\n",
            " [ 2.84045062e-02 -9.64218827e-02 -1.28551221e-03 ...  4.54323891e-03\n",
            "   8.93036886e+01  3.61619066e+06]]\n",
            "good 47\n",
            "  served 0.000\n",
            "  less 0.000\n",
            "  long 0.000\n",
            "  this 0.000\n",
            "  sampler 0.000\n",
            "bad 201\n",
            "  creme 0.000\n",
            "  potatoes 0.000\n",
            "  purchasing 0.000\n",
            "  doing 0.000\n",
            "  pancakes 0.000\n",
            "cookie 504\n",
            "  prepared 0.000\n",
            "  simply 0.000\n",
            "  href 0.000\n",
            "  locally 0.000\n",
            "  mixing 0.000\n",
            "jelly 351\n",
            "  tolerate 0.000\n",
            "  shame 0.000\n",
            "  leak 0.000\n",
            "  mess 0.000\n",
            "  tasted 0.000\n",
            "dog 925\n",
            "  rich 0.000\n",
            "  past 0.000\n",
            "  felidae 0.000\n",
            "  refreshing 0.000\n",
            "  tooth 0.000\n",
            "the 36\n",
            "  look 0.000\n",
            "  writing 0.000\n",
            "  loaded 0.000\n",
            "  carbohydrate 0.000\n",
            "  noted 0.000\n",
            "3 289\n",
            "  overall 0.000\n",
            "  fairly 0.000\n",
            "  fluffy 0.000\n",
            "  wife 0.000\n",
            "  those 0.000\n"
          ]
        }
      ],
      "source": [
        "#2.b.i\n",
        "for i in range(250, 3000, 250):\n",
        "  print('\\n\\nRep size: ', i)\n",
        "  reps_tfidf = learn_reps_lsa(tfidf_matrix, i)\n",
        "  lab_util.show_similar_words(vectorizer.tokenizer, reps_tfidf, show_tokens)"
      ]
    },
    {
      "cell_type": "code",
      "execution_count": 60,
      "metadata": {
        "colab": {
          "base_uri": "https://localhost:8080/"
        },
        "id": "3eTnpsHgnudZ",
        "outputId": "b36e1b94-2273-477d-f91c-130cf7734176"
      },
      "outputs": [
        {
          "name": "stdout",
          "output_type": "stream",
          "text": [
            "\n",
            "\n",
            "Rep size:  50\n",
            "[[ 0.10305843 -0.02823026  0.00053834 ...  0.02208211  0.00160297\n",
            "  -0.03138475]\n",
            " [ 0.06121867 -0.0078789   0.1320001  ... -0.05120192  0.01778294\n",
            "  -0.01051113]\n",
            " [ 0.07905045 -0.00272336  0.09268059 ... -0.05821037 -0.04829952\n",
            "  -0.00580939]\n",
            " ...\n",
            " [ 0.00502214  0.00256827 -0.00765984 ... -0.01432208  0.00240415\n",
            "   0.0144682 ]\n",
            " [ 0.00553081 -0.00273606  0.00441289 ... -0.0063417  -0.00378319\n",
            "   0.003123  ]\n",
            " [ 0.02840451 -0.09642156 -0.00128475 ... -0.00386749 -0.01726534\n",
            "  -0.0034272 ]]\n",
            "good 47\n",
            "  subscribe 0.653\n",
            "  quick 0.698\n",
            "  decide 0.703\n",
            "  everyone 0.749\n",
            "  than 0.873\n",
            "bad 201\n",
            "  expect 0.737\n",
            "  strange 0.753\n",
            "  problem 0.860\n",
            "  please 0.866\n",
            "  like 0.925\n",
            "cookie 504\n",
            "  nana's 0.306\n",
            "  cookies 0.361\n",
            "  re 0.726\n",
            "  oreos 0.820\n",
            "  bars 0.867\n",
            "jelly 351\n",
            "  gifts 0.529\n",
            "  creamer 0.865\n",
            "  advertised 0.873\n",
            "  wide 0.912\n",
            "  milk 0.955\n",
            "dog 925\n",
            "  foods 0.640\n",
            "  pet 0.655\n",
            "  nutritious 0.700\n",
            "  switched 0.730\n",
            "  pets 0.741\n",
            "the 36\n",
            "  . 0.742\n",
            "  of 0.801\n",
            "  in 0.838\n",
            "  to 0.938\n",
            "  be 0.950\n",
            "3 289\n",
            "  per 0.701\n",
            "  1 0.824\n",
            "  8 0.923\n",
            "  2 0.937\n",
            "  gallon 0.972\n",
            "\n",
            "\n",
            "Rep size:  100\n",
            "[[ 0.10305843 -0.02823013  0.00053871 ... -0.01341315  0.0147277\n",
            "  -0.00964635]\n",
            " [ 0.06121867 -0.00787903  0.13199945 ... -0.01705965 -0.00389137\n",
            "  -0.00492704]\n",
            " [ 0.07905045 -0.00272374  0.09267997 ...  0.00666606  0.02343398\n",
            "   0.02847141]\n",
            " ...\n",
            " [ 0.00502214  0.00256818 -0.00766007 ...  0.01732571  0.00307408\n",
            "   0.00607226]\n",
            " [ 0.00553081 -0.00273609  0.00441303 ... -0.02428441  0.00933983\n",
            "  -0.0026347 ]\n",
            " [ 0.02840451 -0.09642189 -0.00128548 ...  0.01223026 -0.0084866\n",
            "  -0.0177285 ]]\n",
            "good 47\n",
            "  everyone 1.042\n",
            "  quick 1.083\n",
            "  lunches 1.160\n",
            "  described 1.195\n",
            "  but 1.218\n",
            "bad 201\n",
            "  taste 1.109\n",
            "  myself 1.115\n",
            "  like 1.116\n",
            "  cracker 1.137\n",
            "  strange 1.152\n",
            "cookie 504\n",
            "  cookies 0.338\n",
            "  nana's 0.478\n",
            "  oreos 0.718\n",
            "  bars 0.720\n",
            "  craving 1.031\n",
            "jelly 351\n",
            "  creamer 0.868\n",
            "  gifts 0.925\n",
            "  own 1.089\n",
            "  twist 1.115\n",
            "  softer 1.133\n",
            "dog 925\n",
            "  foods 1.059\n",
            "  switched 1.098\n",
            "  pet 1.110\n",
            "  loves 1.113\n",
            "  appeal 1.139\n",
            "the 36\n",
            "  of 0.890\n",
            "  <unk> 1.027\n",
            "  . 1.084\n",
            "  and 1.103\n",
            "  in 1.198\n",
            "3 289\n",
            "  1 1.087\n",
            "  4 1.114\n",
            "  2 1.150\n",
            "  8 1.214\n",
            "  vendor 1.292\n",
            "\n",
            "\n",
            "Rep size:  150\n",
            "[[ 1.03058433e-01 -2.82301259e-02  5.38701633e-04 ... -1.67924596e-02\n",
            "   7.99706132e-05 -1.02073636e-02]\n",
            " [ 6.12186657e-02 -7.87906153e-03  1.31999745e-01 ...  2.11528173e-02\n",
            "  -5.31656331e-02 -9.09744704e-03]\n",
            " [ 7.90504452e-02 -2.72371590e-03  9.26798643e-02 ...  3.72136091e-02\n",
            "   8.80141284e-04 -1.49959494e-03]\n",
            " ...\n",
            " [ 5.02213959e-03  2.56817672e-03 -7.66007150e-03 ...  1.51966052e-02\n",
            "   1.59275730e-03 -5.18510346e-04]\n",
            " [ 5.53081127e-03 -2.73608810e-03  4.41299357e-03 ...  9.06851519e-04\n",
            "   3.83819502e-03 -6.55736458e-03]\n",
            " [ 2.84045062e-02 -9.64218853e-02 -1.28552347e-03 ... -1.83767712e-02\n",
            "   2.57889407e-03 -7.12413426e-03]]\n",
            "good 47\n",
            "  pretty 1.206\n",
            "  described 1.285\n",
            "  everyone 1.286\n",
            "  lunches 1.334\n",
            "  might 1.388\n",
            "bad 201\n",
            "  awful 1.232\n",
            "  taste 1.248\n",
            "  i'll 1.332\n",
            "  teeth 1.363\n",
            "  just 1.372\n",
            "cookie 504\n",
            "  cookies 0.477\n",
            "  nana's 0.594\n",
            "  oreos 1.029\n",
            "  bites 1.150\n",
            "  bars 1.250\n",
            "jelly 351\n",
            "  advertised 1.040\n",
            "  gifts 1.184\n",
            "  creamer 1.192\n",
            "  sweeter 1.202\n",
            "  peanuts 1.211\n",
            "dog 925\n",
            "  foods 1.105\n",
            "  appeal 1.237\n",
            "  stays 1.273\n",
            "  switched 1.276\n",
            "  happier 1.294\n",
            "the 36\n",
            "  of 1.075\n",
            "  <unk> 1.106\n",
            "  . 1.186\n",
            "  and 1.239\n",
            "  design 1.332\n",
            "3 289\n",
            "  4 1.171\n",
            "  1 1.391\n",
            "  2 1.432\n",
            "  yellow 1.436\n",
            "  stars 1.438\n",
            "\n",
            "\n",
            "Rep size:  200\n",
            "[[ 0.10305843 -0.02823013  0.0005387  ...  0.01770362 -0.01433646\n",
            "  -0.00252253]\n",
            " [ 0.06121867 -0.00787906  0.13199976 ... -0.02191184  0.00394725\n",
            "  -0.0048896 ]\n",
            " [ 0.07905045 -0.00272372  0.09267989 ...  0.01627518  0.01644675\n",
            "   0.00354538]\n",
            " ...\n",
            " [ 0.00502214  0.00256818 -0.00766008 ... -0.0060874   0.00378909\n",
            "   0.00165522]\n",
            " [ 0.00553081 -0.00273609  0.00441299 ...  0.01469755 -0.00949742\n",
            "  -0.02397874]\n",
            " [ 0.02840451 -0.09642188 -0.00128551 ... -0.01951418 -0.00033872\n",
            "   0.0032435 ]]\n",
            "good 47\n",
            "  pretty 1.383\n",
            "  everyone 1.503\n",
            "  bbq 1.511\n",
            "  lunches 1.540\n",
            "  be 1.554\n",
            "bad 201\n",
            "  taste 1.296\n",
            "  smells 1.396\n",
            "  awful 1.443\n",
            "  smelled 1.486\n",
            "  teeth 1.504\n",
            "cookie 504\n",
            "  nana's 0.645\n",
            "  cookies 0.752\n",
            "  oreos 1.207\n",
            "  bites 1.253\n",
            "  bars 1.265\n",
            "jelly 351\n",
            "  twist 1.123\n",
            "  advertised 1.249\n",
            "  plastic 1.289\n",
            "  peanuts 1.290\n",
            "  beans 1.408\n",
            "dog 925\n",
            "  foods 1.229\n",
            "  stays 1.293\n",
            "  balance 1.429\n",
            "  appeal 1.431\n",
            "  happier 1.438\n",
            "the 36\n",
            "  <unk> 1.193\n",
            "  of 1.238\n",
            "  design 1.353\n",
            "  . 1.368\n",
            "  and 1.387\n",
            "3 289\n",
            "  4 1.388\n",
            "  8 1.499\n",
            "  vendor 1.526\n",
            "  1 1.527\n",
            "  beat 1.539\n",
            "\n",
            "\n",
            "Rep size:  250\n",
            "[[ 0.10305843 -0.02823013  0.0005387  ...  0.00240335  0.01048265\n",
            "   0.00069531]\n",
            " [ 0.06121867 -0.00787906  0.13199974 ...  0.0711451   0.01903791\n",
            "   0.0500401 ]\n",
            " [ 0.07905045 -0.00272372  0.09267989 ... -0.02099962 -0.00264427\n",
            "  -0.02700845]\n",
            " ...\n",
            " [ 0.00502214  0.00256818 -0.00766008 ... -0.00256285  0.00382399\n",
            "  -0.01336994]\n",
            " [ 0.00553081 -0.00273609  0.00441299 ... -0.00297115 -0.00393352\n",
            "   0.00132721]\n",
            " [ 0.02840451 -0.09642188 -0.00128551 ... -0.00628456 -0.00019464\n",
            "   0.00619065]]\n",
            "good 47\n",
            "  allowed 1.457\n",
            "  pretty 1.565\n",
            "  quality 1.574\n",
            "  sounds 1.583\n",
            "  seconds 1.620\n",
            "bad 201\n",
            "  smells 1.396\n",
            "  taste 1.445\n",
            "  went 1.543\n",
            "  minutes 1.546\n",
            "  awful 1.552\n",
            "cookie 504\n",
            "  nana's 0.753\n",
            "  cookies 0.986\n",
            "  bites 1.317\n",
            "  bars 1.405\n",
            "  odd 1.451\n",
            "jelly 351\n",
            "  twist 1.085\n",
            "  cardboard 1.188\n",
            "  peanuts 1.247\n",
            "  plastic 1.255\n",
            "  bean 1.406\n",
            "dog 925\n",
            "  foods 1.342\n",
            "  stays 1.398\n",
            "  balance 1.488\n",
            "  earlier 1.503\n",
            "  eats 1.514\n",
            "the 36\n",
            "  of 1.282\n",
            "  <unk> 1.293\n",
            "  and 1.418\n",
            "  . 1.436\n",
            "  design 1.462\n",
            "3 289\n",
            "  4 1.511\n",
            "  beat 1.517\n",
            "  8 1.572\n",
            "  stars 1.574\n",
            "  vendor 1.579\n",
            "\n",
            "\n",
            "Rep size:  300\n",
            "[[ 0.10305843 -0.02823013  0.0005387  ...  0.00634357 -0.00943487\n",
            "   0.00048595]\n",
            " [ 0.06121867 -0.00787906  0.13199975 ...  0.00090757 -0.00988286\n",
            "  -0.04407756]\n",
            " [ 0.07905045 -0.00272372  0.09267989 ... -0.01445562  0.03062794\n",
            "  -0.0048033 ]\n",
            " ...\n",
            " [ 0.00502214  0.00256818 -0.00766008 ...  0.02128649 -0.01601217\n",
            "  -0.00300838]\n",
            " [ 0.00553081 -0.00273609  0.00441299 ... -0.00074987  0.01032089\n",
            "   0.01088443]\n",
            " [ 0.02840451 -0.09642188 -0.00128551 ... -0.00503394  0.00665732\n",
            "   0.0220006 ]]\n",
            "good 47\n",
            "  pretty 1.572\n",
            "  described 1.621\n",
            "  served 1.633\n",
            "  pain 1.663\n",
            "  sounds 1.663\n",
            "bad 201\n",
            "  disgusting 1.498\n",
            "  horrible 1.557\n",
            "  returned 1.583\n",
            "  doubt 1.587\n",
            "  went 1.593\n",
            "cookie 504\n",
            "  nana's 0.847\n",
            "  cookies 1.144\n",
            "  bites 1.464\n",
            "  bars 1.471\n",
            "  odd 1.476\n",
            "jelly 351\n",
            "  twist 1.080\n",
            "  advertised 1.153\n",
            "  cardboard 1.182\n",
            "  peanuts 1.187\n",
            "  plastic 1.407\n",
            "dog 925\n",
            "  stays 1.456\n",
            "  foods 1.458\n",
            "  happier 1.516\n",
            "  eats 1.540\n",
            "  balance 1.552\n",
            "the 36\n",
            "  <unk> 1.343\n",
            "  of 1.381\n",
            "  and 1.441\n",
            "  . 1.454\n",
            "  is 1.517\n",
            "3 289\n",
            "  closer 1.553\n",
            "  4 1.557\n",
            "  facts 1.559\n",
            "  beat 1.561\n",
            "  8 1.574\n",
            "\n",
            "\n",
            "Rep size:  350\n",
            "[[ 0.10305843 -0.02823013  0.0005387  ... -0.01127589  0.01172581\n",
            "  -0.00263879]\n",
            " [ 0.06121867 -0.00787906  0.13199975 ... -0.02456686  0.03058885\n",
            "  -0.00896592]\n",
            " [ 0.07905045 -0.00272372  0.09267989 ...  0.01374917 -0.00813808\n",
            "  -0.02815331]\n",
            " ...\n",
            " [ 0.00502214  0.00256818 -0.00766008 ... -0.00825825  0.01728088\n",
            "  -0.00274683]\n",
            " [ 0.00553081 -0.00273609  0.00441299 ... -0.01417152 -0.00813232\n",
            "  -0.01985758]\n",
            " [ 0.02840451 -0.09642188 -0.00128551 ...  0.008563    0.00603729\n",
            "  -0.00650085]]\n",
            "good 47\n",
            "  pretty 1.656\n",
            "  allowed 1.682\n",
            "  very 1.695\n",
            "  crazy 1.700\n",
            "  dressing 1.722\n",
            "bad 201\n",
            "  disgusting 1.548\n",
            "  horrible 1.624\n",
            "  awful 1.625\n",
            "  craving 1.648\n",
            "  bland 1.650\n",
            "cookie 504\n",
            "  nana's 0.877\n",
            "  cookies 1.307\n",
            "  odd 1.455\n",
            "  bars 1.472\n",
            "  bites 1.491\n",
            "jelly 351\n",
            "  twist 1.044\n",
            "  cardboard 1.178\n",
            "  advertised 1.283\n",
            "  plum 1.388\n",
            "  peanuts 1.430\n",
            "dog 925\n",
            "  foods 1.510\n",
            "  stays 1.532\n",
            "  earlier 1.560\n",
            "  happier 1.565\n",
            "  eats 1.581\n",
            "the 36\n",
            "  <unk> 1.423\n",
            "  of 1.454\n",
            "  and 1.483\n",
            "  . 1.530\n",
            "  is 1.574\n",
            "3 289\n",
            "  facts 1.594\n",
            "  nutty 1.613\n",
            "  closer 1.625\n",
            "  8 1.636\n",
            "  omega 1.645\n",
            "\n",
            "\n",
            "Rep size:  400\n",
            "[[ 0.10305843 -0.02823013  0.0005387  ... -0.0048694  -0.00648085\n",
            "  -0.01595811]\n",
            " [ 0.06121867 -0.00787906  0.13199975 ... -0.01736043  0.01742921\n",
            "   0.00778755]\n",
            " [ 0.07905045 -0.00272372  0.09267989 ...  0.03234148 -0.01538156\n",
            "  -0.03892773]\n",
            " ...\n",
            " [ 0.00502214  0.00256818 -0.00766008 ... -0.00483092  0.007905\n",
            "  -0.00712613]\n",
            " [ 0.00553081 -0.00273609  0.00441299 ...  0.0176437   0.00753036\n",
            "   0.01383884]\n",
            " [ 0.02840451 -0.09642188 -0.00128551 ... -0.00202688  0.00026381\n",
            "  -0.01011818]]\n",
            "good 47\n",
            "  crazy 1.645\n",
            "  gerber 1.665\n",
            "  allowed 1.669\n",
            "  beat 1.735\n",
            "  pretty 1.744\n",
            "bad 201\n",
            "  disgusting 1.574\n",
            "  horrible 1.581\n",
            "  went 1.643\n",
            "  awful 1.676\n",
            "  garbage 1.691\n",
            "cookie 504\n",
            "  nana's 0.958\n",
            "  moist 1.411\n",
            "  impossible 1.435\n",
            "  odd 1.458\n",
            "  cookies 1.471\n",
            "jelly 351\n",
            "  twist 1.111\n",
            "  cardboard 1.148\n",
            "  advertised 1.268\n",
            "  plum 1.394\n",
            "  plastic 1.433\n",
            "dog 925\n",
            "  foods 1.603\n",
            "  happier 1.608\n",
            "  earlier 1.618\n",
            "  stays 1.651\n",
            "  standard 1.657\n",
            "the 36\n",
            "  <unk> 1.412\n",
            "  of 1.482\n",
            "  . 1.517\n",
            "  and 1.566\n",
            "  rest 1.566\n",
            "3 289\n",
            "  closer 1.630\n",
            "  beat 1.652\n",
            "  supermarket 1.659\n",
            "  facts 1.666\n",
            "  nutty 1.667\n",
            "\n",
            "\n",
            "Rep size:  450\n",
            "[[ 0.10305843 -0.02823013  0.0005387  ...  0.00064608  0.00031398\n",
            "   0.00270675]\n",
            " [ 0.06121867 -0.00787906  0.13199975 ...  0.04072532  0.01996251\n",
            "   0.0313417 ]\n",
            " [ 0.07905045 -0.00272372  0.09267989 ... -0.04914418  0.00490585\n",
            "  -0.03098942]\n",
            " ...\n",
            " [ 0.00502214  0.00256818 -0.00766008 ...  0.00207396  0.01703961\n",
            "   0.0122658 ]\n",
            " [ 0.00553081 -0.00273609  0.00441299 ... -0.00412948  0.00599554\n",
            "  -0.00149274]\n",
            " [ 0.02840451 -0.09642188 -0.00128551 ... -0.00637517 -0.02329738\n",
            "  -0.01768146]]\n",
            "good 47\n",
            "  crazy 1.674\n",
            "  gerber 1.686\n",
            "  luck 1.759\n",
            "  hand 1.764\n",
            "  prepare 1.766\n",
            "bad 201\n",
            "  disgusting 1.608\n",
            "  awful 1.668\n",
            "  went 1.691\n",
            "  horrible 1.701\n",
            "  positive 1.707\n",
            "cookie 504\n",
            "  nana's 0.991\n",
            "  moist 1.442\n",
            "  odd 1.454\n",
            "  impossible 1.475\n",
            "  bars 1.540\n",
            "jelly 351\n",
            "  twist 1.072\n",
            "  cardboard 1.161\n",
            "  advertised 1.277\n",
            "  sold 1.440\n",
            "  plum 1.461\n",
            "dog 925\n",
            "  happier 1.584\n",
            "  foods 1.621\n",
            "  earlier 1.639\n",
            "  stays 1.657\n",
            "  standard 1.669\n",
            "the 36\n",
            "  <unk> 1.453\n",
            "  and 1.513\n",
            "  . 1.540\n",
            "  of 1.564\n",
            "  is 1.573\n",
            "3 289\n",
            "  nutty 1.671\n",
            "  supermarket 1.679\n",
            "  omega 1.703\n",
            "  gave 1.704\n",
            "  beat 1.723\n",
            "\n",
            "\n",
            "Rep size:  500\n",
            "[[ 0.10305843 -0.02823013  0.0005387  ...  0.01487587 -0.01197489\n",
            "  -0.00109427]\n",
            " [ 0.06121867 -0.00787906  0.13199975 ... -0.04659152  0.01728561\n",
            "   0.0219796 ]\n",
            " [ 0.07905045 -0.00272372  0.09267989 ...  0.02149118 -0.02341821\n",
            "  -0.0146258 ]\n",
            " ...\n",
            " [ 0.00502214  0.00256818 -0.00766008 ... -0.02089245  0.01012848\n",
            "   0.0330142 ]\n",
            " [ 0.00553081 -0.00273609  0.00441299 ...  0.00816958  0.00122961\n",
            "   0.01043345]\n",
            " [ 0.02840451 -0.09642188 -0.00128551 ...  0.00424452 -0.00944659\n",
            "   0.00655688]]\n",
            "good 47\n",
            "  crazy 1.710\n",
            "  tasting 1.747\n",
            "  beat 1.763\n",
            "  gerber 1.776\n",
            "  suspect 1.794\n",
            "bad 201\n",
            "  disgusting 1.650\n",
            "  awful 1.677\n",
            "  positive 1.697\n",
            "  dont 1.716\n",
            "  craving 1.720\n",
            "cookie 504\n",
            "  nana's 1.096\n",
            "  moist 1.386\n",
            "  needs 1.467\n",
            "  impossible 1.485\n",
            "  odd 1.504\n",
            "jelly 351\n",
            "  twist 1.192\n",
            "  cardboard 1.289\n",
            "  plum 1.411\n",
            "  sold 1.422\n",
            "  advertised 1.468\n",
            "dog 925\n",
            "  happier 1.643\n",
            "  earlier 1.655\n",
            "  foods 1.694\n",
            "  stays 1.704\n",
            "  standard 1.711\n",
            "the 36\n",
            "  <unk> 1.476\n",
            "  . 1.552\n",
            "  of 1.594\n",
            "  and 1.603\n",
            "  is 1.604\n",
            "3 289\n",
            "  supermarket 1.698\n",
            "  pricing 1.723\n",
            "  omega 1.724\n",
            "  closer 1.724\n",
            "  8 1.731\n",
            "\n",
            "\n",
            "Rep size:  550\n",
            "[[ 0.10305843 -0.02823013  0.0005387  ...  0.02150104 -0.01661337\n",
            "  -0.01042004]\n",
            " [ 0.06121867 -0.00787906  0.13199975 ...  0.03241021  0.00726058\n",
            "   0.02348584]\n",
            " [ 0.07905045 -0.00272372  0.09267989 ... -0.04097295 -0.00053014\n",
            "   0.00277065]\n",
            " ...\n",
            " [ 0.00502214  0.00256818 -0.00766008 ...  0.00993599 -0.01672464\n",
            "   0.0062669 ]\n",
            " [ 0.00553081 -0.00273609  0.00441299 ...  0.00271746  0.00403524\n",
            "  -0.01374616]\n",
            " [ 0.02840451 -0.09642188 -0.00128551 ...  0.00407707  0.02060135\n",
            "   0.00559588]]\n",
            "good 47\n",
            "  crazy 1.704\n",
            "  gerber 1.767\n",
            "  luck 1.793\n",
            "  beat 1.799\n",
            "  pretty 1.805\n",
            "bad 201\n",
            "  disgusting 1.640\n",
            "  awful 1.728\n",
            "  unhealthy 1.745\n",
            "  dont 1.748\n",
            "  craving 1.750\n",
            "cookie 504\n",
            "  nana's 1.106\n",
            "  moist 1.427\n",
            "  impossible 1.446\n",
            "  odd 1.513\n",
            "  needs 1.558\n",
            "jelly 351\n",
            "  twist 1.178\n",
            "  cardboard 1.332\n",
            "  plum 1.455\n",
            "  softer 1.457\n",
            "  sold 1.481\n",
            "dog 925\n",
            "  happier 1.646\n",
            "  earlier 1.695\n",
            "  standard 1.713\n",
            "  foods 1.718\n",
            "  balance 1.728\n",
            "the 36\n",
            "  <unk> 1.494\n",
            "  and 1.573\n",
            "  is 1.598\n",
            "  . 1.602\n",
            "  of 1.631\n",
            "3 289\n",
            "  supermarket 1.704\n",
            "  facts 1.723\n",
            "  omega 1.727\n",
            "  beat 1.736\n",
            "  8 1.738\n",
            "\n",
            "\n",
            "Rep size:  600\n",
            "[[ 0.10305843 -0.02823013  0.0005387  ... -0.02654715  0.00026324\n",
            "   0.00709621]\n",
            " [ 0.06121867 -0.00787906  0.13199975 ... -0.00433665  0.02135317\n",
            "   0.04018007]\n",
            " [ 0.07905045 -0.00272372  0.09267989 ... -0.03122607  0.01938276\n",
            "  -0.03615074]\n",
            " ...\n",
            " [ 0.00502214  0.00256818 -0.00766008 ...  0.0123808  -0.01149535\n",
            "  -0.00820167]\n",
            " [ 0.00553081 -0.00273609  0.00441299 ... -0.00895926 -0.00237419\n",
            "  -0.00297681]\n",
            " [ 0.02840451 -0.09642188 -0.00128551 ... -0.00973482 -0.00799293\n",
            "  -0.00472546]]\n",
            "good 47\n",
            "  crazy 1.722\n",
            "  gerber 1.766\n",
            "  beat 1.783\n",
            "  frozen 1.825\n",
            "  allowed 1.826\n",
            "bad 201\n",
            "  disgusting 1.691\n",
            "  awful 1.733\n",
            "  craving 1.767\n",
            "  dont 1.769\n",
            "  tender 1.776\n",
            "cookie 504\n",
            "  nana's 1.150\n",
            "  moist 1.434\n",
            "  impossible 1.558\n",
            "  needs 1.564\n",
            "  odd 1.576\n",
            "jelly 351\n",
            "  twist 1.257\n",
            "  cardboard 1.325\n",
            "  softer 1.427\n",
            "  plum 1.447\n",
            "  supermarket 1.544\n",
            "dog 925\n",
            "  happier 1.677\n",
            "  earlier 1.711\n",
            "  eats 1.751\n",
            "  standard 1.753\n",
            "  foods 1.761\n",
            "the 36\n",
            "  <unk> 1.536\n",
            "  is 1.581\n",
            "  and 1.622\n",
            "  of 1.625\n",
            "  . 1.668\n",
            "3 289\n",
            "  nutty 1.737\n",
            "  omega 1.751\n",
            "  8 1.753\n",
            "  supermarket 1.755\n",
            "  kinda 1.762\n",
            "\n",
            "\n",
            "Rep size:  650\n",
            "[[ 0.10305843 -0.02823013  0.0005387  ...  0.01058778  0.01276519\n",
            "  -0.01670277]\n",
            " [ 0.06121867 -0.00787906  0.13199975 ... -0.02276083 -0.0006471\n",
            "   0.01977584]\n",
            " [ 0.07905045 -0.00272372  0.09267989 ...  0.02991381  0.01666185\n",
            "  -0.02982522]\n",
            " ...\n",
            " [ 0.00502214  0.00256818 -0.00766008 ...  0.02403082  0.05474435\n",
            "  -0.00417265]\n",
            " [ 0.00553081 -0.00273609  0.00441299 ... -0.01671096  0.02744081\n",
            "  -0.00364118]\n",
            " [ 0.02840451 -0.09642188 -0.00128551 ...  0.0125637  -0.00655859\n",
            "   0.01424134]]\n",
            "good 47\n",
            "  crazy 1.731\n",
            "  gerber 1.779\n",
            "  a 1.817\n",
            "  beat 1.826\n",
            "  frozen 1.841\n",
            "bad 201\n",
            "  disgusting 1.673\n",
            "  awful 1.770\n",
            "  horrible 1.784\n",
            "  dont 1.788\n",
            "  positive 1.793\n",
            "cookie 504\n",
            "  nana's 1.216\n",
            "  moist 1.457\n",
            "  impossible 1.520\n",
            "  odd 1.555\n",
            "  needs 1.579\n",
            "jelly 351\n",
            "  twist 1.252\n",
            "  cardboard 1.413\n",
            "  softer 1.431\n",
            "  plum 1.507\n",
            "  supermarket 1.544\n",
            "dog 925\n",
            "  happier 1.719\n",
            "  earlier 1.745\n",
            "  standard 1.751\n",
            "  owner 1.776\n",
            "  eats 1.787\n",
            "the 36\n",
            "  <unk> 1.537\n",
            "  is 1.608\n",
            "  of 1.609\n",
            "  . 1.664\n",
            "  and 1.710\n",
            "3 289\n",
            "  omega 1.759\n",
            "  8 1.773\n",
            "  nutty 1.775\n",
            "  supermarket 1.794\n",
            "  pricing 1.799\n",
            "\n",
            "\n",
            "Rep size:  700\n",
            "[[ 0.10305843 -0.02823013  0.0005387  ... -0.00085339  0.0162193\n",
            "  -0.0169698 ]\n",
            " [ 0.06121867 -0.00787906  0.13199975 ...  0.00975547 -0.03908799\n",
            "   0.00802719]\n",
            " [ 0.07905045 -0.00272372  0.09267989 ...  0.01332333  0.02435628\n",
            "  -0.0319797 ]\n",
            " ...\n",
            " [ 0.00502214  0.00256818 -0.00766008 ...  0.04544155 -0.01930857\n",
            "  -0.02102693]\n",
            " [ 0.00553081 -0.00273609  0.00441299 ... -0.00401722  0.00890645\n",
            "   0.01476756]\n",
            " [ 0.02840451 -0.09642188 -0.00128551 ... -0.021549    0.0186103\n",
            "   0.01402046]]\n",
            "good 47\n",
            "  gerber 1.773\n",
            "  crazy 1.790\n",
            "  frozen 1.840\n",
            "  luck 1.840\n",
            "  beat 1.845\n",
            "bad 201\n",
            "  disgusting 1.665\n",
            "  craving 1.785\n",
            "  positive 1.809\n",
            "  looks 1.811\n",
            "  unhealthy 1.815\n",
            "cookie 504\n",
            "  nana's 1.235\n",
            "  moist 1.496\n",
            "  impossible 1.554\n",
            "  odd 1.591\n",
            "  wants 1.605\n",
            "jelly 351\n",
            "  twist 1.354\n",
            "  softer 1.408\n",
            "  supermarket 1.477\n",
            "  plum 1.492\n",
            "  cardboard 1.505\n",
            "dog 925\n",
            "  happier 1.734\n",
            "  earlier 1.748\n",
            "  eats 1.767\n",
            "  owner 1.774\n",
            "  standard 1.777\n",
            "the 36\n",
            "  <unk> 1.542\n",
            "  is 1.599\n",
            "  of 1.631\n",
            "  and 1.691\n",
            "  . 1.700\n",
            "3 289\n",
            "  omega 1.777\n",
            "  nutty 1.798\n",
            "  8 1.800\n",
            "  vendor 1.803\n",
            "  closer 1.820\n"
          ]
        }
      ],
      "source": [
        "#2.b.ii\n",
        "for i in range(50, 750, 50):\n",
        "  print('\\n\\nRep size: ', i)\n",
        "  reps_tfidf = learn_reps_lsa(tfidf_matrix, i)\n",
        "  lab_util.show_similar_words(vectorizer.tokenizer, reps_tfidf, show_tokens)"
      ]
    },
    {
      "cell_type": "code",
      "execution_count": 61,
      "metadata": {
        "colab": {
          "base_uri": "https://localhost:8080/"
        },
        "id": "ds73OwOanzye",
        "outputId": "e9781502-c417-4543-a919-a24c6a85bac4"
      },
      "outputs": [
        {
          "name": "stdout",
          "output_type": "stream",
          "text": [
            "\n",
            "\n",
            "Embedding dim:  250\n"
          ]
        },
        {
          "name": "stderr",
          "output_type": "stream",
          "text": [
            " 10%|█         | 1/10 [00:01<00:16,  1.86s/it]"
          ]
        },
        {
          "name": "stdout",
          "output_type": "stream",
          "text": [
            "1508.0083899497986\n"
          ]
        },
        {
          "name": "stderr",
          "output_type": "stream",
          "text": [
            "\r 20%|██        | 2/10 [00:03<00:15,  1.94s/it]"
          ]
        },
        {
          "name": "stdout",
          "output_type": "stream",
          "text": [
            "1312.8266158103943\n"
          ]
        },
        {
          "name": "stderr",
          "output_type": "stream",
          "text": [
            "\r 30%|███       | 3/10 [00:05<00:13,  1.89s/it]"
          ]
        },
        {
          "name": "stdout",
          "output_type": "stream",
          "text": [
            "1247.732234954834\n"
          ]
        },
        {
          "name": "stderr",
          "output_type": "stream",
          "text": [
            "\r 40%|████      | 4/10 [00:07<00:11,  1.87s/it]"
          ]
        },
        {
          "name": "stdout",
          "output_type": "stream",
          "text": [
            "1206.6990871429443\n"
          ]
        },
        {
          "name": "stderr",
          "output_type": "stream",
          "text": [
            "\r 50%|█████     | 5/10 [00:09<00:09,  1.94s/it]"
          ]
        },
        {
          "name": "stdout",
          "output_type": "stream",
          "text": [
            "1177.0539646148682\n"
          ]
        },
        {
          "name": "stderr",
          "output_type": "stream",
          "text": [
            "\r 60%|██████    | 6/10 [00:12<00:08,  2.16s/it]"
          ]
        },
        {
          "name": "stdout",
          "output_type": "stream",
          "text": [
            "1154.2899804115295\n"
          ]
        },
        {
          "name": "stderr",
          "output_type": "stream",
          "text": [
            "\r 70%|███████   | 7/10 [00:14<00:06,  2.06s/it]"
          ]
        },
        {
          "name": "stdout",
          "output_type": "stream",
          "text": [
            "1136.437072277069\n"
          ]
        },
        {
          "name": "stderr",
          "output_type": "stream",
          "text": [
            "\r 80%|████████  | 8/10 [00:16<00:04,  2.05s/it]"
          ]
        },
        {
          "name": "stdout",
          "output_type": "stream",
          "text": [
            "1121.311355829239\n"
          ]
        },
        {
          "name": "stderr",
          "output_type": "stream",
          "text": [
            "\r 90%|█████████ | 9/10 [00:17<00:01,  2.00s/it]"
          ]
        },
        {
          "name": "stdout",
          "output_type": "stream",
          "text": [
            "1108.7339057922363\n"
          ]
        },
        {
          "name": "stderr",
          "output_type": "stream",
          "text": [
            "100%|██████████| 10/10 [00:19<00:00,  1.99s/it]"
          ]
        },
        {
          "name": "stdout",
          "output_type": "stream",
          "text": [
            "1097.9931635856628\n",
            "good 47\n",
            "  asian 1.578\n",
            "  nasty 1.586\n",
            "  cold 1.594\n",
            "  turned 1.615\n",
            "  eat 1.625\n",
            "bad 201\n",
            "  sold 1.556\n",
            "  normally 1.600\n",
            "  stores 1.616\n",
            "  picture 1.617\n",
            "  palatable 1.624\n",
            "cookie 504\n",
            "  usual 1.608\n",
            "  note 1.633\n",
            "  admit 1.655\n",
            "  may 1.655\n",
            "  spread 1.660\n",
            "jelly 351\n",
            "  stevia 1.566\n",
            "  vitamins 1.585\n",
            "  acidic 1.595\n",
            "  minute 1.616\n",
            "  powder 1.626\n",
            "dog 925\n",
            "  his 1.514\n",
            "  powdered 1.555\n",
            "  size 1.556\n",
            "  eater 1.561\n",
            "  gummy 1.575\n",
            "the 36\n",
            "  chinese 1.580\n",
            "  multiple 1.604\n",
            "  required 1.649\n",
            "  cause 1.651\n",
            "  save 1.653\n",
            "3 289\n",
            "  expensive 1.545\n",
            "  minutes 1.555\n",
            "  nut 1.568\n",
            "  plan 1.633\n",
            "  you'll 1.635\n",
            "\n",
            "\n",
            "Embedding dim:  500\n"
          ]
        },
        {
          "name": "stderr",
          "output_type": "stream",
          "text": [
            "\n",
            " 10%|█         | 1/10 [00:02<00:22,  2.55s/it]"
          ]
        },
        {
          "name": "stdout",
          "output_type": "stream",
          "text": [
            "1467.7590293884277\n"
          ]
        },
        {
          "name": "stderr",
          "output_type": "stream",
          "text": [
            "\r 20%|██        | 2/10 [00:04<00:17,  2.18s/it]"
          ]
        },
        {
          "name": "stdout",
          "output_type": "stream",
          "text": [
            "1275.3127851486206\n"
          ]
        },
        {
          "name": "stderr",
          "output_type": "stream",
          "text": [
            "\r 30%|███       | 3/10 [00:06<00:14,  2.12s/it]"
          ]
        },
        {
          "name": "stdout",
          "output_type": "stream",
          "text": [
            "1210.6571321487427\n"
          ]
        },
        {
          "name": "stderr",
          "output_type": "stream",
          "text": [
            "\r 40%|████      | 4/10 [00:08<00:12,  2.04s/it]"
          ]
        },
        {
          "name": "stdout",
          "output_type": "stream",
          "text": [
            "1170.821050643921\n"
          ]
        },
        {
          "name": "stderr",
          "output_type": "stream",
          "text": [
            "\r 50%|█████     | 5/10 [00:10<00:09,  1.99s/it]"
          ]
        },
        {
          "name": "stdout",
          "output_type": "stream",
          "text": [
            "1142.3300304412842\n"
          ]
        },
        {
          "name": "stderr",
          "output_type": "stream",
          "text": [
            "\r 60%|██████    | 6/10 [00:12<00:08,  2.02s/it]"
          ]
        },
        {
          "name": "stdout",
          "output_type": "stream",
          "text": [
            "1120.927475452423\n"
          ]
        },
        {
          "name": "stderr",
          "output_type": "stream",
          "text": [
            "\r 70%|███████   | 7/10 [00:14<00:06,  2.20s/it]"
          ]
        },
        {
          "name": "stdout",
          "output_type": "stream",
          "text": [
            "1103.7607293128967\n"
          ]
        },
        {
          "name": "stderr",
          "output_type": "stream",
          "text": [
            "\r 80%|████████  | 8/10 [00:16<00:04,  2.10s/it]"
          ]
        },
        {
          "name": "stdout",
          "output_type": "stream",
          "text": [
            "1089.8386764526367\n"
          ]
        },
        {
          "name": "stderr",
          "output_type": "stream",
          "text": [
            "\r 90%|█████████ | 9/10 [00:18<00:02,  2.08s/it]"
          ]
        },
        {
          "name": "stdout",
          "output_type": "stream",
          "text": [
            "1077.990731716156\n"
          ]
        },
        {
          "name": "stderr",
          "output_type": "stream",
          "text": [
            "100%|██████████| 10/10 [00:20<00:00,  2.08s/it]"
          ]
        },
        {
          "name": "stdout",
          "output_type": "stream",
          "text": [
            "1068.3594784736633\n",
            "good 47\n",
            "  oily 1.652\n",
            "  apple 1.687\n",
            "  creamy 1.723\n",
            "  fast 1.727\n",
            "  double 1.727\n",
            "bad 201\n",
            "  weak 1.655\n",
            "  short 1.726\n",
            "  awesome 1.745\n",
            "  per 1.747\n",
            "  carbohydrate 1.747\n",
            "cookie 504\n",
            "  costa 1.671\n",
            "  layer 1.705\n",
            "  lb 1.709\n",
            "  nutrients 1.718\n",
            "  cups 1.728\n",
            "jelly 351\n",
            "  sparkling 1.713\n",
            "  frozen 1.717\n",
            "  my 1.717\n",
            "  base 1.730\n",
            "  teeth 1.737\n",
            "dog 925\n",
            "  wife 1.722\n",
            "  ground 1.738\n",
            "  black 1.749\n",
            "  european 1.750\n",
            "  appeal 1.771\n",
            "the 36\n",
            "  filled 1.700\n",
            "  others 1.717\n",
            "  sitting 1.718\n",
            "  putting 1.731\n",
            "  those 1.744\n",
            "3 289\n",
            "  somewhat 1.701\n",
            "  shame 1.713\n",
            "  count 1.754\n",
            "  told 1.756\n",
            "  golden 1.757\n",
            "\n",
            "\n",
            "Embedding dim:  750\n"
          ]
        },
        {
          "name": "stderr",
          "output_type": "stream",
          "text": [
            "\n",
            " 10%|█         | 1/10 [00:02<00:18,  2.09s/it]"
          ]
        },
        {
          "name": "stdout",
          "output_type": "stream",
          "text": [
            "1440.2207398414612\n"
          ]
        },
        {
          "name": "stderr",
          "output_type": "stream",
          "text": [
            "\r 20%|██        | 2/10 [00:04<00:19,  2.50s/it]"
          ]
        },
        {
          "name": "stdout",
          "output_type": "stream",
          "text": [
            "1256.1181287765503\n"
          ]
        },
        {
          "name": "stderr",
          "output_type": "stream",
          "text": [
            "\r 30%|███       | 3/10 [00:06<00:15,  2.28s/it]"
          ]
        },
        {
          "name": "stdout",
          "output_type": "stream",
          "text": [
            "1193.343508720398\n"
          ]
        },
        {
          "name": "stderr",
          "output_type": "stream",
          "text": [
            "\r 40%|████      | 4/10 [00:09<00:13,  2.22s/it]"
          ]
        },
        {
          "name": "stdout",
          "output_type": "stream",
          "text": [
            "1154.508134841919\n"
          ]
        },
        {
          "name": "stderr",
          "output_type": "stream",
          "text": [
            "\r 50%|█████     | 5/10 [00:11<00:10,  2.15s/it]"
          ]
        },
        {
          "name": "stdout",
          "output_type": "stream",
          "text": [
            "1126.5729880332947\n"
          ]
        },
        {
          "name": "stderr",
          "output_type": "stream",
          "text": [
            "\r 60%|██████    | 6/10 [00:13<00:08,  2.10s/it]"
          ]
        },
        {
          "name": "stdout",
          "output_type": "stream",
          "text": [
            "1106.0195984840393\n"
          ]
        },
        {
          "name": "stderr",
          "output_type": "stream",
          "text": [
            "\r 70%|███████   | 7/10 [00:15<00:06,  2.21s/it]"
          ]
        },
        {
          "name": "stdout",
          "output_type": "stream",
          "text": [
            "1089.7424020767212\n"
          ]
        },
        {
          "name": "stderr",
          "output_type": "stream",
          "text": [
            "\r 80%|████████  | 8/10 [00:17<00:04,  2.25s/it]"
          ]
        },
        {
          "name": "stdout",
          "output_type": "stream",
          "text": [
            "1076.5188925266266\n"
          ]
        },
        {
          "name": "stderr",
          "output_type": "stream",
          "text": [
            "\r 90%|█████████ | 9/10 [00:19<00:02,  2.17s/it]"
          ]
        },
        {
          "name": "stdout",
          "output_type": "stream",
          "text": [
            "1065.2196989059448\n"
          ]
        },
        {
          "name": "stderr",
          "output_type": "stream",
          "text": [
            "100%|██████████| 10/10 [00:21<00:00,  2.20s/it]"
          ]
        },
        {
          "name": "stdout",
          "output_type": "stream",
          "text": [
            "1055.8968069553375\n",
            "good 47\n",
            "  offered 1.765\n",
            "  powder 1.771\n",
            "  six 1.777\n",
            "  marketing 1.781\n",
            "  shown 1.782\n",
            "bad 201\n",
            "  center 1.737\n",
            "  learn 1.778\n",
            "  buds 1.779\n",
            "  puppy 1.793\n",
            "  buffalo 1.807\n",
            "cookie 504\n",
            "  odd 1.764\n",
            "  nana's 1.770\n",
            "  liquid 1.786\n",
            "  saw 1.793\n",
            "  lighter 1.798\n",
            "jelly 351\n",
            "  16 1.765\n",
            "  above 1.774\n",
            "  blue 1.778\n",
            "  formula 1.781\n",
            "  enjoyed 1.788\n",
            "dog 925\n",
            "  scent 1.751\n",
            "  diet 1.758\n",
            "  wait 1.763\n",
            "  meant 1.788\n",
            "  bowl 1.789\n",
            "the 36\n",
            "  soaked 1.744\n",
            "  grown 1.781\n",
            "  clear 1.785\n",
            "  each 1.788\n",
            "  say 1.788\n",
            "3 289\n",
            "  extra 1.722\n",
            "  grind 1.744\n",
            "  watermelon 1.758\n",
            "  pot 1.764\n",
            "  delicious 1.764\n",
            "\n",
            "\n",
            "Embedding dim:  1000\n"
          ]
        },
        {
          "name": "stderr",
          "output_type": "stream",
          "text": [
            "\n",
            " 10%|█         | 1/10 [00:02<00:18,  2.09s/it]"
          ]
        },
        {
          "name": "stdout",
          "output_type": "stream",
          "text": [
            "1426.6671967506409\n"
          ]
        },
        {
          "name": "stderr",
          "output_type": "stream",
          "text": [
            "\r 20%|██        | 2/10 [00:04<00:18,  2.26s/it]"
          ]
        },
        {
          "name": "stdout",
          "output_type": "stream",
          "text": [
            "1243.5307831764221\n"
          ]
        },
        {
          "name": "stderr",
          "output_type": "stream",
          "text": [
            "\r 30%|███       | 3/10 [00:06<00:16,  2.36s/it]"
          ]
        },
        {
          "name": "stdout",
          "output_type": "stream",
          "text": [
            "1181.8194589614868\n"
          ]
        },
        {
          "name": "stderr",
          "output_type": "stream",
          "text": [
            "\r 40%|████      | 4/10 [00:09<00:13,  2.29s/it]"
          ]
        },
        {
          "name": "stdout",
          "output_type": "stream",
          "text": [
            "1144.436351299286\n"
          ]
        },
        {
          "name": "stderr",
          "output_type": "stream",
          "text": [
            "\r 50%|█████     | 5/10 [00:11<00:11,  2.25s/it]"
          ]
        },
        {
          "name": "stdout",
          "output_type": "stream",
          "text": [
            "1117.2494359016418\n"
          ]
        },
        {
          "name": "stderr",
          "output_type": "stream",
          "text": [
            "\r 60%|██████    | 6/10 [00:13<00:08,  2.18s/it]"
          ]
        },
        {
          "name": "stdout",
          "output_type": "stream",
          "text": [
            "1097.4041471481323\n"
          ]
        },
        {
          "name": "stderr",
          "output_type": "stream",
          "text": [
            "\r 70%|███████   | 7/10 [00:15<00:06,  2.12s/it]"
          ]
        },
        {
          "name": "stdout",
          "output_type": "stream",
          "text": [
            "1081.8881475925446\n"
          ]
        },
        {
          "name": "stderr",
          "output_type": "stream",
          "text": [
            "\r 80%|████████  | 8/10 [00:18<00:04,  2.34s/it]"
          ]
        },
        {
          "name": "stdout",
          "output_type": "stream",
          "text": [
            "1069.0980672836304\n"
          ]
        },
        {
          "name": "stderr",
          "output_type": "stream",
          "text": [
            "\r 90%|█████████ | 9/10 [00:20<00:02,  2.25s/it]"
          ]
        },
        {
          "name": "stdout",
          "output_type": "stream",
          "text": [
            "1058.5311274528503\n"
          ]
        },
        {
          "name": "stderr",
          "output_type": "stream",
          "text": [
            "100%|██████████| 10/10 [00:22<00:00,  2.22s/it]"
          ]
        },
        {
          "name": "stdout",
          "output_type": "stream",
          "text": [
            "1049.7649524211884\n",
            "good 47\n",
            "  labeled 1.772\n",
            "  wonder 1.775\n",
            "  ahead 1.795\n",
            "  runny 1.797\n",
            "  within 1.818\n",
            "bad 201\n",
            "  club 1.784\n",
            "  addition 1.801\n",
            "  although 1.813\n",
            "  tend 1.816\n",
            "  consistent 1.819\n",
            "cookie 504\n",
            "  puck 1.689\n",
            "  many 1.765\n",
            "  lot 1.800\n",
            "  bit 1.814\n",
            "  helped 1.817\n",
            "jelly 351\n",
            "  babies 1.778\n",
            "  twice 1.806\n",
            "  cereal 1.808\n",
            "  bite 1.810\n",
            "  aroma 1.812\n",
            "dog 925\n",
            "  bpa 1.802\n",
            "  gives 1.807\n",
            "  jar 1.814\n",
            "  issue 1.814\n",
            "  longer 1.828\n",
            "the 36\n",
            "  aren't 1.792\n",
            "  plum 1.793\n",
            "  betty 1.798\n",
            "  higher 1.809\n",
            "  talking 1.813\n",
            "3 289\n",
            "  pringles 1.748\n",
            "  two 1.779\n",
            "  arrive 1.786\n",
            "  top 1.810\n",
            "  softer 1.814\n",
            "\n",
            "\n",
            "Embedding dim:  1250\n"
          ]
        },
        {
          "name": "stderr",
          "output_type": "stream",
          "text": [
            "\n",
            " 10%|█         | 1/10 [00:02<00:20,  2.26s/it]"
          ]
        },
        {
          "name": "stdout",
          "output_type": "stream",
          "text": [
            "1418.1362733840942\n"
          ]
        },
        {
          "name": "stderr",
          "output_type": "stream",
          "text": [
            "\r 20%|██        | 2/10 [00:04<00:17,  2.21s/it]"
          ]
        },
        {
          "name": "stdout",
          "output_type": "stream",
          "text": [
            "1237.7482113838196\n"
          ]
        },
        {
          "name": "stderr",
          "output_type": "stream",
          "text": [
            "\r 30%|███       | 3/10 [00:07<00:16,  2.40s/it]"
          ]
        },
        {
          "name": "stdout",
          "output_type": "stream",
          "text": [
            "1176.7267670631409\n"
          ]
        },
        {
          "name": "stderr",
          "output_type": "stream",
          "text": [
            "\r 40%|████      | 4/10 [00:09<00:14,  2.35s/it]"
          ]
        },
        {
          "name": "stdout",
          "output_type": "stream",
          "text": [
            "1138.8843426704407\n"
          ]
        },
        {
          "name": "stderr",
          "output_type": "stream",
          "text": [
            "\r 50%|█████     | 5/10 [00:11<00:11,  2.25s/it]"
          ]
        },
        {
          "name": "stdout",
          "output_type": "stream",
          "text": [
            "1112.946699142456\n"
          ]
        },
        {
          "name": "stderr",
          "output_type": "stream",
          "text": [
            "\r 60%|██████    | 6/10 [00:13<00:08,  2.18s/it]"
          ]
        },
        {
          "name": "stdout",
          "output_type": "stream",
          "text": [
            "1093.0640342235565\n"
          ]
        },
        {
          "name": "stderr",
          "output_type": "stream",
          "text": [
            "\r 70%|███████   | 7/10 [00:15<00:06,  2.22s/it]"
          ]
        },
        {
          "name": "stdout",
          "output_type": "stream",
          "text": [
            "1078.1622805595398\n"
          ]
        },
        {
          "name": "stderr",
          "output_type": "stream",
          "text": [
            "\r 80%|████████  | 8/10 [00:18<00:04,  2.38s/it]"
          ]
        },
        {
          "name": "stdout",
          "output_type": "stream",
          "text": [
            "1065.6971390247345\n"
          ]
        },
        {
          "name": "stderr",
          "output_type": "stream",
          "text": [
            "\r 90%|█████████ | 9/10 [00:20<00:02,  2.33s/it]"
          ]
        },
        {
          "name": "stdout",
          "output_type": "stream",
          "text": [
            "1055.4589149951935\n"
          ]
        },
        {
          "name": "stderr",
          "output_type": "stream",
          "text": [
            "100%|██████████| 10/10 [00:22<00:00,  2.28s/it]"
          ]
        },
        {
          "name": "stdout",
          "output_type": "stream",
          "text": [
            "1047.4081408977509\n",
            "good 47\n",
            "  organic 1.762\n",
            "  contain 1.772\n",
            "  difficult 1.808\n",
            "  surprised 1.839\n",
            "  roll 1.843\n",
            "bad 201\n",
            "  receiving 1.811\n",
            "  in 1.824\n",
            "  somewhat 1.826\n",
            "  tight 1.830\n",
            "  greatest 1.833\n",
            "cookie 504\n",
            "  cane 1.798\n",
            "  mixes 1.807\n",
            "  pasta 1.816\n",
            "  water 1.820\n",
            "  hole 1.821\n",
            "jelly 351\n",
            "  chewy 1.812\n",
            "  apples 1.824\n",
            "  sold 1.836\n",
            "  15 1.837\n",
            "  true 1.843\n",
            "dog 925\n",
            "  chew 1.818\n",
            "  several 1.840\n",
            "  them 1.844\n",
            "  post 1.844\n",
            "  flavors 1.847\n",
            "the 36\n",
            "  take 1.830\n",
            "  human 1.830\n",
            "  target 1.831\n",
            "  not 1.832\n",
            "  out 1.835\n",
            "3 289\n",
            "  several 1.813\n",
            "  recently 1.827\n",
            "  vomiting 1.829\n",
            "  sodium 1.832\n",
            "  sample 1.834\n",
            "\n",
            "\n",
            "Embedding dim:  1500\n"
          ]
        },
        {
          "name": "stderr",
          "output_type": "stream",
          "text": [
            "\n",
            " 10%|█         | 1/10 [00:02<00:19,  2.17s/it]"
          ]
        },
        {
          "name": "stdout",
          "output_type": "stream",
          "text": [
            "1410.7907824516296\n"
          ]
        },
        {
          "name": "stderr",
          "output_type": "stream",
          "text": [
            "\r 20%|██        | 2/10 [00:04<00:17,  2.23s/it]"
          ]
        },
        {
          "name": "stdout",
          "output_type": "stream",
          "text": [
            "1230.3131198883057\n"
          ]
        },
        {
          "name": "stderr",
          "output_type": "stream",
          "text": [
            "\r 30%|███       | 3/10 [00:07<00:17,  2.44s/it]"
          ]
        },
        {
          "name": "stdout",
          "output_type": "stream",
          "text": [
            "1170.9900155067444\n"
          ]
        },
        {
          "name": "stderr",
          "output_type": "stream",
          "text": [
            "\r 40%|████      | 4/10 [00:09<00:13,  2.30s/it]"
          ]
        },
        {
          "name": "stdout",
          "output_type": "stream",
          "text": [
            "1133.9276022911072\n"
          ]
        },
        {
          "name": "stderr",
          "output_type": "stream",
          "text": [
            "\r 50%|█████     | 5/10 [00:11<00:11,  2.27s/it]"
          ]
        },
        {
          "name": "stdout",
          "output_type": "stream",
          "text": [
            "1108.9353392124176\n"
          ]
        },
        {
          "name": "stderr",
          "output_type": "stream",
          "text": [
            "\r 60%|██████    | 6/10 [00:13<00:08,  2.20s/it]"
          ]
        },
        {
          "name": "stdout",
          "output_type": "stream",
          "text": [
            "1089.8933634757996\n"
          ]
        },
        {
          "name": "stderr",
          "output_type": "stream",
          "text": [
            "\r 70%|███████   | 7/10 [00:15<00:06,  2.16s/it]"
          ]
        },
        {
          "name": "stdout",
          "output_type": "stream",
          "text": [
            "1075.1586077213287\n"
          ]
        },
        {
          "name": "stderr",
          "output_type": "stream",
          "text": [
            "\r 80%|████████  | 8/10 [00:18<00:04,  2.34s/it]"
          ]
        },
        {
          "name": "stdout",
          "output_type": "stream",
          "text": [
            "1063.563461780548\n"
          ]
        },
        {
          "name": "stderr",
          "output_type": "stream",
          "text": [
            "\r 90%|█████████ | 9/10 [00:20<00:02,  2.30s/it]"
          ]
        },
        {
          "name": "stdout",
          "output_type": "stream",
          "text": [
            "1054.0312070846558\n"
          ]
        },
        {
          "name": "stderr",
          "output_type": "stream",
          "text": [
            "100%|██████████| 10/10 [00:22<00:00,  2.26s/it]"
          ]
        },
        {
          "name": "stdout",
          "output_type": "stream",
          "text": [
            "1045.0769634246826\n",
            "good 47\n",
            "  picked 1.826\n",
            "  range 1.828\n",
            "  rancid 1.847\n",
            "  sauces 1.853\n",
            "  son 1.858\n",
            "bad 201\n",
            "  bacon 1.824\n",
            "  could 1.826\n",
            "  greasy 1.829\n",
            "  solid 1.843\n",
            "  concentrated 1.847\n",
            "cookie 504\n",
            "  salsa 1.803\n",
            "  dishes 1.815\n",
            "  granted 1.828\n",
            "  suspect 1.832\n",
            "  i'd 1.838\n",
            "jelly 351\n",
            "  levels 1.836\n",
            "  lighter 1.846\n",
            "  watermelon 1.846\n",
            "  jack 1.848\n",
            "  previous 1.849\n",
            "dog 925\n",
            "  pouch 1.793\n",
            "  icicle 1.813\n",
            "  fats 1.825\n",
            "  bar 1.834\n",
            "  baby 1.840\n",
            "the 36\n",
            "  effects 1.827\n",
            "  readily 1.844\n",
            "  case 1.846\n",
            "  mint 1.848\n",
            "  shortbread 1.863\n",
            "3 289\n",
            "  costs 1.823\n",
            "  8 1.846\n",
            "  top 1.849\n",
            "  increased 1.853\n",
            "  we've 1.858\n",
            "\n",
            "\n",
            "Embedding dim:  1750\n"
          ]
        },
        {
          "name": "stderr",
          "output_type": "stream",
          "text": [
            "\n",
            " 10%|█         | 1/10 [00:02<00:19,  2.22s/it]"
          ]
        },
        {
          "name": "stdout",
          "output_type": "stream",
          "text": [
            "1405.1193146705627\n"
          ]
        },
        {
          "name": "stderr",
          "output_type": "stream",
          "text": [
            "\r 20%|██        | 2/10 [00:04<00:17,  2.21s/it]"
          ]
        },
        {
          "name": "stdout",
          "output_type": "stream",
          "text": [
            "1227.6461472511292\n"
          ]
        },
        {
          "name": "stderr",
          "output_type": "stream",
          "text": [
            "\r 30%|███       | 3/10 [00:07<00:17,  2.51s/it]"
          ]
        },
        {
          "name": "stdout",
          "output_type": "stream",
          "text": [
            "1167.973298549652\n"
          ]
        },
        {
          "name": "stderr",
          "output_type": "stream",
          "text": [
            "\r 40%|████      | 4/10 [00:09<00:14,  2.37s/it]"
          ]
        },
        {
          "name": "stdout",
          "output_type": "stream",
          "text": [
            "1132.097840309143\n"
          ]
        },
        {
          "name": "stderr",
          "output_type": "stream",
          "text": [
            "\r 50%|█████     | 5/10 [00:11<00:11,  2.29s/it]"
          ]
        },
        {
          "name": "stdout",
          "output_type": "stream",
          "text": [
            "1107.27490568161\n"
          ]
        },
        {
          "name": "stderr",
          "output_type": "stream",
          "text": [
            "\r 60%|██████    | 6/10 [00:13<00:09,  2.29s/it]"
          ]
        },
        {
          "name": "stdout",
          "output_type": "stream",
          "text": [
            "1088.6080157756805\n"
          ]
        },
        {
          "name": "stderr",
          "output_type": "stream",
          "text": [
            "\r 70%|███████   | 7/10 [00:16<00:06,  2.24s/it]"
          ]
        },
        {
          "name": "stdout",
          "output_type": "stream",
          "text": [
            "1073.794508934021\n"
          ]
        },
        {
          "name": "stderr",
          "output_type": "stream",
          "text": [
            "\r 80%|████████  | 8/10 [00:18<00:04,  2.39s/it]"
          ]
        },
        {
          "name": "stdout",
          "output_type": "stream",
          "text": [
            "1062.0091078281403\n"
          ]
        },
        {
          "name": "stderr",
          "output_type": "stream",
          "text": [
            "\r 90%|█████████ | 9/10 [00:21<00:02,  2.37s/it]"
          ]
        },
        {
          "name": "stdout",
          "output_type": "stream",
          "text": [
            "1053.196281194687\n"
          ]
        },
        {
          "name": "stderr",
          "output_type": "stream",
          "text": [
            "100%|██████████| 10/10 [00:23<00:00,  2.32s/it]"
          ]
        },
        {
          "name": "stdout",
          "output_type": "stream",
          "text": [
            "1045.0460276603699\n",
            "good 47\n",
            "  total 1.835\n",
            "  week 1.846\n",
            "  risk 1.849\n",
            "  pleasant 1.852\n",
            "  third 1.859\n",
            "bad 201\n",
            "  vegetable 1.846\n",
            "  page 1.846\n",
            "  return 1.852\n",
            "  contain 1.853\n",
            "  vitamins 1.854\n",
            "cookie 504\n",
            "  eats 1.860\n",
            "  waste 1.862\n",
            "  contents 1.862\n",
            "  receiving 1.864\n",
            "  lunches 1.869\n",
            "jelly 351\n",
            "  wrappers 1.837\n",
            "  share 1.857\n",
            "  idea 1.863\n",
            "  ever 1.864\n",
            "  hours 1.866\n",
            "dog 925\n",
            "  asian 1.836\n",
            "  service 1.840\n",
            "  looked 1.860\n",
            "  understand 1.864\n",
            "  calcium 1.865\n",
            "the 36\n",
            "  partially 1.866\n",
            "  colored 1.866\n",
            "  back 1.866\n",
            "  beer 1.866\n",
            "  feed 1.869\n",
            "3 289\n",
            "  switched 1.808\n",
            "  pudding 1.843\n",
            "  peas 1.854\n",
            "  what 1.855\n",
            "  convenient 1.859\n",
            "\n",
            "\n",
            "Embedding dim:  2000\n"
          ]
        },
        {
          "name": "stderr",
          "output_type": "stream",
          "text": [
            "\n",
            " 10%|█         | 1/10 [00:02<00:20,  2.29s/it]"
          ]
        },
        {
          "name": "stdout",
          "output_type": "stream",
          "text": [
            "1402.6304154396057\n"
          ]
        },
        {
          "name": "stderr",
          "output_type": "stream",
          "text": [
            "\r 20%|██        | 2/10 [00:04<00:19,  2.47s/it]"
          ]
        },
        {
          "name": "stdout",
          "output_type": "stream",
          "text": [
            "1226.3687734603882\n"
          ]
        },
        {
          "name": "stderr",
          "output_type": "stream",
          "text": [
            "\r 30%|███       | 3/10 [00:07<00:18,  2.59s/it]"
          ]
        },
        {
          "name": "stdout",
          "output_type": "stream",
          "text": [
            "1167.0500779151917\n"
          ]
        },
        {
          "name": "stderr",
          "output_type": "stream",
          "text": [
            "\r 40%|████      | 4/10 [00:10<00:15,  2.51s/it]"
          ]
        },
        {
          "name": "stdout",
          "output_type": "stream",
          "text": [
            "1131.0830545425415\n"
          ]
        },
        {
          "name": "stderr",
          "output_type": "stream",
          "text": [
            "\r 50%|█████     | 5/10 [00:12<00:12,  2.41s/it]"
          ]
        },
        {
          "name": "stdout",
          "output_type": "stream",
          "text": [
            "1106.1959774494171\n"
          ]
        },
        {
          "name": "stderr",
          "output_type": "stream",
          "text": [
            "\r 60%|██████    | 6/10 [00:14<00:09,  2.34s/it]"
          ]
        },
        {
          "name": "stdout",
          "output_type": "stream",
          "text": [
            "1088.2638397216797\n"
          ]
        },
        {
          "name": "stderr",
          "output_type": "stream",
          "text": [
            "\r 70%|███████   | 7/10 [00:16<00:07,  2.39s/it]"
          ]
        },
        {
          "name": "stdout",
          "output_type": "stream",
          "text": [
            "1073.9134418964386\n"
          ]
        },
        {
          "name": "stderr",
          "output_type": "stream",
          "text": [
            "\r 80%|████████  | 8/10 [00:19<00:04,  2.49s/it]"
          ]
        },
        {
          "name": "stdout",
          "output_type": "stream",
          "text": [
            "1062.5982811450958\n"
          ]
        },
        {
          "name": "stderr",
          "output_type": "stream",
          "text": [
            "\r 90%|█████████ | 9/10 [00:21<00:02,  2.41s/it]"
          ]
        },
        {
          "name": "stdout",
          "output_type": "stream",
          "text": [
            "1053.3080215454102\n"
          ]
        },
        {
          "name": "stderr",
          "output_type": "stream",
          "text": [
            "100%|██████████| 10/10 [00:24<00:00,  2.42s/it]"
          ]
        },
        {
          "name": "stdout",
          "output_type": "stream",
          "text": [
            "1045.2979388237\n",
            "good 47\n",
            "  month 1.840\n",
            "  tangerine 1.856\n",
            "  problems 1.858\n",
            "  contents 1.858\n",
            "  smell 1.859\n",
            "bad 201\n",
            "  own 1.844\n",
            "  handy 1.851\n",
            "  okay 1.864\n",
            "  toast 1.869\n",
            "  funny 1.875\n",
            "cookie 504\n",
            "  bitterness 1.854\n",
            "  otherwise 1.857\n",
            "  likely 1.859\n",
            "  tomatoes 1.861\n",
            "  shots 1.869\n",
            "jelly 351\n",
            "  raw 1.841\n",
            "  loves 1.852\n",
            "  combination 1.859\n",
            "  tasting 1.863\n",
            "  friend 1.866\n",
            "dog 925\n",
            "  he 1.841\n",
            "  label 1.867\n",
            "  merchant 1.873\n",
            "  covered 1.874\n",
            "  need 1.885\n",
            "the 36\n",
            "  80 1.830\n",
            "  oil 1.837\n",
            "  company 1.859\n",
            "  near 1.864\n",
            "  backyard 1.870\n",
            "3 289\n",
            "  blood 1.844\n",
            "  cheap 1.862\n",
            "  far 1.873\n",
            "  ingredients 1.873\n",
            "  twice 1.873\n",
            "\n",
            "\n",
            "Embedding dim:  2250\n"
          ]
        },
        {
          "name": "stderr",
          "output_type": "stream",
          "text": [
            "\n",
            " 10%|█         | 1/10 [00:02<00:21,  2.36s/it]"
          ]
        },
        {
          "name": "stdout",
          "output_type": "stream",
          "text": [
            "1400.831618309021\n"
          ]
        },
        {
          "name": "stderr",
          "output_type": "stream",
          "text": [
            "\r 20%|██        | 2/10 [00:05<00:21,  2.68s/it]"
          ]
        },
        {
          "name": "stdout",
          "output_type": "stream",
          "text": [
            "1222.5750851631165\n"
          ]
        },
        {
          "name": "stderr",
          "output_type": "stream",
          "text": [
            "\r 30%|███       | 3/10 [00:07<00:18,  2.60s/it]"
          ]
        },
        {
          "name": "stdout",
          "output_type": "stream",
          "text": [
            "1163.74449634552\n"
          ]
        },
        {
          "name": "stderr",
          "output_type": "stream",
          "text": [
            "\r 40%|████      | 4/10 [00:10<00:15,  2.51s/it]"
          ]
        },
        {
          "name": "stdout",
          "output_type": "stream",
          "text": [
            "1128.2467761039734\n"
          ]
        },
        {
          "name": "stderr",
          "output_type": "stream",
          "text": [
            "\r 50%|█████     | 5/10 [00:12<00:12,  2.50s/it]"
          ]
        },
        {
          "name": "stdout",
          "output_type": "stream",
          "text": [
            "1104.0348229408264\n"
          ]
        },
        {
          "name": "stderr",
          "output_type": "stream",
          "text": [
            "\r 60%|██████    | 6/10 [00:15<00:09,  2.50s/it]"
          ]
        },
        {
          "name": "stdout",
          "output_type": "stream",
          "text": [
            "1086.0513348579407\n"
          ]
        },
        {
          "name": "stderr",
          "output_type": "stream",
          "text": [
            "\r 70%|███████   | 7/10 [00:18<00:07,  2.64s/it]"
          ]
        },
        {
          "name": "stdout",
          "output_type": "stream",
          "text": [
            "1072.8618876934052\n"
          ]
        },
        {
          "name": "stderr",
          "output_type": "stream",
          "text": [
            "\r 80%|████████  | 8/10 [00:20<00:05,  2.61s/it]"
          ]
        },
        {
          "name": "stdout",
          "output_type": "stream",
          "text": [
            "1062.0142924785614\n"
          ]
        },
        {
          "name": "stderr",
          "output_type": "stream",
          "text": [
            "\r 90%|█████████ | 9/10 [00:22<00:02,  2.54s/it]"
          ]
        },
        {
          "name": "stdout",
          "output_type": "stream",
          "text": [
            "1052.631886959076\n"
          ]
        },
        {
          "name": "stderr",
          "output_type": "stream",
          "text": [
            "100%|██████████| 10/10 [00:25<00:00,  2.53s/it]"
          ]
        },
        {
          "name": "stdout",
          "output_type": "stream",
          "text": [
            "1045.0093257427216\n",
            "good 47\n",
            "  bitter 1.872\n",
            "  95 1.876\n",
            "  health 1.879\n",
            "  please 1.880\n",
            "  birthday 1.883\n",
            "bad 201\n",
            "  oatmeal 1.862\n",
            "  tight 1.867\n",
            "  crisp 1.869\n",
            "  convenience 1.884\n",
            "  thats 1.887\n",
            "cookie 504\n",
            "  pasta 1.852\n",
            "  rip 1.862\n",
            "  manufacturer 1.872\n",
            "  difficult 1.872\n",
            "  the 1.873\n",
            "jelly 351\n",
            "  pain 1.836\n",
            "  across 1.856\n",
            "  completely 1.864\n",
            "  8 1.867\n",
            "  decide 1.867\n",
            "dog 925\n",
            "  diet 1.865\n",
            "  yes 1.867\n",
            "  ready 1.873\n",
            "  timely 1.874\n",
            "  want 1.878\n",
            "the 36\n",
            "  unable 1.852\n",
            "  cookie 1.873\n",
            "  experienced 1.875\n",
            "  carrots 1.879\n",
            "  jalapeno 1.881\n",
            "3 289\n",
            "  california 1.819\n",
            "  worked 1.845\n",
            "  noted 1.846\n",
            "  five 1.864\n",
            "  see 1.873\n",
            "\n",
            "\n",
            "Embedding dim:  2500\n"
          ]
        },
        {
          "name": "stderr",
          "output_type": "stream",
          "text": [
            "\n",
            " 10%|█         | 1/10 [00:03<00:28,  3.13s/it]"
          ]
        },
        {
          "name": "stdout",
          "output_type": "stream",
          "text": [
            "1400.510691165924\n"
          ]
        },
        {
          "name": "stderr",
          "output_type": "stream",
          "text": [
            "\r 20%|██        | 2/10 [00:05<00:21,  2.71s/it]"
          ]
        },
        {
          "name": "stdout",
          "output_type": "stream",
          "text": [
            "1223.8856506347656\n"
          ]
        },
        {
          "name": "stderr",
          "output_type": "stream",
          "text": [
            "\r 30%|███       | 3/10 [00:07<00:18,  2.57s/it]"
          ]
        },
        {
          "name": "stdout",
          "output_type": "stream",
          "text": [
            "1164.4327158927917\n"
          ]
        },
        {
          "name": "stderr",
          "output_type": "stream",
          "text": [
            "\r 40%|████      | 4/10 [00:10<00:15,  2.58s/it]"
          ]
        },
        {
          "name": "stdout",
          "output_type": "stream",
          "text": [
            "1128.361934185028\n"
          ]
        },
        {
          "name": "stderr",
          "output_type": "stream",
          "text": [
            "\r 50%|█████     | 5/10 [00:13<00:12,  2.56s/it]"
          ]
        },
        {
          "name": "stdout",
          "output_type": "stream",
          "text": [
            "1103.901925086975\n"
          ]
        },
        {
          "name": "stderr",
          "output_type": "stream",
          "text": [
            "\r 60%|██████    | 6/10 [00:15<00:10,  2.68s/it]"
          ]
        },
        {
          "name": "stdout",
          "output_type": "stream",
          "text": [
            "1086.727741241455\n"
          ]
        },
        {
          "name": "stderr",
          "output_type": "stream",
          "text": [
            "\r 70%|███████   | 7/10 [00:18<00:08,  2.69s/it]"
          ]
        },
        {
          "name": "stdout",
          "output_type": "stream",
          "text": [
            "1072.6818709373474\n"
          ]
        },
        {
          "name": "stderr",
          "output_type": "stream",
          "text": [
            "\r 80%|████████  | 8/10 [00:21<00:05,  2.60s/it]"
          ]
        },
        {
          "name": "stdout",
          "output_type": "stream",
          "text": [
            "1062.0112209320068\n"
          ]
        },
        {
          "name": "stderr",
          "output_type": "stream",
          "text": [
            "\r 90%|█████████ | 9/10 [00:23<00:02,  2.55s/it]"
          ]
        },
        {
          "name": "stdout",
          "output_type": "stream",
          "text": [
            "1053.2629425525665\n"
          ]
        },
        {
          "name": "stderr",
          "output_type": "stream",
          "text": [
            "100%|██████████| 10/10 [00:26<00:00,  2.64s/it]"
          ]
        },
        {
          "name": "stdout",
          "output_type": "stream",
          "text": [
            "1045.7140052318573\n",
            "good 47\n",
            "  dinners 1.858\n",
            "  softer 1.873\n",
            "  list 1.874\n",
            "  realize 1.880\n",
            "  nuts 1.882\n",
            "bad 201\n",
            "  worth 1.859\n",
            "  said 1.867\n",
            "  live 1.874\n",
            "  grey 1.879\n",
            "  guy 1.880\n",
            "cookie 504\n",
            "  serving 1.829\n",
            "  junk 1.865\n",
            "  ok 1.865\n",
            "  creamer 1.866\n",
            "  white 1.877\n",
            "jelly 351\n",
            "  french 1.856\n",
            "  herbal 1.858\n",
            "  sold 1.868\n",
            "  vendor 1.875\n",
            "  pancakes 1.875\n",
            "dog 925\n",
            "  c 1.871\n",
            "  thus 1.876\n",
            "  fruits 1.877\n",
            "  store 1.885\n",
            "  particular 1.890\n",
            "the 36\n",
            "  cherry 1.877\n",
            "  forever 1.878\n",
            "  costa 1.881\n",
            "  purchase 1.887\n",
            "  shelves 1.891\n",
            "3 289\n",
            "  hoping 1.877\n",
            "  maybe"
          ]
        },
        {
          "name": "stderr",
          "output_type": "stream",
          "text": [
            "\n"
          ]
        },
        {
          "name": "stdout",
          "output_type": "stream",
          "text": [
            " 1.877\n",
            "  crush 1.877\n",
            "  literally 1.880\n",
            "  felidae 1.881\n",
            "\n",
            "\n",
            "Embedding dim:  2750\n"
          ]
        },
        {
          "name": "stderr",
          "output_type": "stream",
          "text": [
            " 10%|█         | 1/10 [00:02<00:23,  2.61s/it]"
          ]
        },
        {
          "name": "stdout",
          "output_type": "stream",
          "text": [
            "1400.9294047355652\n"
          ]
        },
        {
          "name": "stderr",
          "output_type": "stream",
          "text": [
            "\r 20%|██        | 2/10 [00:05<00:21,  2.68s/it]"
          ]
        },
        {
          "name": "stdout",
          "output_type": "stream",
          "text": [
            "1223.7562279701233\n"
          ]
        },
        {
          "name": "stderr",
          "output_type": "stream",
          "text": [
            "\r 30%|███       | 3/10 [00:07<00:18,  2.64s/it]"
          ]
        },
        {
          "name": "stdout",
          "output_type": "stream",
          "text": [
            "1165.0425763130188\n"
          ]
        },
        {
          "name": "stderr",
          "output_type": "stream",
          "text": [
            "\r 40%|████      | 4/10 [00:10<00:16,  2.80s/it]"
          ]
        },
        {
          "name": "stdout",
          "output_type": "stream",
          "text": [
            "1129.0337405204773\n"
          ]
        },
        {
          "name": "stderr",
          "output_type": "stream",
          "text": [
            "\r 50%|█████     | 5/10 [00:13<00:13,  2.79s/it]"
          ]
        },
        {
          "name": "stdout",
          "output_type": "stream",
          "text": [
            "1104.5350308418274\n"
          ]
        },
        {
          "name": "stderr",
          "output_type": "stream",
          "text": [
            "\r 60%|██████    | 6/10 [00:16<00:10,  2.70s/it]"
          ]
        },
        {
          "name": "stdout",
          "output_type": "stream",
          "text": [
            "1087.148205280304\n"
          ]
        },
        {
          "name": "stderr",
          "output_type": "stream",
          "text": [
            "\r 70%|███████   | 7/10 [00:18<00:07,  2.66s/it]"
          ]
        },
        {
          "name": "stdout",
          "output_type": "stream",
          "text": [
            "1073.9298009872437\n"
          ]
        },
        {
          "name": "stderr",
          "output_type": "stream",
          "text": [
            "\r 80%|████████  | 8/10 [00:21<00:05,  2.76s/it]"
          ]
        },
        {
          "name": "stdout",
          "output_type": "stream",
          "text": [
            "1062.8585011959076\n"
          ]
        },
        {
          "name": "stderr",
          "output_type": "stream",
          "text": [
            "\r 90%|█████████ | 9/10 [00:24<00:02,  2.82s/it]"
          ]
        },
        {
          "name": "stdout",
          "output_type": "stream",
          "text": [
            "1054.3234603404999\n"
          ]
        },
        {
          "name": "stderr",
          "output_type": "stream",
          "text": [
            "100%|██████████| 10/10 [00:27<00:00,  2.74s/it]"
          ]
        },
        {
          "name": "stdout",
          "output_type": "stream",
          "text": [
            "1047.552455663681\n",
            "good 47\n",
            "  stated 1.868\n",
            "  children 1.870\n",
            "  un 1.872\n",
            "  cups 1.878\n",
            "  overly 1.878\n",
            "bad 201\n",
            "  brewers 1.892\n",
            "  kernels 1.894\n",
            "  okay 1.896\n",
            "  off 1.897\n",
            "  disappointed 1.899\n",
            "cookie 504\n",
            "  popped 1.878\n",
            "  shocked 1.885\n",
            "  ramen 1.888\n",
            "  words 1.889\n",
            "  number 1.889\n",
            "jelly 351\n",
            "  soups 1.865\n",
            "  olives 1.877\n",
            "  earth's 1.879\n",
            "  whenever 1.882\n",
            "  wrote 1.883\n",
            "dog 925\n",
            "  jerky 1.866\n",
            "  favorites 1.876\n",
            "  around 1.878\n",
            "  vegetable 1.886\n",
            "  reasonable 1.887\n",
            "the 36\n",
            "  wow 1.872\n",
            "  somewhere 1.875\n",
            "  whenever 1.893\n",
            "  easy 1.898\n",
            "  nothing 1.899\n",
            "3 289\n",
            "  disease 1.841\n",
            "  thin 1.855\n",
            "  milk 1.877\n",
            "  earth's 1.880\n",
            "  chunks 1.887\n"
          ]
        },
        {
          "name": "stderr",
          "output_type": "stream",
          "text": [
            "\n"
          ]
        }
      ],
      "source": [
        "#2.b.iii\n",
        "for i in range(250, 3000, 250):\n",
        "  print('\\n\\nEmbedding dim: ', i)\n",
        "  reps_word2vec = learn_reps_word2vec(train_reviews, 2, i, 10, 1024)\n",
        "  lab_util.show_similar_words(vectorizer.tokenizer, reps_word2vec, show_tokens)"
      ]
    },
    {
      "cell_type": "code",
      "execution_count": 71,
      "metadata": {
        "colab": {
          "base_uri": "https://localhost:8080/"
        },
        "id": "XUnAqI_in4Q9",
        "outputId": "7a6a29bb-fec3-4c23-e90e-3e2aa5ab7ee5"
      },
      "outputs": [
        {
          "name": "stdout",
          "output_type": "stream",
          "text": [
            "\n",
            "\n",
            "Embedding dim:  50\n"
          ]
        },
        {
          "name": "stderr",
          "output_type": "stream",
          "text": [
            " 10%|█         | 1/10 [00:02<00:22,  2.45s/it]"
          ]
        },
        {
          "name": "stdout",
          "output_type": "stream",
          "text": [
            "1608.139675617218\n"
          ]
        },
        {
          "name": "stderr",
          "output_type": "stream",
          "text": [
            "\r 20%|██        | 2/10 [00:04<00:16,  2.07s/it]"
          ]
        },
        {
          "name": "stdout",
          "output_type": "stream",
          "text": [
            "1416.2910451889038\n"
          ]
        },
        {
          "name": "stderr",
          "output_type": "stream",
          "text": [
            "\r 30%|███       | 3/10 [00:06<00:14,  2.10s/it]"
          ]
        },
        {
          "name": "stdout",
          "output_type": "stream",
          "text": [
            "1356.626064300537\n"
          ]
        },
        {
          "name": "stderr",
          "output_type": "stream",
          "text": [
            "\r 40%|████      | 4/10 [00:08<00:12,  2.16s/it]"
          ]
        },
        {
          "name": "stdout",
          "output_type": "stream",
          "text": [
            "1317.6653728485107\n"
          ]
        },
        {
          "name": "stderr",
          "output_type": "stream",
          "text": [
            "\r 50%|█████     | 5/10 [00:10<00:10,  2.03s/it]"
          ]
        },
        {
          "name": "stdout",
          "output_type": "stream",
          "text": [
            "1288.2211599349976\n"
          ]
        },
        {
          "name": "stderr",
          "output_type": "stream",
          "text": [
            "\r 60%|██████    | 6/10 [00:12<00:08,  2.00s/it]"
          ]
        },
        {
          "name": "stdout",
          "output_type": "stream",
          "text": [
            "1265.0189933776855\n"
          ]
        },
        {
          "name": "stderr",
          "output_type": "stream",
          "text": [
            "\r 70%|███████   | 7/10 [00:14<00:05,  1.94s/it]"
          ]
        },
        {
          "name": "stdout",
          "output_type": "stream",
          "text": [
            "1246.1563444137573\n"
          ]
        },
        {
          "name": "stderr",
          "output_type": "stream",
          "text": [
            "\r 80%|████████  | 8/10 [00:16<00:03,  1.92s/it]"
          ]
        },
        {
          "name": "stdout",
          "output_type": "stream",
          "text": [
            "1230.0742483139038\n"
          ]
        },
        {
          "name": "stderr",
          "output_type": "stream",
          "text": [
            "\r 90%|█████████ | 9/10 [00:18<00:01,  1.93s/it]"
          ]
        },
        {
          "name": "stdout",
          "output_type": "stream",
          "text": [
            "1216.3261504173279\n"
          ]
        },
        {
          "name": "stderr",
          "output_type": "stream",
          "text": [
            "100%|██████████| 10/10 [00:20<00:00,  2.05s/it]"
          ]
        },
        {
          "name": "stdout",
          "output_type": "stream",
          "text": [
            "1204.7957463264465\n",
            "good 47\n",
            "  opinion 1.049\n",
            "  bad 1.140\n",
            "  barbecue 1.148\n",
            "  refreshing 1.245\n",
            "  bone 1.257\n",
            "bad 201\n",
            "  dough 1.104\n",
            "  idea 1.118\n",
            "  enjoyable 1.135\n",
            "  good 1.140\n",
            "  effects 1.148\n",
            "cookie 504\n",
            "  oh 1.051\n",
            "  yogurt 1.079\n",
            "  means 1.122\n",
            "  style 1.153\n",
            "  possible 1.172\n",
            "jelly 351\n",
            "  feed 1.089\n",
            "  slowly 1.090\n",
            "  its 1.126\n",
            "  followed 1.147\n",
            "  seconds 1.163\n",
            "dog 925\n",
            "  strawberry 1.134\n",
            "  worth 1.140\n",
            "  creamy 1.141\n",
            "  intense 1.161\n",
            "  commercial 1.195\n",
            "the 36\n",
            "  coming 0.972\n",
            "  my 1.040\n",
            "  alot 1.103\n",
            "  crumbs 1.136\n",
            "  chemical 1.201\n",
            "3 289\n",
            "  www 1.050\n",
            "  acid 1.057\n",
            "  daily 1.120\n",
            "  kibble 1.121\n",
            "  25 1.147\n",
            "\n",
            "\n",
            "Embedding dim:  100\n"
          ]
        },
        {
          "name": "stderr",
          "output_type": "stream",
          "text": [
            "\n",
            " 10%|█         | 1/10 [00:01<00:17,  1.94s/it]"
          ]
        },
        {
          "name": "stdout",
          "output_type": "stream",
          "text": [
            "1564.0451745986938\n"
          ]
        },
        {
          "name": "stderr",
          "output_type": "stream",
          "text": [
            "\r 20%|██        | 2/10 [00:03<00:15,  1.92s/it]"
          ]
        },
        {
          "name": "stdout",
          "output_type": "stream",
          "text": [
            "1371.1741738319397\n"
          ]
        },
        {
          "name": "stderr",
          "output_type": "stream",
          "text": [
            "\r 30%|███       | 3/10 [00:05<00:12,  1.85s/it]"
          ]
        },
        {
          "name": "stdout",
          "output_type": "stream",
          "text": [
            "1307.173083305359\n"
          ]
        },
        {
          "name": "stderr",
          "output_type": "stream",
          "text": [
            "\r 40%|████      | 4/10 [00:07<00:10,  1.83s/it]"
          ]
        },
        {
          "name": "stdout",
          "output_type": "stream",
          "text": [
            "1265.4179553985596\n"
          ]
        },
        {
          "name": "stderr",
          "output_type": "stream",
          "text": [
            "\r 50%|█████     | 5/10 [00:09<00:10,  2.04s/it]"
          ]
        },
        {
          "name": "stdout",
          "output_type": "stream",
          "text": [
            "1235.2417073249817\n"
          ]
        },
        {
          "name": "stderr",
          "output_type": "stream",
          "text": [
            "\r 60%|██████    | 6/10 [00:11<00:08,  2.01s/it]"
          ]
        },
        {
          "name": "stdout",
          "output_type": "stream",
          "text": [
            "1211.5071959495544\n"
          ]
        },
        {
          "name": "stderr",
          "output_type": "stream",
          "text": [
            "\r 70%|███████   | 7/10 [00:13<00:05,  1.98s/it]"
          ]
        },
        {
          "name": "stdout",
          "output_type": "stream",
          "text": [
            "1192.4365525245667\n"
          ]
        },
        {
          "name": "stderr",
          "output_type": "stream",
          "text": [
            "\r 80%|████████  | 8/10 [00:15<00:03,  1.91s/it]"
          ]
        },
        {
          "name": "stdout",
          "output_type": "stream",
          "text": [
            "1176.422471523285\n"
          ]
        },
        {
          "name": "stderr",
          "output_type": "stream",
          "text": [
            "\r 90%|█████████ | 9/10 [00:17<00:01,  1.87s/it]"
          ]
        },
        {
          "name": "stdout",
          "output_type": "stream",
          "text": [
            "1162.3406038284302\n"
          ]
        },
        {
          "name": "stderr",
          "output_type": "stream",
          "text": [
            "100%|██████████| 10/10 [00:19<00:00,  1.92s/it]"
          ]
        },
        {
          "name": "stdout",
          "output_type": "stream",
          "text": [
            "1150.5920786857605\n",
            "good 47\n",
            "  impressed 1.299\n",
            "  real 1.348\n",
            "  grape 1.373\n",
            "  previous 1.382\n",
            "  great 1.419\n",
            "bad 201\n",
            "  result 1.368\n",
            "  main 1.390\n",
            "  it's 1.420\n",
            "  totally 1.424\n",
            "  anymore 1.455\n",
            "cookie 504\n",
            "  yourself 1.288\n",
            "  spice 1.426\n",
            "  country 1.429\n",
            "  summer 1.430\n",
            "  seed 1.437\n",
            "jelly 351\n",
            "  disappointing 1.292\n",
            "  fruits 1.357\n",
            "  canned 1.387\n",
            "  always 1.410\n",
            "  measure 1.428\n",
            "dog 925\n",
            "  shipment 1.290\n",
            "  money 1.343\n",
            "  chowder 1.376\n",
            "  whole 1.431\n",
            "  vet 1.440\n",
            "the 36\n",
            "  your 1.352\n",
            "  their 1.425\n",
            "  coconut 1.449\n",
            "  another 1.457\n",
            "  entirely 1.459\n",
            "3 289\n",
            "  base 1.259\n",
            "  hand 1.294\n",
            "  thick 1.342\n",
            "  25 1.384\n",
            "  prepared 1.385\n",
            "\n",
            "\n",
            "Embedding dim:  150\n"
          ]
        },
        {
          "name": "stderr",
          "output_type": "stream",
          "text": [
            "\n",
            " 10%|█         | 1/10 [00:02<00:21,  2.35s/it]"
          ]
        },
        {
          "name": "stdout",
          "output_type": "stream",
          "text": [
            "1543.9707522392273\n"
          ]
        },
        {
          "name": "stderr",
          "output_type": "stream",
          "text": [
            "\r 20%|██        | 2/10 [00:04<00:16,  2.05s/it]"
          ]
        },
        {
          "name": "stdout",
          "output_type": "stream",
          "text": [
            "1348.51797914505\n"
          ]
        },
        {
          "name": "stderr",
          "output_type": "stream",
          "text": [
            "\r 30%|███       | 3/10 [00:06<00:14,  2.02s/it]"
          ]
        },
        {
          "name": "stdout",
          "output_type": "stream",
          "text": [
            "1281.8971586227417\n"
          ]
        },
        {
          "name": "stderr",
          "output_type": "stream",
          "text": [
            "\r 40%|████      | 4/10 [00:07<00:11,  1.93s/it]"
          ]
        },
        {
          "name": "stdout",
          "output_type": "stream",
          "text": [
            "1238.9519686698914\n"
          ]
        },
        {
          "name": "stderr",
          "output_type": "stream",
          "text": [
            "\r 50%|█████     | 5/10 [00:09<00:09,  1.89s/it]"
          ]
        },
        {
          "name": "stdout",
          "output_type": "stream",
          "text": [
            "1208.0968699455261\n"
          ]
        },
        {
          "name": "stderr",
          "output_type": "stream",
          "text": [
            "\r 60%|██████    | 6/10 [00:11<00:07,  1.99s/it]"
          ]
        },
        {
          "name": "stdout",
          "output_type": "stream",
          "text": [
            "1184.223081111908\n"
          ]
        },
        {
          "name": "stderr",
          "output_type": "stream",
          "text": [
            "\r 70%|███████   | 7/10 [00:14<00:06,  2.14s/it]"
          ]
        },
        {
          "name": "stdout",
          "output_type": "stream",
          "text": [
            "1165.0527472496033\n"
          ]
        },
        {
          "name": "stderr",
          "output_type": "stream",
          "text": [
            "\r 80%|████████  | 8/10 [00:16<00:04,  2.04s/it]"
          ]
        },
        {
          "name": "stdout",
          "output_type": "stream",
          "text": [
            "1149.2930512428284\n"
          ]
        },
        {
          "name": "stderr",
          "output_type": "stream",
          "text": [
            "\r 90%|█████████ | 9/10 [00:18<00:02,  2.01s/it]"
          ]
        },
        {
          "name": "stdout",
          "output_type": "stream",
          "text": [
            "1135.6497139930725\n"
          ]
        },
        {
          "name": "stderr",
          "output_type": "stream",
          "text": [
            "100%|██████████| 10/10 [00:19<00:00,  2.00s/it]"
          ]
        },
        {
          "name": "stdout",
          "output_type": "stream",
          "text": [
            "1124.290031194687\n",
            "good 47\n",
            "  burnt 1.439\n",
            "  real 1.465\n",
            "  strawberry 1.494\n",
            "  disgusting 1.503\n",
            "  hungry 1.509\n",
            "bad 201\n",
            "  nice 1.461\n",
            "  costs 1.492\n",
            "  im 1.548\n",
            "  healthy 1.548\n",
            "  dop 1.578\n",
            "cookie 504\n",
            "  pork 1.345\n",
            "  bed 1.422\n",
            "  glass 1.478\n",
            "  fed 1.496\n",
            "  delicious 1.540\n",
            "jelly 351\n",
            "  sort 1.392\n",
            "  lamb 1.476\n",
            "  lightly 1.485\n",
            "  caffeine 1.487\n",
            "  bitterness 1.503\n",
            "dog 925\n",
            "  salads 1.389\n",
            "  away 1.428\n",
            "  busy 1.492\n",
            "  difference 1.505\n",
            "  rancid 1.512\n",
            "the 36\n",
            "  alive 1.485\n",
            "  probably 1.522\n",
            "  wrap 1.551\n",
            "  swiss 1.570\n",
            "  sparkling 1.570\n",
            "3 289\n",
            "  adds 1.448\n",
            "  couple 1.460\n",
            "  gotten 1.463\n",
            "  science 1.519\n",
            "  type 1.523\n",
            "\n",
            "\n",
            "Embedding dim:  200\n"
          ]
        },
        {
          "name": "stderr",
          "output_type": "stream",
          "text": [
            "\n",
            " 10%|█         | 1/10 [00:01<00:17,  1.95s/it]"
          ]
        },
        {
          "name": "stdout",
          "output_type": "stream",
          "text": [
            "1514.1807961463928\n"
          ]
        },
        {
          "name": "stderr",
          "output_type": "stream",
          "text": [
            "\r 20%|██        | 2/10 [00:04<00:17,  2.18s/it]"
          ]
        },
        {
          "name": "stdout",
          "output_type": "stream",
          "text": [
            "1325.2460985183716\n"
          ]
        },
        {
          "name": "stderr",
          "output_type": "stream",
          "text": [
            "\r 30%|███       | 3/10 [00:06<00:14,  2.07s/it]"
          ]
        },
        {
          "name": "stdout",
          "output_type": "stream",
          "text": [
            "1259.3028740882874\n"
          ]
        },
        {
          "name": "stderr",
          "output_type": "stream",
          "text": [
            "\r 40%|████      | 4/10 [00:08<00:12,  2.03s/it]"
          ]
        },
        {
          "name": "stdout",
          "output_type": "stream",
          "text": [
            "1217.86692237854\n"
          ]
        },
        {
          "name": "stderr",
          "output_type": "stream",
          "text": [
            "\r 50%|█████     | 5/10 [00:09<00:09,  1.95s/it]"
          ]
        },
        {
          "name": "stdout",
          "output_type": "stream",
          "text": [
            "1187.28316116333\n"
          ]
        },
        {
          "name": "stderr",
          "output_type": "stream",
          "text": [
            "\r 60%|██████    | 6/10 [00:11<00:07,  1.89s/it]"
          ]
        },
        {
          "name": "stdout",
          "output_type": "stream",
          "text": [
            "1163.7358021736145\n"
          ]
        },
        {
          "name": "stderr",
          "output_type": "stream",
          "text": [
            "\r 70%|███████   | 7/10 [00:13<00:05,  1.93s/it]"
          ]
        },
        {
          "name": "stdout",
          "output_type": "stream",
          "text": [
            "1145.1660523414612\n"
          ]
        },
        {
          "name": "stderr",
          "output_type": "stream",
          "text": [
            "\r 80%|████████  | 8/10 [00:15<00:04,  2.01s/it]"
          ]
        },
        {
          "name": "stdout",
          "output_type": "stream",
          "text": [
            "1129.931908607483\n"
          ]
        },
        {
          "name": "stderr",
          "output_type": "stream",
          "text": [
            "\r 90%|█████████ | 9/10 [00:18<00:02,  2.03s/it]"
          ]
        },
        {
          "name": "stdout",
          "output_type": "stream",
          "text": [
            "1116.770895242691\n"
          ]
        },
        {
          "name": "stderr",
          "output_type": "stream",
          "text": [
            "100%|██████████| 10/10 [00:20<00:00,  2.00s/it]"
          ]
        },
        {
          "name": "stdout",
          "output_type": "stream",
          "text": [
            "1105.7868609428406\n",
            "good 47\n",
            "  wondering 1.512\n",
            "  gingerbread 1.564\n",
            "  barbecue 1.576\n",
            "  tough 1.579\n",
            "  co 1.586\n",
            "bad 201\n",
            "  night 1.537\n",
            "  soda 1.572\n",
            "  windows 1.591\n",
            "  regular 1.593\n",
            "  mahogany 1.598\n",
            "cookie 504\n",
            "  unpleasant 1.509\n",
            "  serve 1.544\n",
            "  followed 1.544\n",
            "  effect 1.552\n",
            "  filled 1.586\n",
            "jelly 351\n",
            "  dark 1.454\n",
            "  peas 1.519\n",
            "  cookies 1.555\n",
            "  bears 1.599\n",
            "  person 1.623\n",
            "dog 925\n",
            "  two 1.500\n",
            "  range 1.552\n",
            "  fish 1.552\n",
            "  water 1.558\n",
            "  known 1.592\n",
            "the 36\n",
            "  death 1.523\n",
            "  mostly 1.527\n",
            "  china 1.549\n",
            "  receive 1.614\n",
            "  hungry 1.631\n",
            "3 289\n",
            "  mint 1.555\n",
            "  instead 1.579\n",
            "  poured 1.585\n",
            "  grams 1.596\n",
            "  to 1.603\n",
            "\n",
            "\n",
            "Embedding dim:  250\n"
          ]
        },
        {
          "name": "stderr",
          "output_type": "stream",
          "text": [
            "\n",
            " 10%|█         | 1/10 [00:01<00:17,  1.97s/it]"
          ]
        },
        {
          "name": "stdout",
          "output_type": "stream",
          "text": [
            "1507.6695413589478\n"
          ]
        },
        {
          "name": "stderr",
          "output_type": "stream",
          "text": [
            "\r 20%|██        | 2/10 [00:03<00:15,  1.99s/it]"
          ]
        },
        {
          "name": "stdout",
          "output_type": "stream",
          "text": [
            "1314.376284122467\n"
          ]
        },
        {
          "name": "stderr",
          "output_type": "stream",
          "text": [
            "\r 30%|███       | 3/10 [00:05<00:13,  1.96s/it]"
          ]
        },
        {
          "name": "stdout",
          "output_type": "stream",
          "text": [
            "1247.9684767723083\n"
          ]
        },
        {
          "name": "stderr",
          "output_type": "stream",
          "text": [
            "\r 40%|████      | 4/10 [00:08<00:12,  2.13s/it]"
          ]
        },
        {
          "name": "stdout",
          "output_type": "stream",
          "text": [
            "1206.2234535217285\n"
          ]
        },
        {
          "name": "stderr",
          "output_type": "stream",
          "text": [
            "\r 50%|█████     | 5/10 [00:10<00:10,  2.08s/it]"
          ]
        },
        {
          "name": "stdout",
          "output_type": "stream",
          "text": [
            "1176.2328152656555\n"
          ]
        },
        {
          "name": "stderr",
          "output_type": "stream",
          "text": [
            "\r 60%|██████    | 6/10 [00:12<00:07,  2.00s/it]"
          ]
        },
        {
          "name": "stdout",
          "output_type": "stream",
          "text": [
            "1153.251262664795\n"
          ]
        },
        {
          "name": "stderr",
          "output_type": "stream",
          "text": [
            "\r 70%|███████   | 7/10 [00:13<00:05,  1.95s/it]"
          ]
        },
        {
          "name": "stdout",
          "output_type": "stream",
          "text": [
            "1135.088646888733\n"
          ]
        },
        {
          "name": "stderr",
          "output_type": "stream",
          "text": [
            "\r 80%|████████  | 8/10 [00:15<00:03,  1.95s/it]"
          ]
        },
        {
          "name": "stdout",
          "output_type": "stream",
          "text": [
            "1120.13613820076\n"
          ]
        },
        {
          "name": "stderr",
          "output_type": "stream",
          "text": [
            "\r 90%|█████████ | 9/10 [00:17<00:01,  1.92s/it]"
          ]
        },
        {
          "name": "stdout",
          "output_type": "stream",
          "text": [
            "1107.4455807209015\n"
          ]
        },
        {
          "name": "stderr",
          "output_type": "stream",
          "text": [
            "100%|██████████| 10/10 [00:20<00:00,  2.03s/it]"
          ]
        },
        {
          "name": "stdout",
          "output_type": "stream",
          "text": [
            "1096.7662336826324\n",
            "good 47\n",
            "  terrific 1.511\n",
            "  buyer 1.586\n",
            "  yum 1.600\n",
            "  paste 1.627\n",
            "  marketing 1.643\n",
            "bad 201\n",
            "  incredible 1.542\n",
            "  much 1.601\n",
            "  including 1.609\n",
            "  beverages 1.609\n",
            "  coke 1.628\n",
            "cookie 504\n",
            "  fat 1.500\n",
            "  99 1.510\n",
            "  japanese 1.606\n",
            "  mrs 1.622\n",
            "  gallon 1.625\n",
            "jelly 351\n",
            "  inches 1.622\n",
            "  tomato 1.643\n",
            "  9 1.645\n",
            "  fun 1.645\n",
            "  shipping 1.653\n",
            "dog 925\n",
            "  contains 1.519\n",
            "  beer 1.594\n",
            "  returned 1.652\n",
            "  soft 1.652\n",
            "  waffle 1.652\n",
            "the 36\n",
            "  pour 1.620\n",
            "  dressing 1.627\n",
            "  portion 1.643\n",
            "  sealed 1.647\n",
            "  yellow 1.656\n",
            "3 289\n",
            "  gingerbread 1.591\n",
            "  cup 1.597\n",
            "  chip 1.611\n",
            "  finished 1.632\n",
            "  internet 1.640\n",
            "\n",
            "\n",
            "Embedding dim:  300\n"
          ]
        },
        {
          "name": "stderr",
          "output_type": "stream",
          "text": [
            "\n",
            " 10%|█         | 1/10 [00:01<00:17,  1.95s/it]"
          ]
        },
        {
          "name": "stdout",
          "output_type": "stream",
          "text": [
            "1493.6191720962524\n"
          ]
        },
        {
          "name": "stderr",
          "output_type": "stream",
          "text": [
            "\r 20%|██        | 2/10 [00:03<00:14,  1.87s/it]"
          ]
        },
        {
          "name": "stdout",
          "output_type": "stream",
          "text": [
            "1304.2245740890503\n"
          ]
        },
        {
          "name": "stderr",
          "output_type": "stream",
          "text": [
            "\r 30%|███       | 3/10 [00:05<00:12,  1.84s/it]"
          ]
        },
        {
          "name": "stdout",
          "output_type": "stream",
          "text": [
            "1238.6620354652405\n"
          ]
        },
        {
          "name": "stderr",
          "output_type": "stream",
          "text": [
            "\r 40%|████      | 4/10 [00:07<00:11,  1.89s/it]"
          ]
        },
        {
          "name": "stdout",
          "output_type": "stream",
          "text": [
            "1197.2672629356384\n"
          ]
        },
        {
          "name": "stderr",
          "output_type": "stream",
          "text": [
            "\r 50%|█████     | 5/10 [00:09<00:10,  2.05s/it]"
          ]
        },
        {
          "name": "stdout",
          "output_type": "stream",
          "text": [
            "1167.5878295898438\n"
          ]
        },
        {
          "name": "stderr",
          "output_type": "stream",
          "text": [
            "\r 60%|██████    | 6/10 [00:12<00:08,  2.15s/it]"
          ]
        },
        {
          "name": "stdout",
          "output_type": "stream",
          "text": [
            "1144.6741762161255\n"
          ]
        },
        {
          "name": "stderr",
          "output_type": "stream",
          "text": [
            "\r 70%|███████   | 7/10 [00:14<00:06,  2.05s/it]"
          ]
        },
        {
          "name": "stdout",
          "output_type": "stream",
          "text": [
            "1126.53164601326\n"
          ]
        },
        {
          "name": "stderr",
          "output_type": "stream",
          "text": [
            "\r 80%|████████  | 8/10 [00:15<00:03,  1.98s/it]"
          ]
        },
        {
          "name": "stdout",
          "output_type": "stream",
          "text": [
            "1111.7405967712402\n"
          ]
        },
        {
          "name": "stderr",
          "output_type": "stream",
          "text": [
            "\r 90%|█████████ | 9/10 [00:17<00:01,  1.98s/it]"
          ]
        },
        {
          "name": "stdout",
          "output_type": "stream",
          "text": [
            "1099.3276932239532\n"
          ]
        },
        {
          "name": "stderr",
          "output_type": "stream",
          "text": [
            "100%|██████████| 10/10 [00:19<00:00,  1.97s/it]"
          ]
        },
        {
          "name": "stdout",
          "output_type": "stream",
          "text": [
            "1088.3645589351654\n",
            "good 47\n",
            "  likely 1.598\n",
            "  craving 1.608\n",
            "  select 1.647\n",
            "  oh 1.655\n",
            "  pleasant 1.661\n",
            "bad 201\n",
            "  case 1.611\n",
            "  specifically 1.620\n",
            "  while 1.638\n",
            "  things 1.653\n",
            "  refund 1.663\n",
            "cookie 504\n",
            "  flaxseed 1.634\n",
            "  with 1.665\n",
            "  baked 1.666\n",
            "  gross 1.685\n",
            "  oven 1.692\n",
            "jelly 351\n",
            "  lost 1.606\n",
            "  lunches 1.658\n",
            "  will 1.668\n",
            "  health 1.671\n",
            "  corn 1.681\n",
            "dog 925\n",
            "  cat 1.504\n",
            "  type 1.637\n",
            "  canned 1.656\n",
            "  bit 1.679\n",
            "  tiny 1.680\n",
            "the 36\n",
            "  sweetener 1.599\n",
            "  containers 1.638\n",
            "  sale 1.648\n",
            "  truffles 1.650\n",
            "  who 1.652\n",
            "3 289\n",
            "  bottle 1.570\n",
            "  replacement 1.590\n",
            "  0g 1.599\n",
            "  calcium 1.627\n",
            "  warm 1.637\n",
            "\n",
            "\n",
            "Embedding dim:  350\n"
          ]
        },
        {
          "name": "stderr",
          "output_type": "stream",
          "text": [
            "\n",
            " 10%|█         | 1/10 [00:02<00:20,  2.31s/it]"
          ]
        },
        {
          "name": "stdout",
          "output_type": "stream",
          "text": [
            "1485.0770530700684\n"
          ]
        },
        {
          "name": "stderr",
          "output_type": "stream",
          "text": [
            "\r 20%|██        | 2/10 [00:04<00:17,  2.15s/it]"
          ]
        },
        {
          "name": "stdout",
          "output_type": "stream",
          "text": [
            "1294.8684935569763\n"
          ]
        },
        {
          "name": "stderr",
          "output_type": "stream",
          "text": [
            "\r 30%|███       | 3/10 [00:06<00:14,  2.02s/it]"
          ]
        },
        {
          "name": "stdout",
          "output_type": "stream",
          "text": [
            "1229.70543384552\n"
          ]
        },
        {
          "name": "stderr",
          "output_type": "stream",
          "text": [
            "\r 40%|████      | 4/10 [00:08<00:11,  1.96s/it]"
          ]
        },
        {
          "name": "stdout",
          "output_type": "stream",
          "text": [
            "1188.3812975883484\n"
          ]
        },
        {
          "name": "stderr",
          "output_type": "stream",
          "text": [
            "\r 50%|█████     | 5/10 [00:10<00:09,  1.99s/it]"
          ]
        },
        {
          "name": "stdout",
          "output_type": "stream",
          "text": [
            "1158.7007675170898\n"
          ]
        },
        {
          "name": "stderr",
          "output_type": "stream",
          "text": [
            "\r 60%|██████    | 6/10 [00:12<00:08,  2.01s/it]"
          ]
        },
        {
          "name": "stdout",
          "output_type": "stream",
          "text": [
            "1136.252390384674\n"
          ]
        },
        {
          "name": "stderr",
          "output_type": "stream",
          "text": [
            "\r 70%|███████   | 7/10 [00:14<00:06,  2.12s/it]"
          ]
        },
        {
          "name": "stdout",
          "output_type": "stream",
          "text": [
            "1118.6736311912537\n"
          ]
        },
        {
          "name": "stderr",
          "output_type": "stream",
          "text": [
            "\r 80%|████████  | 8/10 [00:16<00:04,  2.08s/it]"
          ]
        },
        {
          "name": "stdout",
          "output_type": "stream",
          "text": [
            "1103.6917390823364\n"
          ]
        },
        {
          "name": "stderr",
          "output_type": "stream",
          "text": [
            "\r 90%|█████████ | 9/10 [00:18<00:02,  2.02s/it]"
          ]
        },
        {
          "name": "stdout",
          "output_type": "stream",
          "text": [
            "1091.677705526352\n"
          ]
        },
        {
          "name": "stderr",
          "output_type": "stream",
          "text": [
            "100%|██████████| 10/10 [00:20<00:00,  2.06s/it]"
          ]
        },
        {
          "name": "stdout",
          "output_type": "stream",
          "text": [
            "1081.4512419700623\n",
            "good 47\n",
            "  sports 1.668\n",
            "  rate 1.670\n",
            "  generally 1.682\n",
            "  tasty 1.686\n",
            "  clean 1.702\n",
            "bad 201\n",
            "  describe 1.596\n",
            "  basically 1.653\n",
            "  sunflower 1.678\n",
            "  white 1.685\n",
            "  plocky's 1.688\n",
            "cookie 504\n",
            "  potassium 1.612\n",
            "  sells 1.638\n",
            "  worry 1.647\n",
            "  room 1.650\n",
            "  dop 1.707\n",
            "jelly 351\n",
            "  waffle 1.658\n",
            "  satisfied 1.662\n",
            "  source 1.687\n",
            "  between 1.691\n",
            "  fresh 1.693\n",
            "dog 925\n",
            "  son 1.666\n",
            "  risk 1.666\n",
            "  hour 1.680\n",
            "  anyway 1.699\n",
            "  serious 1.704\n",
            "the 36\n",
            "  available 1.616\n",
            "  outstanding 1.628\n",
            "  my 1.671\n",
            "  creme 1.672\n",
            "  retail 1.680\n",
            "3 289\n",
            "  careful 1.674\n",
            "  right 1.678\n",
            "  economical 1.680\n",
            "  paid 1.681\n",
            "  common 1.683\n",
            "\n",
            "\n",
            "Embedding dim:  400\n"
          ]
        },
        {
          "name": "stderr",
          "output_type": "stream",
          "text": [
            "\n",
            " 10%|█         | 1/10 [00:01<00:17,  1.94s/it]"
          ]
        },
        {
          "name": "stdout",
          "output_type": "stream",
          "text": [
            "1477.6301894187927\n"
          ]
        },
        {
          "name": "stderr",
          "output_type": "stream",
          "text": [
            "\r 20%|██        | 2/10 [00:04<00:17,  2.24s/it]"
          ]
        },
        {
          "name": "stdout",
          "output_type": "stream",
          "text": [
            "1287.1216144561768\n"
          ]
        },
        {
          "name": "stderr",
          "output_type": "stream",
          "text": [
            "\r 30%|███       | 3/10 [00:06<00:14,  2.13s/it]"
          ]
        },
        {
          "name": "stdout",
          "output_type": "stream",
          "text": [
            "1222.486732006073\n"
          ]
        },
        {
          "name": "stderr",
          "output_type": "stream",
          "text": [
            "\r 40%|████      | 4/10 [00:08<00:12,  2.03s/it]"
          ]
        },
        {
          "name": "stdout",
          "output_type": "stream",
          "text": [
            "1181.828194141388\n"
          ]
        },
        {
          "name": "stderr",
          "output_type": "stream",
          "text": [
            "\r 50%|█████     | 5/10 [00:10<00:09,  1.97s/it]"
          ]
        },
        {
          "name": "stdout",
          "output_type": "stream",
          "text": [
            "1152.8131799697876\n"
          ]
        },
        {
          "name": "stderr",
          "output_type": "stream",
          "text": [
            "\r 60%|██████    | 6/10 [00:12<00:07,  1.99s/it]"
          ]
        },
        {
          "name": "stdout",
          "output_type": "stream",
          "text": [
            "1130.720995426178\n"
          ]
        },
        {
          "name": "stderr",
          "output_type": "stream",
          "text": [
            "\r 70%|███████   | 7/10 [00:14<00:05,  1.96s/it]"
          ]
        },
        {
          "name": "stdout",
          "output_type": "stream",
          "text": [
            "1113.4151203632355\n"
          ]
        },
        {
          "name": "stderr",
          "output_type": "stream",
          "text": [
            "\r 80%|████████  | 8/10 [00:16<00:04,  2.14s/it]"
          ]
        },
        {
          "name": "stdout",
          "output_type": "stream",
          "text": [
            "1098.9600238800049\n"
          ]
        },
        {
          "name": "stderr",
          "output_type": "stream",
          "text": [
            "\r 90%|█████████ | 9/10 [00:18<00:02,  2.10s/it]"
          ]
        },
        {
          "name": "stdout",
          "output_type": "stream",
          "text": [
            "1086.864453792572\n"
          ]
        },
        {
          "name": "stderr",
          "output_type": "stream",
          "text": [
            "100%|██████████| 10/10 [00:20<00:00,  2.05s/it]"
          ]
        },
        {
          "name": "stdout",
          "output_type": "stream",
          "text": [
            "1076.5330061912537\n",
            "good 47\n",
            "  sugary 1.683\n",
            "  high 1.701\n",
            "  75 1.718\n",
            "  liver 1.729\n",
            "  had 1.732\n",
            "bad 201\n",
            "  seasoning 1.680\n",
            "  goodness 1.691\n",
            "  yet 1.709\n",
            "  wouldn't 1.715\n",
            "  2 1.722\n",
            "cookie 504\n",
            "  non 1.547\n",
            "  yes 1.677\n",
            "  waffle 1.685\n",
            "  bunch 1.692\n",
            "  contains 1.715\n",
            "jelly 351\n",
            "  changed 1.659\n",
            "  coming 1.663\n",
            "  cal 1.686\n",
            "  we 1.691\n",
            "  over 1.696\n",
            "dog 925\n",
            "  wonderful 1.676\n",
            "  eggs 1.676\n",
            "  beans 1.683\n",
            "  asian 1.693\n",
            "  mint 1.695\n",
            "the 36\n",
            "  ordering 1.605\n",
            "  thrown 1.686\n",
            "  ever 1.687\n",
            "  gritty 1.700\n",
            "  concentrated 1.705\n",
            "3 289\n",
            "  outstanding 1.605\n",
            "  rip 1.643\n",
            "  chewing 1.657\n",
            "  75 1.682\n",
            "  stand 1.695\n",
            "\n",
            "\n",
            "Embedding dim:  450\n"
          ]
        },
        {
          "name": "stderr",
          "output_type": "stream",
          "text": [
            "\n",
            " 10%|█         | 1/10 [00:01<00:17,  1.91s/it]"
          ]
        },
        {
          "name": "stdout",
          "output_type": "stream",
          "text": [
            "1468.002646446228\n"
          ]
        },
        {
          "name": "stderr",
          "output_type": "stream",
          "text": [
            "\r 20%|██        | 2/10 [00:03<00:15,  1.99s/it]"
          ]
        },
        {
          "name": "stdout",
          "output_type": "stream",
          "text": [
            "1278.9378910064697\n"
          ]
        },
        {
          "name": "stderr",
          "output_type": "stream",
          "text": [
            "\r 30%|███       | 3/10 [00:06<00:15,  2.24s/it]"
          ]
        },
        {
          "name": "stdout",
          "output_type": "stream",
          "text": [
            "1215.2184281349182\n"
          ]
        },
        {
          "name": "stderr",
          "output_type": "stream",
          "text": [
            "\r 40%|████      | 4/10 [00:08<00:13,  2.23s/it]"
          ]
        },
        {
          "name": "stdout",
          "output_type": "stream",
          "text": [
            "1175.3181862831116\n"
          ]
        },
        {
          "name": "stderr",
          "output_type": "stream",
          "text": [
            "\r 50%|█████     | 5/10 [00:10<00:10,  2.11s/it]"
          ]
        },
        {
          "name": "stdout",
          "output_type": "stream",
          "text": [
            "1146.662509918213\n"
          ]
        },
        {
          "name": "stderr",
          "output_type": "stream",
          "text": [
            "\r 60%|██████    | 6/10 [00:12<00:08,  2.04s/it]"
          ]
        },
        {
          "name": "stdout",
          "output_type": "stream",
          "text": [
            "1124.7768561840057\n"
          ]
        },
        {
          "name": "stderr",
          "output_type": "stream",
          "text": [
            "\r 70%|███████   | 7/10 [00:14<00:06,  2.04s/it]"
          ]
        },
        {
          "name": "stdout",
          "output_type": "stream",
          "text": [
            "1107.4523358345032\n"
          ]
        },
        {
          "name": "stderr",
          "output_type": "stream",
          "text": [
            "\r 80%|████████  | 8/10 [00:16<00:04,  2.00s/it]"
          ]
        },
        {
          "name": "stdout",
          "output_type": "stream",
          "text": [
            "1093.770212173462\n"
          ]
        },
        {
          "name": "stderr",
          "output_type": "stream",
          "text": [
            "\r 90%|█████████ | 9/10 [00:18<00:02,  2.17s/it]"
          ]
        },
        {
          "name": "stdout",
          "output_type": "stream",
          "text": [
            "1081.6763715744019\n"
          ]
        },
        {
          "name": "stderr",
          "output_type": "stream",
          "text": [
            "100%|██████████| 10/10 [00:21<00:00,  2.10s/it]"
          ]
        },
        {
          "name": "stdout",
          "output_type": "stream",
          "text": [
            "1071.6320281028748\n",
            "good 47\n",
            "  awesome 1.662\n",
            "  prepared 1.695\n",
            "  them 1.701\n",
            "  carried 1.704\n",
            "  he's 1.709\n",
            "bad 201\n",
            "  equivalent 1.680\n",
            "  animal 1.691\n",
            "  overall 1.699\n",
            "  done 1.705\n",
            "  wonder 1.719\n",
            "cookie 504\n",
            "  bisquick 1.610\n",
            "  true 1.686\n",
            "  dijon 1.705\n",
            "  smells 1.705\n",
            "  reasonable 1.706\n",
            "jelly 351\n",
            "  above 1.679\n",
            "  olive 1.698\n",
            "  ginger 1.699\n",
            "  labeled 1.722\n",
            "  snacking 1.739\n",
            "dog 925\n",
            "  york 1.695\n",
            "  older 1.710\n",
            "  third 1.719\n",
            "  never 1.730\n",
            "  awesome 1.731\n",
            "the 36\n",
            "  inches 1.682\n",
            "  gingerbread 1.716\n",
            "  whole 1.717\n",
            "  alot 1.730\n",
            "  cocoa 1.741\n",
            "3 289\n",
            "  50 1.660\n",
            "  pringles 1.669\n",
            "  taste 1.692\n",
            "  hair 1.708\n",
            "  research 1.714\n",
            "\n",
            "\n",
            "Embedding dim:  500\n"
          ]
        },
        {
          "name": "stderr",
          "output_type": "stream",
          "text": [
            "\n",
            " 10%|█         | 1/10 [00:01<00:17,  1.91s/it]"
          ]
        },
        {
          "name": "stdout",
          "output_type": "stream",
          "text": [
            "1460.9867219924927\n"
          ]
        },
        {
          "name": "stderr",
          "output_type": "stream",
          "text": [
            "\r 20%|██        | 2/10 [00:03<00:15,  1.91s/it]"
          ]
        },
        {
          "name": "stdout",
          "output_type": "stream",
          "text": [
            "1276.676106452942\n"
          ]
        },
        {
          "name": "stderr",
          "output_type": "stream",
          "text": [
            "\r 30%|███       | 3/10 [00:05<00:13,  1.97s/it]"
          ]
        },
        {
          "name": "stdout",
          "output_type": "stream",
          "text": [
            "1212.4100141525269\n"
          ]
        },
        {
          "name": "stderr",
          "output_type": "stream",
          "text": [
            "\r 40%|████      | 4/10 [00:08<00:13,  2.19s/it]"
          ]
        },
        {
          "name": "stdout",
          "output_type": "stream",
          "text": [
            "1171.700849533081\n"
          ]
        },
        {
          "name": "stderr",
          "output_type": "stream",
          "text": [
            "\r 50%|█████     | 5/10 [00:10<00:10,  2.09s/it]"
          ]
        },
        {
          "name": "stdout",
          "output_type": "stream",
          "text": [
            "1143.0655241012573\n"
          ]
        },
        {
          "name": "stderr",
          "output_type": "stream",
          "text": [
            "\r 60%|██████    | 6/10 [00:12<00:08,  2.08s/it]"
          ]
        },
        {
          "name": "stdout",
          "output_type": "stream",
          "text": [
            "1120.985966682434\n"
          ]
        },
        {
          "name": "stderr",
          "output_type": "stream",
          "text": [
            "\r 70%|███████   | 7/10 [00:14<00:06,  2.02s/it]"
          ]
        },
        {
          "name": "stdout",
          "output_type": "stream",
          "text": [
            "1103.8250856399536\n"
          ]
        },
        {
          "name": "stderr",
          "output_type": "stream",
          "text": [
            "\r 80%|████████  | 8/10 [00:16<00:04,  2.09s/it]"
          ]
        },
        {
          "name": "stdout",
          "output_type": "stream",
          "text": [
            "1089.7096359729767\n"
          ]
        },
        {
          "name": "stderr",
          "output_type": "stream",
          "text": [
            "\r 90%|█████████ | 9/10 [00:18<00:02,  2.05s/it]"
          ]
        },
        {
          "name": "stdout",
          "output_type": "stream",
          "text": [
            "1078.1183867454529\n"
          ]
        },
        {
          "name": "stderr",
          "output_type": "stream",
          "text": [
            "100%|██████████| 10/10 [00:20<00:00,  2.09s/it]"
          ]
        },
        {
          "name": "stdout",
          "output_type": "stream",
          "text": [
            "1068.1897027492523\n",
            "good 47\n",
            "  caramel 1.702\n",
            "  terrible 1.726\n",
            "  pet 1.748\n",
            "  market 1.749\n",
            "  difficult 1.753\n",
            "bad 201\n",
            "  easily 1.715\n",
            "  anti 1.723\n",
            "  oh 1.740\n",
            "  sour 1.744\n",
            "  crazy 1.744\n",
            "cookie 504\n",
            "  deal 1.715\n",
            "  thrilled 1.722\n",
            "  fed 1.736\n",
            "  thank 1.753\n",
            "  containers 1.759\n",
            "jelly 351\n",
            "  popped 1.692\n",
            "  u 1.715\n",
            "  french 1.746\n",
            "  middle 1.753\n",
            "  lid 1.755\n",
            "dog 925\n",
            "  cheap 1.709\n",
            "  blood 1.710\n",
            "  sounds 1.714\n",
            "  candies 1.729\n",
            "  cereal 1.732\n",
            "the 36\n",
            "  messy 1.722\n",
            "  lamb 1.740\n",
            "  positive 1.742\n",
            "  blueberries 1.749\n",
            "  kid 1.760\n",
            "3 289\n",
            "  holds 1.674\n",
            "  bites 1.703\n",
            "  nicely 1.718\n",
            "  heard 1.722\n",
            "  carried 1.724\n",
            "\n",
            "\n",
            "Embedding dim:  550\n"
          ]
        },
        {
          "name": "stderr",
          "output_type": "stream",
          "text": [
            "\n",
            " 10%|█         | 1/10 [00:02<00:18,  2.09s/it]"
          ]
        },
        {
          "name": "stdout",
          "output_type": "stream",
          "text": [
            "1456.9448986053467\n"
          ]
        },
        {
          "name": "stderr",
          "output_type": "stream",
          "text": [
            "\r 20%|██        | 2/10 [00:04<00:15,  2.00s/it]"
          ]
        },
        {
          "name": "stdout",
          "output_type": "stream",
          "text": [
            "1270.8691205978394\n"
          ]
        },
        {
          "name": "stderr",
          "output_type": "stream",
          "text": [
            "\r 30%|███       | 3/10 [00:05<00:13,  1.96s/it]"
          ]
        },
        {
          "name": "stdout",
          "output_type": "stream",
          "text": [
            "1207.203230381012\n"
          ]
        },
        {
          "name": "stderr",
          "output_type": "stream",
          "text": [
            "\r 40%|████      | 4/10 [00:08<00:12,  2.01s/it]"
          ]
        },
        {
          "name": "stdout",
          "output_type": "stream",
          "text": [
            "1166.8637552261353\n"
          ]
        },
        {
          "name": "stderr",
          "output_type": "stream",
          "text": [
            "\r 50%|█████     | 5/10 [00:10<00:11,  2.22s/it]"
          ]
        },
        {
          "name": "stdout",
          "output_type": "stream",
          "text": [
            "1138.5665001869202\n"
          ]
        },
        {
          "name": "stderr",
          "output_type": "stream",
          "text": [
            "\r 60%|██████    | 6/10 [00:12<00:08,  2.12s/it]"
          ]
        },
        {
          "name": "stdout",
          "output_type": "stream",
          "text": [
            "1116.8889517784119\n"
          ]
        },
        {
          "name": "stderr",
          "output_type": "stream",
          "text": [
            "\r 70%|███████   | 7/10 [00:14<00:06,  2.10s/it]"
          ]
        },
        {
          "name": "stdout",
          "output_type": "stream",
          "text": [
            "1099.7431242465973\n"
          ]
        },
        {
          "name": "stderr",
          "output_type": "stream",
          "text": [
            "\r 80%|████████  | 8/10 [00:16<00:04,  2.05s/it]"
          ]
        },
        {
          "name": "stdout",
          "output_type": "stream",
          "text": [
            "1085.7360939979553\n"
          ]
        },
        {
          "name": "stderr",
          "output_type": "stream",
          "text": [
            "\r 90%|█████████ | 9/10 [00:18<00:02,  2.01s/it]"
          ]
        },
        {
          "name": "stdout",
          "output_type": "stream",
          "text": [
            "1074.2673590183258\n"
          ]
        },
        {
          "name": "stderr",
          "output_type": "stream",
          "text": [
            "100%|██████████| 10/10 [00:20<00:00,  2.06s/it]"
          ]
        },
        {
          "name": "stdout",
          "output_type": "stream",
          "text": [
            "1064.6481652259827\n",
            "good 47\n",
            "  quick 1.689\n",
            "  suggested 1.735\n",
            "  twist 1.739\n",
            "  hate 1.739\n",
            "  layer 1.753\n",
            "bad 201\n",
            "  lot 1.682\n",
            "  words 1.686\n",
            "  various 1.706\n",
            "  german 1.747\n",
            "  consistent 1.754\n",
            "cookie 504\n",
            "  overwhelming 1.698\n",
            "  common 1.731\n",
            "  bite 1.741\n",
            "  blue 1.750\n",
            "  cakes 1.750\n",
            "jelly 351\n",
            "  marketing 1.734\n",
            "  raw 1.763\n",
            "  decide 1.764\n",
            "  sealed 1.769\n",
            "  paid 1.770\n",
            "dog 925\n",
            "  highly 1.724\n",
            "  salad 1.737\n",
            "  internet 1.737\n",
            "  my 1.761\n",
            "  frosting 1.772\n",
            "the 36\n",
            "  bits 1.676\n",
            "  major 1.714\n",
            "  satisfying 1.757\n",
            "  tried 1.760\n",
            "  learn 1.769\n",
            "3 289\n",
            "  i'm 1.682\n",
            "  br 1.707\n",
            "  cereal 1.712\n",
            "  packaged 1.730\n",
            "  equal 1.745\n",
            "\n",
            "\n",
            "Embedding dim:  600\n"
          ]
        },
        {
          "name": "stderr",
          "output_type": "stream",
          "text": [
            "\n",
            " 10%|█         | 1/10 [00:01<00:17,  1.94s/it]"
          ]
        },
        {
          "name": "stdout",
          "output_type": "stream",
          "text": [
            "1452.9786772727966\n"
          ]
        },
        {
          "name": "stderr",
          "output_type": "stream",
          "text": [
            "\r 20%|██        | 2/10 [00:04<00:16,  2.09s/it]"
          ]
        },
        {
          "name": "stdout",
          "output_type": "stream",
          "text": [
            "1266.6419730186462\n"
          ]
        },
        {
          "name": "stderr",
          "output_type": "stream",
          "text": [
            "\r 30%|███       | 3/10 [00:06<00:14,  2.01s/it]"
          ]
        },
        {
          "name": "stdout",
          "output_type": "stream",
          "text": [
            "1203.6748414039612\n"
          ]
        },
        {
          "name": "stderr",
          "output_type": "stream",
          "text": [
            "\r 40%|████      | 4/10 [00:07<00:11,  1.97s/it]"
          ]
        },
        {
          "name": "stdout",
          "output_type": "stream",
          "text": [
            "1163.973590373993\n"
          ]
        },
        {
          "name": "stderr",
          "output_type": "stream",
          "text": [
            "\r 50%|█████     | 5/10 [00:10<00:10,  2.07s/it]"
          ]
        },
        {
          "name": "stdout",
          "output_type": "stream",
          "text": [
            "1135.5395143032074\n"
          ]
        },
        {
          "name": "stderr",
          "output_type": "stream",
          "text": [
            "\r 60%|██████    | 6/10 [00:12<00:08,  2.19s/it]"
          ]
        },
        {
          "name": "stdout",
          "output_type": "stream",
          "text": [
            "1114.212693452835\n"
          ]
        },
        {
          "name": "stderr",
          "output_type": "stream",
          "text": [
            "\r 70%|███████   | 7/10 [00:14<00:06,  2.11s/it]"
          ]
        },
        {
          "name": "stdout",
          "output_type": "stream",
          "text": [
            "1097.8464777469635\n"
          ]
        },
        {
          "name": "stderr",
          "output_type": "stream",
          "text": [
            "\r 80%|████████  | 8/10 [00:16<00:04,  2.10s/it]"
          ]
        },
        {
          "name": "stdout",
          "output_type": "stream",
          "text": [
            "1083.8898463249207\n"
          ]
        },
        {
          "name": "stderr",
          "output_type": "stream",
          "text": [
            "\r 90%|█████████ | 9/10 [00:18<00:02,  2.06s/it]"
          ]
        },
        {
          "name": "stdout",
          "output_type": "stream",
          "text": [
            "1072.728882074356\n"
          ]
        },
        {
          "name": "stderr",
          "output_type": "stream",
          "text": [
            "100%|██████████| 10/10 [00:20<00:00,  2.05s/it]"
          ]
        },
        {
          "name": "stdout",
          "output_type": "stream",
          "text": [
            "1063.0960521697998\n",
            "good 47\n",
            "  waffle 1.725\n",
            "  filling 1.740\n",
            "  lunch 1.749\n",
            "  ramen 1.752\n",
            "  lemonade 1.757\n",
            "bad 201\n",
            "  realized 1.746\n",
            "  saying 1.754\n",
            "  nutritional 1.767\n",
            "  contain 1.784\n",
            "  gets 1.785\n",
            "cookie 504\n",
            "  protein 1.717\n",
            "  syrup 1.728\n",
            "  at 1.730\n",
            "  haven't 1.749\n",
            "  nutritional 1.753\n",
            "jelly 351\n",
            "  best 1.730\n",
            "  way 1.749\n",
            "  fresh 1.761\n",
            "  clam 1.761\n",
            "  traditional 1.765\n",
            "dog 925\n",
            "  disgusting 1.697\n",
            "  allergies 1.712\n",
            "  bars 1.727\n",
            "  meals 1.737\n",
            "  he 1.750\n",
            "the 36\n",
            "  spoiled 1.757\n",
            "  individual 1.760\n",
            "  first 1.761\n",
            "  their 1.770\n",
            "  likely 1.773\n",
            "3 289\n",
            "  flavour 1.732\n",
            "  later 1.736\n",
            "  sweetener 1.763\n",
            "  11 1.768\n",
            "  acid 1.775\n",
            "\n",
            "\n",
            "Embedding dim:  650\n"
          ]
        },
        {
          "name": "stderr",
          "output_type": "stream",
          "text": [
            "\n",
            " 10%|█         | 1/10 [00:02<00:23,  2.64s/it]"
          ]
        },
        {
          "name": "stdout",
          "output_type": "stream",
          "text": [
            "1445.4923901557922\n"
          ]
        },
        {
          "name": "stderr",
          "output_type": "stream",
          "text": [
            "\r 20%|██        | 2/10 [00:04<00:17,  2.24s/it]"
          ]
        },
        {
          "name": "stdout",
          "output_type": "stream",
          "text": [
            "1261.3402905464172\n"
          ]
        },
        {
          "name": "stderr",
          "output_type": "stream",
          "text": [
            "\r 30%|███       | 3/10 [00:06<00:15,  2.19s/it]"
          ]
        },
        {
          "name": "stdout",
          "output_type": "stream",
          "text": [
            "1198.483036994934\n"
          ]
        },
        {
          "name": "stderr",
          "output_type": "stream",
          "text": [
            "\r 40%|████      | 4/10 [00:08<00:12,  2.11s/it]"
          ]
        },
        {
          "name": "stdout",
          "output_type": "stream",
          "text": [
            "1159.3377041816711\n"
          ]
        },
        {
          "name": "stderr",
          "output_type": "stream",
          "text": [
            "\r 50%|█████     | 5/10 [00:10<00:10,  2.07s/it]"
          ]
        },
        {
          "name": "stdout",
          "output_type": "stream",
          "text": [
            "1131.5087656974792\n"
          ]
        },
        {
          "name": "stderr",
          "output_type": "stream",
          "text": [
            "\r 60%|██████    | 6/10 [00:13<00:09,  2.26s/it]"
          ]
        },
        {
          "name": "stdout",
          "output_type": "stream",
          "text": [
            "1110.58864736557\n"
          ]
        },
        {
          "name": "stderr",
          "output_type": "stream",
          "text": [
            "\r 70%|███████   | 7/10 [00:15<00:06,  2.24s/it]"
          ]
        },
        {
          "name": "stdout",
          "output_type": "stream",
          "text": [
            "1093.9086875915527\n"
          ]
        },
        {
          "name": "stderr",
          "output_type": "stream",
          "text": [
            "\r 80%|████████  | 8/10 [00:17<00:04,  2.17s/it]"
          ]
        },
        {
          "name": "stdout",
          "output_type": "stream",
          "text": [
            "1080.160574913025\n"
          ]
        },
        {
          "name": "stderr",
          "output_type": "stream",
          "text": [
            "\r 90%|█████████ | 9/10 [00:19<00:02,  2.15s/it]"
          ]
        },
        {
          "name": "stdout",
          "output_type": "stream",
          "text": [
            "1069.0708482265472\n"
          ]
        },
        {
          "name": "stderr",
          "output_type": "stream",
          "text": [
            "100%|██████████| 10/10 [00:21<00:00,  2.16s/it]"
          ]
        },
        {
          "name": "stdout",
          "output_type": "stream",
          "text": [
            "1059.684104681015\n",
            "good 47\n",
            "  dip 1.716\n",
            "  effects 1.758\n",
            "  weak 1.769\n",
            "  offered 1.771\n",
            "  sticks 1.771\n",
            "bad 201\n",
            "  best 1.759\n",
            "  save 1.770\n",
            "  pleasant 1.771\n",
            "  bites 1.775\n",
            "  show 1.777\n",
            "cookie 504\n",
            "  com 1.693\n",
            "  shape 1.716\n",
            "  another 1.726\n",
            "  baking 1.760\n",
            "  takes 1.761\n",
            "jelly 351\n",
            "  table 1.736\n",
            "  you're 1.756\n",
            "  75 1.762\n",
            "  truly 1.769\n",
            "  record 1.777\n",
            "dog 925\n",
            "  reviewers 1.720\n",
            "  maple 1.763\n",
            "  split 1.766\n",
            "  preference 1.767\n",
            "  site 1.775\n",
            "the 36\n",
            "  only 1.726\n",
            "  half 1.745\n",
            "  roast 1.768\n",
            "  drinking 1.769\n",
            "  earth's 1.770\n",
            "3 289\n",
            "  i'll 1.746\n",
            "  95 1.748\n",
            "  gifts 1.757\n",
            "  realized 1.758\n",
            "  servings 1.775\n",
            "\n",
            "\n",
            "Embedding dim:  700\n"
          ]
        },
        {
          "name": "stderr",
          "output_type": "stream",
          "text": [
            "\n",
            " 10%|█         | 1/10 [00:02<00:20,  2.31s/it]"
          ]
        },
        {
          "name": "stdout",
          "output_type": "stream",
          "text": [
            "1440.7683205604553\n"
          ]
        },
        {
          "name": "stderr",
          "output_type": "stream",
          "text": [
            "\r 20%|██        | 2/10 [00:04<00:19,  2.39s/it]"
          ]
        },
        {
          "name": "stdout",
          "output_type": "stream",
          "text": [
            "1258.8690009117126\n"
          ]
        },
        {
          "name": "stderr",
          "output_type": "stream",
          "text": [
            "\r 30%|███       | 3/10 [00:06<00:15,  2.21s/it]"
          ]
        },
        {
          "name": "stdout",
          "output_type": "stream",
          "text": [
            "1196.2732691764832\n"
          ]
        },
        {
          "name": "stderr",
          "output_type": "stream",
          "text": [
            "\r 40%|████      | 4/10 [00:08<00:12,  2.12s/it]"
          ]
        },
        {
          "name": "stdout",
          "output_type": "stream",
          "text": [
            "1156.8456258773804\n"
          ]
        },
        {
          "name": "stderr",
          "output_type": "stream",
          "text": [
            "\r 50%|█████     | 5/10 [00:10<00:10,  2.12s/it]"
          ]
        },
        {
          "name": "stdout",
          "output_type": "stream",
          "text": [
            "1128.6521673202515\n"
          ]
        },
        {
          "name": "stderr",
          "output_type": "stream",
          "text": [
            "\r 60%|██████    | 6/10 [00:12<00:08,  2.08s/it]"
          ]
        },
        {
          "name": "stdout",
          "output_type": "stream",
          "text": [
            "1107.8324358463287\n"
          ]
        },
        {
          "name": "stderr",
          "output_type": "stream",
          "text": [
            "\r 70%|███████   | 7/10 [00:15<00:06,  2.29s/it]"
          ]
        },
        {
          "name": "stdout",
          "output_type": "stream",
          "text": [
            "1091.3387746810913\n"
          ]
        },
        {
          "name": "stderr",
          "output_type": "stream",
          "text": [
            "\r 80%|████████  | 8/10 [00:17<00:04,  2.20s/it]"
          ]
        },
        {
          "name": "stdout",
          "output_type": "stream",
          "text": [
            "1077.791523694992\n"
          ]
        },
        {
          "name": "stderr",
          "output_type": "stream",
          "text": [
            "\r 90%|█████████ | 9/10 [00:19<00:02,  2.18s/it]"
          ]
        },
        {
          "name": "stdout",
          "output_type": "stream",
          "text": [
            "1066.7308690547943\n"
          ]
        },
        {
          "name": "stderr",
          "output_type": "stream",
          "text": [
            "100%|██████████| 10/10 [00:21<00:00,  2.18s/it]"
          ]
        },
        {
          "name": "stdout",
          "output_type": "stream",
          "text": [
            "1057.6337113380432\n",
            "good 47\n",
            "  incredible 1.769\n",
            "  otherwise 1.785\n",
            "  sampler 1.787\n",
            "  them 1.788\n",
            "  enjoyable 1.797\n",
            "bad 201\n",
            "  needs 1.743\n",
            "  tossed 1.785\n",
            "  gave 1.785\n",
            "  bottle 1.787\n",
            "  acidic 1.790\n",
            "cookie 504\n",
            "  cardboard 1.755\n",
            "  popchips 1.768\n",
            "  jack 1.768\n",
            "  cause 1.774\n",
            "  creamer 1.775\n",
            "jelly 351\n",
            "  leaves 1.748\n",
            "  rica 1.753\n",
            "  creamer 1.763\n",
            "  limited 1.768\n",
            "  grey 1.778\n",
            "dog 925\n",
            "  jalapeno 1.776\n",
            "  besides 1.779\n",
            "  waffles 1.788\n",
            "  fit 1.795\n",
            "  product 1.801\n",
            "the 36\n",
            "  traditional 1.776\n",
            "  140 1.784\n",
            "  smoother 1.790\n",
            "  between 1.791\n",
            "  whipped 1.791\n",
            "3 289\n",
            "  pasta 1.717\n",
            "  five 1.727\n",
            "  together 1.755\n",
            "  hair 1.759\n",
            "  quite 1.762\n",
            "\n",
            "\n",
            "Embedding dim:  750\n"
          ]
        },
        {
          "name": "stderr",
          "output_type": "stream",
          "text": [
            "\n",
            " 10%|█         | 1/10 [00:02<00:18,  2.05s/it]"
          ]
        },
        {
          "name": "stdout",
          "output_type": "stream",
          "text": [
            "1442.6413660049438\n"
          ]
        },
        {
          "name": "stderr",
          "output_type": "stream",
          "text": [
            "\r 20%|██        | 2/10 [00:04<00:19,  2.40s/it]"
          ]
        },
        {
          "name": "stdout",
          "output_type": "stream",
          "text": [
            "1256.684986114502\n"
          ]
        },
        {
          "name": "stderr",
          "output_type": "stream",
          "text": [
            "\r 30%|███       | 3/10 [00:06<00:16,  2.29s/it]"
          ]
        },
        {
          "name": "stdout",
          "output_type": "stream",
          "text": [
            "1193.490728378296\n"
          ]
        },
        {
          "name": "stderr",
          "output_type": "stream",
          "text": [
            "\r 40%|████      | 4/10 [00:08<00:13,  2.19s/it]"
          ]
        },
        {
          "name": "stdout",
          "output_type": "stream",
          "text": [
            "1154.5854935646057\n"
          ]
        },
        {
          "name": "stderr",
          "output_type": "stream",
          "text": [
            "\r 50%|█████     | 5/10 [00:10<00:10,  2.13s/it]"
          ]
        },
        {
          "name": "stdout",
          "output_type": "stream",
          "text": [
            "1127.1899619102478\n"
          ]
        },
        {
          "name": "stderr",
          "output_type": "stream",
          "text": [
            "\r 60%|██████    | 6/10 [00:13<00:08,  2.14s/it]"
          ]
        },
        {
          "name": "stdout",
          "output_type": "stream",
          "text": [
            "1106.3141317367554\n"
          ]
        },
        {
          "name": "stderr",
          "output_type": "stream",
          "text": [
            "\r 70%|███████   | 7/10 [00:15<00:06,  2.19s/it]"
          ]
        },
        {
          "name": "stdout",
          "output_type": "stream",
          "text": [
            "1090.2215478420258\n"
          ]
        },
        {
          "name": "stderr",
          "output_type": "stream",
          "text": [
            "\r 80%|████████  | 8/10 [00:17<00:04,  2.25s/it]"
          ]
        },
        {
          "name": "stdout",
          "output_type": "stream",
          "text": [
            "1076.5136489868164\n"
          ]
        },
        {
          "name": "stderr",
          "output_type": "stream",
          "text": [
            "\r 90%|█████████ | 9/10 [00:19<00:02,  2.22s/it]"
          ]
        },
        {
          "name": "stdout",
          "output_type": "stream",
          "text": [
            "1065.5523235797882\n"
          ]
        },
        {
          "name": "stderr",
          "output_type": "stream",
          "text": [
            "100%|██████████| 10/10 [00:21<00:00,  2.20s/it]"
          ]
        },
        {
          "name": "stdout",
          "output_type": "stream",
          "text": [
            "1056.1178584098816\n",
            "good 47\n",
            "  love 1.702\n",
            "  ridiculous 1.735\n",
            "  ended 1.759\n",
            "  where 1.763\n",
            "  year 1.785\n",
            "bad 201\n",
            "  eggs 1.743\n",
            "  talking 1.781\n",
            "  thanks 1.785\n",
            "  amazing 1.788\n",
            "  tough 1.791\n",
            "cookie 504\n",
            "  setting 1.720\n",
            "  mccann's 1.757\n",
            "  pets 1.783\n",
            "  house 1.788\n",
            "  gift 1.790\n",
            "jelly 351\n",
            "  17 1.684\n",
            "  tassimo 1.730\n",
            "  gravy 1.744\n",
            "  cocoa 1.748\n",
            "  wild 1.762\n",
            "dog 925\n",
            "  b 1.730\n",
            "  salad 1.737\n",
            "  afraid 1.773\n",
            "  what 1.782\n",
            "  under 1.787\n",
            "the 36\n",
            "  your 1.777\n",
            "  either 1.779\n",
            "  ice 1.780\n",
            "  bucks 1.782\n",
            "  wonderful 1.785\n",
            "3 289\n",
            "  bowl 1.761\n",
            "  subscribe 1.767\n",
            "  body 1.771\n",
            "  9 1.775\n",
            "  concerned 1.781\n",
            "\n",
            "\n",
            "Embedding dim:  800\n"
          ]
        },
        {
          "name": "stderr",
          "output_type": "stream",
          "text": [
            "\n",
            " 10%|█         | 1/10 [00:02<00:19,  2.18s/it]"
          ]
        },
        {
          "name": "stdout",
          "output_type": "stream",
          "text": [
            "1435.7343063354492\n"
          ]
        },
        {
          "name": "stderr",
          "output_type": "stream",
          "text": [
            "\r 20%|██        | 2/10 [00:04<00:19,  2.38s/it]"
          ]
        },
        {
          "name": "stdout",
          "output_type": "stream",
          "text": [
            "1252.6848907470703\n"
          ]
        },
        {
          "name": "stderr",
          "output_type": "stream",
          "text": [
            "\r 30%|███       | 3/10 [00:07<00:16,  2.35s/it]"
          ]
        },
        {
          "name": "stdout",
          "output_type": "stream",
          "text": [
            "1190.908679008484\n"
          ]
        },
        {
          "name": "stderr",
          "output_type": "stream",
          "text": [
            "\r 40%|████      | 4/10 [00:09<00:13,  2.28s/it]"
          ]
        },
        {
          "name": "stdout",
          "output_type": "stream",
          "text": [
            "1151.6429181098938\n"
          ]
        },
        {
          "name": "stderr",
          "output_type": "stream",
          "text": [
            "\r 50%|█████     | 5/10 [00:11<00:10,  2.19s/it]"
          ]
        },
        {
          "name": "stdout",
          "output_type": "stream",
          "text": [
            "1124.1252880096436\n"
          ]
        },
        {
          "name": "stderr",
          "output_type": "stream",
          "text": [
            "\r 60%|██████    | 6/10 [00:13<00:08,  2.13s/it]"
          ]
        },
        {
          "name": "stdout",
          "output_type": "stream",
          "text": [
            "1103.7488493919373\n"
          ]
        },
        {
          "name": "stderr",
          "output_type": "stream",
          "text": [
            "\r 70%|███████   | 7/10 [00:15<00:06,  2.14s/it]"
          ]
        },
        {
          "name": "stdout",
          "output_type": "stream",
          "text": [
            "1087.749317407608\n"
          ]
        },
        {
          "name": "stderr",
          "output_type": "stream",
          "text": [
            "\r 80%|████████  | 8/10 [00:18<00:04,  2.31s/it]"
          ]
        },
        {
          "name": "stdout",
          "output_type": "stream",
          "text": [
            "1074.6321935653687\n"
          ]
        },
        {
          "name": "stderr",
          "output_type": "stream",
          "text": [
            "\r 90%|█████████ | 9/10 [00:20<00:02,  2.22s/it]"
          ]
        },
        {
          "name": "stdout",
          "output_type": "stream",
          "text": [
            "1063.5474569797516\n"
          ]
        },
        {
          "name": "stderr",
          "output_type": "stream",
          "text": [
            "100%|██████████| 10/10 [00:22<00:00,  2.23s/it]"
          ]
        },
        {
          "name": "stdout",
          "output_type": "stream",
          "text": [
            "1054.5194075107574\n",
            "good 47\n",
            "  chicken 1.719\n",
            "  stated 1.755\n",
            "  hate 1.772\n",
            "  mic 1.786\n",
            "  mixes 1.788\n",
            "bad 201\n",
            "  doubt 1.754\n",
            "  science 1.759\n",
            "  nut 1.780\n",
            "  rich 1.783\n",
            "  despite 1.793\n",
            "cookie 504\n",
            "  crust 1.717\n",
            "  pot 1.724\n",
            "  level 1.755\n",
            "  pounds 1.777\n",
            "  times 1.788\n",
            "jelly 351\n",
            "  market 1.776\n",
            "  sounds 1.782\n",
            "  garbage 1.790\n",
            "  pay 1.799\n",
            "  box 1.807\n",
            "dog 925\n",
            "  past 1.776\n",
            "  number 1.791\n",
            "  crush 1.791\n",
            "  weight 1.802\n",
            "  experienced 1.802\n",
            "the 36\n",
            "  star 1.793\n",
            "  ingredient 1.799\n",
            "  flakes 1.802\n",
            "  will 1.806\n",
            "  1 1.809\n",
            "3 289\n",
            "  flowers 1.742\n",
            "  safe 1.764\n",
            "  pineapple 1.775\n",
            "  10 1.785\n",
            "  0 1.789\n",
            "\n",
            "\n",
            "Embedding dim:  850\n"
          ]
        },
        {
          "name": "stderr",
          "output_type": "stream",
          "text": [
            "\n",
            " 10%|█         | 1/10 [00:02<00:18,  2.06s/it]"
          ]
        },
        {
          "name": "stdout",
          "output_type": "stream",
          "text": [
            "1435.429769039154\n"
          ]
        },
        {
          "name": "stderr",
          "output_type": "stream",
          "text": [
            "\r 20%|██        | 2/10 [00:04<00:16,  2.04s/it]"
          ]
        },
        {
          "name": "stdout",
          "output_type": "stream",
          "text": [
            "1251.0158939361572\n"
          ]
        },
        {
          "name": "stderr",
          "output_type": "stream",
          "text": [
            "\r 30%|███       | 3/10 [00:06<00:16,  2.38s/it]"
          ]
        },
        {
          "name": "stdout",
          "output_type": "stream",
          "text": [
            "1188.4293231964111\n"
          ]
        },
        {
          "name": "stderr",
          "output_type": "stream",
          "text": [
            "\r 40%|████      | 4/10 [00:08<00:13,  2.24s/it]"
          ]
        },
        {
          "name": "stdout",
          "output_type": "stream",
          "text": [
            "1149.5745453834534\n"
          ]
        },
        {
          "name": "stderr",
          "output_type": "stream",
          "text": [
            "\r 50%|█████     | 5/10 [00:11<00:11,  2.22s/it]"
          ]
        },
        {
          "name": "stdout",
          "output_type": "stream",
          "text": [
            "1122.6860039234161\n"
          ]
        },
        {
          "name": "stderr",
          "output_type": "stream",
          "text": [
            "\r 60%|██████    | 6/10 [00:13<00:08,  2.20s/it]"
          ]
        },
        {
          "name": "stdout",
          "output_type": "stream",
          "text": [
            "1102.5137057304382\n"
          ]
        },
        {
          "name": "stderr",
          "output_type": "stream",
          "text": [
            "\r 70%|███████   | 7/10 [00:15<00:06,  2.14s/it]"
          ]
        },
        {
          "name": "stdout",
          "output_type": "stream",
          "text": [
            "1086.4188776016235\n"
          ]
        },
        {
          "name": "stderr",
          "output_type": "stream",
          "text": [
            "\r 80%|████████  | 8/10 [00:17<00:04,  2.26s/it]"
          ]
        },
        {
          "name": "stdout",
          "output_type": "stream",
          "text": [
            "1073.2598950862885\n"
          ]
        },
        {
          "name": "stderr",
          "output_type": "stream",
          "text": [
            "\r 90%|█████████ | 9/10 [00:20<00:02,  2.26s/it]"
          ]
        },
        {
          "name": "stdout",
          "output_type": "stream",
          "text": [
            "1062.7115921974182\n"
          ]
        },
        {
          "name": "stderr",
          "output_type": "stream",
          "text": [
            "100%|██████████| 10/10 [00:22<00:00,  2.21s/it]"
          ]
        },
        {
          "name": "stdout",
          "output_type": "stream",
          "text": [
            "1053.4654943943024\n",
            "good 47\n",
            "  on 1.763\n",
            "  served 1.777\n",
            "  paste 1.778\n",
            "  various 1.790\n",
            "  simple 1.802\n",
            "bad 201\n",
            "  tell 1.746\n",
            "  rose 1.754\n",
            "  energy 1.763\n",
            "  ingredients 1.779\n",
            "  mom 1.784\n",
            "cookie 504\n",
            "  best 1.735\n",
            "  stars 1.772\n",
            "  combination 1.787\n",
            "  ways 1.804\n",
            "  marinade 1.815\n",
            "jelly 351\n",
            "  tea 1.742\n",
            "  bread 1.748\n",
            "  prefer 1.788\n",
            "  bad 1.791\n",
            "  soft 1.791\n",
            "dog 925\n",
            "  breath 1.705\n",
            "  always 1.787\n",
            "  spoiled 1.791\n",
            "  which 1.791\n",
            "  salads 1.797\n",
            "the 36\n",
            "  quickly 1.780\n",
            "  2012 1.796\n",
            "  provide 1.813\n",
            "  anti 1.815\n",
            "  n 1.823\n",
            "3 289\n",
            "  four 1.767\n",
            "  suggest 1.788\n",
            "  another 1.792\n",
            "  fridge 1.794\n",
            "  babies 1.797\n",
            "\n",
            "\n",
            "Embedding dim:  900\n"
          ]
        },
        {
          "name": "stderr",
          "output_type": "stream",
          "text": [
            "\n",
            " 10%|█         | 1/10 [00:02<00:19,  2.19s/it]"
          ]
        },
        {
          "name": "stdout",
          "output_type": "stream",
          "text": [
            "1429.4413046836853\n"
          ]
        },
        {
          "name": "stderr",
          "output_type": "stream",
          "text": [
            "\r 20%|██        | 2/10 [00:04<00:16,  2.11s/it]"
          ]
        },
        {
          "name": "stdout",
          "output_type": "stream",
          "text": [
            "1248.416347026825\n"
          ]
        },
        {
          "name": "stderr",
          "output_type": "stream",
          "text": [
            "\r 30%|███       | 3/10 [00:06<00:16,  2.30s/it]"
          ]
        },
        {
          "name": "stdout",
          "output_type": "stream",
          "text": [
            "1186.613642692566\n"
          ]
        },
        {
          "name": "stderr",
          "output_type": "stream",
          "text": [
            "\r 40%|████      | 4/10 [00:09<00:13,  2.31s/it]"
          ]
        },
        {
          "name": "stdout",
          "output_type": "stream",
          "text": [
            "1148.343948841095\n"
          ]
        },
        {
          "name": "stderr",
          "output_type": "stream",
          "text": [
            "\r 50%|█████     | 5/10 [00:11<00:11,  2.21s/it]"
          ]
        },
        {
          "name": "stdout",
          "output_type": "stream",
          "text": [
            "1121.2474884986877\n"
          ]
        },
        {
          "name": "stderr",
          "output_type": "stream",
          "text": [
            "\r 60%|██████    | 6/10 [00:13<00:08,  2.15s/it]"
          ]
        },
        {
          "name": "stdout",
          "output_type": "stream",
          "text": [
            "1100.6422011852264\n"
          ]
        },
        {
          "name": "stderr",
          "output_type": "stream",
          "text": [
            "\r 70%|███████   | 7/10 [00:15<00:06,  2.16s/it]"
          ]
        },
        {
          "name": "stdout",
          "output_type": "stream",
          "text": [
            "1084.8325657844543\n"
          ]
        },
        {
          "name": "stderr",
          "output_type": "stream",
          "text": [
            "\r 80%|████████  | 8/10 [00:17<00:04,  2.12s/it]"
          ]
        },
        {
          "name": "stdout",
          "output_type": "stream",
          "text": [
            "1071.9721148014069\n"
          ]
        },
        {
          "name": "stderr",
          "output_type": "stream",
          "text": [
            "\r 90%|█████████ | 9/10 [00:20<00:02,  2.40s/it]"
          ]
        },
        {
          "name": "stdout",
          "output_type": "stream",
          "text": [
            "1061.1141619682312\n"
          ]
        },
        {
          "name": "stderr",
          "output_type": "stream",
          "text": [
            "100%|██████████| 10/10 [00:22<00:00,  2.25s/it]"
          ]
        },
        {
          "name": "stdout",
          "output_type": "stream",
          "text": [
            "1052.1436657905579\n",
            "good 47\n",
            "  watch 1.772\n",
            "  where 1.800\n",
            "  part 1.801\n",
            "  meet 1.813\n",
            "  caramels 1.815\n",
            "bad 201\n",
            "  pork 1.775\n",
            "  better 1.787\n",
            "  spoiled 1.790\n",
            "  bitterness 1.792\n",
            "  she's 1.795\n",
            "cookie 504\n",
            "  fats 1.765\n",
            "  carries 1.788\n",
            "  pudding 1.791\n",
            "  calcium 1.794\n",
            "  sodas 1.797\n",
            "jelly 351\n",
            "  cups 1.792\n",
            "  choices 1.799\n",
            "  original 1.802\n",
            "  disease 1.807\n",
            "  seem 1.811\n",
            "dog 925\n",
            "  pancakes 1.759\n",
            "  flour 1.778\n",
            "  8oz 1.779\n",
            "  read 1.779\n",
            "  solid 1.780\n",
            "the 36\n",
            "  jack 1.764\n",
            "  kinda 1.775\n",
            "  such 1.785\n",
            "  we 1.801\n",
            "  fun 1.803\n",
            "3 289\n",
            "  around 1.769\n",
            "  hole 1.776\n",
            "  oven 1.777\n",
            "  cool 1.795\n",
            "  starting 1.804\n",
            "\n",
            "\n",
            "Embedding dim:  950\n"
          ]
        },
        {
          "name": "stderr",
          "output_type": "stream",
          "text": [
            "\n",
            " 10%|█         | 1/10 [00:02<00:18,  2.05s/it]"
          ]
        },
        {
          "name": "stdout",
          "output_type": "stream",
          "text": [
            "1427.7536635398865\n"
          ]
        },
        {
          "name": "stderr",
          "output_type": "stream",
          "text": [
            "\r 20%|██        | 2/10 [00:04<00:17,  2.15s/it]"
          ]
        },
        {
          "name": "stdout",
          "output_type": "stream",
          "text": [
            "1245.862467288971\n"
          ]
        },
        {
          "name": "stderr",
          "output_type": "stream",
          "text": [
            "\r 30%|███       | 3/10 [00:06<00:15,  2.18s/it]"
          ]
        },
        {
          "name": "stdout",
          "output_type": "stream",
          "text": [
            "1183.885166168213\n"
          ]
        },
        {
          "name": "stderr",
          "output_type": "stream",
          "text": [
            "\r 40%|████      | 4/10 [00:09<00:13,  2.33s/it]"
          ]
        },
        {
          "name": "stdout",
          "output_type": "stream",
          "text": [
            "1145.824477672577\n"
          ]
        },
        {
          "name": "stderr",
          "output_type": "stream",
          "text": [
            "\r 50%|█████     | 5/10 [00:11<00:11,  2.30s/it]"
          ]
        },
        {
          "name": "stdout",
          "output_type": "stream",
          "text": [
            "1119.0286374092102\n"
          ]
        },
        {
          "name": "stderr",
          "output_type": "stream",
          "text": [
            "\r 60%|██████    | 6/10 [00:13<00:08,  2.21s/it]"
          ]
        },
        {
          "name": "stdout",
          "output_type": "stream",
          "text": [
            "1098.8499405384064\n"
          ]
        },
        {
          "name": "stderr",
          "output_type": "stream",
          "text": [
            "\r 70%|███████   | 7/10 [00:15<00:06,  2.16s/it]"
          ]
        },
        {
          "name": "stdout",
          "output_type": "stream",
          "text": [
            "1083.2840762138367\n"
          ]
        },
        {
          "name": "stderr",
          "output_type": "stream",
          "text": [
            "\r 80%|████████  | 8/10 [00:17<00:04,  2.18s/it]"
          ]
        },
        {
          "name": "stdout",
          "output_type": "stream",
          "text": [
            "1070.3010828495026\n"
          ]
        },
        {
          "name": "stderr",
          "output_type": "stream",
          "text": [
            "\r 90%|█████████ | 9/10 [00:20<00:02,  2.31s/it]"
          ]
        },
        {
          "name": "stdout",
          "output_type": "stream",
          "text": [
            "1059.4330489635468\n"
          ]
        },
        {
          "name": "stderr",
          "output_type": "stream",
          "text": [
            "100%|██████████| 10/10 [00:22<00:00,  2.23s/it]"
          ]
        },
        {
          "name": "stdout",
          "output_type": "stream",
          "text": [
            "1050.2841403484344\n",
            "good 47\n",
            "  caused 1.785\n",
            "  results 1.801\n",
            "  amazing 1.803\n",
            "  24 1.807\n",
            "  though 1.814\n",
            "bad 201\n",
            "  guess 1.727\n",
            "  digest 1.789\n",
            "  difficult 1.803\n",
            "  remaining 1.811\n",
            "  tossed 1.814\n",
            "cookie 504\n",
            "  2012 1.781\n",
            "  vegetable 1.787\n",
            "  potato 1.796\n",
            "  feeling 1.805\n",
            "  back 1.806\n",
            "jelly 351\n",
            "  per 1.758\n",
            "  thus 1.799\n",
            "  believe 1.800\n",
            "  most 1.806\n",
            "  lollipops 1.817\n",
            "dog 925\n",
            "  whole 1.790\n",
            "  animal 1.790\n",
            "  follow 1.799\n",
            "  required 1.803\n",
            "  lays 1.805\n",
            "the 36\n",
            "  adding 1.769\n",
            "  chocolate 1.780\n",
            "  during 1.802\n",
            "  packages 1.804\n",
            "  shipped 1.809\n",
            "3 289\n",
            "  sealed 1.771\n",
            "  owner 1.800\n",
            "  jalapeno 1.804\n",
            "  salad 1.808\n",
            "  pan 1.814\n"
          ]
        },
        {
          "name": "stderr",
          "output_type": "stream",
          "text": [
            "\n"
          ]
        }
      ],
      "source": [
        "for i in range(50, 1000, 50):\n",
        "  print('\\n\\nEmbedding dim: ', i)\n",
        "  reps_word2vec = learn_reps_word2vec(train_reviews, 2, i, 10, 1024)\n",
        "  lab_util.show_similar_words(vectorizer.tokenizer, reps_word2vec, show_tokens)"
      ]
    },
    {
      "cell_type": "code",
      "execution_count": 69,
      "metadata": {
        "colab": {
          "base_uri": "https://localhost:8080/"
        },
        "id": "nq1wGfD4n5BP",
        "outputId": "70ed9159-1f9e-4214-9e46-49ae67bc12e0"
      },
      "outputs": [
        {
          "name": "stdout",
          "output_type": "stream",
          "text": [
            "lsa features, 20 examples\n",
            "0.568 \n",
            "\n",
            "word2vec features, 20 examples\n"
          ]
        },
        {
          "name": "stderr",
          "output_type": "stream",
          "text": [
            "/usr/local/lib/python3.10/dist-packages/sklearn/linear_model/_logistic.py:1173: FutureWarning: `penalty='none'`has been deprecated in 1.2 and will be removed in 1.4. To keep the past behaviour, set `penalty=None`.\n",
            "  warnings.warn(\n",
            "/usr/local/lib/python3.10/dist-packages/sklearn/linear_model/_logistic.py:1173: FutureWarning: `penalty='none'`has been deprecated in 1.2 and will be removed in 1.4. To keep the past behaviour, set `penalty=None`.\n",
            "  warnings.warn(\n"
          ]
        },
        {
          "name": "stdout",
          "output_type": "stream",
          "text": [
            "0.552 \n",
            "\n",
            "lsa features, 40 examples\n",
            "0.618 \n",
            "\n",
            "word2vec features, 40 examples\n"
          ]
        },
        {
          "name": "stderr",
          "output_type": "stream",
          "text": [
            "/usr/local/lib/python3.10/dist-packages/sklearn/linear_model/_logistic.py:1173: FutureWarning: `penalty='none'`has been deprecated in 1.2 and will be removed in 1.4. To keep the past behaviour, set `penalty=None`.\n",
            "  warnings.warn(\n",
            "/usr/local/lib/python3.10/dist-packages/sklearn/linear_model/_logistic.py:1173: FutureWarning: `penalty='none'`has been deprecated in 1.2 and will be removed in 1.4. To keep the past behaviour, set `penalty=None`.\n",
            "  warnings.warn(\n"
          ]
        },
        {
          "name": "stdout",
          "output_type": "stream",
          "text": [
            "0.606 \n",
            "\n",
            "lsa features, 60 examples\n",
            "0.646 \n",
            "\n",
            "word2vec features, 60 examples\n"
          ]
        },
        {
          "name": "stderr",
          "output_type": "stream",
          "text": [
            "/usr/local/lib/python3.10/dist-packages/sklearn/linear_model/_logistic.py:1173: FutureWarning: `penalty='none'`has been deprecated in 1.2 and will be removed in 1.4. To keep the past behaviour, set `penalty=None`.\n",
            "  warnings.warn(\n",
            "/usr/local/lib/python3.10/dist-packages/sklearn/linear_model/_logistic.py:1173: FutureWarning: `penalty='none'`has been deprecated in 1.2 and will be removed in 1.4. To keep the past behaviour, set `penalty=None`.\n",
            "  warnings.warn(\n"
          ]
        },
        {
          "name": "stdout",
          "output_type": "stream",
          "text": [
            "0.622 \n",
            "\n",
            "lsa features, 80 examples\n",
            "0.664 \n",
            "\n",
            "word2vec features, 80 examples\n"
          ]
        },
        {
          "name": "stderr",
          "output_type": "stream",
          "text": [
            "/usr/local/lib/python3.10/dist-packages/sklearn/linear_model/_logistic.py:1173: FutureWarning: `penalty='none'`has been deprecated in 1.2 and will be removed in 1.4. To keep the past behaviour, set `penalty=None`.\n",
            "  warnings.warn(\n",
            "/usr/local/lib/python3.10/dist-packages/sklearn/linear_model/_logistic.py:1173: FutureWarning: `penalty='none'`has been deprecated in 1.2 and will be removed in 1.4. To keep the past behaviour, set `penalty=None`.\n",
            "  warnings.warn(\n"
          ]
        },
        {
          "name": "stdout",
          "output_type": "stream",
          "text": [
            "0.634 \n",
            "\n",
            "lsa features, 100 examples\n",
            "0.682 \n",
            "\n",
            "word2vec features, 100 examples\n"
          ]
        },
        {
          "name": "stderr",
          "output_type": "stream",
          "text": [
            "/usr/local/lib/python3.10/dist-packages/sklearn/linear_model/_logistic.py:1173: FutureWarning: `penalty='none'`has been deprecated in 1.2 and will be removed in 1.4. To keep the past behaviour, set `penalty=None`.\n",
            "  warnings.warn(\n",
            "/usr/local/lib/python3.10/dist-packages/sklearn/linear_model/_logistic.py:1173: FutureWarning: `penalty='none'`has been deprecated in 1.2 and will be removed in 1.4. To keep the past behaviour, set `penalty=None`.\n",
            "  warnings.warn(\n"
          ]
        },
        {
          "name": "stdout",
          "output_type": "stream",
          "text": [
            "0.65 \n",
            "\n",
            "lsa features, 120 examples\n",
            "0.68 \n",
            "\n",
            "word2vec features, 120 examples\n"
          ]
        },
        {
          "name": "stderr",
          "output_type": "stream",
          "text": [
            "/usr/local/lib/python3.10/dist-packages/sklearn/linear_model/_logistic.py:1173: FutureWarning: `penalty='none'`has been deprecated in 1.2 and will be removed in 1.4. To keep the past behaviour, set `penalty=None`.\n",
            "  warnings.warn(\n",
            "/usr/local/lib/python3.10/dist-packages/sklearn/linear_model/_logistic.py:1173: FutureWarning: `penalty='none'`has been deprecated in 1.2 and will be removed in 1.4. To keep the past behaviour, set `penalty=None`.\n",
            "  warnings.warn(\n"
          ]
        },
        {
          "name": "stdout",
          "output_type": "stream",
          "text": [
            "0.64 \n",
            "\n",
            "lsa features, 140 examples\n",
            "0.712"
          ]
        },
        {
          "name": "stderr",
          "output_type": "stream",
          "text": [
            "/usr/local/lib/python3.10/dist-packages/sklearn/linear_model/_logistic.py:1173: FutureWarning: `penalty='none'`has been deprecated in 1.2 and will be removed in 1.4. To keep the past behaviour, set `penalty=None`.\n",
            "  warnings.warn(\n"
          ]
        },
        {
          "name": "stdout",
          "output_type": "stream",
          "text": [
            " \n",
            "\n",
            "word2vec features, 140 examples\n",
            "0.688 \n",
            "\n",
            "lsa features, 160 examples\n"
          ]
        },
        {
          "name": "stderr",
          "output_type": "stream",
          "text": [
            "/usr/local/lib/python3.10/dist-packages/sklearn/linear_model/_logistic.py:1173: FutureWarning: `penalty='none'`has been deprecated in 1.2 and will be removed in 1.4. To keep the past behaviour, set `penalty=None`.\n",
            "  warnings.warn(\n",
            "/usr/local/lib/python3.10/dist-packages/sklearn/linear_model/_logistic.py:1173: FutureWarning: `penalty='none'`has been deprecated in 1.2 and will be removed in 1.4. To keep the past behaviour, set `penalty=None`.\n",
            "  warnings.warn(\n"
          ]
        },
        {
          "name": "stdout",
          "output_type": "stream",
          "text": [
            "0.724 \n",
            "\n",
            "word2vec features, 160 examples\n",
            "0.694 \n",
            "\n",
            "lsa features, 180 examples\n"
          ]
        },
        {
          "name": "stderr",
          "output_type": "stream",
          "text": [
            "/usr/local/lib/python3.10/dist-packages/sklearn/linear_model/_logistic.py:1173: FutureWarning: `penalty='none'`has been deprecated in 1.2 and will be removed in 1.4. To keep the past behaviour, set `penalty=None`.\n",
            "  warnings.warn(\n",
            "/usr/local/lib/python3.10/dist-packages/sklearn/linear_model/_logistic.py:1173: FutureWarning: `penalty='none'`has been deprecated in 1.2 and will be removed in 1.4. To keep the past behaviour, set `penalty=None`.\n",
            "  warnings.warn(\n"
          ]
        },
        {
          "name": "stdout",
          "output_type": "stream",
          "text": [
            "0.742 \n",
            "\n",
            "word2vec features, 180 examples\n"
          ]
        },
        {
          "name": "stderr",
          "output_type": "stream",
          "text": [
            "/usr/local/lib/python3.10/dist-packages/sklearn/linear_model/_logistic.py:1173: FutureWarning: `penalty='none'`has been deprecated in 1.2 and will be removed in 1.4. To keep the past behaviour, set `penalty=None`.\n",
            "  warnings.warn(\n"
          ]
        },
        {
          "name": "stdout",
          "output_type": "stream",
          "text": [
            "0.704 \n",
            "\n",
            "lsa features, 200 examples\n"
          ]
        },
        {
          "name": "stderr",
          "output_type": "stream",
          "text": [
            "/usr/local/lib/python3.10/dist-packages/sklearn/linear_model/_logistic.py:1173: FutureWarning: `penalty='none'`has been deprecated in 1.2 and will be removed in 1.4. To keep the past behaviour, set `penalty=None`.\n",
            "  warnings.warn(\n"
          ]
        },
        {
          "name": "stdout",
          "output_type": "stream",
          "text": [
            "0.742 \n",
            "\n",
            "word2vec features, 200 examples\n"
          ]
        },
        {
          "name": "stderr",
          "output_type": "stream",
          "text": [
            "/usr/local/lib/python3.10/dist-packages/sklearn/linear_model/_logistic.py:1173: FutureWarning: `penalty='none'`has been deprecated in 1.2 and will be removed in 1.4. To keep the past behaviour, set `penalty=None`.\n",
            "  warnings.warn(\n"
          ]
        },
        {
          "name": "stdout",
          "output_type": "stream",
          "text": [
            "0.714 \n",
            "\n",
            "lsa features, 220 examples\n"
          ]
        },
        {
          "name": "stderr",
          "output_type": "stream",
          "text": [
            "/usr/local/lib/python3.10/dist-packages/sklearn/linear_model/_logistic.py:1173: FutureWarning: `penalty='none'`has been deprecated in 1.2 and will be removed in 1.4. To keep the past behaviour, set `penalty=None`.\n",
            "  warnings.warn(\n"
          ]
        },
        {
          "name": "stdout",
          "output_type": "stream",
          "text": [
            "0.754 \n",
            "\n",
            "word2vec features, 220 examples\n"
          ]
        },
        {
          "name": "stderr",
          "output_type": "stream",
          "text": [
            "/usr/local/lib/python3.10/dist-packages/sklearn/linear_model/_logistic.py:1173: FutureWarning: `penalty='none'`has been deprecated in 1.2 and will be removed in 1.4. To keep the past behaviour, set `penalty=None`.\n",
            "  warnings.warn(\n"
          ]
        },
        {
          "name": "stdout",
          "output_type": "stream",
          "text": [
            "0.732 \n",
            "\n",
            "lsa features, 240 examples\n"
          ]
        },
        {
          "name": "stderr",
          "output_type": "stream",
          "text": [
            "/usr/local/lib/python3.10/dist-packages/sklearn/linear_model/_logistic.py:1173: FutureWarning: `penalty='none'`has been deprecated in 1.2 and will be removed in 1.4. To keep the past behaviour, set `penalty=None`.\n",
            "  warnings.warn(\n"
          ]
        },
        {
          "name": "stdout",
          "output_type": "stream",
          "text": [
            "0.77 \n",
            "\n",
            "word2vec features, 240 examples\n"
          ]
        },
        {
          "name": "stderr",
          "output_type": "stream",
          "text": [
            "/usr/local/lib/python3.10/dist-packages/sklearn/linear_model/_logistic.py:1173: FutureWarning: `penalty='none'`has been deprecated in 1.2 and will be removed in 1.4. To keep the past behaviour, set `penalty=None`.\n",
            "  warnings.warn(\n"
          ]
        },
        {
          "name": "stdout",
          "output_type": "stream",
          "text": [
            "0.734 \n",
            "\n",
            "lsa features, 260 examples\n"
          ]
        },
        {
          "name": "stderr",
          "output_type": "stream",
          "text": [
            "/usr/local/lib/python3.10/dist-packages/sklearn/linear_model/_logistic.py:1173: FutureWarning: `penalty='none'`has been deprecated in 1.2 and will be removed in 1.4. To keep the past behaviour, set `penalty=None`.\n",
            "  warnings.warn(\n"
          ]
        },
        {
          "name": "stdout",
          "output_type": "stream",
          "text": [
            "0.782 \n",
            "\n",
            "word2vec features, 260 examples\n"
          ]
        },
        {
          "name": "stderr",
          "output_type": "stream",
          "text": [
            "/usr/local/lib/python3.10/dist-packages/sklearn/linear_model/_logistic.py:1173: FutureWarning: `penalty='none'`has been deprecated in 1.2 and will be removed in 1.4. To keep the past behaviour, set `penalty=None`.\n",
            "  warnings.warn(\n"
          ]
        },
        {
          "name": "stdout",
          "output_type": "stream",
          "text": [
            "0.74 \n",
            "\n",
            "lsa features, 280 examples\n"
          ]
        },
        {
          "name": "stderr",
          "output_type": "stream",
          "text": [
            "/usr/local/lib/python3.10/dist-packages/sklearn/linear_model/_logistic.py:1173: FutureWarning: `penalty='none'`has been deprecated in 1.2 and will be removed in 1.4. To keep the past behaviour, set `penalty=None`.\n",
            "  warnings.warn(\n"
          ]
        },
        {
          "name": "stdout",
          "output_type": "stream",
          "text": [
            "0.774 \n",
            "\n",
            "word2vec features, 280 examples\n"
          ]
        },
        {
          "name": "stderr",
          "output_type": "stream",
          "text": [
            "/usr/local/lib/python3.10/dist-packages/sklearn/linear_model/_logistic.py:1173: FutureWarning: `penalty='none'`has been deprecated in 1.2 and will be removed in 1.4. To keep the past behaviour, set `penalty=None`.\n",
            "  warnings.warn(\n"
          ]
        },
        {
          "name": "stdout",
          "output_type": "stream",
          "text": [
            "0.74 \n",
            "\n",
            "lsa features, 300 examples\n"
          ]
        },
        {
          "name": "stderr",
          "output_type": "stream",
          "text": [
            "/usr/local/lib/python3.10/dist-packages/sklearn/linear_model/_logistic.py:1173: FutureWarning: `penalty='none'`has been deprecated in 1.2 and will be removed in 1.4. To keep the past behaviour, set `penalty=None`.\n",
            "  warnings.warn(\n"
          ]
        },
        {
          "name": "stdout",
          "output_type": "stream",
          "text": [
            "0.776 \n",
            "\n",
            "word2vec features, 300 examples\n"
          ]
        },
        {
          "name": "stderr",
          "output_type": "stream",
          "text": [
            "/usr/local/lib/python3.10/dist-packages/sklearn/linear_model/_logistic.py:1173: FutureWarning: `penalty='none'`has been deprecated in 1.2 and will be removed in 1.4. To keep the past behaviour, set `penalty=None`.\n",
            "  warnings.warn(\n"
          ]
        },
        {
          "name": "stdout",
          "output_type": "stream",
          "text": [
            "0.742 \n",
            "\n",
            "lsa features, 320 examples\n"
          ]
        },
        {
          "name": "stderr",
          "output_type": "stream",
          "text": [
            "/usr/local/lib/python3.10/dist-packages/sklearn/linear_model/_logistic.py:1173: FutureWarning: `penalty='none'`has been deprecated in 1.2 and will be removed in 1.4. To keep the past behaviour, set `penalty=None`.\n",
            "  warnings.warn(\n"
          ]
        },
        {
          "name": "stdout",
          "output_type": "stream",
          "text": [
            "0.778 \n",
            "\n",
            "word2vec features, 320 examples\n"
          ]
        },
        {
          "name": "stderr",
          "output_type": "stream",
          "text": [
            "/usr/local/lib/python3.10/dist-packages/sklearn/linear_model/_logistic.py:1173: FutureWarning: `penalty='none'`has been deprecated in 1.2 and will be removed in 1.4. To keep the past behaviour, set `penalty=None`.\n",
            "  warnings.warn(\n"
          ]
        },
        {
          "name": "stdout",
          "output_type": "stream",
          "text": [
            "0.756 \n",
            "\n",
            "lsa features, 340 examples\n"
          ]
        },
        {
          "name": "stderr",
          "output_type": "stream",
          "text": [
            "/usr/local/lib/python3.10/dist-packages/sklearn/linear_model/_logistic.py:1173: FutureWarning: `penalty='none'`has been deprecated in 1.2 and will be removed in 1.4. To keep the past behaviour, set `penalty=None`.\n",
            "  warnings.warn(\n"
          ]
        },
        {
          "name": "stdout",
          "output_type": "stream",
          "text": [
            "0.756 \n",
            "\n",
            "word2vec features, 340 examples\n"
          ]
        },
        {
          "name": "stderr",
          "output_type": "stream",
          "text": [
            "/usr/local/lib/python3.10/dist-packages/sklearn/linear_model/_logistic.py:1173: FutureWarning: `penalty='none'`has been deprecated in 1.2 and will be removed in 1.4. To keep the past behaviour, set `penalty=None`.\n",
            "  warnings.warn(\n"
          ]
        },
        {
          "name": "stdout",
          "output_type": "stream",
          "text": [
            "0.742 \n",
            "\n",
            "lsa features, 360 examples\n"
          ]
        },
        {
          "name": "stderr",
          "output_type": "stream",
          "text": [
            "/usr/local/lib/python3.10/dist-packages/sklearn/linear_model/_logistic.py:1173: FutureWarning: `penalty='none'`has been deprecated in 1.2 and will be removed in 1.4. To keep the past behaviour, set `penalty=None`.\n",
            "  warnings.warn(\n"
          ]
        },
        {
          "name": "stdout",
          "output_type": "stream",
          "text": [
            "0.77 \n",
            "\n",
            "word2vec features, 360 examples\n"
          ]
        },
        {
          "name": "stderr",
          "output_type": "stream",
          "text": [
            "/usr/local/lib/python3.10/dist-packages/sklearn/linear_model/_logistic.py:1173: FutureWarning: `penalty='none'`has been deprecated in 1.2 and will be removed in 1.4. To keep the past behaviour, set `penalty=None`.\n",
            "  warnings.warn(\n"
          ]
        },
        {
          "name": "stdout",
          "output_type": "stream",
          "text": [
            "0.758 \n",
            "\n",
            "lsa features, 380 examples\n"
          ]
        },
        {
          "name": "stderr",
          "output_type": "stream",
          "text": [
            "/usr/local/lib/python3.10/dist-packages/sklearn/linear_model/_logistic.py:1173: FutureWarning: `penalty='none'`has been deprecated in 1.2 and will be removed in 1.4. To keep the past behaviour, set `penalty=None`.\n",
            "  warnings.warn(\n"
          ]
        },
        {
          "name": "stdout",
          "output_type": "stream",
          "text": [
            "0.77 \n",
            "\n",
            "word2vec features, 380 examples\n"
          ]
        },
        {
          "name": "stderr",
          "output_type": "stream",
          "text": [
            "/usr/local/lib/python3.10/dist-packages/sklearn/linear_model/_logistic.py:1173: FutureWarning: `penalty='none'`has been deprecated in 1.2 and will be removed in 1.4. To keep the past behaviour, set `penalty=None`.\n",
            "  warnings.warn(\n"
          ]
        },
        {
          "name": "stdout",
          "output_type": "stream",
          "text": [
            "0.748 \n",
            "\n",
            "lsa features, 400 examples\n"
          ]
        },
        {
          "name": "stderr",
          "output_type": "stream",
          "text": [
            "/usr/local/lib/python3.10/dist-packages/sklearn/linear_model/_logistic.py:1173: FutureWarning: `penalty='none'`has been deprecated in 1.2 and will be removed in 1.4. To keep the past behaviour, set `penalty=None`.\n",
            "  warnings.warn(\n"
          ]
        },
        {
          "name": "stdout",
          "output_type": "stream",
          "text": [
            "0.78 \n",
            "\n",
            "word2vec features, 400 examples\n"
          ]
        },
        {
          "name": "stderr",
          "output_type": "stream",
          "text": [
            "/usr/local/lib/python3.10/dist-packages/sklearn/linear_model/_logistic.py:1173: FutureWarning: `penalty='none'`has been deprecated in 1.2 and will be removed in 1.4. To keep the past behaviour, set `penalty=None`.\n",
            "  warnings.warn(\n"
          ]
        },
        {
          "name": "stdout",
          "output_type": "stream",
          "text": [
            "0.742 \n",
            "\n",
            "lsa features, 420 examples\n"
          ]
        },
        {
          "name": "stderr",
          "output_type": "stream",
          "text": [
            "/usr/local/lib/python3.10/dist-packages/sklearn/linear_model/_logistic.py:1173: FutureWarning: `penalty='none'`has been deprecated in 1.2 and will be removed in 1.4. To keep the past behaviour, set `penalty=None`.\n",
            "  warnings.warn(\n"
          ]
        },
        {
          "name": "stdout",
          "output_type": "stream",
          "text": [
            "0.776 \n",
            "\n",
            "word2vec features, 420 examples\n"
          ]
        },
        {
          "name": "stderr",
          "output_type": "stream",
          "text": [
            "/usr/local/lib/python3.10/dist-packages/sklearn/linear_model/_logistic.py:1173: FutureWarning: `penalty='none'`has been deprecated in 1.2 and will be removed in 1.4. To keep the past behaviour, set `penalty=None`.\n",
            "  warnings.warn(\n"
          ]
        },
        {
          "name": "stdout",
          "output_type": "stream",
          "text": [
            "0.724 \n",
            "\n",
            "lsa features, 440 examples\n"
          ]
        },
        {
          "name": "stderr",
          "output_type": "stream",
          "text": [
            "/usr/local/lib/python3.10/dist-packages/sklearn/linear_model/_logistic.py:1173: FutureWarning: `penalty='none'`has been deprecated in 1.2 and will be removed in 1.4. To keep the past behaviour, set `penalty=None`.\n",
            "  warnings.warn(\n"
          ]
        },
        {
          "name": "stdout",
          "output_type": "stream",
          "text": [
            "0.774 \n",
            "\n",
            "word2vec features, 440 examples\n"
          ]
        },
        {
          "name": "stderr",
          "output_type": "stream",
          "text": [
            "/usr/local/lib/python3.10/dist-packages/sklearn/linear_model/_logistic.py:1173: FutureWarning: `penalty='none'`has been deprecated in 1.2 and will be removed in 1.4. To keep the past behaviour, set `penalty=None`.\n",
            "  warnings.warn(\n"
          ]
        },
        {
          "name": "stdout",
          "output_type": "stream",
          "text": [
            "0.726 \n",
            "\n",
            "lsa features, 460 examples\n"
          ]
        },
        {
          "name": "stderr",
          "output_type": "stream",
          "text": [
            "/usr/local/lib/python3.10/dist-packages/sklearn/linear_model/_logistic.py:1173: FutureWarning: `penalty='none'`has been deprecated in 1.2 and will be removed in 1.4. To keep the past behaviour, set `penalty=None`.\n",
            "  warnings.warn(\n"
          ]
        },
        {
          "name": "stdout",
          "output_type": "stream",
          "text": [
            "0.774 \n",
            "\n",
            "word2vec features, 460 examples\n"
          ]
        },
        {
          "name": "stderr",
          "output_type": "stream",
          "text": [
            "/usr/local/lib/python3.10/dist-packages/sklearn/linear_model/_logistic.py:1173: FutureWarning: `penalty='none'`has been deprecated in 1.2 and will be removed in 1.4. To keep the past behaviour, set `penalty=None`.\n",
            "  warnings.warn(\n"
          ]
        },
        {
          "name": "stdout",
          "output_type": "stream",
          "text": [
            "0.716 \n",
            "\n",
            "lsa features, 480 examples\n"
          ]
        },
        {
          "name": "stderr",
          "output_type": "stream",
          "text": [
            "/usr/local/lib/python3.10/dist-packages/sklearn/linear_model/_logistic.py:1173: FutureWarning: `penalty='none'`has been deprecated in 1.2 and will be removed in 1.4. To keep the past behaviour, set `penalty=None`.\n",
            "  warnings.warn(\n"
          ]
        },
        {
          "name": "stdout",
          "output_type": "stream",
          "text": [
            "0.772 \n",
            "\n",
            "word2vec features, 480 examples\n"
          ]
        },
        {
          "name": "stderr",
          "output_type": "stream",
          "text": [
            "/usr/local/lib/python3.10/dist-packages/sklearn/linear_model/_logistic.py:1173: FutureWarning: `penalty='none'`has been deprecated in 1.2 and will be removed in 1.4. To keep the past behaviour, set `penalty=None`.\n",
            "  warnings.warn(\n"
          ]
        },
        {
          "name": "stdout",
          "output_type": "stream",
          "text": [
            "0.734 \n",
            "\n",
            "lsa features, 500 examples\n"
          ]
        },
        {
          "name": "stderr",
          "output_type": "stream",
          "text": [
            "/usr/local/lib/python3.10/dist-packages/sklearn/linear_model/_logistic.py:1173: FutureWarning: `penalty='none'`has been deprecated in 1.2 and will be removed in 1.4. To keep the past behaviour, set `penalty=None`.\n",
            "  warnings.warn(\n"
          ]
        },
        {
          "name": "stdout",
          "output_type": "stream",
          "text": [
            "0.776 \n",
            "\n",
            "word2vec features, 500 examples\n"
          ]
        },
        {
          "name": "stderr",
          "output_type": "stream",
          "text": [
            "/usr/local/lib/python3.10/dist-packages/sklearn/linear_model/_logistic.py:1173: FutureWarning: `penalty='none'`has been deprecated in 1.2 and will be removed in 1.4. To keep the past behaviour, set `penalty=None`.\n",
            "  warnings.warn(\n"
          ]
        },
        {
          "name": "stdout",
          "output_type": "stream",
          "text": [
            "0.734 \n",
            "\n",
            "lsa features, 520 examples\n"
          ]
        },
        {
          "name": "stderr",
          "output_type": "stream",
          "text": [
            "/usr/local/lib/python3.10/dist-packages/sklearn/linear_model/_logistic.py:1173: FutureWarning: `penalty='none'`has been deprecated in 1.2 and will be removed in 1.4. To keep the past behaviour, set `penalty=None`.\n",
            "  warnings.warn(\n"
          ]
        },
        {
          "name": "stdout",
          "output_type": "stream",
          "text": [
            "0.772 \n",
            "\n",
            "word2vec features, 520 examples\n"
          ]
        },
        {
          "name": "stderr",
          "output_type": "stream",
          "text": [
            "/usr/local/lib/python3.10/dist-packages/sklearn/linear_model/_logistic.py:1173: FutureWarning: `penalty='none'`has been deprecated in 1.2 and will be removed in 1.4. To keep the past behaviour, set `penalty=None`.\n",
            "  warnings.warn(\n"
          ]
        },
        {
          "name": "stdout",
          "output_type": "stream",
          "text": [
            "0.74 \n",
            "\n",
            "lsa features, 540 examples\n"
          ]
        },
        {
          "name": "stderr",
          "output_type": "stream",
          "text": [
            "/usr/local/lib/python3.10/dist-packages/sklearn/linear_model/_logistic.py:1173: FutureWarning: `penalty='none'`has been deprecated in 1.2 and will be removed in 1.4. To keep the past behaviour, set `penalty=None`.\n",
            "  warnings.warn(\n"
          ]
        },
        {
          "name": "stdout",
          "output_type": "stream",
          "text": [
            "0.764 \n",
            "\n",
            "word2vec features, 540 examples\n"
          ]
        },
        {
          "name": "stderr",
          "output_type": "stream",
          "text": [
            "/usr/local/lib/python3.10/dist-packages/sklearn/linear_model/_logistic.py:1173: FutureWarning: `penalty='none'`has been deprecated in 1.2 and will be removed in 1.4. To keep the past behaviour, set `penalty=None`.\n",
            "  warnings.warn(\n"
          ]
        },
        {
          "name": "stdout",
          "output_type": "stream",
          "text": [
            "0.726 \n",
            "\n",
            "lsa features, 560 examples\n"
          ]
        },
        {
          "name": "stderr",
          "output_type": "stream",
          "text": [
            "/usr/local/lib/python3.10/dist-packages/sklearn/linear_model/_logistic.py:1173: FutureWarning: `penalty='none'`has been deprecated in 1.2 and will be removed in 1.4. To keep the past behaviour, set `penalty=None`.\n",
            "  warnings.warn(\n"
          ]
        },
        {
          "name": "stdout",
          "output_type": "stream",
          "text": [
            "0.78 \n",
            "\n",
            "word2vec features, 560 examples\n"
          ]
        },
        {
          "name": "stderr",
          "output_type": "stream",
          "text": [
            "/usr/local/lib/python3.10/dist-packages/sklearn/linear_model/_logistic.py:1173: FutureWarning: `penalty='none'`has been deprecated in 1.2 and will be removed in 1.4. To keep the past behaviour, set `penalty=None`.\n",
            "  warnings.warn(\n"
          ]
        },
        {
          "name": "stdout",
          "output_type": "stream",
          "text": [
            "0.744 \n",
            "\n",
            "lsa features, 580 examples\n"
          ]
        },
        {
          "name": "stderr",
          "output_type": "stream",
          "text": [
            "/usr/local/lib/python3.10/dist-packages/sklearn/linear_model/_logistic.py:1173: FutureWarning: `penalty='none'`has been deprecated in 1.2 and will be removed in 1.4. To keep the past behaviour, set `penalty=None`.\n",
            "  warnings.warn(\n"
          ]
        },
        {
          "name": "stdout",
          "output_type": "stream",
          "text": [
            "0.772 \n",
            "\n",
            "word2vec features, 580 examples\n"
          ]
        },
        {
          "name": "stderr",
          "output_type": "stream",
          "text": [
            "/usr/local/lib/python3.10/dist-packages/sklearn/linear_model/_logistic.py:1173: FutureWarning: `penalty='none'`has been deprecated in 1.2 and will be removed in 1.4. To keep the past behaviour, set `penalty=None`.\n",
            "  warnings.warn(\n"
          ]
        },
        {
          "name": "stdout",
          "output_type": "stream",
          "text": [
            "0.748 \n",
            "\n",
            "lsa features, 600 examples\n"
          ]
        },
        {
          "name": "stderr",
          "output_type": "stream",
          "text": [
            "/usr/local/lib/python3.10/dist-packages/sklearn/linear_model/_logistic.py:1173: FutureWarning: `penalty='none'`has been deprecated in 1.2 and will be removed in 1.4. To keep the past behaviour, set `penalty=None`.\n",
            "  warnings.warn(\n"
          ]
        },
        {
          "name": "stdout",
          "output_type": "stream",
          "text": [
            "0.772 \n",
            "\n",
            "word2vec features, 600 examples\n"
          ]
        },
        {
          "name": "stderr",
          "output_type": "stream",
          "text": [
            "/usr/local/lib/python3.10/dist-packages/sklearn/linear_model/_logistic.py:1173: FutureWarning: `penalty='none'`has been deprecated in 1.2 and will be removed in 1.4. To keep the past behaviour, set `penalty=None`.\n",
            "  warnings.warn(\n"
          ]
        },
        {
          "name": "stdout",
          "output_type": "stream",
          "text": [
            "0.752 \n",
            "\n",
            "lsa features, 620 examples\n"
          ]
        },
        {
          "name": "stderr",
          "output_type": "stream",
          "text": [
            "/usr/local/lib/python3.10/dist-packages/sklearn/linear_model/_logistic.py:1173: FutureWarning: `penalty='none'`has been deprecated in 1.2 and will be removed in 1.4. To keep the past behaviour, set `penalty=None`.\n",
            "  warnings.warn(\n"
          ]
        },
        {
          "name": "stdout",
          "output_type": "stream",
          "text": [
            "0.778 \n",
            "\n",
            "word2vec features, 620 examples\n"
          ]
        },
        {
          "name": "stderr",
          "output_type": "stream",
          "text": [
            "/usr/local/lib/python3.10/dist-packages/sklearn/linear_model/_logistic.py:1173: FutureWarning: `penalty='none'`has been deprecated in 1.2 and will be removed in 1.4. To keep the past behaviour, set `penalty=None`.\n",
            "  warnings.warn(\n"
          ]
        },
        {
          "name": "stdout",
          "output_type": "stream",
          "text": [
            "0.746 \n",
            "\n",
            "lsa features, 640 examples\n"
          ]
        },
        {
          "name": "stderr",
          "output_type": "stream",
          "text": [
            "/usr/local/lib/python3.10/dist-packages/sklearn/linear_model/_logistic.py:1173: FutureWarning: `penalty='none'`has been deprecated in 1.2 and will be removed in 1.4. To keep the past behaviour, set `penalty=None`.\n",
            "  warnings.warn(\n"
          ]
        },
        {
          "name": "stdout",
          "output_type": "stream",
          "text": [
            "0.77 \n",
            "\n",
            "word2vec features, 640 examples\n"
          ]
        },
        {
          "name": "stderr",
          "output_type": "stream",
          "text": [
            "/usr/local/lib/python3.10/dist-packages/sklearn/linear_model/_logistic.py:1173: FutureWarning: `penalty='none'`has been deprecated in 1.2 and will be removed in 1.4. To keep the past behaviour, set `penalty=None`.\n",
            "  warnings.warn(\n"
          ]
        },
        {
          "name": "stdout",
          "output_type": "stream",
          "text": [
            "0.768 \n",
            "\n",
            "lsa features, 660 examples\n"
          ]
        },
        {
          "name": "stderr",
          "output_type": "stream",
          "text": [
            "/usr/local/lib/python3.10/dist-packages/sklearn/linear_model/_logistic.py:1173: FutureWarning: `penalty='none'`has been deprecated in 1.2 and will be removed in 1.4. To keep the past behaviour, set `penalty=None`.\n",
            "  warnings.warn(\n"
          ]
        },
        {
          "name": "stdout",
          "output_type": "stream",
          "text": [
            "0.776 \n",
            "\n",
            "word2vec features, 660 examples\n"
          ]
        },
        {
          "name": "stderr",
          "output_type": "stream",
          "text": [
            "/usr/local/lib/python3.10/dist-packages/sklearn/linear_model/_logistic.py:1173: FutureWarning: `penalty='none'`has been deprecated in 1.2 and will be removed in 1.4. To keep the past behaviour, set `penalty=None`.\n",
            "  warnings.warn(\n"
          ]
        },
        {
          "name": "stdout",
          "output_type": "stream",
          "text": [
            "0.762 \n",
            "\n",
            "lsa features, 680 examples\n"
          ]
        },
        {
          "name": "stderr",
          "output_type": "stream",
          "text": [
            "/usr/local/lib/python3.10/dist-packages/sklearn/linear_model/_logistic.py:1173: FutureWarning: `penalty='none'`has been deprecated in 1.2 and will be removed in 1.4. To keep the past behaviour, set `penalty=None`.\n",
            "  warnings.warn(\n"
          ]
        },
        {
          "name": "stdout",
          "output_type": "stream",
          "text": [
            "0.776 \n",
            "\n",
            "word2vec features, 680 examples\n"
          ]
        },
        {
          "name": "stderr",
          "output_type": "stream",
          "text": [
            "/usr/local/lib/python3.10/dist-packages/sklearn/linear_model/_logistic.py:1173: FutureWarning: `penalty='none'`has been deprecated in 1.2 and will be removed in 1.4. To keep the past behaviour, set `penalty=None`.\n",
            "  warnings.warn(\n"
          ]
        },
        {
          "name": "stdout",
          "output_type": "stream",
          "text": [
            "0.756 \n",
            "\n",
            "lsa features, 700 examples\n"
          ]
        },
        {
          "name": "stderr",
          "output_type": "stream",
          "text": [
            "/usr/local/lib/python3.10/dist-packages/sklearn/linear_model/_logistic.py:1173: FutureWarning: `penalty='none'`has been deprecated in 1.2 and will be removed in 1.4. To keep the past behaviour, set `penalty=None`.\n",
            "  warnings.warn(\n"
          ]
        },
        {
          "name": "stdout",
          "output_type": "stream",
          "text": [
            "0.78 \n",
            "\n",
            "word2vec features, 700 examples\n"
          ]
        },
        {
          "name": "stderr",
          "output_type": "stream",
          "text": [
            "/usr/local/lib/python3.10/dist-packages/sklearn/linear_model/_logistic.py:1173: FutureWarning: `penalty='none'`has been deprecated in 1.2 and will be removed in 1.4. To keep the past behaviour, set `penalty=None`.\n",
            "  warnings.warn(\n"
          ]
        },
        {
          "name": "stdout",
          "output_type": "stream",
          "text": [
            "0.768 \n",
            "\n",
            "lsa features, 720 examples\n"
          ]
        },
        {
          "name": "stderr",
          "output_type": "stream",
          "text": [
            "/usr/local/lib/python3.10/dist-packages/sklearn/linear_model/_logistic.py:1173: FutureWarning: `penalty='none'`has been deprecated in 1.2 and will be removed in 1.4. To keep the past behaviour, set `penalty=None`.\n",
            "  warnings.warn(\n"
          ]
        },
        {
          "name": "stdout",
          "output_type": "stream",
          "text": [
            "0.778 \n",
            "\n",
            "word2vec features, 720 examples\n"
          ]
        },
        {
          "name": "stderr",
          "output_type": "stream",
          "text": [
            "/usr/local/lib/python3.10/dist-packages/sklearn/linear_model/_logistic.py:1173: FutureWarning: `penalty='none'`has been deprecated in 1.2 and will be removed in 1.4. To keep the past behaviour, set `penalty=None`.\n",
            "  warnings.warn(\n"
          ]
        },
        {
          "name": "stdout",
          "output_type": "stream",
          "text": [
            "0.766 \n",
            "\n",
            "lsa features, 740 examples\n"
          ]
        },
        {
          "name": "stderr",
          "output_type": "stream",
          "text": [
            "/usr/local/lib/python3.10/dist-packages/sklearn/linear_model/_logistic.py:1173: FutureWarning: `penalty='none'`has been deprecated in 1.2 and will be removed in 1.4. To keep the past behaviour, set `penalty=None`.\n",
            "  warnings.warn(\n"
          ]
        },
        {
          "name": "stdout",
          "output_type": "stream",
          "text": [
            "0.772 \n",
            "\n",
            "word2vec features, 740 examples\n"
          ]
        },
        {
          "name": "stderr",
          "output_type": "stream",
          "text": [
            "/usr/local/lib/python3.10/dist-packages/sklearn/linear_model/_logistic.py:1173: FutureWarning: `penalty='none'`has been deprecated in 1.2 and will be removed in 1.4. To keep the past behaviour, set `penalty=None`.\n",
            "  warnings.warn(\n"
          ]
        },
        {
          "name": "stdout",
          "output_type": "stream",
          "text": [
            "0.754 \n",
            "\n",
            "lsa features, 760 examples\n"
          ]
        },
        {
          "name": "stderr",
          "output_type": "stream",
          "text": [
            "/usr/local/lib/python3.10/dist-packages/sklearn/linear_model/_logistic.py:1173: FutureWarning: `penalty='none'`has been deprecated in 1.2 and will be removed in 1.4. To keep the past behaviour, set `penalty=None`.\n",
            "  warnings.warn(\n"
          ]
        },
        {
          "name": "stdout",
          "output_type": "stream",
          "text": [
            "0.786 \n",
            "\n",
            "word2vec features, 760 examples\n"
          ]
        },
        {
          "name": "stderr",
          "output_type": "stream",
          "text": [
            "/usr/local/lib/python3.10/dist-packages/sklearn/linear_model/_logistic.py:1173: FutureWarning: `penalty='none'`has been deprecated in 1.2 and will be removed in 1.4. To keep the past behaviour, set `penalty=None`.\n",
            "  warnings.warn(\n"
          ]
        },
        {
          "name": "stdout",
          "output_type": "stream",
          "text": [
            "0.75 \n",
            "\n",
            "lsa features, 780 examples\n"
          ]
        },
        {
          "name": "stderr",
          "output_type": "stream",
          "text": [
            "/usr/local/lib/python3.10/dist-packages/sklearn/linear_model/_logistic.py:1173: FutureWarning: `penalty='none'`has been deprecated in 1.2 and will be removed in 1.4. To keep the past behaviour, set `penalty=None`.\n",
            "  warnings.warn(\n"
          ]
        },
        {
          "name": "stdout",
          "output_type": "stream",
          "text": [
            "0.768 \n",
            "\n",
            "word2vec features, 780 examples\n"
          ]
        },
        {
          "name": "stderr",
          "output_type": "stream",
          "text": [
            "/usr/local/lib/python3.10/dist-packages/sklearn/linear_model/_logistic.py:1173: FutureWarning: `penalty='none'`has been deprecated in 1.2 and will be removed in 1.4. To keep the past behaviour, set `penalty=None`.\n",
            "  warnings.warn(\n"
          ]
        },
        {
          "name": "stdout",
          "output_type": "stream",
          "text": [
            "0.772 \n",
            "\n",
            "lsa features, 800 examples\n"
          ]
        },
        {
          "name": "stderr",
          "output_type": "stream",
          "text": [
            "/usr/local/lib/python3.10/dist-packages/sklearn/linear_model/_logistic.py:1173: FutureWarning: `penalty='none'`has been deprecated in 1.2 and will be removed in 1.4. To keep the past behaviour, set `penalty=None`.\n",
            "  warnings.warn(\n"
          ]
        },
        {
          "name": "stdout",
          "output_type": "stream",
          "text": [
            "0.768 \n",
            "\n",
            "word2vec features, 800 examples\n"
          ]
        },
        {
          "name": "stderr",
          "output_type": "stream",
          "text": [
            "/usr/local/lib/python3.10/dist-packages/sklearn/linear_model/_logistic.py:1173: FutureWarning: `penalty='none'`has been deprecated in 1.2 and will be removed in 1.4. To keep the past behaviour, set `penalty=None`.\n",
            "  warnings.warn(\n"
          ]
        },
        {
          "name": "stdout",
          "output_type": "stream",
          "text": [
            "0.758 \n",
            "\n",
            "lsa features, 820 examples\n"
          ]
        },
        {
          "name": "stderr",
          "output_type": "stream",
          "text": [
            "/usr/local/lib/python3.10/dist-packages/sklearn/linear_model/_logistic.py:1173: FutureWarning: `penalty='none'`has been deprecated in 1.2 and will be removed in 1.4. To keep the past behaviour, set `penalty=None`.\n",
            "  warnings.warn(\n"
          ]
        },
        {
          "name": "stdout",
          "output_type": "stream",
          "text": [
            "0.782 \n",
            "\n",
            "word2vec features, 820 examples\n"
          ]
        },
        {
          "name": "stderr",
          "output_type": "stream",
          "text": [
            "/usr/local/lib/python3.10/dist-packages/sklearn/linear_model/_logistic.py:1173: FutureWarning: `penalty='none'`has been deprecated in 1.2 and will be removed in 1.4. To keep the past behaviour, set `penalty=None`.\n",
            "  warnings.warn(\n"
          ]
        },
        {
          "name": "stdout",
          "output_type": "stream",
          "text": [
            "0.756 \n",
            "\n",
            "lsa features, 840 examples\n"
          ]
        },
        {
          "name": "stderr",
          "output_type": "stream",
          "text": [
            "/usr/local/lib/python3.10/dist-packages/sklearn/linear_model/_logistic.py:1173: FutureWarning: `penalty='none'`has been deprecated in 1.2 and will be removed in 1.4. To keep the past behaviour, set `penalty=None`.\n",
            "  warnings.warn(\n"
          ]
        },
        {
          "name": "stdout",
          "output_type": "stream",
          "text": [
            "0.774 \n",
            "\n",
            "word2vec features, 840 examples\n"
          ]
        },
        {
          "name": "stderr",
          "output_type": "stream",
          "text": [
            "/usr/local/lib/python3.10/dist-packages/sklearn/linear_model/_logistic.py:1173: FutureWarning: `penalty='none'`has been deprecated in 1.2 and will be removed in 1.4. To keep the past behaviour, set `penalty=None`.\n",
            "  warnings.warn(\n"
          ]
        },
        {
          "name": "stdout",
          "output_type": "stream",
          "text": [
            "0.77 \n",
            "\n",
            "lsa features, 860 examples\n"
          ]
        },
        {
          "name": "stderr",
          "output_type": "stream",
          "text": [
            "/usr/local/lib/python3.10/dist-packages/sklearn/linear_model/_logistic.py:1173: FutureWarning: `penalty='none'`has been deprecated in 1.2 and will be removed in 1.4. To keep the past behaviour, set `penalty=None`.\n",
            "  warnings.warn(\n"
          ]
        },
        {
          "name": "stdout",
          "output_type": "stream",
          "text": [
            "0.788 \n",
            "\n",
            "word2vec features, 860 examples\n"
          ]
        },
        {
          "name": "stderr",
          "output_type": "stream",
          "text": [
            "/usr/local/lib/python3.10/dist-packages/sklearn/linear_model/_logistic.py:1173: FutureWarning: `penalty='none'`has been deprecated in 1.2 and will be removed in 1.4. To keep the past behaviour, set `penalty=None`.\n",
            "  warnings.warn(\n"
          ]
        },
        {
          "name": "stdout",
          "output_type": "stream",
          "text": [
            "0.776 \n",
            "\n",
            "lsa features, 880 examples\n"
          ]
        },
        {
          "name": "stderr",
          "output_type": "stream",
          "text": [
            "/usr/local/lib/python3.10/dist-packages/sklearn/linear_model/_logistic.py:1173: FutureWarning: `penalty='none'`has been deprecated in 1.2 and will be removed in 1.4. To keep the past behaviour, set `penalty=None`.\n",
            "  warnings.warn(\n"
          ]
        },
        {
          "name": "stdout",
          "output_type": "stream",
          "text": [
            "0.782 \n",
            "\n",
            "word2vec features, 880 examples\n"
          ]
        },
        {
          "name": "stderr",
          "output_type": "stream",
          "text": [
            "/usr/local/lib/python3.10/dist-packages/sklearn/linear_model/_logistic.py:1173: FutureWarning: `penalty='none'`has been deprecated in 1.2 and will be removed in 1.4. To keep the past behaviour, set `penalty=None`.\n",
            "  warnings.warn(\n"
          ]
        },
        {
          "name": "stdout",
          "output_type": "stream",
          "text": [
            "0.774 \n",
            "\n",
            "lsa features, 900 examples\n"
          ]
        },
        {
          "name": "stderr",
          "output_type": "stream",
          "text": [
            "/usr/local/lib/python3.10/dist-packages/sklearn/linear_model/_logistic.py:1173: FutureWarning: `penalty='none'`has been deprecated in 1.2 and will be removed in 1.4. To keep the past behaviour, set `penalty=None`.\n",
            "  warnings.warn(\n"
          ]
        },
        {
          "name": "stdout",
          "output_type": "stream",
          "text": [
            "0.778 \n",
            "\n",
            "word2vec features, 900 examples\n"
          ]
        },
        {
          "name": "stderr",
          "output_type": "stream",
          "text": [
            "/usr/local/lib/python3.10/dist-packages/sklearn/linear_model/_logistic.py:1173: FutureWarning: `penalty='none'`has been deprecated in 1.2 and will be removed in 1.4. To keep the past behaviour, set `penalty=None`.\n",
            "  warnings.warn(\n"
          ]
        },
        {
          "name": "stdout",
          "output_type": "stream",
          "text": [
            "0.77 \n",
            "\n",
            "lsa features, 920 examples\n"
          ]
        },
        {
          "name": "stderr",
          "output_type": "stream",
          "text": [
            "/usr/local/lib/python3.10/dist-packages/sklearn/linear_model/_logistic.py:1173: FutureWarning: `penalty='none'`has been deprecated in 1.2 and will be removed in 1.4. To keep the past behaviour, set `penalty=None`.\n",
            "  warnings.warn(\n"
          ]
        },
        {
          "name": "stdout",
          "output_type": "stream",
          "text": [
            "0.776 \n",
            "\n",
            "word2vec features, 920 examples\n"
          ]
        },
        {
          "name": "stderr",
          "output_type": "stream",
          "text": [
            "/usr/local/lib/python3.10/dist-packages/sklearn/linear_model/_logistic.py:1173: FutureWarning: `penalty='none'`has been deprecated in 1.2 and will be removed in 1.4. To keep the past behaviour, set `penalty=None`.\n",
            "  warnings.warn(\n"
          ]
        },
        {
          "name": "stdout",
          "output_type": "stream",
          "text": [
            "0.764 \n",
            "\n",
            "lsa features, 940 examples\n"
          ]
        },
        {
          "name": "stderr",
          "output_type": "stream",
          "text": [
            "/usr/local/lib/python3.10/dist-packages/sklearn/linear_model/_logistic.py:1173: FutureWarning: `penalty='none'`has been deprecated in 1.2 and will be removed in 1.4. To keep the past behaviour, set `penalty=None`.\n",
            "  warnings.warn(\n"
          ]
        },
        {
          "name": "stdout",
          "output_type": "stream",
          "text": [
            "0.778 \n",
            "\n",
            "word2vec features, 940 examples\n"
          ]
        },
        {
          "name": "stderr",
          "output_type": "stream",
          "text": [
            "/usr/local/lib/python3.10/dist-packages/sklearn/linear_model/_logistic.py:1173: FutureWarning: `penalty='none'`has been deprecated in 1.2 and will be removed in 1.4. To keep the past behaviour, set `penalty=None`.\n",
            "  warnings.warn(\n"
          ]
        },
        {
          "name": "stdout",
          "output_type": "stream",
          "text": [
            "0.766 \n",
            "\n",
            "lsa features, 960 examples\n"
          ]
        },
        {
          "name": "stderr",
          "output_type": "stream",
          "text": [
            "/usr/local/lib/python3.10/dist-packages/sklearn/linear_model/_logistic.py:1173: FutureWarning: `penalty='none'`has been deprecated in 1.2 and will be removed in 1.4. To keep the past behaviour, set `penalty=None`.\n",
            "  warnings.warn(\n"
          ]
        },
        {
          "name": "stdout",
          "output_type": "stream",
          "text": [
            "0.792 \n",
            "\n",
            "word2vec features, 960 examples\n"
          ]
        },
        {
          "name": "stderr",
          "output_type": "stream",
          "text": [
            "/usr/local/lib/python3.10/dist-packages/sklearn/linear_model/_logistic.py:1173: FutureWarning: `penalty='none'`has been deprecated in 1.2 and will be removed in 1.4. To keep the past behaviour, set `penalty=None`.\n",
            "  warnings.warn(\n"
          ]
        },
        {
          "name": "stdout",
          "output_type": "stream",
          "text": [
            "0.766 \n",
            "\n",
            "lsa features, 980 examples\n"
          ]
        },
        {
          "name": "stderr",
          "output_type": "stream",
          "text": [
            "/usr/local/lib/python3.10/dist-packages/sklearn/linear_model/_logistic.py:1173: FutureWarning: `penalty='none'`has been deprecated in 1.2 and will be removed in 1.4. To keep the past behaviour, set `penalty=None`.\n",
            "  warnings.warn(\n"
          ]
        },
        {
          "name": "stdout",
          "output_type": "stream",
          "text": [
            "0.786 \n",
            "\n",
            "word2vec features, 980 examples\n"
          ]
        },
        {
          "name": "stderr",
          "output_type": "stream",
          "text": [
            "/usr/local/lib/python3.10/dist-packages/sklearn/linear_model/_logistic.py:1173: FutureWarning: `penalty='none'`has been deprecated in 1.2 and will be removed in 1.4. To keep the past behaviour, set `penalty=None`.\n",
            "  warnings.warn(\n"
          ]
        },
        {
          "name": "stdout",
          "output_type": "stream",
          "text": [
            "0.768 \n",
            "\n",
            "lsa features, 1000 examples\n"
          ]
        },
        {
          "name": "stderr",
          "output_type": "stream",
          "text": [
            "/usr/local/lib/python3.10/dist-packages/sklearn/linear_model/_logistic.py:1173: FutureWarning: `penalty='none'`has been deprecated in 1.2 and will be removed in 1.4. To keep the past behaviour, set `penalty=None`.\n",
            "  warnings.warn(\n"
          ]
        },
        {
          "name": "stdout",
          "output_type": "stream",
          "text": [
            "0.784 \n",
            "\n",
            "word2vec features, 1000 examples\n"
          ]
        },
        {
          "name": "stderr",
          "output_type": "stream",
          "text": [
            "/usr/local/lib/python3.10/dist-packages/sklearn/linear_model/_logistic.py:1173: FutureWarning: `penalty='none'`has been deprecated in 1.2 and will be removed in 1.4. To keep the past behaviour, set `penalty=None`.\n",
            "  warnings.warn(\n"
          ]
        },
        {
          "name": "stdout",
          "output_type": "stream",
          "text": [
            "0.77 \n",
            "\n",
            "lsa features, 1020 examples\n"
          ]
        },
        {
          "name": "stderr",
          "output_type": "stream",
          "text": [
            "/usr/local/lib/python3.10/dist-packages/sklearn/linear_model/_logistic.py:1173: FutureWarning: `penalty='none'`has been deprecated in 1.2 and will be removed in 1.4. To keep the past behaviour, set `penalty=None`.\n",
            "  warnings.warn(\n"
          ]
        },
        {
          "name": "stdout",
          "output_type": "stream",
          "text": [
            "0.788 \n",
            "\n",
            "word2vec features, 1020 examples\n"
          ]
        },
        {
          "name": "stderr",
          "output_type": "stream",
          "text": [
            "/usr/local/lib/python3.10/dist-packages/sklearn/linear_model/_logistic.py:1173: FutureWarning: `penalty='none'`has been deprecated in 1.2 and will be removed in 1.4. To keep the past behaviour, set `penalty=None`.\n",
            "  warnings.warn(\n"
          ]
        },
        {
          "name": "stdout",
          "output_type": "stream",
          "text": [
            "0.772 \n",
            "\n",
            "lsa features, 1040 examples\n"
          ]
        },
        {
          "name": "stderr",
          "output_type": "stream",
          "text": [
            "/usr/local/lib/python3.10/dist-packages/sklearn/linear_model/_logistic.py:1173: FutureWarning: `penalty='none'`has been deprecated in 1.2 and will be removed in 1.4. To keep the past behaviour, set `penalty=None`.\n",
            "  warnings.warn(\n"
          ]
        },
        {
          "name": "stdout",
          "output_type": "stream",
          "text": [
            "0.782 \n",
            "\n",
            "word2vec features, 1040 examples\n"
          ]
        },
        {
          "name": "stderr",
          "output_type": "stream",
          "text": [
            "/usr/local/lib/python3.10/dist-packages/sklearn/linear_model/_logistic.py:1173: FutureWarning: `penalty='none'`has been deprecated in 1.2 and will be removed in 1.4. To keep the past behaviour, set `penalty=None`.\n",
            "  warnings.warn(\n"
          ]
        },
        {
          "name": "stdout",
          "output_type": "stream",
          "text": [
            "0.76 \n",
            "\n",
            "lsa features, 1060 examples\n"
          ]
        },
        {
          "name": "stderr",
          "output_type": "stream",
          "text": [
            "/usr/local/lib/python3.10/dist-packages/sklearn/linear_model/_logistic.py:1173: FutureWarning: `penalty='none'`has been deprecated in 1.2 and will be removed in 1.4. To keep the past behaviour, set `penalty=None`.\n",
            "  warnings.warn(\n"
          ]
        },
        {
          "name": "stdout",
          "output_type": "stream",
          "text": [
            "0.796 \n",
            "\n",
            "word2vec features, 1060 examples\n"
          ]
        },
        {
          "name": "stderr",
          "output_type": "stream",
          "text": [
            "/usr/local/lib/python3.10/dist-packages/sklearn/linear_model/_logistic.py:1173: FutureWarning: `penalty='none'`has been deprecated in 1.2 and will be removed in 1.4. To keep the past behaviour, set `penalty=None`.\n",
            "  warnings.warn(\n"
          ]
        },
        {
          "name": "stdout",
          "output_type": "stream",
          "text": [
            "0.774 \n",
            "\n",
            "lsa features, 1080 examples\n"
          ]
        },
        {
          "name": "stderr",
          "output_type": "stream",
          "text": [
            "/usr/local/lib/python3.10/dist-packages/sklearn/linear_model/_logistic.py:1173: FutureWarning: `penalty='none'`has been deprecated in 1.2 and will be removed in 1.4. To keep the past behaviour, set `penalty=None`.\n",
            "  warnings.warn(\n"
          ]
        },
        {
          "name": "stdout",
          "output_type": "stream",
          "text": [
            "0.806 \n",
            "\n",
            "word2vec features, 1080 examples\n"
          ]
        },
        {
          "name": "stderr",
          "output_type": "stream",
          "text": [
            "/usr/local/lib/python3.10/dist-packages/sklearn/linear_model/_logistic.py:1173: FutureWarning: `penalty='none'`has been deprecated in 1.2 and will be removed in 1.4. To keep the past behaviour, set `penalty=None`.\n",
            "  warnings.warn(\n"
          ]
        },
        {
          "name": "stdout",
          "output_type": "stream",
          "text": [
            "0.772 \n",
            "\n",
            "lsa features, 1100 examples\n"
          ]
        },
        {
          "name": "stderr",
          "output_type": "stream",
          "text": [
            "/usr/local/lib/python3.10/dist-packages/sklearn/linear_model/_logistic.py:1173: FutureWarning: `penalty='none'`has been deprecated in 1.2 and will be removed in 1.4. To keep the past behaviour, set `penalty=None`.\n",
            "  warnings.warn(\n"
          ]
        },
        {
          "name": "stdout",
          "output_type": "stream",
          "text": [
            "0.796 \n",
            "\n",
            "word2vec features, 1100 examples\n"
          ]
        },
        {
          "name": "stderr",
          "output_type": "stream",
          "text": [
            "/usr/local/lib/python3.10/dist-packages/sklearn/linear_model/_logistic.py:1173: FutureWarning: `penalty='none'`has been deprecated in 1.2 and will be removed in 1.4. To keep the past behaviour, set `penalty=None`.\n",
            "  warnings.warn(\n"
          ]
        },
        {
          "name": "stdout",
          "output_type": "stream",
          "text": [
            "0.772 \n",
            "\n",
            "lsa features, 1120 examples\n"
          ]
        },
        {
          "name": "stderr",
          "output_type": "stream",
          "text": [
            "/usr/local/lib/python3.10/dist-packages/sklearn/linear_model/_logistic.py:1173: FutureWarning: `penalty='none'`has been deprecated in 1.2 and will be removed in 1.4. To keep the past behaviour, set `penalty=None`.\n",
            "  warnings.warn(\n"
          ]
        },
        {
          "name": "stdout",
          "output_type": "stream",
          "text": [
            "0.794 \n",
            "\n",
            "word2vec features, 1120 examples\n"
          ]
        },
        {
          "name": "stderr",
          "output_type": "stream",
          "text": [
            "/usr/local/lib/python3.10/dist-packages/sklearn/linear_model/_logistic.py:1173: FutureWarning: `penalty='none'`has been deprecated in 1.2 and will be removed in 1.4. To keep the past behaviour, set `penalty=None`.\n",
            "  warnings.warn(\n"
          ]
        },
        {
          "name": "stdout",
          "output_type": "stream",
          "text": [
            "0.778 \n",
            "\n",
            "lsa features, 1140 examples\n"
          ]
        },
        {
          "name": "stderr",
          "output_type": "stream",
          "text": [
            "/usr/local/lib/python3.10/dist-packages/sklearn/linear_model/_logistic.py:1173: FutureWarning: `penalty='none'`has been deprecated in 1.2 and will be removed in 1.4. To keep the past behaviour, set `penalty=None`.\n",
            "  warnings.warn(\n"
          ]
        },
        {
          "name": "stdout",
          "output_type": "stream",
          "text": [
            "0.788 \n",
            "\n",
            "word2vec features, 1140 examples\n"
          ]
        },
        {
          "name": "stderr",
          "output_type": "stream",
          "text": [
            "/usr/local/lib/python3.10/dist-packages/sklearn/linear_model/_logistic.py:1173: FutureWarning: `penalty='none'`has been deprecated in 1.2 and will be removed in 1.4. To keep the past behaviour, set `penalty=None`.\n",
            "  warnings.warn(\n"
          ]
        },
        {
          "name": "stdout",
          "output_type": "stream",
          "text": [
            "0.78 \n",
            "\n",
            "lsa features, 1160 examples\n"
          ]
        },
        {
          "name": "stderr",
          "output_type": "stream",
          "text": [
            "/usr/local/lib/python3.10/dist-packages/sklearn/linear_model/_logistic.py:1173: FutureWarning: `penalty='none'`has been deprecated in 1.2 and will be removed in 1.4. To keep the past behaviour, set `penalty=None`.\n",
            "  warnings.warn(\n"
          ]
        },
        {
          "name": "stdout",
          "output_type": "stream",
          "text": [
            "0.798 \n",
            "\n",
            "word2vec features, 1160 examples\n"
          ]
        },
        {
          "name": "stderr",
          "output_type": "stream",
          "text": [
            "/usr/local/lib/python3.10/dist-packages/sklearn/linear_model/_logistic.py:1173: FutureWarning: `penalty='none'`has been deprecated in 1.2 and will be removed in 1.4. To keep the past behaviour, set `penalty=None`.\n",
            "  warnings.warn(\n"
          ]
        },
        {
          "name": "stdout",
          "output_type": "stream",
          "text": [
            "0.77 \n",
            "\n",
            "lsa features, 1180 examples\n"
          ]
        },
        {
          "name": "stderr",
          "output_type": "stream",
          "text": [
            "/usr/local/lib/python3.10/dist-packages/sklearn/linear_model/_logistic.py:1173: FutureWarning: `penalty='none'`has been deprecated in 1.2 and will be removed in 1.4. To keep the past behaviour, set `penalty=None`.\n",
            "  warnings.warn(\n"
          ]
        },
        {
          "name": "stdout",
          "output_type": "stream",
          "text": [
            "0.796 \n",
            "\n",
            "word2vec features, 1180 examples\n"
          ]
        },
        {
          "name": "stderr",
          "output_type": "stream",
          "text": [
            "/usr/local/lib/python3.10/dist-packages/sklearn/linear_model/_logistic.py:1173: FutureWarning: `penalty='none'`has been deprecated in 1.2 and will be removed in 1.4. To keep the past behaviour, set `penalty=None`.\n",
            "  warnings.warn(\n"
          ]
        },
        {
          "name": "stdout",
          "output_type": "stream",
          "text": [
            "0.748 \n",
            "\n",
            "lsa features, 1200 examples\n"
          ]
        },
        {
          "name": "stderr",
          "output_type": "stream",
          "text": [
            "/usr/local/lib/python3.10/dist-packages/sklearn/linear_model/_logistic.py:1173: FutureWarning: `penalty='none'`has been deprecated in 1.2 and will be removed in 1.4. To keep the past behaviour, set `penalty=None`.\n",
            "  warnings.warn(\n"
          ]
        },
        {
          "name": "stdout",
          "output_type": "stream",
          "text": [
            "0.806 \n",
            "\n",
            "word2vec features, 1200 examples\n"
          ]
        },
        {
          "name": "stderr",
          "output_type": "stream",
          "text": [
            "/usr/local/lib/python3.10/dist-packages/sklearn/linear_model/_logistic.py:1173: FutureWarning: `penalty='none'`has been deprecated in 1.2 and will be removed in 1.4. To keep the past behaviour, set `penalty=None`.\n",
            "  warnings.warn(\n"
          ]
        },
        {
          "name": "stdout",
          "output_type": "stream",
          "text": [
            "0.76 \n",
            "\n",
            "lsa features, 1220 examples\n"
          ]
        },
        {
          "name": "stderr",
          "output_type": "stream",
          "text": [
            "/usr/local/lib/python3.10/dist-packages/sklearn/linear_model/_logistic.py:1173: FutureWarning: `penalty='none'`has been deprecated in 1.2 and will be removed in 1.4. To keep the past behaviour, set `penalty=None`.\n",
            "  warnings.warn(\n"
          ]
        },
        {
          "name": "stdout",
          "output_type": "stream",
          "text": [
            "0.802 \n",
            "\n",
            "word2vec features, 1220 examples\n"
          ]
        },
        {
          "name": "stderr",
          "output_type": "stream",
          "text": [
            "/usr/local/lib/python3.10/dist-packages/sklearn/linear_model/_logistic.py:1173: FutureWarning: `penalty='none'`has been deprecated in 1.2 and will be removed in 1.4. To keep the past behaviour, set `penalty=None`.\n",
            "  warnings.warn(\n"
          ]
        },
        {
          "name": "stdout",
          "output_type": "stream",
          "text": [
            "0.74 \n",
            "\n",
            "lsa features, 1240 examples\n"
          ]
        },
        {
          "name": "stderr",
          "output_type": "stream",
          "text": [
            "/usr/local/lib/python3.10/dist-packages/sklearn/linear_model/_logistic.py:1173: FutureWarning: `penalty='none'`has been deprecated in 1.2 and will be removed in 1.4. To keep the past behaviour, set `penalty=None`.\n",
            "  warnings.warn(\n"
          ]
        },
        {
          "name": "stdout",
          "output_type": "stream",
          "text": [
            "0.792 \n",
            "\n",
            "word2vec features, 1240 examples\n"
          ]
        },
        {
          "name": "stderr",
          "output_type": "stream",
          "text": [
            "/usr/local/lib/python3.10/dist-packages/sklearn/linear_model/_logistic.py:1173: FutureWarning: `penalty='none'`has been deprecated in 1.2 and will be removed in 1.4. To keep the past behaviour, set `penalty=None`.\n",
            "  warnings.warn(\n"
          ]
        },
        {
          "name": "stdout",
          "output_type": "stream",
          "text": [
            "0.744 \n",
            "\n",
            "lsa features, 1260 examples\n"
          ]
        },
        {
          "name": "stderr",
          "output_type": "stream",
          "text": [
            "/usr/local/lib/python3.10/dist-packages/sklearn/linear_model/_logistic.py:1173: FutureWarning: `penalty='none'`has been deprecated in 1.2 and will be removed in 1.4. To keep the past behaviour, set `penalty=None`.\n",
            "  warnings.warn(\n"
          ]
        },
        {
          "name": "stdout",
          "output_type": "stream",
          "text": [
            "0.79 \n",
            "\n",
            "word2vec features, 1260 examples\n"
          ]
        },
        {
          "name": "stderr",
          "output_type": "stream",
          "text": [
            "/usr/local/lib/python3.10/dist-packages/sklearn/linear_model/_logistic.py:1173: FutureWarning: `penalty='none'`has been deprecated in 1.2 and will be removed in 1.4. To keep the past behaviour, set `penalty=None`.\n",
            "  warnings.warn(\n"
          ]
        },
        {
          "name": "stdout",
          "output_type": "stream",
          "text": [
            "0.748 \n",
            "\n",
            "lsa features, 1280 examples\n"
          ]
        },
        {
          "name": "stderr",
          "output_type": "stream",
          "text": [
            "/usr/local/lib/python3.10/dist-packages/sklearn/linear_model/_logistic.py:1173: FutureWarning: `penalty='none'`has been deprecated in 1.2 and will be removed in 1.4. To keep the past behaviour, set `penalty=None`.\n",
            "  warnings.warn(\n"
          ]
        },
        {
          "name": "stdout",
          "output_type": "stream",
          "text": [
            "0.798 \n",
            "\n",
            "word2vec features, 1280 examples\n"
          ]
        },
        {
          "name": "stderr",
          "output_type": "stream",
          "text": [
            "/usr/local/lib/python3.10/dist-packages/sklearn/linear_model/_logistic.py:1173: FutureWarning: `penalty='none'`has been deprecated in 1.2 and will be removed in 1.4. To keep the past behaviour, set `penalty=None`.\n",
            "  warnings.warn(\n"
          ]
        },
        {
          "name": "stdout",
          "output_type": "stream",
          "text": [
            "0.722 \n",
            "\n",
            "lsa features, 1300 examples\n"
          ]
        },
        {
          "name": "stderr",
          "output_type": "stream",
          "text": [
            "/usr/local/lib/python3.10/dist-packages/sklearn/linear_model/_logistic.py:1173: FutureWarning: `penalty='none'`has been deprecated in 1.2 and will be removed in 1.4. To keep the past behaviour, set `penalty=None`.\n",
            "  warnings.warn(\n"
          ]
        },
        {
          "name": "stdout",
          "output_type": "stream",
          "text": [
            "0.8 \n",
            "\n",
            "word2vec features, 1300 examples\n"
          ]
        },
        {
          "name": "stderr",
          "output_type": "stream",
          "text": [
            "/usr/local/lib/python3.10/dist-packages/sklearn/linear_model/_logistic.py:1173: FutureWarning: `penalty='none'`has been deprecated in 1.2 and will be removed in 1.4. To keep the past behaviour, set `penalty=None`.\n",
            "  warnings.warn(\n"
          ]
        },
        {
          "name": "stdout",
          "output_type": "stream",
          "text": [
            "0.75 \n",
            "\n",
            "lsa features, 1320 examples\n"
          ]
        },
        {
          "name": "stderr",
          "output_type": "stream",
          "text": [
            "/usr/local/lib/python3.10/dist-packages/sklearn/linear_model/_logistic.py:1173: FutureWarning: `penalty='none'`has been deprecated in 1.2 and will be removed in 1.4. To keep the past behaviour, set `penalty=None`.\n",
            "  warnings.warn(\n"
          ]
        },
        {
          "name": "stdout",
          "output_type": "stream",
          "text": [
            "0.794 \n",
            "\n",
            "word2vec features, 1320 examples\n"
          ]
        },
        {
          "name": "stderr",
          "output_type": "stream",
          "text": [
            "/usr/local/lib/python3.10/dist-packages/sklearn/linear_model/_logistic.py:1173: FutureWarning: `penalty='none'`has been deprecated in 1.2 and will be removed in 1.4. To keep the past behaviour, set `penalty=None`.\n",
            "  warnings.warn(\n"
          ]
        },
        {
          "name": "stdout",
          "output_type": "stream",
          "text": [
            "0.736 \n",
            "\n",
            "lsa features, 1340 examples\n"
          ]
        },
        {
          "name": "stderr",
          "output_type": "stream",
          "text": [
            "/usr/local/lib/python3.10/dist-packages/sklearn/linear_model/_logistic.py:1173: FutureWarning: `penalty='none'`has been deprecated in 1.2 and will be removed in 1.4. To keep the past behaviour, set `penalty=None`.\n",
            "  warnings.warn(\n"
          ]
        },
        {
          "name": "stdout",
          "output_type": "stream",
          "text": [
            "0.78 \n",
            "\n",
            "word2vec features, 1340 examples\n"
          ]
        },
        {
          "name": "stderr",
          "output_type": "stream",
          "text": [
            "/usr/local/lib/python3.10/dist-packages/sklearn/linear_model/_logistic.py:1173: FutureWarning: `penalty='none'`has been deprecated in 1.2 and will be removed in 1.4. To keep the past behaviour, set `penalty=None`.\n",
            "  warnings.warn(\n"
          ]
        },
        {
          "name": "stdout",
          "output_type": "stream",
          "text": [
            "0.756 \n",
            "\n",
            "lsa features, 1360 examples\n"
          ]
        },
        {
          "name": "stderr",
          "output_type": "stream",
          "text": [
            "/usr/local/lib/python3.10/dist-packages/sklearn/linear_model/_logistic.py:1173: FutureWarning: `penalty='none'`has been deprecated in 1.2 and will be removed in 1.4. To keep the past behaviour, set `penalty=None`.\n",
            "  warnings.warn(\n"
          ]
        },
        {
          "name": "stdout",
          "output_type": "stream",
          "text": [
            "0.782 \n",
            "\n",
            "word2vec features, 1360 examples\n"
          ]
        },
        {
          "name": "stderr",
          "output_type": "stream",
          "text": [
            "/usr/local/lib/python3.10/dist-packages/sklearn/linear_model/_logistic.py:1173: FutureWarning: `penalty='none'`has been deprecated in 1.2 and will be removed in 1.4. To keep the past behaviour, set `penalty=None`.\n",
            "  warnings.warn(\n"
          ]
        },
        {
          "name": "stdout",
          "output_type": "stream",
          "text": [
            "0.74 \n",
            "\n",
            "lsa features, 1380 examples\n"
          ]
        },
        {
          "name": "stderr",
          "output_type": "stream",
          "text": [
            "/usr/local/lib/python3.10/dist-packages/sklearn/linear_model/_logistic.py:1173: FutureWarning: `penalty='none'`has been deprecated in 1.2 and will be removed in 1.4. To keep the past behaviour, set `penalty=None`.\n",
            "  warnings.warn(\n"
          ]
        },
        {
          "name": "stdout",
          "output_type": "stream",
          "text": [
            "0.786 \n",
            "\n",
            "word2vec features, 1380 examples\n"
          ]
        },
        {
          "name": "stderr",
          "output_type": "stream",
          "text": [
            "/usr/local/lib/python3.10/dist-packages/sklearn/linear_model/_logistic.py:1173: FutureWarning: `penalty='none'`has been deprecated in 1.2 and will be removed in 1.4. To keep the past behaviour, set `penalty=None`.\n",
            "  warnings.warn(\n"
          ]
        },
        {
          "name": "stdout",
          "output_type": "stream",
          "text": [
            "0.734 \n",
            "\n",
            "lsa features, 1400 examples\n"
          ]
        },
        {
          "name": "stderr",
          "output_type": "stream",
          "text": [
            "/usr/local/lib/python3.10/dist-packages/sklearn/linear_model/_logistic.py:1173: FutureWarning: `penalty='none'`has been deprecated in 1.2 and will be removed in 1.4. To keep the past behaviour, set `penalty=None`.\n",
            "  warnings.warn(\n"
          ]
        },
        {
          "name": "stdout",
          "output_type": "stream",
          "text": [
            "0.788 \n",
            "\n",
            "word2vec features, 1400 examples\n"
          ]
        },
        {
          "name": "stderr",
          "output_type": "stream",
          "text": [
            "/usr/local/lib/python3.10/dist-packages/sklearn/linear_model/_logistic.py:1173: FutureWarning: `penalty='none'`has been deprecated in 1.2 and will be removed in 1.4. To keep the past behaviour, set `penalty=None`.\n",
            "  warnings.warn(\n"
          ]
        },
        {
          "name": "stdout",
          "output_type": "stream",
          "text": [
            "0.746 \n",
            "\n",
            "lsa features, 1420 examples\n"
          ]
        },
        {
          "name": "stderr",
          "output_type": "stream",
          "text": [
            "/usr/local/lib/python3.10/dist-packages/sklearn/linear_model/_logistic.py:1173: FutureWarning: `penalty='none'`has been deprecated in 1.2 and will be removed in 1.4. To keep the past behaviour, set `penalty=None`.\n",
            "  warnings.warn(\n"
          ]
        },
        {
          "name": "stdout",
          "output_type": "stream",
          "text": [
            "0.78 \n",
            "\n",
            "word2vec features, 1420 examples\n"
          ]
        },
        {
          "name": "stderr",
          "output_type": "stream",
          "text": [
            "/usr/local/lib/python3.10/dist-packages/sklearn/linear_model/_logistic.py:1173: FutureWarning: `penalty='none'`has been deprecated in 1.2 and will be removed in 1.4. To keep the past behaviour, set `penalty=None`.\n",
            "  warnings.warn(\n"
          ]
        },
        {
          "name": "stdout",
          "output_type": "stream",
          "text": [
            "0.754 \n",
            "\n",
            "lsa features, 1440 examples\n"
          ]
        },
        {
          "name": "stderr",
          "output_type": "stream",
          "text": [
            "/usr/local/lib/python3.10/dist-packages/sklearn/linear_model/_logistic.py:1173: FutureWarning: `penalty='none'`has been deprecated in 1.2 and will be removed in 1.4. To keep the past behaviour, set `penalty=None`.\n",
            "  warnings.warn(\n"
          ]
        },
        {
          "name": "stdout",
          "output_type": "stream",
          "text": [
            "0.774 \n",
            "\n",
            "word2vec features, 1440 examples\n"
          ]
        },
        {
          "name": "stderr",
          "output_type": "stream",
          "text": [
            "/usr/local/lib/python3.10/dist-packages/sklearn/linear_model/_logistic.py:1173: FutureWarning: `penalty='none'`has been deprecated in 1.2 and will be removed in 1.4. To keep the past behaviour, set `penalty=None`.\n",
            "  warnings.warn(\n"
          ]
        },
        {
          "name": "stdout",
          "output_type": "stream",
          "text": [
            "0.75 \n",
            "\n",
            "lsa features, 1460 examples\n"
          ]
        },
        {
          "name": "stderr",
          "output_type": "stream",
          "text": [
            "/usr/local/lib/python3.10/dist-packages/sklearn/linear_model/_logistic.py:1173: FutureWarning: `penalty='none'`has been deprecated in 1.2 and will be removed in 1.4. To keep the past behaviour, set `penalty=None`.\n",
            "  warnings.warn(\n"
          ]
        },
        {
          "name": "stdout",
          "output_type": "stream",
          "text": [
            "0.786 \n",
            "\n",
            "word2vec features, 1460 examples\n"
          ]
        },
        {
          "name": "stderr",
          "output_type": "stream",
          "text": [
            "/usr/local/lib/python3.10/dist-packages/sklearn/linear_model/_logistic.py:1173: FutureWarning: `penalty='none'`has been deprecated in 1.2 and will be removed in 1.4. To keep the past behaviour, set `penalty=None`.\n",
            "  warnings.warn(\n"
          ]
        },
        {
          "name": "stdout",
          "output_type": "stream",
          "text": [
            "0.738 \n",
            "\n",
            "lsa features, 1480 examples\n"
          ]
        },
        {
          "name": "stderr",
          "output_type": "stream",
          "text": [
            "/usr/local/lib/python3.10/dist-packages/sklearn/linear_model/_logistic.py:1173: FutureWarning: `penalty='none'`has been deprecated in 1.2 and will be removed in 1.4. To keep the past behaviour, set `penalty=None`.\n",
            "  warnings.warn(\n"
          ]
        },
        {
          "name": "stdout",
          "output_type": "stream",
          "text": [
            "0.78 \n",
            "\n",
            "word2vec features, 1480 examples\n"
          ]
        },
        {
          "name": "stderr",
          "output_type": "stream",
          "text": [
            "/usr/local/lib/python3.10/dist-packages/sklearn/linear_model/_logistic.py:1173: FutureWarning: `penalty='none'`has been deprecated in 1.2 and will be removed in 1.4. To keep the past behaviour, set `penalty=None`.\n",
            "  warnings.warn(\n"
          ]
        },
        {
          "name": "stdout",
          "output_type": "stream",
          "text": [
            "0.734 \n",
            "\n",
            "lsa features, 1500 examples\n"
          ]
        },
        {
          "name": "stderr",
          "output_type": "stream",
          "text": [
            "/usr/local/lib/python3.10/dist-packages/sklearn/linear_model/_logistic.py:1173: FutureWarning: `penalty='none'`has been deprecated in 1.2 and will be removed in 1.4. To keep the past behaviour, set `penalty=None`.\n",
            "  warnings.warn(\n"
          ]
        },
        {
          "name": "stdout",
          "output_type": "stream",
          "text": [
            "0.768 \n",
            "\n",
            "word2vec features, 1500 examples\n"
          ]
        },
        {
          "name": "stderr",
          "output_type": "stream",
          "text": [
            "/usr/local/lib/python3.10/dist-packages/sklearn/linear_model/_logistic.py:1173: FutureWarning: `penalty='none'`has been deprecated in 1.2 and will be removed in 1.4. To keep the past behaviour, set `penalty=None`.\n",
            "  warnings.warn(\n"
          ]
        },
        {
          "name": "stdout",
          "output_type": "stream",
          "text": [
            "0.732 \n",
            "\n",
            "lsa features, 1520 examples\n"
          ]
        },
        {
          "name": "stderr",
          "output_type": "stream",
          "text": [
            "/usr/local/lib/python3.10/dist-packages/sklearn/linear_model/_logistic.py:1173: FutureWarning: `penalty='none'`has been deprecated in 1.2 and will be removed in 1.4. To keep the past behaviour, set `penalty=None`.\n",
            "  warnings.warn(\n"
          ]
        },
        {
          "name": "stdout",
          "output_type": "stream",
          "text": [
            "0.768 \n",
            "\n",
            "word2vec features, 1520 examples\n"
          ]
        },
        {
          "name": "stderr",
          "output_type": "stream",
          "text": [
            "/usr/local/lib/python3.10/dist-packages/sklearn/linear_model/_logistic.py:1173: FutureWarning: `penalty='none'`has been deprecated in 1.2 and will be removed in 1.4. To keep the past behaviour, set `penalty=None`.\n",
            "  warnings.warn(\n"
          ]
        },
        {
          "name": "stdout",
          "output_type": "stream",
          "text": [
            "0.742 \n",
            "\n",
            "lsa features, 1540 examples\n"
          ]
        },
        {
          "name": "stderr",
          "output_type": "stream",
          "text": [
            "/usr/local/lib/python3.10/dist-packages/sklearn/linear_model/_logistic.py:1173: FutureWarning: `penalty='none'`has been deprecated in 1.2 and will be removed in 1.4. To keep the past behaviour, set `penalty=None`.\n",
            "  warnings.warn(\n"
          ]
        },
        {
          "name": "stdout",
          "output_type": "stream",
          "text": [
            "0.762 \n",
            "\n",
            "word2vec features, 1540 examples\n"
          ]
        },
        {
          "name": "stderr",
          "output_type": "stream",
          "text": [
            "/usr/local/lib/python3.10/dist-packages/sklearn/linear_model/_logistic.py:1173: FutureWarning: `penalty='none'`has been deprecated in 1.2 and will be removed in 1.4. To keep the past behaviour, set `penalty=None`.\n",
            "  warnings.warn(\n"
          ]
        },
        {
          "name": "stdout",
          "output_type": "stream",
          "text": [
            "0.748 \n",
            "\n",
            "lsa features, 1560 examples\n"
          ]
        },
        {
          "name": "stderr",
          "output_type": "stream",
          "text": [
            "/usr/local/lib/python3.10/dist-packages/sklearn/linear_model/_logistic.py:1173: FutureWarning: `penalty='none'`has been deprecated in 1.2 and will be removed in 1.4. To keep the past behaviour, set `penalty=None`.\n",
            "  warnings.warn(\n"
          ]
        },
        {
          "name": "stdout",
          "output_type": "stream",
          "text": [
            "0.766 \n",
            "\n",
            "word2vec features, 1560 examples\n"
          ]
        },
        {
          "name": "stderr",
          "output_type": "stream",
          "text": [
            "/usr/local/lib/python3.10/dist-packages/sklearn/linear_model/_logistic.py:1173: FutureWarning: `penalty='none'`has been deprecated in 1.2 and will be removed in 1.4. To keep the past behaviour, set `penalty=None`.\n",
            "  warnings.warn(\n"
          ]
        },
        {
          "name": "stdout",
          "output_type": "stream",
          "text": [
            "0.742 \n",
            "\n",
            "lsa features, 1580 examples\n"
          ]
        },
        {
          "name": "stderr",
          "output_type": "stream",
          "text": [
            "/usr/local/lib/python3.10/dist-packages/sklearn/linear_model/_logistic.py:1173: FutureWarning: `penalty='none'`has been deprecated in 1.2 and will be removed in 1.4. To keep the past behaviour, set `penalty=None`.\n",
            "  warnings.warn(\n"
          ]
        },
        {
          "name": "stdout",
          "output_type": "stream",
          "text": [
            "0.766 \n",
            "\n",
            "word2vec features, 1580 examples\n"
          ]
        },
        {
          "name": "stderr",
          "output_type": "stream",
          "text": [
            "/usr/local/lib/python3.10/dist-packages/sklearn/linear_model/_logistic.py:1173: FutureWarning: `penalty='none'`has been deprecated in 1.2 and will be removed in 1.4. To keep the past behaviour, set `penalty=None`.\n",
            "  warnings.warn(\n"
          ]
        },
        {
          "name": "stdout",
          "output_type": "stream",
          "text": [
            "0.74 \n",
            "\n",
            "lsa features, 1600 examples\n"
          ]
        },
        {
          "name": "stderr",
          "output_type": "stream",
          "text": [
            "/usr/local/lib/python3.10/dist-packages/sklearn/linear_model/_logistic.py:1173: FutureWarning: `penalty='none'`has been deprecated in 1.2 and will be removed in 1.4. To keep the past behaviour, set `penalty=None`.\n",
            "  warnings.warn(\n"
          ]
        },
        {
          "name": "stdout",
          "output_type": "stream",
          "text": [
            "0.768 \n",
            "\n",
            "word2vec features, 1600 examples\n"
          ]
        },
        {
          "name": "stderr",
          "output_type": "stream",
          "text": [
            "/usr/local/lib/python3.10/dist-packages/sklearn/linear_model/_logistic.py:1173: FutureWarning: `penalty='none'`has been deprecated in 1.2 and will be removed in 1.4. To keep the past behaviour, set `penalty=None`.\n",
            "  warnings.warn(\n"
          ]
        },
        {
          "name": "stdout",
          "output_type": "stream",
          "text": [
            "0.736 \n",
            "\n",
            "lsa features, 1620 examples\n"
          ]
        },
        {
          "name": "stderr",
          "output_type": "stream",
          "text": [
            "/usr/local/lib/python3.10/dist-packages/sklearn/linear_model/_logistic.py:1173: FutureWarning: `penalty='none'`has been deprecated in 1.2 and will be removed in 1.4. To keep the past behaviour, set `penalty=None`.\n",
            "  warnings.warn(\n"
          ]
        },
        {
          "name": "stdout",
          "output_type": "stream",
          "text": [
            "0.788 \n",
            "\n",
            "word2vec features, 1620 examples\n"
          ]
        },
        {
          "name": "stderr",
          "output_type": "stream",
          "text": [
            "/usr/local/lib/python3.10/dist-packages/sklearn/linear_model/_logistic.py:1173: FutureWarning: `penalty='none'`has been deprecated in 1.2 and will be removed in 1.4. To keep the past behaviour, set `penalty=None`.\n",
            "  warnings.warn(\n"
          ]
        },
        {
          "name": "stdout",
          "output_type": "stream",
          "text": [
            "0.732 \n",
            "\n",
            "lsa features, 1640 examples\n"
          ]
        },
        {
          "name": "stderr",
          "output_type": "stream",
          "text": [
            "/usr/local/lib/python3.10/dist-packages/sklearn/linear_model/_logistic.py:1173: FutureWarning: `penalty='none'`has been deprecated in 1.2 and will be removed in 1.4. To keep the past behaviour, set `penalty=None`.\n",
            "  warnings.warn(\n"
          ]
        },
        {
          "name": "stdout",
          "output_type": "stream",
          "text": [
            "0.79 \n",
            "\n",
            "word2vec features, 1640 examples\n"
          ]
        },
        {
          "name": "stderr",
          "output_type": "stream",
          "text": [
            "/usr/local/lib/python3.10/dist-packages/sklearn/linear_model/_logistic.py:1173: FutureWarning: `penalty='none'`has been deprecated in 1.2 and will be removed in 1.4. To keep the past behaviour, set `penalty=None`.\n",
            "  warnings.warn(\n"
          ]
        },
        {
          "name": "stdout",
          "output_type": "stream",
          "text": [
            "0.73 \n",
            "\n",
            "lsa features, 1660 examples\n"
          ]
        },
        {
          "name": "stderr",
          "output_type": "stream",
          "text": [
            "/usr/local/lib/python3.10/dist-packages/sklearn/linear_model/_logistic.py:1173: FutureWarning: `penalty='none'`has been deprecated in 1.2 and will be removed in 1.4. To keep the past behaviour, set `penalty=None`.\n",
            "  warnings.warn(\n"
          ]
        },
        {
          "name": "stdout",
          "output_type": "stream",
          "text": [
            "0.784 \n",
            "\n",
            "word2vec features, 1660 examples\n"
          ]
        },
        {
          "name": "stderr",
          "output_type": "stream",
          "text": [
            "/usr/local/lib/python3.10/dist-packages/sklearn/linear_model/_logistic.py:1173: FutureWarning: `penalty='none'`has been deprecated in 1.2 and will be removed in 1.4. To keep the past behaviour, set `penalty=None`.\n",
            "  warnings.warn(\n"
          ]
        },
        {
          "name": "stdout",
          "output_type": "stream",
          "text": [
            "0.732 \n",
            "\n",
            "lsa features, 1680 examples\n"
          ]
        },
        {
          "name": "stderr",
          "output_type": "stream",
          "text": [
            "/usr/local/lib/python3.10/dist-packages/sklearn/linear_model/_logistic.py:1173: FutureWarning: `penalty='none'`has been deprecated in 1.2 and will be removed in 1.4. To keep the past behaviour, set `penalty=None`.\n",
            "  warnings.warn(\n"
          ]
        },
        {
          "name": "stdout",
          "output_type": "stream",
          "text": [
            "0.792 \n",
            "\n",
            "word2vec features, 1680 examples\n"
          ]
        },
        {
          "name": "stderr",
          "output_type": "stream",
          "text": [
            "/usr/local/lib/python3.10/dist-packages/sklearn/linear_model/_logistic.py:1173: FutureWarning: `penalty='none'`has been deprecated in 1.2 and will be removed in 1.4. To keep the past behaviour, set `penalty=None`.\n",
            "  warnings.warn(\n"
          ]
        },
        {
          "name": "stdout",
          "output_type": "stream",
          "text": [
            "0.744 \n",
            "\n",
            "lsa features, 1700 examples\n"
          ]
        },
        {
          "name": "stderr",
          "output_type": "stream",
          "text": [
            "/usr/local/lib/python3.10/dist-packages/sklearn/linear_model/_logistic.py:1173: FutureWarning: `penalty='none'`has been deprecated in 1.2 and will be removed in 1.4. To keep the past behaviour, set `penalty=None`.\n",
            "  warnings.warn(\n"
          ]
        },
        {
          "name": "stdout",
          "output_type": "stream",
          "text": [
            "0.79 \n",
            "\n",
            "word2vec features, 1700 examples\n"
          ]
        },
        {
          "name": "stderr",
          "output_type": "stream",
          "text": [
            "/usr/local/lib/python3.10/dist-packages/sklearn/linear_model/_logistic.py:1173: FutureWarning: `penalty='none'`has been deprecated in 1.2 and will be removed in 1.4. To keep the past behaviour, set `penalty=None`.\n",
            "  warnings.warn(\n"
          ]
        },
        {
          "name": "stdout",
          "output_type": "stream",
          "text": [
            "0.738 \n",
            "\n",
            "lsa features, 1720 examples\n"
          ]
        },
        {
          "name": "stderr",
          "output_type": "stream",
          "text": [
            "/usr/local/lib/python3.10/dist-packages/sklearn/linear_model/_logistic.py:1173: FutureWarning: `penalty='none'`has been deprecated in 1.2 and will be removed in 1.4. To keep the past behaviour, set `penalty=None`.\n",
            "  warnings.warn(\n"
          ]
        },
        {
          "name": "stdout",
          "output_type": "stream",
          "text": [
            "0.794 \n",
            "\n",
            "word2vec features, 1720 examples\n"
          ]
        },
        {
          "name": "stderr",
          "output_type": "stream",
          "text": [
            "/usr/local/lib/python3.10/dist-packages/sklearn/linear_model/_logistic.py:1173: FutureWarning: `penalty='none'`has been deprecated in 1.2 and will be removed in 1.4. To keep the past behaviour, set `penalty=None`.\n",
            "  warnings.warn(\n"
          ]
        },
        {
          "name": "stdout",
          "output_type": "stream",
          "text": [
            "0.752 \n",
            "\n",
            "lsa features, 1740 examples\n"
          ]
        },
        {
          "name": "stderr",
          "output_type": "stream",
          "text": [
            "/usr/local/lib/python3.10/dist-packages/sklearn/linear_model/_logistic.py:1173: FutureWarning: `penalty='none'`has been deprecated in 1.2 and will be removed in 1.4. To keep the past behaviour, set `penalty=None`.\n",
            "  warnings.warn(\n"
          ]
        },
        {
          "name": "stdout",
          "output_type": "stream",
          "text": [
            "0.796 \n",
            "\n",
            "word2vec features, 1740 examples\n"
          ]
        },
        {
          "name": "stderr",
          "output_type": "stream",
          "text": [
            "/usr/local/lib/python3.10/dist-packages/sklearn/linear_model/_logistic.py:1173: FutureWarning: `penalty='none'`has been deprecated in 1.2 and will be removed in 1.4. To keep the past behaviour, set `penalty=None`.\n",
            "  warnings.warn(\n"
          ]
        },
        {
          "name": "stdout",
          "output_type": "stream",
          "text": [
            "0.754 \n",
            "\n",
            "lsa features, 1760 examples\n"
          ]
        },
        {
          "name": "stderr",
          "output_type": "stream",
          "text": [
            "/usr/local/lib/python3.10/dist-packages/sklearn/linear_model/_logistic.py:1173: FutureWarning: `penalty='none'`has been deprecated in 1.2 and will be removed in 1.4. To keep the past behaviour, set `penalty=None`.\n",
            "  warnings.warn(\n"
          ]
        },
        {
          "name": "stdout",
          "output_type": "stream",
          "text": [
            "0.786 \n",
            "\n",
            "word2vec features, 1760 examples\n"
          ]
        },
        {
          "name": "stderr",
          "output_type": "stream",
          "text": [
            "/usr/local/lib/python3.10/dist-packages/sklearn/linear_model/_logistic.py:1173: FutureWarning: `penalty='none'`has been deprecated in 1.2 and will be removed in 1.4. To keep the past behaviour, set `penalty=None`.\n",
            "  warnings.warn(\n"
          ]
        },
        {
          "name": "stdout",
          "output_type": "stream",
          "text": [
            "0.75 \n",
            "\n",
            "lsa features, 1780 examples\n"
          ]
        },
        {
          "name": "stderr",
          "output_type": "stream",
          "text": [
            "/usr/local/lib/python3.10/dist-packages/sklearn/linear_model/_logistic.py:1173: FutureWarning: `penalty='none'`has been deprecated in 1.2 and will be removed in 1.4. To keep the past behaviour, set `penalty=None`.\n",
            "  warnings.warn(\n"
          ]
        },
        {
          "name": "stdout",
          "output_type": "stream",
          "text": [
            "0.792 \n",
            "\n",
            "word2vec features, 1780 examples\n"
          ]
        },
        {
          "name": "stderr",
          "output_type": "stream",
          "text": [
            "/usr/local/lib/python3.10/dist-packages/sklearn/linear_model/_logistic.py:1173: FutureWarning: `penalty='none'`has been deprecated in 1.2 and will be removed in 1.4. To keep the past behaviour, set `penalty=None`.\n",
            "  warnings.warn(\n"
          ]
        },
        {
          "name": "stdout",
          "output_type": "stream",
          "text": [
            "0.738 \n",
            "\n",
            "lsa features, 1800 examples\n"
          ]
        },
        {
          "name": "stderr",
          "output_type": "stream",
          "text": [
            "/usr/local/lib/python3.10/dist-packages/sklearn/linear_model/_logistic.py:1173: FutureWarning: `penalty='none'`has been deprecated in 1.2 and will be removed in 1.4. To keep the past behaviour, set `penalty=None`.\n",
            "  warnings.warn(\n"
          ]
        },
        {
          "name": "stdout",
          "output_type": "stream",
          "text": [
            "0.784 \n",
            "\n",
            "word2vec features, 1800 examples\n"
          ]
        },
        {
          "name": "stderr",
          "output_type": "stream",
          "text": [
            "/usr/local/lib/python3.10/dist-packages/sklearn/linear_model/_logistic.py:1173: FutureWarning: `penalty='none'`has been deprecated in 1.2 and will be removed in 1.4. To keep the past behaviour, set `penalty=None`.\n",
            "  warnings.warn(\n"
          ]
        },
        {
          "name": "stdout",
          "output_type": "stream",
          "text": [
            "0.748 \n",
            "\n",
            "lsa features, 1820 examples\n"
          ]
        },
        {
          "name": "stderr",
          "output_type": "stream",
          "text": [
            "/usr/local/lib/python3.10/dist-packages/sklearn/linear_model/_logistic.py:1173: FutureWarning: `penalty='none'`has been deprecated in 1.2 and will be removed in 1.4. To keep the past behaviour, set `penalty=None`.\n",
            "  warnings.warn(\n"
          ]
        },
        {
          "name": "stdout",
          "output_type": "stream",
          "text": [
            "0.78 \n",
            "\n",
            "word2vec features, 1820 examples\n"
          ]
        },
        {
          "name": "stderr",
          "output_type": "stream",
          "text": [
            "/usr/local/lib/python3.10/dist-packages/sklearn/linear_model/_logistic.py:1173: FutureWarning: `penalty='none'`has been deprecated in 1.2 and will be removed in 1.4. To keep the past behaviour, set `penalty=None`.\n",
            "  warnings.warn(\n"
          ]
        },
        {
          "name": "stdout",
          "output_type": "stream",
          "text": [
            "0.748 \n",
            "\n",
            "lsa features, 1840 examples\n"
          ]
        },
        {
          "name": "stderr",
          "output_type": "stream",
          "text": [
            "/usr/local/lib/python3.10/dist-packages/sklearn/linear_model/_logistic.py:1173: FutureWarning: `penalty='none'`has been deprecated in 1.2 and will be removed in 1.4. To keep the past behaviour, set `penalty=None`.\n",
            "  warnings.warn(\n"
          ]
        },
        {
          "name": "stdout",
          "output_type": "stream",
          "text": [
            "0.776 \n",
            "\n",
            "word2vec features, 1840 examples\n"
          ]
        },
        {
          "name": "stderr",
          "output_type": "stream",
          "text": [
            "/usr/local/lib/python3.10/dist-packages/sklearn/linear_model/_logistic.py:1173: FutureWarning: `penalty='none'`has been deprecated in 1.2 and will be removed in 1.4. To keep the past behaviour, set `penalty=None`.\n",
            "  warnings.warn(\n"
          ]
        },
        {
          "name": "stdout",
          "output_type": "stream",
          "text": [
            "0.738 \n",
            "\n",
            "lsa features, 1860 examples\n"
          ]
        },
        {
          "name": "stderr",
          "output_type": "stream",
          "text": [
            "/usr/local/lib/python3.10/dist-packages/sklearn/linear_model/_logistic.py:1173: FutureWarning: `penalty='none'`has been deprecated in 1.2 and will be removed in 1.4. To keep the past behaviour, set `penalty=None`.\n",
            "  warnings.warn(\n"
          ]
        },
        {
          "name": "stdout",
          "output_type": "stream",
          "text": [
            "0.792 \n",
            "\n",
            "word2vec features, 1860 examples\n"
          ]
        },
        {
          "name": "stderr",
          "output_type": "stream",
          "text": [
            "/usr/local/lib/python3.10/dist-packages/sklearn/linear_model/_logistic.py:1173: FutureWarning: `penalty='none'`has been deprecated in 1.2 and will be removed in 1.4. To keep the past behaviour, set `penalty=None`.\n",
            "  warnings.warn(\n"
          ]
        },
        {
          "name": "stdout",
          "output_type": "stream",
          "text": [
            "0.746 \n",
            "\n",
            "lsa features, 1880 examples\n"
          ]
        },
        {
          "name": "stderr",
          "output_type": "stream",
          "text": [
            "/usr/local/lib/python3.10/dist-packages/sklearn/linear_model/_logistic.py:1173: FutureWarning: `penalty='none'`has been deprecated in 1.2 and will be removed in 1.4. To keep the past behaviour, set `penalty=None`.\n",
            "  warnings.warn(\n"
          ]
        },
        {
          "name": "stdout",
          "output_type": "stream",
          "text": [
            "0.794 \n",
            "\n",
            "word2vec features, 1880 examples\n"
          ]
        },
        {
          "name": "stderr",
          "output_type": "stream",
          "text": [
            "/usr/local/lib/python3.10/dist-packages/sklearn/linear_model/_logistic.py:1173: FutureWarning: `penalty='none'`has been deprecated in 1.2 and will be removed in 1.4. To keep the past behaviour, set `penalty=None`.\n",
            "  warnings.warn(\n"
          ]
        },
        {
          "name": "stdout",
          "output_type": "stream",
          "text": [
            "0.742 \n",
            "\n",
            "lsa features, 1900 examples\n"
          ]
        },
        {
          "name": "stderr",
          "output_type": "stream",
          "text": [
            "/usr/local/lib/python3.10/dist-packages/sklearn/linear_model/_logistic.py:1173: FutureWarning: `penalty='none'`has been deprecated in 1.2 and will be removed in 1.4. To keep the past behaviour, set `penalty=None`.\n",
            "  warnings.warn(\n"
          ]
        },
        {
          "name": "stdout",
          "output_type": "stream",
          "text": [
            "0.786 \n",
            "\n",
            "word2vec features, 1900 examples\n"
          ]
        },
        {
          "name": "stderr",
          "output_type": "stream",
          "text": [
            "/usr/local/lib/python3.10/dist-packages/sklearn/linear_model/_logistic.py:1173: FutureWarning: `penalty='none'`has been deprecated in 1.2 and will be removed in 1.4. To keep the past behaviour, set `penalty=None`.\n",
            "  warnings.warn(\n"
          ]
        },
        {
          "name": "stdout",
          "output_type": "stream",
          "text": [
            "0.74 \n",
            "\n",
            "lsa features, 1920 examples\n"
          ]
        },
        {
          "name": "stderr",
          "output_type": "stream",
          "text": [
            "/usr/local/lib/python3.10/dist-packages/sklearn/linear_model/_logistic.py:1173: FutureWarning: `penalty='none'`has been deprecated in 1.2 and will be removed in 1.4. To keep the past behaviour, set `penalty=None`.\n",
            "  warnings.warn(\n"
          ]
        },
        {
          "name": "stdout",
          "output_type": "stream",
          "text": [
            "0.784 \n",
            "\n",
            "word2vec features, 1920 examples\n"
          ]
        },
        {
          "name": "stderr",
          "output_type": "stream",
          "text": [
            "/usr/local/lib/python3.10/dist-packages/sklearn/linear_model/_logistic.py:1173: FutureWarning: `penalty='none'`has been deprecated in 1.2 and will be removed in 1.4. To keep the past behaviour, set `penalty=None`.\n",
            "  warnings.warn(\n"
          ]
        },
        {
          "name": "stdout",
          "output_type": "stream",
          "text": [
            "0.734 \n",
            "\n",
            "lsa features, 1940 examples\n"
          ]
        },
        {
          "name": "stderr",
          "output_type": "stream",
          "text": [
            "/usr/local/lib/python3.10/dist-packages/sklearn/linear_model/_logistic.py:1173: FutureWarning: `penalty='none'`has been deprecated in 1.2 and will be removed in 1.4. To keep the past behaviour, set `penalty=None`.\n",
            "  warnings.warn(\n"
          ]
        },
        {
          "name": "stdout",
          "output_type": "stream",
          "text": [
            "0.788 \n",
            "\n",
            "word2vec features, 1940 examples\n"
          ]
        },
        {
          "name": "stderr",
          "output_type": "stream",
          "text": [
            "/usr/local/lib/python3.10/dist-packages/sklearn/linear_model/_logistic.py:1173: FutureWarning: `penalty='none'`has been deprecated in 1.2 and will be removed in 1.4. To keep the past behaviour, set `penalty=None`.\n",
            "  warnings.warn(\n"
          ]
        },
        {
          "name": "stdout",
          "output_type": "stream",
          "text": [
            "0.752 \n",
            "\n",
            "lsa features, 1960 examples\n"
          ]
        },
        {
          "name": "stderr",
          "output_type": "stream",
          "text": [
            "/usr/local/lib/python3.10/dist-packages/sklearn/linear_model/_logistic.py:1173: FutureWarning: `penalty='none'`has been deprecated in 1.2 and will be removed in 1.4. To keep the past behaviour, set `penalty=None`.\n",
            "  warnings.warn(\n"
          ]
        },
        {
          "name": "stdout",
          "output_type": "stream",
          "text": [
            "0.792 \n",
            "\n",
            "word2vec features, 1960 examples\n"
          ]
        },
        {
          "name": "stderr",
          "output_type": "stream",
          "text": [
            "/usr/local/lib/python3.10/dist-packages/sklearn/linear_model/_logistic.py:1173: FutureWarning: `penalty='none'`has been deprecated in 1.2 and will be removed in 1.4. To keep the past behaviour, set `penalty=None`.\n",
            "  warnings.warn(\n"
          ]
        },
        {
          "name": "stdout",
          "output_type": "stream",
          "text": [
            "0.752 \n",
            "\n",
            "lsa features, 1980 examples\n"
          ]
        },
        {
          "name": "stderr",
          "output_type": "stream",
          "text": [
            "/usr/local/lib/python3.10/dist-packages/sklearn/linear_model/_logistic.py:1173: FutureWarning: `penalty='none'`has been deprecated in 1.2 and will be removed in 1.4. To keep the past behaviour, set `penalty=None`.\n",
            "  warnings.warn(\n"
          ]
        },
        {
          "name": "stdout",
          "output_type": "stream",
          "text": [
            "0.784 \n",
            "\n",
            "word2vec features, 1980 examples\n"
          ]
        },
        {
          "name": "stderr",
          "output_type": "stream",
          "text": [
            "/usr/local/lib/python3.10/dist-packages/sklearn/linear_model/_logistic.py:1173: FutureWarning: `penalty='none'`has been deprecated in 1.2 and will be removed in 1.4. To keep the past behaviour, set `penalty=None`.\n",
            "  warnings.warn(\n"
          ]
        },
        {
          "name": "stdout",
          "output_type": "stream",
          "text": [
            "0.774 \n",
            "\n",
            "lsa features, 2000 examples\n"
          ]
        },
        {
          "name": "stderr",
          "output_type": "stream",
          "text": [
            "/usr/local/lib/python3.10/dist-packages/sklearn/linear_model/_logistic.py:1173: FutureWarning: `penalty='none'`has been deprecated in 1.2 and will be removed in 1.4. To keep the past behaviour, set `penalty=None`.\n",
            "  warnings.warn(\n"
          ]
        },
        {
          "name": "stdout",
          "output_type": "stream",
          "text": [
            "0.792 \n",
            "\n",
            "word2vec features, 2000 examples\n"
          ]
        },
        {
          "name": "stderr",
          "output_type": "stream",
          "text": [
            "/usr/local/lib/python3.10/dist-packages/sklearn/linear_model/_logistic.py:1173: FutureWarning: `penalty='none'`has been deprecated in 1.2 and will be removed in 1.4. To keep the past behaviour, set `penalty=None`.\n",
            "  warnings.warn(\n"
          ]
        },
        {
          "name": "stdout",
          "output_type": "stream",
          "text": [
            "0.754 \n",
            "\n",
            "lsa features, 2020 examples\n"
          ]
        },
        {
          "name": "stderr",
          "output_type": "stream",
          "text": [
            "/usr/local/lib/python3.10/dist-packages/sklearn/linear_model/_logistic.py:1173: FutureWarning: `penalty='none'`has been deprecated in 1.2 and will be removed in 1.4. To keep the past behaviour, set `penalty=None`.\n",
            "  warnings.warn(\n"
          ]
        },
        {
          "name": "stdout",
          "output_type": "stream",
          "text": [
            "0.788 \n",
            "\n",
            "word2vec features, 2020 examples\n"
          ]
        },
        {
          "name": "stderr",
          "output_type": "stream",
          "text": [
            "/usr/local/lib/python3.10/dist-packages/sklearn/linear_model/_logistic.py:1173: FutureWarning: `penalty='none'`has been deprecated in 1.2 and will be removed in 1.4. To keep the past behaviour, set `penalty=None`.\n",
            "  warnings.warn(\n"
          ]
        },
        {
          "name": "stdout",
          "output_type": "stream",
          "text": [
            "0.76 \n",
            "\n",
            "lsa features, 2040 examples\n"
          ]
        },
        {
          "name": "stderr",
          "output_type": "stream",
          "text": [
            "/usr/local/lib/python3.10/dist-packages/sklearn/linear_model/_logistic.py:1173: FutureWarning: `penalty='none'`has been deprecated in 1.2 and will be removed in 1.4. To keep the past behaviour, set `penalty=None`.\n",
            "  warnings.warn(\n"
          ]
        },
        {
          "name": "stdout",
          "output_type": "stream",
          "text": [
            "0.794 \n",
            "\n",
            "word2vec features, 2040 examples\n"
          ]
        },
        {
          "name": "stderr",
          "output_type": "stream",
          "text": [
            "/usr/local/lib/python3.10/dist-packages/sklearn/linear_model/_logistic.py:1173: FutureWarning: `penalty='none'`has been deprecated in 1.2 and will be removed in 1.4. To keep the past behaviour, set `penalty=None`.\n",
            "  warnings.warn(\n"
          ]
        },
        {
          "name": "stdout",
          "output_type": "stream",
          "text": [
            "0.758 \n",
            "\n",
            "lsa features, 2060 examples\n"
          ]
        },
        {
          "name": "stderr",
          "output_type": "stream",
          "text": [
            "/usr/local/lib/python3.10/dist-packages/sklearn/linear_model/_logistic.py:1173: FutureWarning: `penalty='none'`has been deprecated in 1.2 and will be removed in 1.4. To keep the past behaviour, set `penalty=None`.\n",
            "  warnings.warn(\n"
          ]
        },
        {
          "name": "stdout",
          "output_type": "stream",
          "text": [
            "0.79 \n",
            "\n",
            "word2vec features, 2060 examples\n"
          ]
        },
        {
          "name": "stderr",
          "output_type": "stream",
          "text": [
            "/usr/local/lib/python3.10/dist-packages/sklearn/linear_model/_logistic.py:1173: FutureWarning: `penalty='none'`has been deprecated in 1.2 and will be removed in 1.4. To keep the past behaviour, set `penalty=None`.\n",
            "  warnings.warn(\n"
          ]
        },
        {
          "name": "stdout",
          "output_type": "stream",
          "text": [
            "0.748 \n",
            "\n",
            "lsa features, 2080 examples\n"
          ]
        },
        {
          "name": "stderr",
          "output_type": "stream",
          "text": [
            "/usr/local/lib/python3.10/dist-packages/sklearn/linear_model/_logistic.py:1173: FutureWarning: `penalty='none'`has been deprecated in 1.2 and will be removed in 1.4. To keep the past behaviour, set `penalty=None`.\n",
            "  warnings.warn(\n"
          ]
        },
        {
          "name": "stdout",
          "output_type": "stream",
          "text": [
            "0.796 \n",
            "\n",
            "word2vec features, 2080 examples\n"
          ]
        },
        {
          "name": "stderr",
          "output_type": "stream",
          "text": [
            "/usr/local/lib/python3.10/dist-packages/sklearn/linear_model/_logistic.py:1173: FutureWarning: `penalty='none'`has been deprecated in 1.2 and will be removed in 1.4. To keep the past behaviour, set `penalty=None`.\n",
            "  warnings.warn(\n"
          ]
        },
        {
          "name": "stdout",
          "output_type": "stream",
          "text": [
            "0.75 \n",
            "\n",
            "lsa features, 2100 examples\n"
          ]
        },
        {
          "name": "stderr",
          "output_type": "stream",
          "text": [
            "/usr/local/lib/python3.10/dist-packages/sklearn/linear_model/_logistic.py:1173: FutureWarning: `penalty='none'`has been deprecated in 1.2 and will be removed in 1.4. To keep the past behaviour, set `penalty=None`.\n",
            "  warnings.warn(\n"
          ]
        },
        {
          "name": "stdout",
          "output_type": "stream",
          "text": [
            "0.792 \n",
            "\n",
            "word2vec features, 2100 examples\n"
          ]
        },
        {
          "name": "stderr",
          "output_type": "stream",
          "text": [
            "/usr/local/lib/python3.10/dist-packages/sklearn/linear_model/_logistic.py:1173: FutureWarning: `penalty='none'`has been deprecated in 1.2 and will be removed in 1.4. To keep the past behaviour, set `penalty=None`.\n",
            "  warnings.warn(\n"
          ]
        },
        {
          "name": "stdout",
          "output_type": "stream",
          "text": [
            "0.748 \n",
            "\n",
            "lsa features, 2120 examples\n"
          ]
        },
        {
          "name": "stderr",
          "output_type": "stream",
          "text": [
            "/usr/local/lib/python3.10/dist-packages/sklearn/linear_model/_logistic.py:1173: FutureWarning: `penalty='none'`has been deprecated in 1.2 and will be removed in 1.4. To keep the past behaviour, set `penalty=None`.\n",
            "  warnings.warn(\n"
          ]
        },
        {
          "name": "stdout",
          "output_type": "stream",
          "text": [
            "0.8 \n",
            "\n",
            "word2vec features, 2120 examples\n"
          ]
        },
        {
          "name": "stderr",
          "output_type": "stream",
          "text": [
            "/usr/local/lib/python3.10/dist-packages/sklearn/linear_model/_logistic.py:1173: FutureWarning: `penalty='none'`has been deprecated in 1.2 and will be removed in 1.4. To keep the past behaviour, set `penalty=None`.\n",
            "  warnings.warn(\n"
          ]
        },
        {
          "name": "stdout",
          "output_type": "stream",
          "text": [
            "0.754 \n",
            "\n",
            "lsa features, 2140 examples\n"
          ]
        },
        {
          "name": "stderr",
          "output_type": "stream",
          "text": [
            "/usr/local/lib/python3.10/dist-packages/sklearn/linear_model/_logistic.py:1173: FutureWarning: `penalty='none'`has been deprecated in 1.2 and will be removed in 1.4. To keep the past behaviour, set `penalty=None`.\n",
            "  warnings.warn(\n"
          ]
        },
        {
          "name": "stdout",
          "output_type": "stream",
          "text": [
            "0.788 \n",
            "\n",
            "word2vec features, 2140 examples\n"
          ]
        },
        {
          "name": "stderr",
          "output_type": "stream",
          "text": [
            "/usr/local/lib/python3.10/dist-packages/sklearn/linear_model/_logistic.py:1173: FutureWarning: `penalty='none'`has been deprecated in 1.2 and will be removed in 1.4. To keep the past behaviour, set `penalty=None`.\n",
            "  warnings.warn(\n"
          ]
        },
        {
          "name": "stdout",
          "output_type": "stream",
          "text": [
            "0.76 \n",
            "\n",
            "lsa features, 2160 examples\n"
          ]
        },
        {
          "name": "stderr",
          "output_type": "stream",
          "text": [
            "/usr/local/lib/python3.10/dist-packages/sklearn/linear_model/_logistic.py:1173: FutureWarning: `penalty='none'`has been deprecated in 1.2 and will be removed in 1.4. To keep the past behaviour, set `penalty=None`.\n",
            "  warnings.warn(\n"
          ]
        },
        {
          "name": "stdout",
          "output_type": "stream",
          "text": [
            "0.794 \n",
            "\n",
            "word2vec features, 2160 examples\n"
          ]
        },
        {
          "name": "stderr",
          "output_type": "stream",
          "text": [
            "/usr/local/lib/python3.10/dist-packages/sklearn/linear_model/_logistic.py:1173: FutureWarning: `penalty='none'`has been deprecated in 1.2 and will be removed in 1.4. To keep the past behaviour, set `penalty=None`.\n",
            "  warnings.warn(\n"
          ]
        },
        {
          "name": "stdout",
          "output_type": "stream",
          "text": [
            "0.76 \n",
            "\n",
            "lsa features, 2180 examples\n"
          ]
        },
        {
          "name": "stderr",
          "output_type": "stream",
          "text": [
            "/usr/local/lib/python3.10/dist-packages/sklearn/linear_model/_logistic.py:1173: FutureWarning: `penalty='none'`has been deprecated in 1.2 and will be removed in 1.4. To keep the past behaviour, set `penalty=None`.\n",
            "  warnings.warn(\n"
          ]
        },
        {
          "name": "stdout",
          "output_type": "stream",
          "text": [
            "0.802 \n",
            "\n",
            "word2vec features, 2180 examples\n"
          ]
        },
        {
          "name": "stderr",
          "output_type": "stream",
          "text": [
            "/usr/local/lib/python3.10/dist-packages/sklearn/linear_model/_logistic.py:1173: FutureWarning: `penalty='none'`has been deprecated in 1.2 and will be removed in 1.4. To keep the past behaviour, set `penalty=None`.\n",
            "  warnings.warn(\n"
          ]
        },
        {
          "name": "stdout",
          "output_type": "stream",
          "text": [
            "0.758 \n",
            "\n",
            "lsa features, 2200 examples\n"
          ]
        },
        {
          "name": "stderr",
          "output_type": "stream",
          "text": [
            "/usr/local/lib/python3.10/dist-packages/sklearn/linear_model/_logistic.py:1173: FutureWarning: `penalty='none'`has been deprecated in 1.2 and will be removed in 1.4. To keep the past behaviour, set `penalty=None`.\n",
            "  warnings.warn(\n"
          ]
        },
        {
          "name": "stdout",
          "output_type": "stream",
          "text": [
            "0.786 \n",
            "\n",
            "word2vec features, 2200 examples\n"
          ]
        },
        {
          "name": "stderr",
          "output_type": "stream",
          "text": [
            "/usr/local/lib/python3.10/dist-packages/sklearn/linear_model/_logistic.py:1173: FutureWarning: `penalty='none'`has been deprecated in 1.2 and will be removed in 1.4. To keep the past behaviour, set `penalty=None`.\n",
            "  warnings.warn(\n"
          ]
        },
        {
          "name": "stdout",
          "output_type": "stream",
          "text": [
            "0.752 \n",
            "\n",
            "lsa features, 2220 examples\n"
          ]
        },
        {
          "name": "stderr",
          "output_type": "stream",
          "text": [
            "/usr/local/lib/python3.10/dist-packages/sklearn/linear_model/_logistic.py:1173: FutureWarning: `penalty='none'`has been deprecated in 1.2 and will be removed in 1.4. To keep the past behaviour, set `penalty=None`.\n",
            "  warnings.warn(\n"
          ]
        },
        {
          "name": "stdout",
          "output_type": "stream",
          "text": [
            "0.798 \n",
            "\n",
            "word2vec features, 2220 examples\n"
          ]
        },
        {
          "name": "stderr",
          "output_type": "stream",
          "text": [
            "/usr/local/lib/python3.10/dist-packages/sklearn/linear_model/_logistic.py:1173: FutureWarning: `penalty='none'`has been deprecated in 1.2 and will be removed in 1.4. To keep the past behaviour, set `penalty=None`.\n",
            "  warnings.warn(\n"
          ]
        },
        {
          "name": "stdout",
          "output_type": "stream",
          "text": [
            "0.75 \n",
            "\n",
            "lsa features, 2240 examples\n"
          ]
        },
        {
          "name": "stderr",
          "output_type": "stream",
          "text": [
            "/usr/local/lib/python3.10/dist-packages/sklearn/linear_model/_logistic.py:1173: FutureWarning: `penalty='none'`has been deprecated in 1.2 and will be removed in 1.4. To keep the past behaviour, set `penalty=None`.\n",
            "  warnings.warn(\n"
          ]
        },
        {
          "name": "stdout",
          "output_type": "stream",
          "text": [
            "0.796 \n",
            "\n",
            "word2vec features, 2240 examples\n"
          ]
        },
        {
          "name": "stderr",
          "output_type": "stream",
          "text": [
            "/usr/local/lib/python3.10/dist-packages/sklearn/linear_model/_logistic.py:1173: FutureWarning: `penalty='none'`has been deprecated in 1.2 and will be removed in 1.4. To keep the past behaviour, set `penalty=None`.\n",
            "  warnings.warn(\n"
          ]
        },
        {
          "name": "stdout",
          "output_type": "stream",
          "text": [
            "0.764 \n",
            "\n",
            "lsa features, 2260 examples\n"
          ]
        },
        {
          "name": "stderr",
          "output_type": "stream",
          "text": [
            "/usr/local/lib/python3.10/dist-packages/sklearn/linear_model/_logistic.py:1173: FutureWarning: `penalty='none'`has been deprecated in 1.2 and will be removed in 1.4. To keep the past behaviour, set `penalty=None`.\n",
            "  warnings.warn(\n"
          ]
        },
        {
          "name": "stdout",
          "output_type": "stream",
          "text": [
            "0.806 \n",
            "\n",
            "word2vec features, 2260 examples\n"
          ]
        },
        {
          "name": "stderr",
          "output_type": "stream",
          "text": [
            "/usr/local/lib/python3.10/dist-packages/sklearn/linear_model/_logistic.py:1173: FutureWarning: `penalty='none'`has been deprecated in 1.2 and will be removed in 1.4. To keep the past behaviour, set `penalty=None`.\n",
            "  warnings.warn(\n"
          ]
        },
        {
          "name": "stdout",
          "output_type": "stream",
          "text": [
            "0.748 \n",
            "\n",
            "lsa features, 2280 examples\n"
          ]
        },
        {
          "name": "stderr",
          "output_type": "stream",
          "text": [
            "/usr/local/lib/python3.10/dist-packages/sklearn/linear_model/_logistic.py:1173: FutureWarning: `penalty='none'`has been deprecated in 1.2 and will be removed in 1.4. To keep the past behaviour, set `penalty=None`.\n",
            "  warnings.warn(\n"
          ]
        },
        {
          "name": "stdout",
          "output_type": "stream",
          "text": [
            "0.806 \n",
            "\n",
            "word2vec features, 2280 examples\n"
          ]
        },
        {
          "name": "stderr",
          "output_type": "stream",
          "text": [
            "/usr/local/lib/python3.10/dist-packages/sklearn/linear_model/_logistic.py:1173: FutureWarning: `penalty='none'`has been deprecated in 1.2 and will be removed in 1.4. To keep the past behaviour, set `penalty=None`.\n",
            "  warnings.warn(\n"
          ]
        },
        {
          "name": "stdout",
          "output_type": "stream",
          "text": [
            "0.74 \n",
            "\n",
            "lsa features, 2300 examples\n"
          ]
        },
        {
          "name": "stderr",
          "output_type": "stream",
          "text": [
            "/usr/local/lib/python3.10/dist-packages/sklearn/linear_model/_logistic.py:1173: FutureWarning: `penalty='none'`has been deprecated in 1.2 and will be removed in 1.4. To keep the past behaviour, set `penalty=None`.\n",
            "  warnings.warn(\n"
          ]
        },
        {
          "name": "stdout",
          "output_type": "stream",
          "text": [
            "0.804 \n",
            "\n",
            "word2vec features, 2300 examples\n"
          ]
        },
        {
          "name": "stderr",
          "output_type": "stream",
          "text": [
            "/usr/local/lib/python3.10/dist-packages/sklearn/linear_model/_logistic.py:1173: FutureWarning: `penalty='none'`has been deprecated in 1.2 and will be removed in 1.4. To keep the past behaviour, set `penalty=None`.\n",
            "  warnings.warn(\n"
          ]
        },
        {
          "name": "stdout",
          "output_type": "stream",
          "text": [
            "0.746 \n",
            "\n",
            "lsa features, 2320 examples\n"
          ]
        },
        {
          "name": "stderr",
          "output_type": "stream",
          "text": [
            "/usr/local/lib/python3.10/dist-packages/sklearn/linear_model/_logistic.py:1173: FutureWarning: `penalty='none'`has been deprecated in 1.2 and will be removed in 1.4. To keep the past behaviour, set `penalty=None`.\n",
            "  warnings.warn(\n"
          ]
        },
        {
          "name": "stdout",
          "output_type": "stream",
          "text": [
            "0.798 \n",
            "\n",
            "word2vec features, 2320 examples\n"
          ]
        },
        {
          "name": "stderr",
          "output_type": "stream",
          "text": [
            "/usr/local/lib/python3.10/dist-packages/sklearn/linear_model/_logistic.py:1173: FutureWarning: `penalty='none'`has been deprecated in 1.2 and will be removed in 1.4. To keep the past behaviour, set `penalty=None`.\n",
            "  warnings.warn(\n"
          ]
        },
        {
          "name": "stdout",
          "output_type": "stream",
          "text": [
            "0.75 \n",
            "\n",
            "lsa features, 2340 examples\n"
          ]
        },
        {
          "name": "stderr",
          "output_type": "stream",
          "text": [
            "/usr/local/lib/python3.10/dist-packages/sklearn/linear_model/_logistic.py:1173: FutureWarning: `penalty='none'`has been deprecated in 1.2 and will be removed in 1.4. To keep the past behaviour, set `penalty=None`.\n",
            "  warnings.warn(\n"
          ]
        },
        {
          "name": "stdout",
          "output_type": "stream",
          "text": [
            "0.812 \n",
            "\n",
            "word2vec features, 2340 examples\n"
          ]
        },
        {
          "name": "stderr",
          "output_type": "stream",
          "text": [
            "/usr/local/lib/python3.10/dist-packages/sklearn/linear_model/_logistic.py:1173: FutureWarning: `penalty='none'`has been deprecated in 1.2 and will be removed in 1.4. To keep the past behaviour, set `penalty=None`.\n",
            "  warnings.warn(\n"
          ]
        },
        {
          "name": "stdout",
          "output_type": "stream",
          "text": [
            "0.732 \n",
            "\n",
            "lsa features, 2360 examples\n"
          ]
        },
        {
          "name": "stderr",
          "output_type": "stream",
          "text": [
            "/usr/local/lib/python3.10/dist-packages/sklearn/linear_model/_logistic.py:1173: FutureWarning: `penalty='none'`has been deprecated in 1.2 and will be removed in 1.4. To keep the past behaviour, set `penalty=None`.\n",
            "  warnings.warn(\n"
          ]
        },
        {
          "name": "stdout",
          "output_type": "stream",
          "text": [
            "0.794 \n",
            "\n",
            "word2vec features, 2360 examples\n"
          ]
        },
        {
          "name": "stderr",
          "output_type": "stream",
          "text": [
            "/usr/local/lib/python3.10/dist-packages/sklearn/linear_model/_logistic.py:1173: FutureWarning: `penalty='none'`has been deprecated in 1.2 and will be removed in 1.4. To keep the past behaviour, set `penalty=None`.\n",
            "  warnings.warn(\n"
          ]
        },
        {
          "name": "stdout",
          "output_type": "stream",
          "text": [
            "0.772 \n",
            "\n",
            "lsa features, 2380 examples\n"
          ]
        },
        {
          "name": "stderr",
          "output_type": "stream",
          "text": [
            "/usr/local/lib/python3.10/dist-packages/sklearn/linear_model/_logistic.py:1173: FutureWarning: `penalty='none'`has been deprecated in 1.2 and will be removed in 1.4. To keep the past behaviour, set `penalty=None`.\n",
            "  warnings.warn(\n"
          ]
        },
        {
          "name": "stdout",
          "output_type": "stream",
          "text": [
            "0.792 \n",
            "\n",
            "word2vec features, 2380 examples\n"
          ]
        },
        {
          "name": "stderr",
          "output_type": "stream",
          "text": [
            "/usr/local/lib/python3.10/dist-packages/sklearn/linear_model/_logistic.py:1173: FutureWarning: `penalty='none'`has been deprecated in 1.2 and will be removed in 1.4. To keep the past behaviour, set `penalty=None`.\n",
            "  warnings.warn(\n"
          ]
        },
        {
          "name": "stdout",
          "output_type": "stream",
          "text": [
            "0.734 \n",
            "\n",
            "lsa features, 2400 examples\n"
          ]
        },
        {
          "name": "stderr",
          "output_type": "stream",
          "text": [
            "/usr/local/lib/python3.10/dist-packages/sklearn/linear_model/_logistic.py:1173: FutureWarning: `penalty='none'`has been deprecated in 1.2 and will be removed in 1.4. To keep the past behaviour, set `penalty=None`.\n",
            "  warnings.warn(\n"
          ]
        },
        {
          "name": "stdout",
          "output_type": "stream",
          "text": [
            "0.784 \n",
            "\n",
            "word2vec features, 2400 examples\n"
          ]
        },
        {
          "name": "stderr",
          "output_type": "stream",
          "text": [
            "/usr/local/lib/python3.10/dist-packages/sklearn/linear_model/_logistic.py:1173: FutureWarning: `penalty='none'`has been deprecated in 1.2 and will be removed in 1.4. To keep the past behaviour, set `penalty=None`.\n",
            "  warnings.warn(\n"
          ]
        },
        {
          "name": "stdout",
          "output_type": "stream",
          "text": [
            "0.736 \n",
            "\n",
            "lsa features, 2420 examples\n"
          ]
        },
        {
          "name": "stderr",
          "output_type": "stream",
          "text": [
            "/usr/local/lib/python3.10/dist-packages/sklearn/linear_model/_logistic.py:1173: FutureWarning: `penalty='none'`has been deprecated in 1.2 and will be removed in 1.4. To keep the past behaviour, set `penalty=None`.\n",
            "  warnings.warn(\n"
          ]
        },
        {
          "name": "stdout",
          "output_type": "stream",
          "text": [
            "0.778 \n",
            "\n",
            "word2vec features, 2420 examples\n"
          ]
        },
        {
          "name": "stderr",
          "output_type": "stream",
          "text": [
            "/usr/local/lib/python3.10/dist-packages/sklearn/linear_model/_logistic.py:1173: FutureWarning: `penalty='none'`has been deprecated in 1.2 and will be removed in 1.4. To keep the past behaviour, set `penalty=None`.\n",
            "  warnings.warn(\n"
          ]
        },
        {
          "name": "stdout",
          "output_type": "stream",
          "text": [
            "0.732 \n",
            "\n",
            "lsa features, 2440 examples\n"
          ]
        },
        {
          "name": "stderr",
          "output_type": "stream",
          "text": [
            "/usr/local/lib/python3.10/dist-packages/sklearn/linear_model/_logistic.py:1173: FutureWarning: `penalty='none'`has been deprecated in 1.2 and will be removed in 1.4. To keep the past behaviour, set `penalty=None`.\n",
            "  warnings.warn(\n"
          ]
        },
        {
          "name": "stdout",
          "output_type": "stream",
          "text": [
            "0.776 \n",
            "\n",
            "word2vec features, 2440 examples\n"
          ]
        },
        {
          "name": "stderr",
          "output_type": "stream",
          "text": [
            "/usr/local/lib/python3.10/dist-packages/sklearn/linear_model/_logistic.py:1173: FutureWarning: `penalty='none'`has been deprecated in 1.2 and will be removed in 1.4. To keep the past behaviour, set `penalty=None`.\n",
            "  warnings.warn(\n"
          ]
        },
        {
          "name": "stdout",
          "output_type": "stream",
          "text": [
            "0.72 \n",
            "\n",
            "lsa features, 2460 examples\n"
          ]
        },
        {
          "name": "stderr",
          "output_type": "stream",
          "text": [
            "/usr/local/lib/python3.10/dist-packages/sklearn/linear_model/_logistic.py:1173: FutureWarning: `penalty='none'`has been deprecated in 1.2 and will be removed in 1.4. To keep the past behaviour, set `penalty=None`.\n",
            "  warnings.warn(\n"
          ]
        },
        {
          "name": "stdout",
          "output_type": "stream",
          "text": [
            "0.772 \n",
            "\n",
            "word2vec features, 2460 examples\n"
          ]
        },
        {
          "name": "stderr",
          "output_type": "stream",
          "text": [
            "/usr/local/lib/python3.10/dist-packages/sklearn/linear_model/_logistic.py:1173: FutureWarning: `penalty='none'`has been deprecated in 1.2 and will be removed in 1.4. To keep the past behaviour, set `penalty=None`.\n",
            "  warnings.warn(\n"
          ]
        },
        {
          "name": "stdout",
          "output_type": "stream",
          "text": [
            "0.728 \n",
            "\n",
            "lsa features, 2480 examples\n"
          ]
        },
        {
          "name": "stderr",
          "output_type": "stream",
          "text": [
            "/usr/local/lib/python3.10/dist-packages/sklearn/linear_model/_logistic.py:1173: FutureWarning: `penalty='none'`has been deprecated in 1.2 and will be removed in 1.4. To keep the past behaviour, set `penalty=None`.\n",
            "  warnings.warn(\n"
          ]
        },
        {
          "name": "stdout",
          "output_type": "stream",
          "text": [
            "0.784 \n",
            "\n",
            "word2vec features, 2480 examples\n"
          ]
        },
        {
          "name": "stderr",
          "output_type": "stream",
          "text": [
            "/usr/local/lib/python3.10/dist-packages/sklearn/linear_model/_logistic.py:1173: FutureWarning: `penalty='none'`has been deprecated in 1.2 and will be removed in 1.4. To keep the past behaviour, set `penalty=None`.\n",
            "  warnings.warn(\n"
          ]
        },
        {
          "name": "stdout",
          "output_type": "stream",
          "text": [
            "0.718 \n",
            "\n",
            "lsa features, 2500 examples\n"
          ]
        },
        {
          "name": "stderr",
          "output_type": "stream",
          "text": [
            "/usr/local/lib/python3.10/dist-packages/sklearn/linear_model/_logistic.py:1173: FutureWarning: `penalty='none'`has been deprecated in 1.2 and will be removed in 1.4. To keep the past behaviour, set `penalty=None`.\n",
            "  warnings.warn(\n"
          ]
        },
        {
          "name": "stdout",
          "output_type": "stream",
          "text": [
            "0.772 \n",
            "\n",
            "word2vec features, 2500 examples\n"
          ]
        },
        {
          "name": "stderr",
          "output_type": "stream",
          "text": [
            "/usr/local/lib/python3.10/dist-packages/sklearn/linear_model/_logistic.py:1173: FutureWarning: `penalty='none'`has been deprecated in 1.2 and will be removed in 1.4. To keep the past behaviour, set `penalty=None`.\n",
            "  warnings.warn(\n",
            "/usr/local/lib/python3.10/dist-packages/sklearn/linear_model/_logistic.py:458: ConvergenceWarning: lbfgs failed to converge (status=1):\n",
            "STOP: TOTAL NO. of ITERATIONS REACHED LIMIT.\n",
            "\n",
            "Increase the number of iterations (max_iter) or scale the data as shown in:\n",
            "    https://scikit-learn.org/stable/modules/preprocessing.html\n",
            "Please also refer to the documentation for alternative solver options:\n",
            "    https://scikit-learn.org/stable/modules/linear_model.html#logistic-regression\n",
            "  n_iter_i = _check_optimize_result(\n"
          ]
        },
        {
          "name": "stdout",
          "output_type": "stream",
          "text": [
            "0.728 \n",
            "\n",
            "lsa features, 2520 examples\n"
          ]
        },
        {
          "name": "stderr",
          "output_type": "stream",
          "text": [
            "/usr/local/lib/python3.10/dist-packages/sklearn/linear_model/_logistic.py:1173: FutureWarning: `penalty='none'`has been deprecated in 1.2 and will be removed in 1.4. To keep the past behaviour, set `penalty=None`.\n",
            "  warnings.warn(\n"
          ]
        },
        {
          "name": "stdout",
          "output_type": "stream",
          "text": [
            "0.782 \n",
            "\n",
            "word2vec features, 2520 examples\n"
          ]
        },
        {
          "name": "stderr",
          "output_type": "stream",
          "text": [
            "/usr/local/lib/python3.10/dist-packages/sklearn/linear_model/_logistic.py:1173: FutureWarning: `penalty='none'`has been deprecated in 1.2 and will be removed in 1.4. To keep the past behaviour, set `penalty=None`.\n",
            "  warnings.warn(\n",
            "/usr/local/lib/python3.10/dist-packages/sklearn/linear_model/_logistic.py:458: ConvergenceWarning: lbfgs failed to converge (status=1):\n",
            "STOP: TOTAL NO. of ITERATIONS REACHED LIMIT.\n",
            "\n",
            "Increase the number of iterations (max_iter) or scale the data as shown in:\n",
            "    https://scikit-learn.org/stable/modules/preprocessing.html\n",
            "Please also refer to the documentation for alternative solver options:\n",
            "    https://scikit-learn.org/stable/modules/linear_model.html#logistic-regression\n",
            "  n_iter_i = _check_optimize_result(\n"
          ]
        },
        {
          "name": "stdout",
          "output_type": "stream",
          "text": [
            "0.72 \n",
            "\n",
            "lsa features, 2540 examples\n"
          ]
        },
        {
          "name": "stderr",
          "output_type": "stream",
          "text": [
            "/usr/local/lib/python3.10/dist-packages/sklearn/linear_model/_logistic.py:1173: FutureWarning: `penalty='none'`has been deprecated in 1.2 and will be removed in 1.4. To keep the past behaviour, set `penalty=None`.\n",
            "  warnings.warn(\n"
          ]
        },
        {
          "name": "stdout",
          "output_type": "stream",
          "text": [
            "0.782 \n",
            "\n",
            "word2vec features, 2540 examples\n"
          ]
        },
        {
          "name": "stderr",
          "output_type": "stream",
          "text": [
            "/usr/local/lib/python3.10/dist-packages/sklearn/linear_model/_logistic.py:1173: FutureWarning: `penalty='none'`has been deprecated in 1.2 and will be removed in 1.4. To keep the past behaviour, set `penalty=None`.\n",
            "  warnings.warn(\n",
            "/usr/local/lib/python3.10/dist-packages/sklearn/linear_model/_logistic.py:458: ConvergenceWarning: lbfgs failed to converge (status=1):\n",
            "STOP: TOTAL NO. of ITERATIONS REACHED LIMIT.\n",
            "\n",
            "Increase the number of iterations (max_iter) or scale the data as shown in:\n",
            "    https://scikit-learn.org/stable/modules/preprocessing.html\n",
            "Please also refer to the documentation for alternative solver options:\n",
            "    https://scikit-learn.org/stable/modules/linear_model.html#logistic-regression\n",
            "  n_iter_i = _check_optimize_result(\n"
          ]
        },
        {
          "name": "stdout",
          "output_type": "stream",
          "text": [
            "0.728 \n",
            "\n",
            "lsa features, 2560 examples\n"
          ]
        },
        {
          "name": "stderr",
          "output_type": "stream",
          "text": [
            "/usr/local/lib/python3.10/dist-packages/sklearn/linear_model/_logistic.py:1173: FutureWarning: `penalty='none'`has been deprecated in 1.2 and will be removed in 1.4. To keep the past behaviour, set `penalty=None`.\n",
            "  warnings.warn(\n"
          ]
        },
        {
          "name": "stdout",
          "output_type": "stream",
          "text": [
            "0.78 \n",
            "\n",
            "word2vec features, 2560 examples\n"
          ]
        },
        {
          "name": "stderr",
          "output_type": "stream",
          "text": [
            "/usr/local/lib/python3.10/dist-packages/sklearn/linear_model/_logistic.py:1173: FutureWarning: `penalty='none'`has been deprecated in 1.2 and will be removed in 1.4. To keep the past behaviour, set `penalty=None`.\n",
            "  warnings.warn(\n",
            "/usr/local/lib/python3.10/dist-packages/sklearn/linear_model/_logistic.py:458: ConvergenceWarning: lbfgs failed to converge (status=1):\n",
            "STOP: TOTAL NO. of ITERATIONS REACHED LIMIT.\n",
            "\n",
            "Increase the number of iterations (max_iter) or scale the data as shown in:\n",
            "    https://scikit-learn.org/stable/modules/preprocessing.html\n",
            "Please also refer to the documentation for alternative solver options:\n",
            "    https://scikit-learn.org/stable/modules/linear_model.html#logistic-regression\n",
            "  n_iter_i = _check_optimize_result(\n"
          ]
        },
        {
          "name": "stdout",
          "output_type": "stream",
          "text": [
            "0.73 \n",
            "\n",
            "lsa features, 2580 examples\n"
          ]
        },
        {
          "name": "stderr",
          "output_type": "stream",
          "text": [
            "/usr/local/lib/python3.10/dist-packages/sklearn/linear_model/_logistic.py:1173: FutureWarning: `penalty='none'`has been deprecated in 1.2 and will be removed in 1.4. To keep the past behaviour, set `penalty=None`.\n",
            "  warnings.warn(\n"
          ]
        },
        {
          "name": "stdout",
          "output_type": "stream",
          "text": [
            "0.774 \n",
            "\n",
            "word2vec features, 2580 examples\n"
          ]
        },
        {
          "name": "stderr",
          "output_type": "stream",
          "text": [
            "/usr/local/lib/python3.10/dist-packages/sklearn/linear_model/_logistic.py:1173: FutureWarning: `penalty='none'`has been deprecated in 1.2 and will be removed in 1.4. To keep the past behaviour, set `penalty=None`.\n",
            "  warnings.warn(\n",
            "/usr/local/lib/python3.10/dist-packages/sklearn/linear_model/_logistic.py:458: ConvergenceWarning: lbfgs failed to converge (status=1):\n",
            "STOP: TOTAL NO. of ITERATIONS REACHED LIMIT.\n",
            "\n",
            "Increase the number of iterations (max_iter) or scale the data as shown in:\n",
            "    https://scikit-learn.org/stable/modules/preprocessing.html\n",
            "Please also refer to the documentation for alternative solver options:\n",
            "    https://scikit-learn.org/stable/modules/linear_model.html#logistic-regression\n",
            "  n_iter_i = _check_optimize_result(\n"
          ]
        },
        {
          "name": "stdout",
          "output_type": "stream",
          "text": [
            "0.726 \n",
            "\n",
            "lsa features, 2600 examples\n"
          ]
        },
        {
          "name": "stderr",
          "output_type": "stream",
          "text": [
            "/usr/local/lib/python3.10/dist-packages/sklearn/linear_model/_logistic.py:1173: FutureWarning: `penalty='none'`has been deprecated in 1.2 and will be removed in 1.4. To keep the past behaviour, set `penalty=None`.\n",
            "  warnings.warn(\n"
          ]
        },
        {
          "name": "stdout",
          "output_type": "stream",
          "text": [
            "0.776 \n",
            "\n",
            "word2vec features, 2600 examples\n"
          ]
        },
        {
          "name": "stderr",
          "output_type": "stream",
          "text": [
            "/usr/local/lib/python3.10/dist-packages/sklearn/linear_model/_logistic.py:1173: FutureWarning: `penalty='none'`has been deprecated in 1.2 and will be removed in 1.4. To keep the past behaviour, set `penalty=None`.\n",
            "  warnings.warn(\n"
          ]
        },
        {
          "name": "stdout",
          "output_type": "stream",
          "text": [
            "0.73 \n",
            "\n",
            "lsa features, 2620 examples\n"
          ]
        },
        {
          "name": "stderr",
          "output_type": "stream",
          "text": [
            "/usr/local/lib/python3.10/dist-packages/sklearn/linear_model/_logistic.py:1173: FutureWarning: `penalty='none'`has been deprecated in 1.2 and will be removed in 1.4. To keep the past behaviour, set `penalty=None`.\n",
            "  warnings.warn(\n"
          ]
        },
        {
          "name": "stdout",
          "output_type": "stream",
          "text": [
            "0.764 \n",
            "\n",
            "word2vec features, 2620 examples\n"
          ]
        },
        {
          "name": "stderr",
          "output_type": "stream",
          "text": [
            "/usr/local/lib/python3.10/dist-packages/sklearn/linear_model/_logistic.py:1173: FutureWarning: `penalty='none'`has been deprecated in 1.2 and will be removed in 1.4. To keep the past behaviour, set `penalty=None`.\n",
            "  warnings.warn(\n"
          ]
        },
        {
          "name": "stdout",
          "output_type": "stream",
          "text": [
            "0.736 \n",
            "\n",
            "lsa features, 2640 examples\n"
          ]
        },
        {
          "name": "stderr",
          "output_type": "stream",
          "text": [
            "/usr/local/lib/python3.10/dist-packages/sklearn/linear_model/_logistic.py:1173: FutureWarning: `penalty='none'`has been deprecated in 1.2 and will be removed in 1.4. To keep the past behaviour, set `penalty=None`.\n",
            "  warnings.warn(\n"
          ]
        },
        {
          "name": "stdout",
          "output_type": "stream",
          "text": [
            "0.766 \n",
            "\n",
            "word2vec features, 2640 examples\n"
          ]
        },
        {
          "name": "stderr",
          "output_type": "stream",
          "text": [
            "/usr/local/lib/python3.10/dist-packages/sklearn/linear_model/_logistic.py:1173: FutureWarning: `penalty='none'`has been deprecated in 1.2 and will be removed in 1.4. To keep the past behaviour, set `penalty=None`.\n",
            "  warnings.warn(\n"
          ]
        },
        {
          "name": "stdout",
          "output_type": "stream",
          "text": [
            "0.74 \n",
            "\n",
            "lsa features, 2660 examples\n"
          ]
        },
        {
          "name": "stderr",
          "output_type": "stream",
          "text": [
            "/usr/local/lib/python3.10/dist-packages/sklearn/linear_model/_logistic.py:1173: FutureWarning: `penalty='none'`has been deprecated in 1.2 and will be removed in 1.4. To keep the past behaviour, set `penalty=None`.\n",
            "  warnings.warn(\n"
          ]
        },
        {
          "name": "stdout",
          "output_type": "stream",
          "text": [
            "0.772 \n",
            "\n",
            "word2vec features, 2660 examples\n"
          ]
        },
        {
          "name": "stderr",
          "output_type": "stream",
          "text": [
            "/usr/local/lib/python3.10/dist-packages/sklearn/linear_model/_logistic.py:1173: FutureWarning: `penalty='none'`has been deprecated in 1.2 and will be removed in 1.4. To keep the past behaviour, set `penalty=None`.\n",
            "  warnings.warn(\n"
          ]
        },
        {
          "name": "stdout",
          "output_type": "stream",
          "text": [
            "0.748 \n",
            "\n",
            "lsa features, 2680 examples\n"
          ]
        },
        {
          "name": "stderr",
          "output_type": "stream",
          "text": [
            "/usr/local/lib/python3.10/dist-packages/sklearn/linear_model/_logistic.py:1173: FutureWarning: `penalty='none'`has been deprecated in 1.2 and will be removed in 1.4. To keep the past behaviour, set `penalty=None`.\n",
            "  warnings.warn(\n"
          ]
        },
        {
          "name": "stdout",
          "output_type": "stream",
          "text": [
            "0.764 \n",
            "\n",
            "word2vec features, 2680 examples\n"
          ]
        },
        {
          "name": "stderr",
          "output_type": "stream",
          "text": [
            "/usr/local/lib/python3.10/dist-packages/sklearn/linear_model/_logistic.py:1173: FutureWarning: `penalty='none'`has been deprecated in 1.2 and will be removed in 1.4. To keep the past behaviour, set `penalty=None`.\n",
            "  warnings.warn(\n"
          ]
        },
        {
          "name": "stdout",
          "output_type": "stream",
          "text": [
            "0.746 \n",
            "\n",
            "lsa features, 2700 examples\n"
          ]
        },
        {
          "name": "stderr",
          "output_type": "stream",
          "text": [
            "/usr/local/lib/python3.10/dist-packages/sklearn/linear_model/_logistic.py:1173: FutureWarning: `penalty='none'`has been deprecated in 1.2 and will be removed in 1.4. To keep the past behaviour, set `penalty=None`.\n",
            "  warnings.warn(\n"
          ]
        },
        {
          "name": "stdout",
          "output_type": "stream",
          "text": [
            "0.766 \n",
            "\n",
            "word2vec features, 2700 examples\n"
          ]
        },
        {
          "name": "stderr",
          "output_type": "stream",
          "text": [
            "/usr/local/lib/python3.10/dist-packages/sklearn/linear_model/_logistic.py:1173: FutureWarning: `penalty='none'`has been deprecated in 1.2 and will be removed in 1.4. To keep the past behaviour, set `penalty=None`.\n",
            "  warnings.warn(\n"
          ]
        },
        {
          "name": "stdout",
          "output_type": "stream",
          "text": [
            "0.744 \n",
            "\n",
            "lsa features, 2720 examples\n"
          ]
        },
        {
          "name": "stderr",
          "output_type": "stream",
          "text": [
            "/usr/local/lib/python3.10/dist-packages/sklearn/linear_model/_logistic.py:1173: FutureWarning: `penalty='none'`has been deprecated in 1.2 and will be removed in 1.4. To keep the past behaviour, set `penalty=None`.\n",
            "  warnings.warn(\n"
          ]
        },
        {
          "name": "stdout",
          "output_type": "stream",
          "text": [
            "0.772 \n",
            "\n",
            "word2vec features, 2720 examples\n"
          ]
        },
        {
          "name": "stderr",
          "output_type": "stream",
          "text": [
            "/usr/local/lib/python3.10/dist-packages/sklearn/linear_model/_logistic.py:1173: FutureWarning: `penalty='none'`has been deprecated in 1.2 and will be removed in 1.4. To keep the past behaviour, set `penalty=None`.\n",
            "  warnings.warn(\n"
          ]
        },
        {
          "name": "stdout",
          "output_type": "stream",
          "text": [
            "0.758 \n",
            "\n",
            "lsa features, 2740 examples\n"
          ]
        },
        {
          "name": "stderr",
          "output_type": "stream",
          "text": [
            "/usr/local/lib/python3.10/dist-packages/sklearn/linear_model/_logistic.py:1173: FutureWarning: `penalty='none'`has been deprecated in 1.2 and will be removed in 1.4. To keep the past behaviour, set `penalty=None`.\n",
            "  warnings.warn(\n"
          ]
        },
        {
          "name": "stdout",
          "output_type": "stream",
          "text": [
            "0.76 \n",
            "\n",
            "word2vec features, 2740 examples\n"
          ]
        },
        {
          "name": "stderr",
          "output_type": "stream",
          "text": [
            "/usr/local/lib/python3.10/dist-packages/sklearn/linear_model/_logistic.py:1173: FutureWarning: `penalty='none'`has been deprecated in 1.2 and will be removed in 1.4. To keep the past behaviour, set `penalty=None`.\n",
            "  warnings.warn(\n"
          ]
        },
        {
          "name": "stdout",
          "output_type": "stream",
          "text": [
            "0.77 \n",
            "\n",
            "lsa features, 2760 examples\n"
          ]
        },
        {
          "name": "stderr",
          "output_type": "stream",
          "text": [
            "/usr/local/lib/python3.10/dist-packages/sklearn/linear_model/_logistic.py:1173: FutureWarning: `penalty='none'`has been deprecated in 1.2 and will be removed in 1.4. To keep the past behaviour, set `penalty=None`.\n",
            "  warnings.warn(\n"
          ]
        },
        {
          "name": "stdout",
          "output_type": "stream",
          "text": [
            "0.766 \n",
            "\n",
            "word2vec features, 2760 examples\n"
          ]
        },
        {
          "name": "stderr",
          "output_type": "stream",
          "text": [
            "/usr/local/lib/python3.10/dist-packages/sklearn/linear_model/_logistic.py:1173: FutureWarning: `penalty='none'`has been deprecated in 1.2 and will be removed in 1.4. To keep the past behaviour, set `penalty=None`.\n",
            "  warnings.warn(\n"
          ]
        },
        {
          "name": "stdout",
          "output_type": "stream",
          "text": [
            "0.768 \n",
            "\n",
            "lsa features, 2780 examples\n"
          ]
        },
        {
          "name": "stderr",
          "output_type": "stream",
          "text": [
            "/usr/local/lib/python3.10/dist-packages/sklearn/linear_model/_logistic.py:1173: FutureWarning: `penalty='none'`has been deprecated in 1.2 and will be removed in 1.4. To keep the past behaviour, set `penalty=None`.\n",
            "  warnings.warn(\n"
          ]
        },
        {
          "name": "stdout",
          "output_type": "stream",
          "text": [
            "0.77 \n",
            "\n",
            "word2vec features, 2780 examples\n"
          ]
        },
        {
          "name": "stderr",
          "output_type": "stream",
          "text": [
            "/usr/local/lib/python3.10/dist-packages/sklearn/linear_model/_logistic.py:1173: FutureWarning: `penalty='none'`has been deprecated in 1.2 and will be removed in 1.4. To keep the past behaviour, set `penalty=None`.\n",
            "  warnings.warn(\n"
          ]
        },
        {
          "name": "stdout",
          "output_type": "stream",
          "text": [
            "0.772 \n",
            "\n",
            "lsa features, 2800 examples\n"
          ]
        },
        {
          "name": "stderr",
          "output_type": "stream",
          "text": [
            "/usr/local/lib/python3.10/dist-packages/sklearn/linear_model/_logistic.py:1173: FutureWarning: `penalty='none'`has been deprecated in 1.2 and will be removed in 1.4. To keep the past behaviour, set `penalty=None`.\n",
            "  warnings.warn(\n"
          ]
        },
        {
          "name": "stdout",
          "output_type": "stream",
          "text": [
            "0.77 \n",
            "\n",
            "word2vec features, 2800 examples\n"
          ]
        },
        {
          "name": "stderr",
          "output_type": "stream",
          "text": [
            "/usr/local/lib/python3.10/dist-packages/sklearn/linear_model/_logistic.py:1173: FutureWarning: `penalty='none'`has been deprecated in 1.2 and will be removed in 1.4. To keep the past behaviour, set `penalty=None`.\n",
            "  warnings.warn(\n"
          ]
        },
        {
          "name": "stdout",
          "output_type": "stream",
          "text": [
            "0.762 \n",
            "\n",
            "lsa features, 2820 examples\n"
          ]
        },
        {
          "name": "stderr",
          "output_type": "stream",
          "text": [
            "/usr/local/lib/python3.10/dist-packages/sklearn/linear_model/_logistic.py:1173: FutureWarning: `penalty='none'`has been deprecated in 1.2 and will be removed in 1.4. To keep the past behaviour, set `penalty=None`.\n",
            "  warnings.warn(\n"
          ]
        },
        {
          "name": "stdout",
          "output_type": "stream",
          "text": [
            "0.772 \n",
            "\n",
            "word2vec features, 2820 examples\n"
          ]
        },
        {
          "name": "stderr",
          "output_type": "stream",
          "text": [
            "/usr/local/lib/python3.10/dist-packages/sklearn/linear_model/_logistic.py:1173: FutureWarning: `penalty='none'`has been deprecated in 1.2 and will be removed in 1.4. To keep the past behaviour, set `penalty=None`.\n",
            "  warnings.warn(\n"
          ]
        },
        {
          "name": "stdout",
          "output_type": "stream",
          "text": [
            "0.756 \n",
            "\n",
            "lsa features, 2840 examples\n"
          ]
        },
        {
          "name": "stderr",
          "output_type": "stream",
          "text": [
            "/usr/local/lib/python3.10/dist-packages/sklearn/linear_model/_logistic.py:1173: FutureWarning: `penalty='none'`has been deprecated in 1.2 and will be removed in 1.4. To keep the past behaviour, set `penalty=None`.\n",
            "  warnings.warn(\n"
          ]
        },
        {
          "name": "stdout",
          "output_type": "stream",
          "text": [
            "0.774 \n",
            "\n",
            "word2vec features, 2840 examples\n"
          ]
        },
        {
          "name": "stderr",
          "output_type": "stream",
          "text": [
            "/usr/local/lib/python3.10/dist-packages/sklearn/linear_model/_logistic.py:1173: FutureWarning: `penalty='none'`has been deprecated in 1.2 and will be removed in 1.4. To keep the past behaviour, set `penalty=None`.\n",
            "  warnings.warn(\n"
          ]
        },
        {
          "name": "stdout",
          "output_type": "stream",
          "text": [
            "0.756 \n",
            "\n",
            "lsa features, 2860 examples\n"
          ]
        },
        {
          "name": "stderr",
          "output_type": "stream",
          "text": [
            "/usr/local/lib/python3.10/dist-packages/sklearn/linear_model/_logistic.py:1173: FutureWarning: `penalty='none'`has been deprecated in 1.2 and will be removed in 1.4. To keep the past behaviour, set `penalty=None`.\n",
            "  warnings.warn(\n"
          ]
        },
        {
          "name": "stdout",
          "output_type": "stream",
          "text": [
            "0.786 \n",
            "\n",
            "word2vec features, 2860 examples\n"
          ]
        },
        {
          "name": "stderr",
          "output_type": "stream",
          "text": [
            "/usr/local/lib/python3.10/dist-packages/sklearn/linear_model/_logistic.py:1173: FutureWarning: `penalty='none'`has been deprecated in 1.2 and will be removed in 1.4. To keep the past behaviour, set `penalty=None`.\n",
            "  warnings.warn(\n"
          ]
        },
        {
          "name": "stdout",
          "output_type": "stream",
          "text": [
            "0.754 \n",
            "\n",
            "lsa features, 2880 examples\n"
          ]
        },
        {
          "name": "stderr",
          "output_type": "stream",
          "text": [
            "/usr/local/lib/python3.10/dist-packages/sklearn/linear_model/_logistic.py:1173: FutureWarning: `penalty='none'`has been deprecated in 1.2 and will be removed in 1.4. To keep the past behaviour, set `penalty=None`.\n",
            "  warnings.warn(\n"
          ]
        },
        {
          "name": "stdout",
          "output_type": "stream",
          "text": [
            "0.776 \n",
            "\n",
            "word2vec features, 2880 examples\n"
          ]
        },
        {
          "name": "stderr",
          "output_type": "stream",
          "text": [
            "/usr/local/lib/python3.10/dist-packages/sklearn/linear_model/_logistic.py:1173: FutureWarning: `penalty='none'`has been deprecated in 1.2 and will be removed in 1.4. To keep the past behaviour, set `penalty=None`.\n",
            "  warnings.warn(\n"
          ]
        },
        {
          "name": "stdout",
          "output_type": "stream",
          "text": [
            "0.75 \n",
            "\n",
            "lsa features, 2900 examples\n"
          ]
        },
        {
          "name": "stderr",
          "output_type": "stream",
          "text": [
            "/usr/local/lib/python3.10/dist-packages/sklearn/linear_model/_logistic.py:1173: FutureWarning: `penalty='none'`has been deprecated in 1.2 and will be removed in 1.4. To keep the past behaviour, set `penalty=None`.\n",
            "  warnings.warn(\n",
            "/usr/local/lib/python3.10/dist-packages/sklearn/linear_model/_logistic.py:458: ConvergenceWarning: lbfgs failed to converge (status=1):\n",
            "STOP: TOTAL NO. of ITERATIONS REACHED LIMIT.\n",
            "\n",
            "Increase the number of iterations (max_iter) or scale the data as shown in:\n",
            "    https://scikit-learn.org/stable/modules/preprocessing.html\n",
            "Please also refer to the documentation for alternative solver options:\n",
            "    https://scikit-learn.org/stable/modules/linear_model.html#logistic-regression\n",
            "  n_iter_i = _check_optimize_result(\n"
          ]
        },
        {
          "name": "stdout",
          "output_type": "stream",
          "text": [
            "0.778 \n",
            "\n",
            "word2vec features, 2900 examples\n"
          ]
        },
        {
          "name": "stderr",
          "output_type": "stream",
          "text": [
            "/usr/local/lib/python3.10/dist-packages/sklearn/linear_model/_logistic.py:1173: FutureWarning: `penalty='none'`has been deprecated in 1.2 and will be removed in 1.4. To keep the past behaviour, set `penalty=None`.\n",
            "  warnings.warn(\n"
          ]
        },
        {
          "name": "stdout",
          "output_type": "stream",
          "text": [
            "0.75 \n",
            "\n",
            "lsa features, 2920 examples\n"
          ]
        },
        {
          "name": "stderr",
          "output_type": "stream",
          "text": [
            "/usr/local/lib/python3.10/dist-packages/sklearn/linear_model/_logistic.py:1173: FutureWarning: `penalty='none'`has been deprecated in 1.2 and will be removed in 1.4. To keep the past behaviour, set `penalty=None`.\n",
            "  warnings.warn(\n",
            "/usr/local/lib/python3.10/dist-packages/sklearn/linear_model/_logistic.py:458: ConvergenceWarning: lbfgs failed to converge (status=1):\n",
            "STOP: TOTAL NO. of ITERATIONS REACHED LIMIT.\n",
            "\n",
            "Increase the number of iterations (max_iter) or scale the data as shown in:\n",
            "    https://scikit-learn.org/stable/modules/preprocessing.html\n",
            "Please also refer to the documentation for alternative solver options:\n",
            "    https://scikit-learn.org/stable/modules/linear_model.html#logistic-regression\n",
            "  n_iter_i = _check_optimize_result(\n"
          ]
        },
        {
          "name": "stdout",
          "output_type": "stream",
          "text": [
            "0.78 \n",
            "\n",
            "word2vec features, 2920 examples\n"
          ]
        },
        {
          "name": "stderr",
          "output_type": "stream",
          "text": [
            "/usr/local/lib/python3.10/dist-packages/sklearn/linear_model/_logistic.py:1173: FutureWarning: `penalty='none'`has been deprecated in 1.2 and will be removed in 1.4. To keep the past behaviour, set `penalty=None`.\n",
            "  warnings.warn(\n"
          ]
        },
        {
          "name": "stdout",
          "output_type": "stream",
          "text": [
            "0.756 \n",
            "\n",
            "lsa features, 2940 examples\n"
          ]
        },
        {
          "name": "stderr",
          "output_type": "stream",
          "text": [
            "/usr/local/lib/python3.10/dist-packages/sklearn/linear_model/_logistic.py:1173: FutureWarning: `penalty='none'`has been deprecated in 1.2 and will be removed in 1.4. To keep the past behaviour, set `penalty=None`.\n",
            "  warnings.warn(\n",
            "/usr/local/lib/python3.10/dist-packages/sklearn/linear_model/_logistic.py:458: ConvergenceWarning: lbfgs failed to converge (status=1):\n",
            "STOP: TOTAL NO. of ITERATIONS REACHED LIMIT.\n",
            "\n",
            "Increase the number of iterations (max_iter) or scale the data as shown in:\n",
            "    https://scikit-learn.org/stable/modules/preprocessing.html\n",
            "Please also refer to the documentation for alternative solver options:\n",
            "    https://scikit-learn.org/stable/modules/linear_model.html#logistic-regression\n",
            "  n_iter_i = _check_optimize_result(\n"
          ]
        },
        {
          "name": "stdout",
          "output_type": "stream",
          "text": [
            "0.77 \n",
            "\n",
            "word2vec features, 2940 examples\n"
          ]
        },
        {
          "name": "stderr",
          "output_type": "stream",
          "text": [
            "/usr/local/lib/python3.10/dist-packages/sklearn/linear_model/_logistic.py:1173: FutureWarning: `penalty='none'`has been deprecated in 1.2 and will be removed in 1.4. To keep the past behaviour, set `penalty=None`.\n",
            "  warnings.warn(\n"
          ]
        },
        {
          "name": "stdout",
          "output_type": "stream",
          "text": [
            "0.758 \n",
            "\n",
            "lsa features, 2960 examples\n"
          ]
        },
        {
          "name": "stderr",
          "output_type": "stream",
          "text": [
            "/usr/local/lib/python3.10/dist-packages/sklearn/linear_model/_logistic.py:1173: FutureWarning: `penalty='none'`has been deprecated in 1.2 and will be removed in 1.4. To keep the past behaviour, set `penalty=None`.\n",
            "  warnings.warn(\n",
            "/usr/local/lib/python3.10/dist-packages/sklearn/linear_model/_logistic.py:458: ConvergenceWarning: lbfgs failed to converge (status=1):\n",
            "STOP: TOTAL NO. of ITERATIONS REACHED LIMIT.\n",
            "\n",
            "Increase the number of iterations (max_iter) or scale the data as shown in:\n",
            "    https://scikit-learn.org/stable/modules/preprocessing.html\n",
            "Please also refer to the documentation for alternative solver options:\n",
            "    https://scikit-learn.org/stable/modules/linear_model.html#logistic-regression\n",
            "  n_iter_i = _check_optimize_result(\n"
          ]
        },
        {
          "name": "stdout",
          "output_type": "stream",
          "text": [
            "0.78 \n",
            "\n",
            "word2vec features, 2960 examples\n"
          ]
        },
        {
          "name": "stderr",
          "output_type": "stream",
          "text": [
            "/usr/local/lib/python3.10/dist-packages/sklearn/linear_model/_logistic.py:1173: FutureWarning: `penalty='none'`has been deprecated in 1.2 and will be removed in 1.4. To keep the past behaviour, set `penalty=None`.\n",
            "  warnings.warn(\n"
          ]
        },
        {
          "name": "stdout",
          "output_type": "stream",
          "text": [
            "0.768 \n",
            "\n",
            "lsa features, 2980 examples\n"
          ]
        },
        {
          "name": "stderr",
          "output_type": "stream",
          "text": [
            "/usr/local/lib/python3.10/dist-packages/sklearn/linear_model/_logistic.py:1173: FutureWarning: `penalty='none'`has been deprecated in 1.2 and will be removed in 1.4. To keep the past behaviour, set `penalty=None`.\n",
            "  warnings.warn(\n",
            "/usr/local/lib/python3.10/dist-packages/sklearn/linear_model/_logistic.py:458: ConvergenceWarning: lbfgs failed to converge (status=1):\n",
            "STOP: TOTAL NO. of ITERATIONS REACHED LIMIT.\n",
            "\n",
            "Increase the number of iterations (max_iter) or scale the data as shown in:\n",
            "    https://scikit-learn.org/stable/modules/preprocessing.html\n",
            "Please also refer to the documentation for alternative solver options:\n",
            "    https://scikit-learn.org/stable/modules/linear_model.html#logistic-regression\n",
            "  n_iter_i = _check_optimize_result(\n"
          ]
        },
        {
          "name": "stdout",
          "output_type": "stream",
          "text": [
            "0.782 \n",
            "\n",
            "word2vec features, 2980 examples\n"
          ]
        },
        {
          "name": "stderr",
          "output_type": "stream",
          "text": [
            "/usr/local/lib/python3.10/dist-packages/sklearn/linear_model/_logistic.py:1173: FutureWarning: `penalty='none'`has been deprecated in 1.2 and will be removed in 1.4. To keep the past behaviour, set `penalty=None`.\n",
            "  warnings.warn(\n"
          ]
        },
        {
          "name": "stdout",
          "output_type": "stream",
          "text": [
            "0.762 \n",
            "\n",
            "lsa features, 3000 examples\n"
          ]
        },
        {
          "name": "stderr",
          "output_type": "stream",
          "text": [
            "/usr/local/lib/python3.10/dist-packages/sklearn/linear_model/_logistic.py:1173: FutureWarning: `penalty='none'`has been deprecated in 1.2 and will be removed in 1.4. To keep the past behaviour, set `penalty=None`.\n",
            "  warnings.warn(\n"
          ]
        },
        {
          "name": "stdout",
          "output_type": "stream",
          "text": [
            "0.788 \n",
            "\n",
            "word2vec features, 3000 examples\n"
          ]
        },
        {
          "name": "stderr",
          "output_type": "stream",
          "text": [
            "/usr/local/lib/python3.10/dist-packages/sklearn/linear_model/_logistic.py:1173: FutureWarning: `penalty='none'`has been deprecated in 1.2 and will be removed in 1.4. To keep the past behaviour, set `penalty=None`.\n",
            "  warnings.warn(\n"
          ]
        },
        {
          "name": "stdout",
          "output_type": "stream",
          "text": [
            "0.75 \n",
            "\n"
          ]
        }
      ],
      "source": [
        "#2.c.i\n",
        "lsa = []\n",
        "word2vec = []\n",
        "\n",
        "for i in range(20, 3001, 20):\n",
        "  lsa.append(training_experiment(\"lsa\", lsa_featurizer, i))\n",
        "  word2vec.append(training_experiment(\"word2vec\", w2v_featurizer, i))"
      ]
    },
    {
      "cell_type": "code",
      "execution_count": 70,
      "metadata": {
        "colab": {
          "base_uri": "https://localhost:8080/",
          "height": 472
        },
        "id": "PTO527_qn8o9",
        "outputId": "c8c28513-9d5c-4c41-b776-d03b9a814cd9"
      },
      "outputs": [
        {
          "data": {
            "image/png": "[encoded data removed]",
            "text/plain": [
              "<Figure size 640x480 with 1 Axes>"
            ]
          },
          "metadata": {},
          "output_type": "display_data"
        }
      ],
      "source": [
        "import matplotlib.pyplot as plt\n",
        "axis = range(20, 3001, 20)\n",
        "plt.plot(axis, lsa, 'b', label = 'LSA')\n",
        "plt.plot(axis, word2vec, 'r', label = 'Word2Vec')\n",
        "plt.xlabel('Number of Labeled Examples')\n",
        "plt.ylabel('Accuracy')\n",
        "plt.legend()\n",
        "plt.title('Accuracy vs. Number of Labeled Examples')\n",
        "plt.show()"
      ]
    }
  ],
  "metadata": {
    "accelerator": "GPU",
    "colab": {
      "machine_shape": "hm",
      "provenance": []
    },
    "kernelspec": {
      "display_name": "Python 3",
      "name": "python3"
    }
  },
  "nbformat": 4,
  "nbformat_minor": 0
}
