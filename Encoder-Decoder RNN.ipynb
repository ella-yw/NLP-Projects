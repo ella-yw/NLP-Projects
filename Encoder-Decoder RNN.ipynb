{
  "cells": [
    {
      "cell_type": "code",
      "execution_count": 2,
      "metadata": {
        "id": "FU7xWiY6TyWS"
      },
      "outputs": [],
      "source": [
        "%%bash\n",
        "!(stat -t /usr/local/lib/*/dist-packages/google/colab > /dev/null 2>&1) && exit\n",
        "rm -rf 68611-hw2"
      ]
    },
    {
      "cell_type": "code",
      "execution_count": 3,
      "metadata": {
        "id": "5AyMA9rK1Rhf"
      },
      "outputs": [],
      "source": [
        "import os\n",
        "os.makedirs(\"68611-hw2\", exist_ok=True)\n",
        "import sys\n",
        "sys.path.append(\"/content/68611-hw2\")"
      ]
    },
    {
      "cell_type": "code",
      "execution_count": 4,
      "metadata": {
        "colab": {
          "base_uri": "https://localhost:8080/"
        },
        "id": "BL1IfnRdPdsl",
        "outputId": "efb70eaf-e73f-40f3-fb28-c30985f34c2f"
      },
      "outputs": [
        {
          "name": "stdout",
          "output_type": "stream",
          "text": [
            "Collecting sacrebleu\n",
            "  Downloading sacrebleu-2.3.1-py3-none-any.whl (118 kB)\n",
            "\u001b[2K     \u001b[90m━━━━━━━━━━━━━━━━━━━━━━━━━━━━━━━━━━━━━━━\u001b[0m \u001b[32m118.9/118.9 kB\u001b[0m \u001b[31m2.0 MB/s\u001b[0m eta \u001b[36m0:00:00\u001b[0m\n",
            "\u001b[?25hCollecting portalocker (from sacrebleu)\n",
            "  Downloading portalocker-2.8.2-py3-none-any.whl (17 kB)\n",
            "Requirement already satisfied: regex in /usr/local/lib/python3.10/dist-packages (from sacrebleu) (2023.6.3)\n",
            "Requirement already satisfied: tabulate>=0.8.9 in /usr/local/lib/python3.10/dist-packages (from sacrebleu) (0.9.0)\n",
            "Requirement already satisfied: numpy>=1.17 in /usr/local/lib/python3.10/dist-packages (from sacrebleu) (1.23.5)\n",
            "Collecting colorama (from sacrebleu)\n",
            "  Downloading colorama-0.4.6-py2.py3-none-any.whl (25 kB)\n",
            "Requirement already satisfied: lxml in /usr/local/lib/python3.10/dist-packages (from sacrebleu) (4.9.3)\n",
            "Installing collected packages: portalocker, colorama, sacrebleu\n",
            "Successfully installed colorama-0.4.6 portalocker-2.8.2 sacrebleu-2.3.1\n"
          ]
        }
      ],
      "source": [
        "!pip install sacrebleu"
      ]
    },
    {
      "cell_type": "markdown",
      "metadata": {
        "id": "ilKcWfSHYltK"
      },
      "source": [
        "# **Part 0: Data Loading and Preprocessing**\n",
        "\n",
        "In this section we will load the data that we will be using throughout the lab and perform some preprocessing steps. We will also define some functions that will be useful for training and evaluating your models. You do not need to write any code for this part, but you are encouraged to read through the code carefully and make sure you understand it.\n",
        "\n",
        "First we download the data. The dataset consists of parallel English and Vietnamese sentences (IWSLT'15 English-Vietnamese translation data). In the first two parts of the lab, you will do language modeling using only the English data, and in the final part of the lab you will do translation from Vietnamese to English."
      ]
    },
    {
      "cell_type": "code",
      "execution_count": 5,
      "metadata": {
        "colab": {
          "base_uri": "https://localhost:8080/"
        },
        "id": "rhqzGV7qZD2d",
        "outputId": "f0e2b3d2-aca4-4ab8-81bc-21cb858b6dd2"
      },
      "outputs": [
        {
          "name": "stdout",
          "output_type": "stream",
          "text": [
            "2023-10-11 21:15:51 URL:https://nlp.stanford.edu/projects/nmt/data/iwslt15.en-vi/train.en [13603614/13603614] -> \"/content/68611-hw2/train.en\" [1]\n",
            "2023-10-11 21:15:55 URL:https://nlp.stanford.edu/projects/nmt/data/iwslt15.en-vi/train.vi [18074646/18074646] -> \"/content/68611-hw2/train.vi\" [1]\n",
            "2023-10-11 21:15:56 URL:https://nlp.stanford.edu/projects/nmt/data/iwslt15.en-vi/tst2013.en [132264/132264] -> \"/content/68611-hw2/tst2013.en\" [1]\n",
            "2023-10-11 21:15:57 URL:https://nlp.stanford.edu/projects/nmt/data/iwslt15.en-vi/tst2013.vi [183855/183855] -> \"/content/68611-hw2/tst2013.vi\" [1]\n",
            "2023-10-11 21:15:58 URL:https://nlp.stanford.edu/projects/nmt/data/iwslt15.en-vi/vocab.en [139741/139741] -> \"/content/68611-hw2/vocab.en\" [1]\n",
            "2023-10-11 21:15:58 URL:https://nlp.stanford.edu/projects/nmt/data/iwslt15.en-vi/vocab.vi [46767/46767] -> \"/content/68611-hw2/vocab.vi\" [1]\n"
          ]
        }
      ],
      "source": [
        "# Download data\n",
        "!wget -nv -O /content/68611-hw2/train.en https://nlp.stanford.edu/projects/nmt/data/iwslt15.en-vi/train.en\n",
        "!wget -nv -O /content/68611-hw2/train.vi https://nlp.stanford.edu/projects/nmt/data/iwslt15.en-vi/train.vi\n",
        "!wget -nv -O /content/68611-hw2/tst2013.en https://nlp.stanford.edu/projects/nmt/data/iwslt15.en-vi/tst2013.en\n",
        "!wget -nv -O /content/68611-hw2/tst2013.vi https://nlp.stanford.edu/projects/nmt/data/iwslt15.en-vi/tst2013.vi\n",
        "!wget -nv -O /content/68611-hw2/vocab.en https://nlp.stanford.edu/projects/nmt/data/iwslt15.en-vi/vocab.en\n",
        "!wget -nv -O /content/68611-hw2/vocab.vi https://nlp.stanford.edu/projects/nmt/data/iwslt15.en-vi/vocab.vi"
      ]
    },
    {
      "cell_type": "markdown",
      "metadata": {
        "id": "0EUZEwI8ksBe"
      },
      "source": [
        "Next we read and store the data."
      ]
    },
    {
      "cell_type": "code",
      "execution_count": 6,
      "metadata": {
        "id": "FzanSf24ZTJa"
      },
      "outputs": [],
      "source": [
        "def read_sentence_file(filename):\n",
        "  sentences_list = []\n",
        "  with open(filename, \"r\") as f:\n",
        "    for line in f:\n",
        "      sentences_list.append(line.strip().split())\n",
        "  return sentences_list\n",
        "\n",
        "def read_vocab_file(filename):\n",
        "  with open(filename, \"r\") as f:\n",
        "    return [line.strip() for line in f]\n",
        "\n",
        "\n",
        "src_vocab_set = read_vocab_file(os.path.join(\"/content/68611-hw2\", \"vocab.vi\"))\n",
        "trg_vocab_set = read_vocab_file(os.path.join(\"/content/68611-hw2\", \"vocab.en\"))\n",
        "\n",
        "train_src_sentences_list = read_sentence_file(os.path.join(\"/content/68611-hw2\",\n",
        "                                                           \"train.vi\"))\n",
        "train_trg_sentences_list = read_sentence_file(os.path.join(\"/content/68611-hw2\",\n",
        "                                                           \"train.en\"))\n",
        "assert len(train_src_sentences_list) == len(train_trg_sentences_list)\n",
        "\n",
        "test_src_sentences_list = read_sentence_file(os.path.join(\"/content/68611-hw2\",\n",
        "                                                          \"tst2013.vi\"))\n",
        "test_trg_sentences_list = read_sentence_file(os.path.join(\"/content/68611-hw2\",\n",
        "                                                          \"tst2013.en\"))\n",
        "assert len(test_src_sentences_list) == len(test_trg_sentences_list)"
      ]
    },
    {
      "cell_type": "markdown",
      "metadata": {
        "id": "Yo11GNvikUPl"
      },
      "source": [
        "Next we do preprocessing on the dataset, and we perform a preliminary data analysis."
      ]
    },
    {
      "cell_type": "code",
      "execution_count": 7,
      "metadata": {
        "colab": {
          "base_uri": "https://localhost:8080/",
          "height": 629
        },
        "id": "dO2t7gaAZvSc",
        "outputId": "32ff6c95-18eb-4ddb-c0ac-8a3ca2c5cab7"
      },
      "outputs": [
        {
          "name": "stdout",
          "output_type": "stream",
          "text": [
            "Number of training (src, trg) sentence pairs: 108748\n",
            "Number of validation (src, trg) sentence pairs: 12083\n",
            "Number of testing (src, trg) sentence pairs: 1139\n",
            "Size of en vocab set (including '<pad>', '<unk>', '<s>', '</s>'): 7710\n",
            "Size of vi vocab set (including '<pad>', '<unk>', '<s>', '</s>'): 17192\n",
            "Training sentence avg. length: 20 \n",
            "Training sentence length at 95-percentile: 42\n",
            "Training sentence length distribution (x-axis is length range and y-axis is count):\n",
            "\n"
          ]
        },
        {
          "data": {
            "image/png": "[encoded data removed]",
            "text/plain": [
              "<Figure size 640x480 with 1 Axes>"
            ]
          },
          "metadata": {},
          "output_type": "display_data"
        },
        {
          "name": "stdout",
          "output_type": "stream",
          "text": [
            "Example Vietnamese input: ['Adam', 'Sadowsky', 'dàn', 'dựng', '1', 'video', 'âm', 'nhạc', 'hiện', 'tượng', '.']\n",
            "Its target English output: ['Adam', 'Sadowsky', ':', 'How', 'to', 'engineer', 'a', 'viral', 'music', 'video']\n"
          ]
        }
      ],
      "source": [
        "import numpy as np\n",
        "import matplotlib.pyplot as plt\n",
        "\n",
        "\n",
        "MAX_SENT_LENGTH = 48\n",
        "MAX_SENT_LENGTH_PLUS_SOS_EOS = 50\n",
        "\n",
        "# We only keep sentences that do not exceed 48 words, so that later when we\n",
        "# add <s> and </s> to a sentence it still won't exceed 50 words.\n",
        "def filter_data(src_sentences_list, trg_sentences_list, max_len):\n",
        "  new_src_sentences_list, new_trg_sentences_list = [], []\n",
        "  for src_sent, trg_sent in zip(src_sentences_list, trg_sentences_list):\n",
        "    if (len(src_sent) <= max_len and len(trg_sent) <= max_len\n",
        "        and len(src_sent) > 0 and len(trg_sent)) > 0:\n",
        "      new_src_sentences_list.append(src_sent)\n",
        "      new_trg_sentences_list.append(trg_sent)\n",
        "  return new_src_sentences_list, new_trg_sentences_list\n",
        "\n",
        "train_src_sentences_list, train_trg_sentences_list = filter_data(\n",
        "    train_src_sentences_list, train_trg_sentences_list, max_len=MAX_SENT_LENGTH)\n",
        "test_src_sentences_list, test_trg_sentences_list = filter_data(\n",
        "    test_src_sentences_list, test_trg_sentences_list, max_len=MAX_SENT_LENGTH)\n",
        "\n",
        "# We take 10% of the training data to be the validation set.\n",
        "num_val = int(len(train_src_sentences_list) * 0.1)\n",
        "val_src_sentences_list = train_src_sentences_list[:num_val]\n",
        "val_trg_sentences_list = train_trg_sentences_list[:num_val]\n",
        "train_src_sentences_list = train_src_sentences_list[num_val:]\n",
        "train_trg_sentences_list = train_trg_sentences_list[num_val:]\n",
        "\n",
        "# Show some data stats\n",
        "print(\"Number of training (src, trg) sentence pairs: %d\" %\n",
        "      len(train_src_sentences_list))\n",
        "print(\"Number of validation (src, trg) sentence pairs: %d\" %\n",
        "      len(val_src_sentences_list))\n",
        "print(\"Number of testing (src, trg) sentence pairs: %d\" %\n",
        "      len(test_src_sentences_list))\n",
        "src_vocab_set = ['<pad>'] + src_vocab_set\n",
        "trg_vocab_set = ['<pad>'] + trg_vocab_set\n",
        "print(\"Size of en vocab set (including '<pad>', '<unk>', '<s>', '</s>'): %d\" %\n",
        "      len(src_vocab_set))\n",
        "print(\"Size of vi vocab set (including '<pad>', '<unk>', '<s>', '</s>'): %d\" %\n",
        "      len(trg_vocab_set))\n",
        "\n",
        "length = [len(sent) for sent in train_src_sentences_list]\n",
        "print('Training sentence avg. length: %d ' % np.mean(length))\n",
        "print('Training sentence length at 95-percentile: %d' %\n",
        "      np.percentile(length, 95))\n",
        "print('Training sentence length distribution '\n",
        "      '(x-axis is length range and y-axis is count):\\n')\n",
        "plt.hist(length, bins=5)\n",
        "plt.show()\n",
        "\n",
        "print('Example Vietnamese input: ' + str(train_src_sentences_list[0]))\n",
        "print('Its target English output: ' + str(train_trg_sentences_list[0]))"
      ]
    },
    {
      "cell_type": "markdown",
      "metadata": {
        "id": "vQI_A47IlPmO"
      },
      "source": [
        "Here we setup our PyTorch environment."
      ]
    },
    {
      "cell_type": "code",
      "execution_count": 8,
      "metadata": {
        "id": "oBNOk0XbZ4i4"
      },
      "outputs": [],
      "source": [
        "import torch\n",
        "import torch.nn as nn\n",
        "import torch.nn.functional as F\n",
        "\n",
        "device = \"cuda\" if torch.cuda.is_available() else \"cpu\"\n",
        "#assert device == \"cuda\"   # use gpu whenever you can!\n",
        "\n",
        "seed = 42\n",
        "np.random.seed(seed)\n",
        "torch.manual_seed(seed)\n",
        "torch.cuda.manual_seed(seed)"
      ]
    },
    {
      "cell_type": "markdown",
      "metadata": {
        "id": "znPbxQJvleTJ"
      },
      "source": [
        "We define custom dataset classes for both the language modeling task and the machine translation task so that we can use PyTorch's built-in dataset tools."
      ]
    },
    {
      "cell_type": "code",
      "execution_count": 9,
      "metadata": {
        "id": "hYtacoWTaTms"
      },
      "outputs": [],
      "source": [
        "from torch.utils import data\n",
        "\n",
        "\n",
        "# These IDs are reserved.\n",
        "PAD_INDEX = 0\n",
        "UNK_INDEX = 1\n",
        "SOS_INDEX = 2\n",
        "EOS_INDEX = 3\n",
        "\n",
        "class LMDataset(data.Dataset):\n",
        "  def __init__(self, src_sentences, src_vocabs, sampling=1.):\n",
        "    self.src_sentences = src_sentences[:int(len(src_sentences) * sampling)]\n",
        "\n",
        "    self.max_src_seq_length = MAX_SENT_LENGTH_PLUS_SOS_EOS\n",
        "\n",
        "    self.src_vocabs = src_vocabs\n",
        "\n",
        "    self.src_v2id = {v : i for i, v in enumerate(src_vocabs)}\n",
        "    self.src_id2v = {val : key for key, val in self.src_v2id.items()}\n",
        "\n",
        "  def __len__(self):\n",
        "    return len(self.src_sentences)\n",
        "\n",
        "  def __getitem__(self, index):\n",
        "    sent = self.src_sentences[index]\n",
        "    sent_len = len(sent) + 2   # add <s> and </s> to each sentence\n",
        "    sent_id = []\n",
        "    for w in sent:\n",
        "      if w not in self.src_vocabs:\n",
        "        w = '<unk>'\n",
        "      sent_id.append(self.src_v2id[w])\n",
        "    src_id = ([SOS_INDEX] + sent_id + [EOS_INDEX] + [PAD_INDEX] *\n",
        "              (self.max_src_seq_length - sent_len))\n",
        "    trg_id = (sent_id + [EOS_INDEX] + [PAD_INDEX] *\n",
        "              (self.max_src_seq_length - sent_len + 1))\n",
        "\n",
        "    return torch.tensor(src_id), sent_len, torch.tensor(trg_id), sent_len\n",
        "\n",
        "class MTDataset(data.Dataset):\n",
        "  def __init__(self, src_sentences, src_vocabs, trg_sentences, trg_vocabs,\n",
        "               sampling=1.):\n",
        "    self.src_sentences = src_sentences[:int(len(src_sentences) * sampling)]\n",
        "    self.trg_sentences = trg_sentences[:int(len(src_sentences) * sampling)]\n",
        "\n",
        "    self.max_src_seq_length = MAX_SENT_LENGTH_PLUS_SOS_EOS\n",
        "    self.max_trg_seq_length = MAX_SENT_LENGTH_PLUS_SOS_EOS\n",
        "\n",
        "    self.src_vocabs = src_vocabs\n",
        "    self.trg_vocabs = trg_vocabs\n",
        "\n",
        "    self.src_v2id = {v : i for i, v in enumerate(src_vocabs)}\n",
        "    self.src_id2v = {val : key for key, val in self.src_v2id.items()}\n",
        "    self.trg_v2id = {v : i for i, v in enumerate(trg_vocabs)}\n",
        "    self.trg_id2v = {val : key for key, val in self.trg_v2id.items()}\n",
        "\n",
        "  def __len__(self):\n",
        "    return len(self.src_sentences)\n",
        "\n",
        "  def __getitem__(self, index):\n",
        "    src_sent = self.src_sentences[index]\n",
        "    src_len = len(src_sent) + 2   # add <s> and </s> to each sentence\n",
        "    src_id = []\n",
        "    for w in src_sent:\n",
        "      if w not in self.src_vocabs:\n",
        "        w = '<unk>'\n",
        "      src_id.append(self.src_v2id[w])\n",
        "    src_id = ([SOS_INDEX] + src_id + [EOS_INDEX] + [PAD_INDEX] *\n",
        "              (self.max_src_seq_length - src_len))\n",
        "\n",
        "    trg_sent = self.trg_sentences[index]\n",
        "    trg_len = len(trg_sent) + 2\n",
        "    trg_id = []\n",
        "    for w in trg_sent:\n",
        "      if w not in self.trg_vocabs:\n",
        "        w = '<unk>'\n",
        "      trg_id.append(self.trg_v2id[w])\n",
        "    trg_id = ([SOS_INDEX] + trg_id + [EOS_INDEX] + [PAD_INDEX] *\n",
        "              (self.max_trg_seq_length - trg_len))\n",
        "\n",
        "    return torch.tensor(src_id), src_len, torch.tensor(trg_id), trg_len"
      ]
    },
    {
      "cell_type": "markdown",
      "metadata": {
        "id": "6xfQ4PSYl1Jz"
      },
      "source": [
        "Next we instantiate our datasets and data loaders. The data loaders are what we will iterate over when training and evaluating our models."
      ]
    },
    {
      "cell_type": "code",
      "execution_count": 10,
      "metadata": {
        "colab": {
          "base_uri": "https://localhost:8080/"
        },
        "id": "CR8M8apZivz-",
        "outputId": "2efb6442-8be6-4c88-bbe3-bb5b65785cb0"
      },
      "outputs": [
        {
          "name": "stderr",
          "output_type": "stream",
          "text": [
            "/usr/local/lib/python3.10/dist-packages/torch/utils/data/dataloader.py:560: UserWarning: This DataLoader will create 8 worker processes in total. Our suggested max number of worker in current system is 2, which is smaller than what this DataLoader is going to create. Please be aware that excessive worker creation might get DataLoader running slow or even freeze, lower the worker number to avoid potential slowness/freeze if necessary.\n",
            "  warnings.warn(_create_warning_msg(\n"
          ]
        }
      ],
      "source": [
        "batch_size = 128 # note that this is a hyperparameter you may want to adjust\n",
        "\n",
        "lm_train_set = LMDataset(train_trg_sentences_list, trg_vocab_set, sampling=1.)\n",
        "lm_train_data_loader = data.DataLoader(lm_train_set, batch_size=batch_size,\n",
        "                                      num_workers=8, shuffle=True)\n",
        "\n",
        "lm_val_set = LMDataset(val_trg_sentences_list, trg_vocab_set, sampling=1.)\n",
        "lm_val_data_loader = data.DataLoader(lm_val_set, batch_size=batch_size, num_workers=8,\n",
        "                                    shuffle=False)\n",
        "\n",
        "# You can try on a smaller training set by setting a smaller `sampling`.\n",
        "mt_train_set = MTDataset(train_src_sentences_list, src_vocab_set,\n",
        "                        train_trg_sentences_list, trg_vocab_set, sampling=1.)\n",
        "mt_train_data_loader = data.DataLoader(mt_train_set, batch_size=batch_size,\n",
        "                                      num_workers=8, shuffle=True)\n",
        "\n",
        "mt_val_set = MTDataset(val_src_sentences_list, src_vocab_set,\n",
        "                      val_trg_sentences_list, trg_vocab_set, sampling=1.)\n",
        "mt_val_data_loader = data.DataLoader(mt_val_set, batch_size=batch_size, num_workers=8,\n",
        "                                    shuffle=False)"
      ]
    },
    {
      "cell_type": "markdown",
      "metadata": {
        "id": "zEVw2xxRmFIC"
      },
      "source": [
        "Now we define the functions that will actually carry out the training process. You are strongly encouraged to read these carefully; doing so will likely save you time as you work on your model implementations.\n",
        "\n",
        "One important point to take note of here is that while in class we discussed using basic stochastic gradient descent (SGD) for our optimization method, in practice it is often better to use optimizers with adaptive learning rates, such as the Adam optimizer that we use here, the details of which you can find in [this paper](https://arxiv.org/abs/1412.6980)."
      ]
    },
    {
      "cell_type": "code",
      "execution_count": 11,
      "metadata": {
        "id": "c6XZLkJbGXcC"
      },
      "outputs": [],
      "source": [
        "import math\n",
        "\n",
        "class SimpleLossCompute:\n",
        "  \"\"\"A simple loss compute and train function.\"\"\"\n",
        "\n",
        "  def __init__(self, generator, criterion, opt=None):\n",
        "    self.generator = generator\n",
        "    self.criterion = criterion\n",
        "    self.opt = opt\n",
        "\n",
        "  def __call__(self, x, y, norm):\n",
        "    x = self.generator(x)\n",
        "    loss = self.criterion(x.contiguous().view(-1, x.size(-1)),\n",
        "                          y.contiguous().view(-1))\n",
        "    loss = loss / norm\n",
        "\n",
        "    if self.opt is not None:  # training mode\n",
        "      loss.backward()\n",
        "      self.opt.step()\n",
        "      self.opt.zero_grad()\n",
        "\n",
        "    return loss.data.item() * norm\n",
        "\n",
        "\n",
        "def run_epoch(data_loader, model, loss_compute, task, print_every):\n",
        "  \"\"\"Standard Training and Logging Function\"\"\"\n",
        "\n",
        "  total_tokens = 0\n",
        "  total_loss = 0\n",
        "\n",
        "  for i, (src_ids_BxT, src_lengths_B, trg_ids_BxL, trg_lengths_B) in enumerate(data_loader):\n",
        "    # We define some notations here to help you understand the loaded tensor\n",
        "    # shapes:\n",
        "    #   `B`: batch size\n",
        "    #   `T`: max sequence length of source sentences\n",
        "    #   `L`: max sequence length of target sentences; due to our preprocessing\n",
        "    #        in the beginning, `L` == `T` == 50\n",
        "    # An example of `src_ids_BxT` (when B = 2):\n",
        "    #   [[2, 4, 6, 7, ..., 4, 3, 0, 0, 0],\n",
        "    #    [2, 8, 6, 5, ..., 9, 5, 4, 3, 0]]\n",
        "    # The corresponding `src_lengths_B` would be [47, 49].\n",
        "    # Note that SOS_INDEX == 2, EOS_INDEX == 3, and PAD_INDEX = 0.\n",
        "\n",
        "    src_ids_BxT = src_ids_BxT.to(device)\n",
        "    src_lengths_B = src_lengths_B.to(device)\n",
        "    trg_ids_BxL = trg_ids_BxL.to(device)\n",
        "    del trg_lengths_B   # unused\n",
        "\n",
        "    if task == \"seq2seq\":\n",
        "      _, output = model(src_ids_BxT, trg_ids_BxL, src_lengths_B)\n",
        "\n",
        "      loss = loss_compute(x=output, y=trg_ids_BxL[:, 1:],\n",
        "                        norm=src_ids_BxT.size(0))\n",
        "      total_loss += loss\n",
        "      total_tokens += (trg_ids_BxL[:, 1:] != PAD_INDEX).data.sum().item()\n",
        "    elif task == \"lm\":\n",
        "      output = model(src_ids_BxT)\n",
        "\n",
        "      loss = loss_compute(x=output, y=trg_ids_BxL,\n",
        "                        norm=src_ids_BxT.size(0))\n",
        "      total_loss += loss\n",
        "      total_tokens += (trg_ids_BxL != PAD_INDEX).data.sum().item()\n",
        "    else:\n",
        "      raise ValueError(\"unknown task\")\n",
        "\n",
        "\n",
        "    if model.training and i % print_every == 0:\n",
        "      print(\"Epoch Step: %d Loss: %f\" % (i, loss / src_ids_BxT.size(0)))\n",
        "\n",
        "  return math.exp(total_loss / float(total_tokens))\n",
        "\n",
        "\n",
        "def train(model, num_epochs, learning_rate, train_data_loader, val_data_loader, task, print_every):\n",
        "  # Set `ignore_index` as PAD_INDEX so that pad tokens won't be included when\n",
        "  # computing the loss.\n",
        "  criterion = nn.NLLLoss(reduction=\"sum\", ignore_index=PAD_INDEX)\n",
        "  optim = torch.optim.Adam(model.parameters(), lr=learning_rate)\n",
        "\n",
        "  # Keep track of dev perplexity for each epoch.\n",
        "  dev_ppls = []\n",
        "\n",
        "  for epoch in range(1, 1+num_epochs):\n",
        "    print(\"Epoch\", epoch)\n",
        "\n",
        "    model.train()\n",
        "    train_ppl = run_epoch(data_loader=train_data_loader, model=model,\n",
        "                          loss_compute=SimpleLossCompute(model.generator,\n",
        "                                                         criterion, optim),\n",
        "                          task=task,\n",
        "                          print_every=print_every)\n",
        "\n",
        "    model.eval()\n",
        "    with torch.no_grad():\n",
        "      dev_ppl = run_epoch(data_loader=val_data_loader, model=model,\n",
        "                          loss_compute=SimpleLossCompute(model.generator,\n",
        "                                                         criterion, None),\n",
        "                          task=task,\n",
        "                          print_every=print_every)\n",
        "      print(\"Validation perplexity: %f\" % dev_ppl)\n",
        "      dev_ppls.append(dev_ppl)\n",
        "\n",
        "  return dev_ppls"
      ]
    },
    {
      "cell_type": "markdown",
      "metadata": {
        "id": "mK6HQOWqnPEA"
      },
      "source": [
        "We provide a function for visualizing your models' learning curves."
      ]
    },
    {
      "cell_type": "code",
      "execution_count": 12,
      "metadata": {
        "id": "s-yM1kPhG4K3"
      },
      "outputs": [],
      "source": [
        "def plot_perplexity(perplexities):\n",
        "  \"\"\"plot perplexities\"\"\"\n",
        "  plt.title(\"Perplexity per Epoch\")\n",
        "  plt.xlabel(\"Epoch\")\n",
        "  plt.ylabel(\"Perplexity\")\n",
        "  plt.plot(perplexities)"
      ]
    },
    {
      "cell_type": "markdown",
      "metadata": {
        "id": "kc9p7SGJndhk"
      },
      "source": [
        "This function takes a hidden state, performs a linear transformation on it, and finally takes a log softmax. Note the usage of this class within the above training functions."
      ]
    },
    {
      "cell_type": "code",
      "execution_count": 13,
      "metadata": {
        "id": "flIf9QdoZL8S"
      },
      "outputs": [],
      "source": [
        "class Generator(nn.Module):\n",
        "  \"\"\"Define standard linear + softmax generation step.\"\"\"\n",
        "  def __init__(self, hidden_size, vocab_size):\n",
        "    super(Generator, self).__init__()\n",
        "    self.proj = nn.Linear(hidden_size, vocab_size, bias=False)\n",
        "\n",
        "  def forward(self, x):\n",
        "    return F.log_softmax(self.proj(x), dim=-1)"
      ]
    },
    {
      "cell_type": "markdown",
      "metadata": {
        "id": "60rKlVC6qqV0"
      },
      "source": [
        "Here we define decoding functions for performing inference with our Encoder-Decoder model."
      ]
    },
    {
      "cell_type": "code",
      "execution_count": 14,
      "metadata": {
        "id": "89mr8sGhqo0w"
      },
      "outputs": [],
      "source": [
        "def greedy_decode(model, src_ids, src_lengths, max_len):\n",
        "  \"\"\"Greedily decode a sentence for EncoderDecoder.\"\"\"\n",
        "\n",
        "  with torch.no_grad():\n",
        "    encoder_hiddens, encoder_finals = model.encode(src_ids, src_lengths)\n",
        "    prev_y = torch.ones(1, 1).fill_(SOS_INDEX).type_as(src_ids)\n",
        "\n",
        "  output = []\n",
        "  hidden = None\n",
        "\n",
        "  for i in range(max_len):\n",
        "    with torch.no_grad():\n",
        "      hidden, outputs = model.decode(encoder_finals, prev_y, encoder_hiddens, hidden)\n",
        "      prob = model.generator(outputs[:, -1])\n",
        "\n",
        "    _, next_word = torch.max(prob, dim=1)\n",
        "    next_word = next_word.data.item()\n",
        "    output.append(next_word)\n",
        "    prev_y = torch.ones(1, 1).type_as(src_ids).fill_(next_word)\n",
        "\n",
        "  output = np.array(output)\n",
        "\n",
        "  # Cut off everything starting from </s>.\n",
        "  first_eos = np.where(output == EOS_INDEX)[0]\n",
        "  if len(first_eos) > 0:\n",
        "    output = output[:first_eos[0]]\n",
        "  return output\n",
        "\n",
        "def lookup_words(x, vocab):\n",
        "  return [vocab[i] for i in x]"
      ]
    },
    {
      "cell_type": "markdown",
      "metadata": {
        "id": "uGOLfO-WrI1_"
      },
      "source": [
        "You will use this function to visualize some examples once you have trained your translation model."
      ]
    },
    {
      "cell_type": "code",
      "execution_count": 15,
      "metadata": {
        "id": "NKrsGqQgrKU3"
      },
      "outputs": [],
      "source": [
        "def print_examples(model, data_loader, n=3,\n",
        "                   max_len=MAX_SENT_LENGTH_PLUS_SOS_EOS,\n",
        "                   src_vocab_set=src_vocab_set, trg_vocab_set=trg_vocab_set):\n",
        "  \"\"\"Prints `n` examples. Assumes batch size of 1.\"\"\"\n",
        "\n",
        "  model.eval()\n",
        "\n",
        "  for i, (src_ids, src_lengths, trg_ids, _) in enumerate(data_loader):\n",
        "    if isinstance(model, EncoderDecoder):\n",
        "      result = greedy_decode(model, src_ids.to(device), src_lengths.to(device),\n",
        "                             max_len=max_len)\n",
        "    else:\n",
        "      raise NotImplementedError(\"Unknown model type.\")\n",
        "\n",
        "    # remove <s>\n",
        "    src_ids = src_ids[0, 1:]\n",
        "    trg_ids = trg_ids[0, 1:]\n",
        "    # remove </s> and <pad>\n",
        "    src_ids = src_ids[:np.where(src_ids == EOS_INDEX)[0][0]]\n",
        "    trg_ids = trg_ids[:np.where(trg_ids == EOS_INDEX)[0][0]]\n",
        "\n",
        "    print(\"Example #%d\" % (i + 1))\n",
        "    print(\"Src : \", \" \".join(lookup_words(src_ids, vocab=src_vocab_set)))\n",
        "    print(\"Trg : \", \" \".join(lookup_words(trg_ids, vocab=trg_vocab_set)))\n",
        "    print(\"Pred: \", \" \".join(lookup_words(result, vocab=trg_vocab_set)))\n",
        "    print()\n",
        "\n",
        "    if i == n - 1:\n",
        "      break"
      ]
    },
    {
      "cell_type": "markdown",
      "metadata": {
        "id": "GXQFpduzr3ay"
      },
      "source": [
        "The following function will allow you to evaluate your translation model's BLEU score on a test dataset."
      ]
    },
    {
      "cell_type": "code",
      "execution_count": 16,
      "metadata": {
        "id": "jegcU9-ur1jK"
      },
      "outputs": [],
      "source": [
        "import sacrebleu\n",
        "from tqdm import tqdm\n",
        "\n",
        "\n",
        "def compute_BLEU(model, data_loader):\n",
        "  bleu_score = []\n",
        "\n",
        "  model.eval()\n",
        "  for src_ids, src_lengths, trg_ids, _ in tqdm(data_loader):\n",
        "    if isinstance(model, EncoderDecoder):\n",
        "      result = greedy_decode(model, src_ids.to(device), src_lengths.to(device),\n",
        "                             max_len=MAX_SENT_LENGTH_PLUS_SOS_EOS)\n",
        "    else:\n",
        "      raise NotImplementedError(\"Unknown model type.\")\n",
        "\n",
        "    # remove <s>\n",
        "    src_ids = src_ids[0, 1:]\n",
        "    trg_ids = trg_ids[0, 1:]\n",
        "    # remove </s> and <pad>\n",
        "    src_ids = src_ids[:np.where(src_ids == EOS_INDEX)[0][0]]\n",
        "    trg_ids = trg_ids[:np.where(trg_ids == EOS_INDEX)[0][0]]\n",
        "\n",
        "    pred = \" \".join(lookup_words(result, vocab=trg_vocab_set))\n",
        "    targ = \" \".join(lookup_words(trg_ids, vocab=trg_vocab_set))\n",
        "\n",
        "    bleu_score.append(sacrebleu.raw_corpus_bleu([pred], [[targ]], .01).score)\n",
        "\n",
        "  return bleu_score"
      ]
    },
    {
      "cell_type": "markdown",
      "metadata": {
        "id": "75Xar0RA0HCZ"
      },
      "source": [
        "# **Part 2: Recurrent Neural Network (RNN)**\n",
        "\n",
        "In this part, you will implement a vanilla RNN language model. You are not allowed to use the PyTorch built-in RNN module (or the corresponding LSTM and GRU modules), but you may use the RNNCell (https://pytorch.org/docs/stable/generated/torch.nn.RNNCell.html) module (or the LSTMCell/GRUCell modules)."
      ]
    },
    {
      "cell_type": "code",
      "execution_count": 17,
      "metadata": {
        "id": "GOy71ueb0I0G"
      },
      "outputs": [],
      "source": [
        "class RNN(nn.Module):\n",
        "\n",
        "    def __init__(self, input_size, hidden_size, src_embed, generator):\n",
        "      \"\"\"\n",
        "      Inputs:\n",
        "        - `input_size`: a positive integer corresponding to the size of the\n",
        "            word embeddings\n",
        "        - `hidden_size`: a positive integer representing the dimensionality of\n",
        "            the RNN's hidden state vector\n",
        "        - `src_embed`: an nn.Embedding object representing the lookup table for\n",
        "            input (source) sentences\n",
        "        - `generator`: a `Generator` object. Essentially a linear mapping\n",
        "            followed by a softmax. You should not call it within this class; it\n",
        "            is called in the SimpleLossCompute class above\n",
        "      \"\"\"\n",
        "      super(RNN, self).__init__()\n",
        "      # `input_size`, `hidden_size`, and `output_size` are all int.\n",
        "\n",
        "      self.hidden_size = hidden_size\n",
        "      self.src_embed = src_embed\n",
        "      self.generator = generator\n",
        "      # hint: unless you choose to implement the RNN update equations yourself\n",
        "      #       you will want a `self.rnn` module that does that for you, which\n",
        "      #       is where the RNNCell/LSTMCell/GRUCell modules come in handy\n",
        "\n",
        "      self.rnn = nn.RNNCell(input_size, hidden_size)\n",
        "      ###\n",
        "\n",
        "    def init_hidden(self, batch_size):\n",
        "      \"\"\"\n",
        "      Input:\n",
        "        - `batch_size`: a positive integer\n",
        "\n",
        "      Returns:\n",
        "        - `hidden`: a 2d-tensor of shape (batch_size, hidden_size) representing\n",
        "            the initial hidden state of the RNN\n",
        "      \"\"\"\n",
        "      # Use to initialize hidden state everytime before running a sentence.\n",
        "      hidden = torch.zeros(batch_size, self.hidden_size).to(device)\n",
        "      return hidden\n",
        "\n",
        "    def forward(self, input_ids):\n",
        "      \"\"\"\n",
        "      Given a sequence of words (represented as IDs), compute and return the\n",
        "      hidden state at each timestep (equivalently, for each input word).\n",
        "      Input:\n",
        "        - `input_ids`: a 2d-tensor of shape\n",
        "           (batch_size, MAX_SENT_LENGTH_PLUS_SOS_EOS) representing a batch of\n",
        "           sentences from the dataset (with IDs instead of words)\n",
        "\n",
        "      Returns:\n",
        "        - `hiddens`: a 3d-tensor of shape\n",
        "            (batch_size, MAX_SENT_LENGTH_PLUS_SOS_EOS, hidden_size) representing\n",
        "            the hidden state of the model at each timestep\n",
        "      \"\"\"\n",
        "      # hint: pay close attention to the shapes of your tensors; you may find\n",
        "      #       pytorch's `permute()` method for tensors useful\n",
        "\n",
        "      h_t = self.init_hidden(input_ids.size(0))\n",
        "      input_ids = input_ids.permute(1,0)\n",
        "      hiddens = []\n",
        "      for id in input_ids:\n",
        "        id_embed = self.src_embed(id)\n",
        "        h_t = self.rnn(id_embed, h_t)\n",
        "        hiddens.append(h_t)\n",
        "      hiddens = torch.stack(hiddens)\n",
        "      hiddens = hiddens.permute(1,0,2)\n",
        "      ###\n",
        "\n",
        "      return hiddens\n"
      ]
    },
    {
      "cell_type": "markdown",
      "metadata": {
        "id": "XRB8Re7eoMZF"
      },
      "source": [
        "Once you have implemented your model, run this cell to train and evaluate it. Note that the hyperparameters chosen here (including `learning_rate`) are not necessarily optimal—you may want to adjust them to improve performance. A simple one-layer implementation of a vanilla RNN should yield a perplexity in the 70s or 80s, but you can do better by adding layers, implementing a GRU/LSTM, and/or optimizing hyperparameters.\n",
        "\n",
        "NOTE THAT IT MIGHT TAKE A WHILE (13 MINS) TO TRAIN FOR 10 EPOCHS (plan accordingly)."
      ]
    },
    {
      "cell_type": "code",
      "execution_count": null,
      "metadata": {
        "colab": {
          "base_uri": "https://localhost:8080/",
          "height": 1000
        },
        "id": "-FSlqG1tVsiJ",
        "outputId": "28cf5744-920f-4cb5-867f-12f7b017720d"
      },
      "outputs": [
        {
          "name": "stdout",
          "output_type": "stream",
          "text": [
            "Epoch 1\n",
            "Epoch Step: 0 Loss: 170.723511\n",
            "Epoch Step: 100 Loss: 98.606956\n",
            "Epoch Step: 200 Loss: 92.112328\n",
            "Epoch Step: 300 Loss: 94.386887\n",
            "Epoch Step: 400 Loss: 86.887627\n",
            "Epoch Step: 500 Loss: 90.375404\n",
            "Epoch Step: 600 Loss: 86.800941\n",
            "Epoch Step: 700 Loss: 85.569344\n",
            "Epoch Step: 800 Loss: 84.743286\n",
            "Validation perplexity: 105.107479\n",
            "Epoch 2\n",
            "Epoch Step: 0 Loss: 70.475731\n",
            "Epoch Step: 100 Loss: 81.022896\n",
            "Epoch Step: 200 Loss: 70.150269\n",
            "Epoch Step: 300 Loss: 86.193031\n",
            "Epoch Step: 400 Loss: 83.528687\n",
            "Epoch Step: 500 Loss: 79.004494\n",
            "Epoch Step: 600 Loss: 73.402657\n",
            "Epoch Step: 700 Loss: 76.586395\n",
            "Epoch Step: 800 Loss: 76.959671\n",
            "Validation perplexity: 91.145006\n",
            "Epoch 3\n",
            "Epoch Step: 0 Loss: 79.773499\n",
            "Epoch Step: 100 Loss: 76.576363\n",
            "Epoch Step: 200 Loss: 76.964050\n",
            "Epoch Step: 300 Loss: 80.145714\n",
            "Epoch Step: 400 Loss: 72.587502\n",
            "Epoch Step: 500 Loss: 71.496239\n",
            "Epoch Step: 600 Loss: 78.213127\n",
            "Epoch Step: 700 Loss: 78.679375\n",
            "Epoch Step: 800 Loss: 76.918732\n",
            "Validation perplexity: 87.337200\n",
            "Epoch 4\n",
            "Epoch Step: 0 Loss: 70.161041\n",
            "Epoch Step: 100 Loss: 77.515320\n",
            "Epoch Step: 200 Loss: 76.064079\n",
            "Epoch Step: 300 Loss: 77.332382\n",
            "Epoch Step: 400 Loss: 74.540985\n",
            "Epoch Step: 500 Loss: 73.283356\n",
            "Epoch Step: 600 Loss: 73.331131\n",
            "Epoch Step: 700 Loss: 77.943764\n",
            "Epoch Step: 800 Loss: 71.124367\n",
            "Validation perplexity: 85.321878\n",
            "Epoch 5\n",
            "Epoch Step: 0 Loss: 66.264015\n",
            "Epoch Step: 100 Loss: 80.010170\n",
            "Epoch Step: 200 Loss: 65.477982\n",
            "Epoch Step: 300 Loss: 68.265228\n",
            "Epoch Step: 400 Loss: 66.349510\n",
            "Epoch Step: 500 Loss: 73.172813\n",
            "Epoch Step: 600 Loss: 73.860695\n",
            "Epoch Step: 700 Loss: 72.412949\n",
            "Epoch Step: 800 Loss: 74.330849\n",
            "Validation perplexity: 85.182256\n",
            "Epoch 6\n",
            "Epoch Step: 0 Loss: 63.034771\n",
            "Epoch Step: 100 Loss: 73.361130\n",
            "Epoch Step: 200 Loss: 62.502308\n",
            "Epoch Step: 300 Loss: 69.519646\n",
            "Epoch Step: 400 Loss: 76.156303\n",
            "Epoch Step: 500 Loss: 73.705910\n",
            "Epoch Step: 600 Loss: 71.488678\n",
            "Epoch Step: 700 Loss: 69.198296\n",
            "Epoch Step: 800 Loss: 75.826302\n",
            "Validation perplexity: 85.753687\n",
            "Epoch 7\n",
            "Epoch Step: 0 Loss: 72.024986\n",
            "Epoch Step: 100 Loss: 66.869598\n",
            "Epoch Step: 200 Loss: 68.872490\n",
            "Epoch Step: 300 Loss: 73.141731\n",
            "Epoch Step: 400 Loss: 66.640015\n",
            "Epoch Step: 500 Loss: 71.625885\n",
            "Epoch Step: 600 Loss: 73.656769\n",
            "Epoch Step: 700 Loss: 73.324478\n",
            "Epoch Step: 800 Loss: 66.587700\n",
            "Validation perplexity: 86.815831\n",
            "Epoch 8\n",
            "Epoch Step: 0 Loss: 66.881691\n",
            "Epoch Step: 100 Loss: 70.389221\n",
            "Epoch Step: 200 Loss: 71.036713\n",
            "Epoch Step: 300 Loss: 69.185913\n",
            "Epoch Step: 400 Loss: 69.870323\n",
            "Epoch Step: 500 Loss: 73.139565\n",
            "Epoch Step: 600 Loss: 64.301811\n",
            "Epoch Step: 700 Loss: 73.530724\n",
            "Epoch Step: 800 Loss: 67.543434\n",
            "Validation perplexity: 88.109480\n",
            "Epoch 9\n",
            "Epoch Step: 0 Loss: 68.198746\n",
            "Epoch Step: 100 Loss: 65.743477\n",
            "Epoch Step: 200 Loss: 72.604507\n",
            "Epoch Step: 300 Loss: 68.078674\n",
            "Epoch Step: 400 Loss: 68.039787\n",
            "Epoch Step: 500 Loss: 71.651817\n",
            "Epoch Step: 600 Loss: 67.568222\n",
            "Epoch Step: 700 Loss: 74.524071\n",
            "Epoch Step: 800 Loss: 71.362755\n",
            "Validation perplexity: 90.111951\n",
            "Epoch 10\n",
            "Epoch Step: 0 Loss: 70.255135\n",
            "Epoch Step: 100 Loss: 64.773590\n",
            "Epoch Step: 200 Loss: 65.792854\n",
            "Epoch Step: 300 Loss: 64.719398\n",
            "Epoch Step: 400 Loss: 66.810814\n",
            "Epoch Step: 500 Loss: 67.145874\n",
            "Epoch Step: 600 Loss: 68.167252\n",
            "Epoch Step: 700 Loss: 71.294113\n",
            "Epoch Step: 800 Loss: 68.833252\n",
            "Validation perplexity: 91.804819\n"
          ]
        },
        {
          "data": {
            "image/png": "[encoded data removed]",
            "text/plain": [
              "<Figure size 640x480 with 1 Axes>"
            ]
          },
          "metadata": {},
          "output_type": "display_data"
        }
      ],
      "source": [
        "embed_size = 256   # Each word will be represented as a `embed_size`-dim vector.\n",
        "hidden_size = 256\n",
        "\n",
        "# model itself\n",
        "rnn_lm = RNN(input_size=embed_size,\n",
        "             hidden_size=hidden_size,\n",
        "             src_embed=nn.Embedding(len(trg_vocab_set), embed_size),\n",
        "             generator=Generator(hidden_size, len(trg_vocab_set))).to(device)\n",
        "\n",
        "# list of epoch perplexities from training\n",
        "lm_dev_ppls = train(rnn_lm, num_epochs=10,\n",
        "                    learning_rate=1e-3,\n",
        "                    train_data_loader=lm_train_data_loader,\n",
        "                    val_data_loader=lm_val_data_loader,\n",
        "                    task=\"lm\", print_every=100)\n",
        "\n",
        "plot_perplexity(lm_dev_ppls)\n"
      ]
    },
    {
      "cell_type": "markdown",
      "metadata": {
        "id": "5fOArV2r9Piz"
      },
      "source": [
        "# **Part 3: Seq2Seq Model**\n",
        "\n"
      ]
    },
    {
      "cell_type": "markdown",
      "metadata": {
        "id": "mA9JfWiK9eoL"
      },
      "source": [
        "In this part of the lab, you will explore seq2seq to perform a machine translation task. The main task is to implement the naive encoder-decoder architecture without attention.\n",
        "\n",
        "In machine translation (MT), your goal is to translate the correct sentence meaning into another language. In our case, we want to translate Vietnamese sentences into English sentences. See the diagram below for an illustration of how the translation process works with an encoder-decoder architecture.\n",
        "\n",
        "Note that this default Encoder-Decoder sequence-to-sequence model that you will implement is not at all good enough to function as a realistic machine translation system.\n",
        "For those interested, feel free to experiment with the model to try to improve it!\n",
        "\n",
        "Some possible suggestions include:\n",
        "- Playing around with basic hyperparameters (model size, dropout, learning rate, etc.)\n",
        "- Experimenting with different RNN Cells (GRU/LSTM)\n",
        "- Exploring attention-based models (quite difficult)\n",
        "- Using beam search instead of greedy search (moderately difficult)\n",
        "\n",
        "Feel free to alter the signatures / write helper functions for the below classes.\n",
        "\n",
        "![picture](https://drive.google.com/uc?id=1VQMgKh6AdxcJZiw7qO7cE_MHyiAAu62b)"
      ]
    },
    {
      "cell_type": "markdown",
      "metadata": {
        "id": "kb5gQEp7oVdi"
      },
      "source": [
        "## Encoder\n",
        "\n",
        "We will start with a single-layer unidirectional GRU. You are free to try bidirectional and stack more layers. Note that we are now including *dropout* in our model. Dropout is essentially a regularization technique in which a specified proportion of the model parameters are randomly ignored during a given forward and backward pass of the model. If you want a more detailed explanation, see [this paper](https://arxiv.org/abs/1409.2329) which discusses dropout in the context of RNNs."
      ]
    },
    {
      "cell_type": "code",
      "execution_count": 17,
      "metadata": {
        "id": "dnwVGDVkoPt0"
      },
      "outputs": [],
      "source": [
        "from torch.nn.utils.rnn import pack_padded_sequence, pad_packed_sequence\n",
        "\n",
        "\n",
        "class Encoder(nn.Module):\n",
        "  def __init__(self, input_size, hidden_size, dropout=0.):\n",
        "    \"\"\"\n",
        "    Inputs:\n",
        "      - `input_size`: an int representing the RNN input size.\n",
        "      - `hidden_size`: an int representing the RNN hidden size.\n",
        "      - `dropout`: a float representing the dropout rate during training. Note\n",
        "          that for 1-layer RNN this has no effect since dropout only applies to\n",
        "          outputs of intermediate layers.\n",
        "    \"\"\"\n",
        "    super(Encoder, self).__init__()\n",
        "    self.rnn = nn.GRU(input_size, hidden_size, num_layers=1, batch_first=True,\n",
        "                      dropout=dropout, bidirectional=False)\n",
        "\n",
        "  def forward(self, inputs, lengths):\n",
        "    \"\"\"\n",
        "    Inputs:\n",
        "      - `inputs`: a 3d-tensor of shape (batch_size, max_seq_length, embed_size)\n",
        "          representing a batch of padded embedded word vectors of source\n",
        "          sentences.\n",
        "      - `lengths`: a 1d-tensor of shape (batch_size,) representing the sequence\n",
        "          lengths of `inputs`.\n",
        "\n",
        "    Returns:\n",
        "      - `outputs`: a 3d-tensor of shape\n",
        "        (batch_size, max_seq_length, hidden_size).\n",
        "      - `finals`: a 3d-tensor of shape (num_layers, batch_size, hidden_size).\n",
        "      Hint: `outputs` and `finals` are both standard GRU outputs. Check:\n",
        "      https://pytorch.org/docs/stable/nn.html#gru\n",
        "    \"\"\"\n",
        "    # Our variable-length inputs are padded to the same length for batching\n",
        "    # Here we \"pack\" them for computational efficiency (see note below)\n",
        "    packed = pack_padded_sequence(inputs, lengths.cpu(), batch_first=True,\n",
        "                                  enforce_sorted=False)\n",
        "    outputs, finals = self.rnn(packed)\n",
        "    outputs, _ = pad_packed_sequence(outputs, batch_first=True,\n",
        "                                     total_length=MAX_SENT_LENGTH_PLUS_SOS_EOS)\n",
        "    return outputs, finals"
      ]
    },
    {
      "cell_type": "markdown",
      "metadata": {
        "id": "Hxs73iWLLXOx"
      },
      "source": [
        "Note: For a clear explanation of padding and packing, see the second answer to this [stackoverflow question](https://stackoverflow.com/questions/51030782/why-do-we-pack-the-sequences-in-pytorch)."
      ]
    },
    {
      "cell_type": "markdown",
      "metadata": {
        "id": "lWFWtxhbpSl-"
      },
      "source": [
        "## Decoder\n",
        "\n",
        "The decoder is a conditional GRU. Rather than starting with an empty state like the encoder, its initial hidden state results from a projection of the encoder final vector."
      ]
    },
    {
      "cell_type": "code",
      "execution_count": 18,
      "metadata": {
        "id": "JYT0BlfYUJXj"
      },
      "outputs": [],
      "source": [
        "class Decoder(nn.Module):\n",
        "  \"\"\"An RNN decoder. Optionally add attention using the scaffolding function. \"\"\"\n",
        "\n",
        "  def __init__(self, input_size, hidden_size, dropout=0.):\n",
        "    \"\"\"\n",
        "      Inputs:\n",
        "        - `input_size`, `hidden_size`, and `dropout` the same as in Encoder.\n",
        "    \"\"\"\n",
        "    super(Decoder, self).__init__()\n",
        "\n",
        "    # hint 1: while the encoder just needed a single RNN layer, more will be\n",
        "    #         required for the decoder.\n",
        "    # hint 2: think about what you'll need in init_hidden(self, encoder_finals)\n",
        "    # hint 3: what will you use to compute the pre_output (see docstring of\n",
        "    #         forward function)?\n",
        "\n",
        "    self.rnn = nn.GRU(input_size, hidden_size, batch_first = True, dropout = dropout, bidirectional=False)\n",
        "    self.linear = nn.Linear(hidden_size, hidden_size, bias = True)\n",
        "    self.dropout = nn.Dropout(p = dropout)\n",
        "    self.preoutput = nn.Linear(hidden_size + input_size, hidden_size, bias = False)\n",
        "\n",
        "    ###\n",
        "\n",
        "  def forward_step(self, prev_embed, hidden):\n",
        "    \"\"\"Helper function for forward below:\n",
        "       Perform a single decoder step (1 word).\n",
        "\n",
        "       Inputs:\n",
        "      - `prev_embed`: a 3d-tensor of shape (batch_size, 1, embed_size)\n",
        "          representing the padded embedded word vectors at this step in training\n",
        "      - `hidden`: a 3d-tensor of shape (1, batch_size, hidden_size) representing\n",
        "          the current hidden state.\n",
        "\n",
        "      Returns:\n",
        "      - `hidden`: a 3d-tensor of shape (1, batch_size, hidden_size)\n",
        "          representing the current decoder hidden state.\n",
        "      - `pre_output`: a 3d-tensor of shape (batch_size, 1, hidden_size)\n",
        "          representing the total decoder output for one step\n",
        "    \"\"\"\n",
        "    # hint: you'll want to do more here than just run self.rnn (think about\n",
        "    #       what you should do to the output of the self.rnn in order to\n",
        "    #       compute the `pre_output`)\n",
        "\n",
        "    output, hidden = self.rnn(prev_embed, hidden)\n",
        "    cat_output = torch.cat([prev_embed, output], dim=2)\n",
        "    pre_dropout = self.dropout(cat_output)\n",
        "    pre_output = self.preoutput(pre_dropout)\n",
        "\n",
        "    ###\n",
        "\n",
        "    return hidden, pre_output\n",
        "\n",
        "  def forward(self, inputs, encoder_finals, encoder_hiddens, hidden=None, max_len=None):\n",
        "    \"\"\"Unroll the decoder one step at a time.\n",
        "\n",
        "    Inputs:\n",
        "      - `inputs`: a 3d-tensor of shape (batch_size, max_seq_length, embed_size)\n",
        "          representing a batch of padded embedded word vectors of target\n",
        "          sentences (for teacher-forcing during training). (during evaluation,\n",
        "          we instead have the model's previously-predicted best word).\n",
        "      - `encoder_finals`: a 3d-tensor of shape\n",
        "          (num_enc_layers, batch_size, hidden_size) representing the final\n",
        "          encoder hidden states used to initialize the initial decoder hidden\n",
        "          states.\n",
        "      - `encoder_hiddens` (only needed for attention): a 3d-tensor of shape\n",
        "          (batch_size, max_seq_length, hidden_size) representing the hidden state\n",
        "          at each point in the encoder sequence.\n",
        "      - `hidden`: a 3d-tensor of shape (1, batch_size, hidden_size) representing\n",
        "          the value to be used to initialize the initial decoder hidden states.\n",
        "          If None, then use `encoder_finals`.\n",
        "      - `max_len`: an int representing the maximum decoding length.\n",
        "\n",
        "    Returns:\n",
        "      - `hidden`: a 3d-tensor of shape\n",
        "          (num_layers, batch_size, hidden_size) representing the final hidden\n",
        "          state for each element in the batch.\n",
        "      - `pre_output_vectors`: a 3d-tensor of shape\n",
        "          (batch_size, max_len, hidden_size) representing the raw decoder\n",
        "          outputs (before mapping to a `trg_vocab_size`-dim vector).\n",
        "    \"\"\"\n",
        "\n",
        "    # The maximum number of steps to unroll the RNN.\n",
        "    if max_len is None:\n",
        "      max_len = inputs.size(1)\n",
        "\n",
        "    # Initialize decoder hidden state.\n",
        "    if hidden is None:\n",
        "      hidden = self.init_hidden(encoder_finals)\n",
        "\n",
        "    # hint: you'll want to keep track of the `pre_output` for each timestep,\n",
        "    #       but you only need the final `hidden` state\n",
        "\n",
        "    pre_output_vectors = []\n",
        "    for i in range(max_len):\n",
        "      embed = inputs[:, i].unsqueeze(1)\n",
        "      hidden, pre_output = self.forward_step(embed, hidden)\n",
        "      pre_output_vectors.append(pre_output)\n",
        "    pre_output_vectors = torch.cat(pre_output_vectors, dim=1)\n",
        "    ###\n",
        "\n",
        "    return hidden, pre_output_vectors\n",
        "\n",
        "  def init_hidden(self, encoder_finals):\n",
        "    \"\"\"Use encoder final hidden state to initialize decoder's first hidden\n",
        "       state.\n",
        "\n",
        "       Input: `encoder_finals` is same as in forward()\n",
        "\n",
        "       Returns:\n",
        "         - `decoder_init_hiddens`: a 3d-tensor of shape\n",
        "              (num_layers, batch_size, hidden_size) representing the initial\n",
        "              hidden state of the decoder for each element in the batch\n",
        "    \"\"\"\n",
        "    # hint: think about whether or not an activation function is needed here\n",
        "\n",
        "    decoder_init_hiddens = torch.tanh(self.linear(encoder_finals))\n",
        "    ###\n",
        "    return decoder_init_hiddens\n",
        "\n"
      ]
    },
    {
      "cell_type": "markdown",
      "metadata": {
        "id": "AH0VdHE2_x1k"
      },
      "source": [
        "## Encoder-Decoder\n",
        "\n",
        "Here we define the high level encoder-decoder class to wrap up sub-models, including encoder, decoder, generator, and src/trg embeddings. There are solutions in which you do not need to write any code for this module, but your implementation of the above moudles might require some code to be written."
      ]
    },
    {
      "cell_type": "code",
      "execution_count": 19,
      "metadata": {
        "id": "nNBaAYB_oHxG"
      },
      "outputs": [],
      "source": [
        "class EncoderDecoder(nn.Module):\n",
        "  \"\"\"A standard Encoder-Decoder architecture without attention.\n",
        "  \"\"\"\n",
        "  def __init__(self, encoder, decoder, src_embed, trg_embed, generator):\n",
        "    \"\"\"\n",
        "    Inputs:\n",
        "      - `encoder`: an `Encoder` object.\n",
        "      - `decoder`: an `Decoder` object.\n",
        "      - `src_embed`: an nn.Embedding object representing the lookup table for\n",
        "          input (source) sentences.\n",
        "      - `trg_embed`: an nn.Embedding object representing the lookup table for\n",
        "          output (target) sentences.\n",
        "      - `generator`: a `Generator` object. Essentially a linear mapping. See\n",
        "          the next code cell.\n",
        "    \"\"\"\n",
        "    super(EncoderDecoder, self).__init__()\n",
        "\n",
        "    self.encoder = encoder\n",
        "    self.decoder = decoder\n",
        "    self.src_embed = src_embed\n",
        "    self.trg_embed = trg_embed\n",
        "    self.generator = generator\n",
        "\n",
        "  def forward(self, src_ids, trg_ids, src_lengths):\n",
        "    \"\"\"Take in and process masked source and target sequences.\n",
        "\n",
        "    Inputs:\n",
        "      `src_ids`: a 2d-tensor of shape (batch_size, max_seq_length) representing\n",
        "        a batch of source sentences of word ids.\n",
        "      `trg_ids`: a 2d-tensor of shape (batch_size, max_seq_length) representing\n",
        "        a batch of target sentences of word ids.\n",
        "      `src_lengths`: a 1d-tensor of shape (batch_size,) representing the\n",
        "        sequence length of `src_ids`.\n",
        "\n",
        "    Returns the decoder outputs, see the above cell.\n",
        "    \"\"\"\n",
        "    encoder_hiddens, encoder_finals = self.encode(src_ids, src_lengths)\n",
        "    return self.decode(encoder_finals, trg_ids[:, :-1], encoder_hiddens)\n",
        "\n",
        "  def encode(self, src_ids, src_lengths):\n",
        "    return self.encoder(self.src_embed(src_ids), src_lengths)\n",
        "\n",
        "  def decode(self, encoder_finals, trg_ids, encoder_hiddens, decoder_hidden=None):\n",
        "    return self.decoder(self.trg_embed(trg_ids), encoder_finals, encoder_hiddens, decoder_hidden)"
      ]
    },
    {
      "cell_type": "markdown",
      "metadata": {
        "id": "FAGHeLyGp5bA"
      },
      "source": [
        "Once you have implemented your model, run this cell to train and evaluate your model. Note that the hyperparameters chosen here (including `learning_rate`) are not necessarily optimal—you may want to adjust them to improve performance. A reasonable perplexity here would be in the low- to mid-30s after 10 epochs of training."
      ]
    },
    {
      "cell_type": "code",
      "execution_count": null,
      "metadata": {
        "colab": {
          "base_uri": "https://localhost:8080/"
        },
        "id": "j7ueW-ZJp4RD",
        "outputId": "dded2c1a-b838-49d1-f09c-6005e5a28a12"
      },
      "outputs": [
        {
          "name": "stderr",
          "output_type": "stream",
          "text": [
            "/usr/local/lib/python3.10/dist-packages/torch/nn/modules/rnn.py:71: UserWarning: dropout option adds dropout after all but last recurrent layer, so non-zero dropout expects num_layers greater than 1, but got dropout=0.2 and num_layers=1\n",
            "  warnings.warn(\"dropout option adds dropout after all but last \"\n"
          ]
        },
        {
          "name": "stdout",
          "output_type": "stream",
          "text": [
            "Epoch 1\n",
            "Epoch Step: 0 Loss: 179.951050\n",
            "Epoch Step: 100 Loss: 104.124367\n"
          ]
        }
      ],
      "source": [
        "# Hyperparameters for contructing the encoder-decoder model.\n",
        "\n",
        "embed_size = 256   # Each word will be represented as a `embed_size`-dim vector.\n",
        "hidden_size = 256  # RNN hidden size.\n",
        "dropout = 0.2\n",
        "\n",
        "# model itsef\n",
        "pure_seq2seq = EncoderDecoder(\n",
        "  encoder=Encoder(embed_size, hidden_size, dropout=dropout),\n",
        "  decoder=Decoder(embed_size, hidden_size, dropout=dropout),\n",
        "  src_embed=nn.Embedding(len(src_vocab_set), embed_size),\n",
        "  trg_embed=nn.Embedding(len(trg_vocab_set), embed_size),\n",
        "  generator=Generator(hidden_size, len(trg_vocab_set))).to(device)\n",
        "\n",
        "# Start training. The returned `dev_ppls` is a list of dev perplexity for each\n",
        "# epoch.\n",
        "pure_dev_ppls = train(pure_seq2seq, num_epochs=10, learning_rate=1e-3,\n",
        "                      train_data_loader=mt_train_data_loader,\n",
        "                      val_data_loader=mt_val_data_loader,\n",
        "                      task=\"seq2seq\", print_every=100)\n",
        "\n",
        "plot_perplexity(pure_dev_ppls)"
      ]
    },
    {
      "cell_type": "markdown",
      "metadata": {
        "id": "ljzZFE51rj5d"
      },
      "source": [
        "Run the following cell to visualize some of the translations produced by your model."
      ]
    },
    {
      "cell_type": "code",
      "execution_count": null,
      "metadata": {
        "id": "1DcDx_xGriSP"
      },
      "outputs": [],
      "source": [
        "example_set = MTDataset(val_src_sentences_list, src_vocab_set,\n",
        "                        val_trg_sentences_list, trg_vocab_set)\n",
        "example_data_loader = data.DataLoader(mt_val_set, batch_size=1, num_workers=1,\n",
        "                                      shuffle=True)\n",
        "\n",
        "print_examples(pure_seq2seq, example_data_loader, n=6)"
      ]
    },
    {
      "cell_type": "markdown",
      "metadata": {
        "id": "-Mr6dQSVsP7Z"
      },
      "source": [
        "For translation, BLEU score gives a better measure of performance than perplexity. Run this cell to compute your model's BLEU score on a test dataset. A reasonable BLEU score would be something around 6."
      ]
    },
    {
      "cell_type": "code",
      "execution_count": null,
      "metadata": {
        "id": "cCqdcglgsMiW"
      },
      "outputs": [],
      "source": [
        "test_set = MTDataset(test_src_sentences_list, src_vocab_set,\n",
        "                     test_trg_sentences_list, trg_vocab_set, sampling=1.)\n",
        "test_data_loader = data.DataLoader(test_set, batch_size=1, num_workers=8,\n",
        "                                   shuffle=False)\n",
        "\n",
        "print(np.mean(compute_BLEU(pure_seq2seq, test_data_loader)))"
      ]
    },
    {
      "cell_type": "code",
      "execution_count": null,
      "metadata": {
        "id": "UV9qsM_sW8G5"
      },
      "outputs": [],
      "source": []
    }
  ],
  "metadata": {
    "accelerator": "GPU",
    "colab": {
      "machine_shape": "hm",
      "provenance": []
    },
    "kernelspec": {
      "display_name": "Python 3",
      "name": "python3"
    }
  },
  "nbformat": 4,
  "nbformat_minor": 0
}
